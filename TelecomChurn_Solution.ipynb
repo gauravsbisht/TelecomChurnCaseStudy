{
 "cells": [
  {
   "cell_type": "code",
   "execution_count": 190,
   "metadata": {},
   "outputs": [],
   "source": [
    "#!pip install imblearn --user  \n",
    "#uncomment below only if imblearn is not installed \n",
    "\n",
    "#restart Jupyter engine again is still fails to import imblearn"
   ]
  },
  {
   "cell_type": "code",
   "execution_count": 191,
   "metadata": {},
   "outputs": [],
   "source": [
    "# Importing the required libraries\n",
    "import numpy as np, pandas as pd\n",
    "import matplotlib.pyplot as plt\n",
    "import seaborn as sns\n",
    "import operator\n",
    "import pprint\n",
    "\n",
    "from imblearn.over_sampling import SMOTE \n",
    "# Importing classification report and confusion matrix from sklearn metrics\n",
    "from sklearn.metrics import classification_report, confusion_matrix, accuracy_score\n",
    "from sklearn.linear_model import LogisticRegression\n",
    "from sklearn.metrics import mean_squared_error, r2_score\n",
    "\n",
    "from sklearn.model_selection import KFold\n",
    "from sklearn.model_selection import GridSearchCV\n",
    "\n",
    "from sklearn.tree import DecisionTreeClassifier\n",
    "from sklearn.ensemble import RandomForestClassifier\n",
    "\n",
    "import warnings\n",
    "warnings.filterwarnings('ignore')"
   ]
  },
  {
   "cell_type": "code",
   "execution_count": 192,
   "metadata": {},
   "outputs": [],
   "source": [
    "#Function to perform GridSearch for LR\n",
    "def gridSearchForLR(LRModel,X_train,y_train):\n",
    "    grid={\"C\":np.logspace(-3,3,7), \"penalty\":[\"l1\",\"l2\"]}# l1 lasso l2 ridge\n",
    "    logreg_cv=GridSearchCV(LRModel,grid,cv=10)\n",
    "    logreg_cv.fit(X_train, y_train)\n",
    "\n",
    "    print(\"tuned hpyerparameters :(best parameters) \",logreg_cv.best_params_)\n",
    "    print(\"accuracy :\",logreg_cv.best_score_)"
   ]
  },
  {
   "cell_type": "code",
   "execution_count": 193,
   "metadata": {},
   "outputs": [],
   "source": [
    "#function to print impr features in a model\n",
    "def impFeaturesforModels(importance):\n",
    "    importancePerFeature = sorted(dict(zip(X_train.columns, importance)).items(),key=operator.itemgetter(1),reverse=True)\n",
    "    pprint.pprint(importancePerFeature, width=1)"
   ]
  },
  {
   "cell_type": "code",
   "execution_count": 194,
   "metadata": {},
   "outputs": [],
   "source": [
    "#function to get confusion metric parameters printed\n",
    "\n",
    "def printingConfusionMetricDetails(confusion_metric):\n",
    "    TP = confusion_metric[1,1] # true positive \n",
    "    TN = confusion_metric[0,0] # true negatives\n",
    "    FP = confusion_metric[0,1] # false positives\n",
    "    FN = confusion_metric[1,0] # false negatives\n",
    "\n",
    "    print('Acuracy Score', accuracy_score(y_test,y_pred_default))\n",
    "    print('Sensitivity: ', TP / float(TP+FN))\n",
    "    print('Specificity: ',TN / float(TN+FP))\n",
    "    print('false postive rate: ',FP/ float(TN+FP))\n",
    "    print('positive predictive value: ', TP / float(TP+FP))\n",
    "    print('Negative predictive value: ',TN / float(TN+ FN))\n",
    "    print('Misclassification Rate: ',(FN+FP)/(TP+TN+FP+FN))"
   ]
  },
  {
   "cell_type": "code",
   "execution_count": 195,
   "metadata": {},
   "outputs": [],
   "source": [
    "#function to print\n",
    "def printingMSEandRsquare(y_test, y_pred):\n",
    "    mean_square_err = mean_squared_error(y_test, y_pred)\n",
    "    r_square = r2_score(y_test, y_pred)\n",
    "    print(mean_square_err)\n",
    "    print(r_square)"
   ]
  },
  {
   "cell_type": "code",
   "execution_count": 196,
   "metadata": {},
   "outputs": [],
   "source": [
    "def heatmap(x,y,dataframe):\n",
    "    plt.figure(figsize=(x,y))\n",
    "    sns.heatmap(dataframe.corr(),cmap=\"OrRd\",annot=True)\n",
    "    plt.show()"
   ]
  },
  {
   "cell_type": "code",
   "execution_count": 197,
   "metadata": {},
   "outputs": [],
   "source": [
    "data = pd.read_csv(\"telecom_churn_data.csv\", sep=',', encoding='ISO-8859-1')"
   ]
  },
  {
   "cell_type": "code",
   "execution_count": 198,
   "metadata": {},
   "outputs": [
    {
     "data": {
      "text/html": [
       "<div>\n",
       "<style scoped>\n",
       "    .dataframe tbody tr th:only-of-type {\n",
       "        vertical-align: middle;\n",
       "    }\n",
       "\n",
       "    .dataframe tbody tr th {\n",
       "        vertical-align: top;\n",
       "    }\n",
       "\n",
       "    .dataframe thead th {\n",
       "        text-align: right;\n",
       "    }\n",
       "</style>\n",
       "<table border=\"1\" class=\"dataframe\">\n",
       "  <thead>\n",
       "    <tr style=\"text-align: right;\">\n",
       "      <th></th>\n",
       "      <th>mobile_number</th>\n",
       "      <th>circle_id</th>\n",
       "      <th>loc_og_t2o_mou</th>\n",
       "      <th>std_og_t2o_mou</th>\n",
       "      <th>loc_ic_t2o_mou</th>\n",
       "      <th>last_date_of_month_6</th>\n",
       "      <th>last_date_of_month_7</th>\n",
       "      <th>last_date_of_month_8</th>\n",
       "      <th>last_date_of_month_9</th>\n",
       "      <th>arpu_6</th>\n",
       "      <th>...</th>\n",
       "      <th>sachet_3g_9</th>\n",
       "      <th>fb_user_6</th>\n",
       "      <th>fb_user_7</th>\n",
       "      <th>fb_user_8</th>\n",
       "      <th>fb_user_9</th>\n",
       "      <th>aon</th>\n",
       "      <th>aug_vbc_3g</th>\n",
       "      <th>jul_vbc_3g</th>\n",
       "      <th>jun_vbc_3g</th>\n",
       "      <th>sep_vbc_3g</th>\n",
       "    </tr>\n",
       "  </thead>\n",
       "  <tbody>\n",
       "    <tr>\n",
       "      <td>0</td>\n",
       "      <td>7000842753</td>\n",
       "      <td>109</td>\n",
       "      <td>0.0</td>\n",
       "      <td>0.0</td>\n",
       "      <td>0.0</td>\n",
       "      <td>6/30/2014</td>\n",
       "      <td>7/31/2014</td>\n",
       "      <td>8/31/2014</td>\n",
       "      <td>9/30/2014</td>\n",
       "      <td>197.385</td>\n",
       "      <td>...</td>\n",
       "      <td>0</td>\n",
       "      <td>1.0</td>\n",
       "      <td>1.0</td>\n",
       "      <td>1.0</td>\n",
       "      <td>NaN</td>\n",
       "      <td>968</td>\n",
       "      <td>30.4</td>\n",
       "      <td>0.0</td>\n",
       "      <td>101.20</td>\n",
       "      <td>3.58</td>\n",
       "    </tr>\n",
       "    <tr>\n",
       "      <td>1</td>\n",
       "      <td>7001865778</td>\n",
       "      <td>109</td>\n",
       "      <td>0.0</td>\n",
       "      <td>0.0</td>\n",
       "      <td>0.0</td>\n",
       "      <td>6/30/2014</td>\n",
       "      <td>7/31/2014</td>\n",
       "      <td>8/31/2014</td>\n",
       "      <td>9/30/2014</td>\n",
       "      <td>34.047</td>\n",
       "      <td>...</td>\n",
       "      <td>0</td>\n",
       "      <td>NaN</td>\n",
       "      <td>1.0</td>\n",
       "      <td>1.0</td>\n",
       "      <td>NaN</td>\n",
       "      <td>1006</td>\n",
       "      <td>0.0</td>\n",
       "      <td>0.0</td>\n",
       "      <td>0.00</td>\n",
       "      <td>0.00</td>\n",
       "    </tr>\n",
       "    <tr>\n",
       "      <td>2</td>\n",
       "      <td>7001625959</td>\n",
       "      <td>109</td>\n",
       "      <td>0.0</td>\n",
       "      <td>0.0</td>\n",
       "      <td>0.0</td>\n",
       "      <td>6/30/2014</td>\n",
       "      <td>7/31/2014</td>\n",
       "      <td>8/31/2014</td>\n",
       "      <td>9/30/2014</td>\n",
       "      <td>167.690</td>\n",
       "      <td>...</td>\n",
       "      <td>0</td>\n",
       "      <td>NaN</td>\n",
       "      <td>NaN</td>\n",
       "      <td>NaN</td>\n",
       "      <td>1.0</td>\n",
       "      <td>1103</td>\n",
       "      <td>0.0</td>\n",
       "      <td>0.0</td>\n",
       "      <td>4.17</td>\n",
       "      <td>0.00</td>\n",
       "    </tr>\n",
       "    <tr>\n",
       "      <td>3</td>\n",
       "      <td>7001204172</td>\n",
       "      <td>109</td>\n",
       "      <td>0.0</td>\n",
       "      <td>0.0</td>\n",
       "      <td>0.0</td>\n",
       "      <td>6/30/2014</td>\n",
       "      <td>7/31/2014</td>\n",
       "      <td>8/31/2014</td>\n",
       "      <td>9/30/2014</td>\n",
       "      <td>221.338</td>\n",
       "      <td>...</td>\n",
       "      <td>0</td>\n",
       "      <td>NaN</td>\n",
       "      <td>NaN</td>\n",
       "      <td>NaN</td>\n",
       "      <td>NaN</td>\n",
       "      <td>2491</td>\n",
       "      <td>0.0</td>\n",
       "      <td>0.0</td>\n",
       "      <td>0.00</td>\n",
       "      <td>0.00</td>\n",
       "    </tr>\n",
       "    <tr>\n",
       "      <td>4</td>\n",
       "      <td>7000142493</td>\n",
       "      <td>109</td>\n",
       "      <td>0.0</td>\n",
       "      <td>0.0</td>\n",
       "      <td>0.0</td>\n",
       "      <td>6/30/2014</td>\n",
       "      <td>7/31/2014</td>\n",
       "      <td>8/31/2014</td>\n",
       "      <td>9/30/2014</td>\n",
       "      <td>261.636</td>\n",
       "      <td>...</td>\n",
       "      <td>0</td>\n",
       "      <td>0.0</td>\n",
       "      <td>NaN</td>\n",
       "      <td>NaN</td>\n",
       "      <td>NaN</td>\n",
       "      <td>1526</td>\n",
       "      <td>0.0</td>\n",
       "      <td>0.0</td>\n",
       "      <td>0.00</td>\n",
       "      <td>0.00</td>\n",
       "    </tr>\n",
       "  </tbody>\n",
       "</table>\n",
       "<p>5 rows × 226 columns</p>\n",
       "</div>"
      ],
      "text/plain": [
       "   mobile_number  circle_id  loc_og_t2o_mou  std_og_t2o_mou  loc_ic_t2o_mou  \\\n",
       "0     7000842753        109             0.0             0.0             0.0   \n",
       "1     7001865778        109             0.0             0.0             0.0   \n",
       "2     7001625959        109             0.0             0.0             0.0   \n",
       "3     7001204172        109             0.0             0.0             0.0   \n",
       "4     7000142493        109             0.0             0.0             0.0   \n",
       "\n",
       "  last_date_of_month_6 last_date_of_month_7 last_date_of_month_8  \\\n",
       "0            6/30/2014            7/31/2014            8/31/2014   \n",
       "1            6/30/2014            7/31/2014            8/31/2014   \n",
       "2            6/30/2014            7/31/2014            8/31/2014   \n",
       "3            6/30/2014            7/31/2014            8/31/2014   \n",
       "4            6/30/2014            7/31/2014            8/31/2014   \n",
       "\n",
       "  last_date_of_month_9   arpu_6  ...  sachet_3g_9  fb_user_6  fb_user_7  \\\n",
       "0            9/30/2014  197.385  ...            0        1.0        1.0   \n",
       "1            9/30/2014   34.047  ...            0        NaN        1.0   \n",
       "2            9/30/2014  167.690  ...            0        NaN        NaN   \n",
       "3            9/30/2014  221.338  ...            0        NaN        NaN   \n",
       "4            9/30/2014  261.636  ...            0        0.0        NaN   \n",
       "\n",
       "   fb_user_8  fb_user_9   aon  aug_vbc_3g  jul_vbc_3g  jun_vbc_3g  sep_vbc_3g  \n",
       "0        1.0        NaN   968        30.4         0.0      101.20        3.58  \n",
       "1        1.0        NaN  1006         0.0         0.0        0.00        0.00  \n",
       "2        NaN        1.0  1103         0.0         0.0        4.17        0.00  \n",
       "3        NaN        NaN  2491         0.0         0.0        0.00        0.00  \n",
       "4        NaN        NaN  1526         0.0         0.0        0.00        0.00  \n",
       "\n",
       "[5 rows x 226 columns]"
      ]
     },
     "execution_count": 198,
     "metadata": {},
     "output_type": "execute_result"
    }
   ],
   "source": [
    "data.head()"
   ]
  },
  {
   "cell_type": "code",
   "execution_count": 199,
   "metadata": {},
   "outputs": [
    {
     "name": "stdout",
     "output_type": "stream",
     "text": [
      "<class 'pandas.core.frame.DataFrame'>\n",
      "RangeIndex: 99999 entries, 0 to 99998\n",
      "Data columns (total 226 columns):\n",
      "mobile_number               int64\n",
      "circle_id                   int64\n",
      "loc_og_t2o_mou              float64\n",
      "std_og_t2o_mou              float64\n",
      "loc_ic_t2o_mou              float64\n",
      "last_date_of_month_6        object\n",
      "last_date_of_month_7        object\n",
      "last_date_of_month_8        object\n",
      "last_date_of_month_9        object\n",
      "arpu_6                      float64\n",
      "arpu_7                      float64\n",
      "arpu_8                      float64\n",
      "arpu_9                      float64\n",
      "onnet_mou_6                 float64\n",
      "onnet_mou_7                 float64\n",
      "onnet_mou_8                 float64\n",
      "onnet_mou_9                 float64\n",
      "offnet_mou_6                float64\n",
      "offnet_mou_7                float64\n",
      "offnet_mou_8                float64\n",
      "offnet_mou_9                float64\n",
      "roam_ic_mou_6               float64\n",
      "roam_ic_mou_7               float64\n",
      "roam_ic_mou_8               float64\n",
      "roam_ic_mou_9               float64\n",
      "roam_og_mou_6               float64\n",
      "roam_og_mou_7               float64\n",
      "roam_og_mou_8               float64\n",
      "roam_og_mou_9               float64\n",
      "loc_og_t2t_mou_6            float64\n",
      "loc_og_t2t_mou_7            float64\n",
      "loc_og_t2t_mou_8            float64\n",
      "loc_og_t2t_mou_9            float64\n",
      "loc_og_t2m_mou_6            float64\n",
      "loc_og_t2m_mou_7            float64\n",
      "loc_og_t2m_mou_8            float64\n",
      "loc_og_t2m_mou_9            float64\n",
      "loc_og_t2f_mou_6            float64\n",
      "loc_og_t2f_mou_7            float64\n",
      "loc_og_t2f_mou_8            float64\n",
      "loc_og_t2f_mou_9            float64\n",
      "loc_og_t2c_mou_6            float64\n",
      "loc_og_t2c_mou_7            float64\n",
      "loc_og_t2c_mou_8            float64\n",
      "loc_og_t2c_mou_9            float64\n",
      "loc_og_mou_6                float64\n",
      "loc_og_mou_7                float64\n",
      "loc_og_mou_8                float64\n",
      "loc_og_mou_9                float64\n",
      "std_og_t2t_mou_6            float64\n",
      "std_og_t2t_mou_7            float64\n",
      "std_og_t2t_mou_8            float64\n",
      "std_og_t2t_mou_9            float64\n",
      "std_og_t2m_mou_6            float64\n",
      "std_og_t2m_mou_7            float64\n",
      "std_og_t2m_mou_8            float64\n",
      "std_og_t2m_mou_9            float64\n",
      "std_og_t2f_mou_6            float64\n",
      "std_og_t2f_mou_7            float64\n",
      "std_og_t2f_mou_8            float64\n",
      "std_og_t2f_mou_9            float64\n",
      "std_og_t2c_mou_6            float64\n",
      "std_og_t2c_mou_7            float64\n",
      "std_og_t2c_mou_8            float64\n",
      "std_og_t2c_mou_9            float64\n",
      "std_og_mou_6                float64\n",
      "std_og_mou_7                float64\n",
      "std_og_mou_8                float64\n",
      "std_og_mou_9                float64\n",
      "isd_og_mou_6                float64\n",
      "isd_og_mou_7                float64\n",
      "isd_og_mou_8                float64\n",
      "isd_og_mou_9                float64\n",
      "spl_og_mou_6                float64\n",
      "spl_og_mou_7                float64\n",
      "spl_og_mou_8                float64\n",
      "spl_og_mou_9                float64\n",
      "og_others_6                 float64\n",
      "og_others_7                 float64\n",
      "og_others_8                 float64\n",
      "og_others_9                 float64\n",
      "total_og_mou_6              float64\n",
      "total_og_mou_7              float64\n",
      "total_og_mou_8              float64\n",
      "total_og_mou_9              float64\n",
      "loc_ic_t2t_mou_6            float64\n",
      "loc_ic_t2t_mou_7            float64\n",
      "loc_ic_t2t_mou_8            float64\n",
      "loc_ic_t2t_mou_9            float64\n",
      "loc_ic_t2m_mou_6            float64\n",
      "loc_ic_t2m_mou_7            float64\n",
      "loc_ic_t2m_mou_8            float64\n",
      "loc_ic_t2m_mou_9            float64\n",
      "loc_ic_t2f_mou_6            float64\n",
      "loc_ic_t2f_mou_7            float64\n",
      "loc_ic_t2f_mou_8            float64\n",
      "loc_ic_t2f_mou_9            float64\n",
      "loc_ic_mou_6                float64\n",
      "loc_ic_mou_7                float64\n",
      "loc_ic_mou_8                float64\n",
      "loc_ic_mou_9                float64\n",
      "std_ic_t2t_mou_6            float64\n",
      "std_ic_t2t_mou_7            float64\n",
      "std_ic_t2t_mou_8            float64\n",
      "std_ic_t2t_mou_9            float64\n",
      "std_ic_t2m_mou_6            float64\n",
      "std_ic_t2m_mou_7            float64\n",
      "std_ic_t2m_mou_8            float64\n",
      "std_ic_t2m_mou_9            float64\n",
      "std_ic_t2f_mou_6            float64\n",
      "std_ic_t2f_mou_7            float64\n",
      "std_ic_t2f_mou_8            float64\n",
      "std_ic_t2f_mou_9            float64\n",
      "std_ic_t2o_mou_6            float64\n",
      "std_ic_t2o_mou_7            float64\n",
      "std_ic_t2o_mou_8            float64\n",
      "std_ic_t2o_mou_9            float64\n",
      "std_ic_mou_6                float64\n",
      "std_ic_mou_7                float64\n",
      "std_ic_mou_8                float64\n",
      "std_ic_mou_9                float64\n",
      "total_ic_mou_6              float64\n",
      "total_ic_mou_7              float64\n",
      "total_ic_mou_8              float64\n",
      "total_ic_mou_9              float64\n",
      "spl_ic_mou_6                float64\n",
      "spl_ic_mou_7                float64\n",
      "spl_ic_mou_8                float64\n",
      "spl_ic_mou_9                float64\n",
      "isd_ic_mou_6                float64\n",
      "isd_ic_mou_7                float64\n",
      "isd_ic_mou_8                float64\n",
      "isd_ic_mou_9                float64\n",
      "ic_others_6                 float64\n",
      "ic_others_7                 float64\n",
      "ic_others_8                 float64\n",
      "ic_others_9                 float64\n",
      "total_rech_num_6            int64\n",
      "total_rech_num_7            int64\n",
      "total_rech_num_8            int64\n",
      "total_rech_num_9            int64\n",
      "total_rech_amt_6            int64\n",
      "total_rech_amt_7            int64\n",
      "total_rech_amt_8            int64\n",
      "total_rech_amt_9            int64\n",
      "max_rech_amt_6              int64\n",
      "max_rech_amt_7              int64\n",
      "max_rech_amt_8              int64\n",
      "max_rech_amt_9              int64\n",
      "date_of_last_rech_6         object\n",
      "date_of_last_rech_7         object\n",
      "date_of_last_rech_8         object\n",
      "date_of_last_rech_9         object\n",
      "last_day_rch_amt_6          int64\n",
      "last_day_rch_amt_7          int64\n",
      "last_day_rch_amt_8          int64\n",
      "last_day_rch_amt_9          int64\n",
      "date_of_last_rech_data_6    object\n",
      "date_of_last_rech_data_7    object\n",
      "date_of_last_rech_data_8    object\n",
      "date_of_last_rech_data_9    object\n",
      "total_rech_data_6           float64\n",
      "total_rech_data_7           float64\n",
      "total_rech_data_8           float64\n",
      "total_rech_data_9           float64\n",
      "max_rech_data_6             float64\n",
      "max_rech_data_7             float64\n",
      "max_rech_data_8             float64\n",
      "max_rech_data_9             float64\n",
      "count_rech_2g_6             float64\n",
      "count_rech_2g_7             float64\n",
      "count_rech_2g_8             float64\n",
      "count_rech_2g_9             float64\n",
      "count_rech_3g_6             float64\n",
      "count_rech_3g_7             float64\n",
      "count_rech_3g_8             float64\n",
      "count_rech_3g_9             float64\n",
      "av_rech_amt_data_6          float64\n",
      "av_rech_amt_data_7          float64\n",
      "av_rech_amt_data_8          float64\n",
      "av_rech_amt_data_9          float64\n",
      "vol_2g_mb_6                 float64\n",
      "vol_2g_mb_7                 float64\n",
      "vol_2g_mb_8                 float64\n",
      "vol_2g_mb_9                 float64\n",
      "vol_3g_mb_6                 float64\n",
      "vol_3g_mb_7                 float64\n",
      "vol_3g_mb_8                 float64\n",
      "vol_3g_mb_9                 float64\n",
      "arpu_3g_6                   float64\n",
      "arpu_3g_7                   float64\n",
      "arpu_3g_8                   float64\n",
      "arpu_3g_9                   float64\n",
      "arpu_2g_6                   float64\n",
      "arpu_2g_7                   float64\n",
      "arpu_2g_8                   float64\n",
      "arpu_2g_9                   float64\n",
      "night_pck_user_6            float64\n",
      "night_pck_user_7            float64\n",
      "night_pck_user_8            float64\n",
      "night_pck_user_9            float64\n",
      "monthly_2g_6                int64\n",
      "monthly_2g_7                int64\n",
      "monthly_2g_8                int64\n",
      "monthly_2g_9                int64\n",
      "sachet_2g_6                 int64\n",
      "sachet_2g_7                 int64\n",
      "sachet_2g_8                 int64\n",
      "sachet_2g_9                 int64\n",
      "monthly_3g_6                int64\n",
      "monthly_3g_7                int64\n",
      "monthly_3g_8                int64\n",
      "monthly_3g_9                int64\n",
      "sachet_3g_6                 int64\n",
      "sachet_3g_7                 int64\n",
      "sachet_3g_8                 int64\n",
      "sachet_3g_9                 int64\n",
      "fb_user_6                   float64\n",
      "fb_user_7                   float64\n",
      "fb_user_8                   float64\n",
      "fb_user_9                   float64\n",
      "aon                         int64\n",
      "aug_vbc_3g                  float64\n",
      "jul_vbc_3g                  float64\n",
      "jun_vbc_3g                  float64\n",
      "sep_vbc_3g                  float64\n",
      "dtypes: float64(179), int64(35), object(12)\n",
      "memory usage: 172.4+ MB\n"
     ]
    }
   ],
   "source": [
    "data.info(verbose=True)"
   ]
  },
  {
   "cell_type": "code",
   "execution_count": 200,
   "metadata": {},
   "outputs": [
    {
     "data": {
      "text/html": [
       "<div>\n",
       "<style scoped>\n",
       "    .dataframe tbody tr th:only-of-type {\n",
       "        vertical-align: middle;\n",
       "    }\n",
       "\n",
       "    .dataframe tbody tr th {\n",
       "        vertical-align: top;\n",
       "    }\n",
       "\n",
       "    .dataframe thead th {\n",
       "        text-align: right;\n",
       "    }\n",
       "</style>\n",
       "<table border=\"1\" class=\"dataframe\">\n",
       "  <thead>\n",
       "    <tr style=\"text-align: right;\">\n",
       "      <th></th>\n",
       "      <th>mobile_number</th>\n",
       "      <th>circle_id</th>\n",
       "      <th>loc_og_t2o_mou</th>\n",
       "      <th>std_og_t2o_mou</th>\n",
       "      <th>loc_ic_t2o_mou</th>\n",
       "      <th>arpu_6</th>\n",
       "      <th>arpu_7</th>\n",
       "      <th>arpu_8</th>\n",
       "      <th>arpu_9</th>\n",
       "      <th>onnet_mou_6</th>\n",
       "      <th>...</th>\n",
       "      <th>sachet_3g_9</th>\n",
       "      <th>fb_user_6</th>\n",
       "      <th>fb_user_7</th>\n",
       "      <th>fb_user_8</th>\n",
       "      <th>fb_user_9</th>\n",
       "      <th>aon</th>\n",
       "      <th>aug_vbc_3g</th>\n",
       "      <th>jul_vbc_3g</th>\n",
       "      <th>jun_vbc_3g</th>\n",
       "      <th>sep_vbc_3g</th>\n",
       "    </tr>\n",
       "  </thead>\n",
       "  <tbody>\n",
       "    <tr>\n",
       "      <td>count</td>\n",
       "      <td>9.999900e+04</td>\n",
       "      <td>99999.0</td>\n",
       "      <td>98981.0</td>\n",
       "      <td>98981.0</td>\n",
       "      <td>98981.0</td>\n",
       "      <td>99999.000000</td>\n",
       "      <td>99999.000000</td>\n",
       "      <td>99999.000000</td>\n",
       "      <td>99999.000000</td>\n",
       "      <td>96062.000000</td>\n",
       "      <td>...</td>\n",
       "      <td>99999.000000</td>\n",
       "      <td>25153.000000</td>\n",
       "      <td>25571.000000</td>\n",
       "      <td>26339.000000</td>\n",
       "      <td>25922.000000</td>\n",
       "      <td>99999.000000</td>\n",
       "      <td>99999.000000</td>\n",
       "      <td>99999.000000</td>\n",
       "      <td>99999.000000</td>\n",
       "      <td>99999.000000</td>\n",
       "    </tr>\n",
       "    <tr>\n",
       "      <td>mean</td>\n",
       "      <td>7.001207e+09</td>\n",
       "      <td>109.0</td>\n",
       "      <td>0.0</td>\n",
       "      <td>0.0</td>\n",
       "      <td>0.0</td>\n",
       "      <td>282.987358</td>\n",
       "      <td>278.536648</td>\n",
       "      <td>279.154731</td>\n",
       "      <td>261.645069</td>\n",
       "      <td>132.395875</td>\n",
       "      <td>...</td>\n",
       "      <td>0.084581</td>\n",
       "      <td>0.914404</td>\n",
       "      <td>0.908764</td>\n",
       "      <td>0.890808</td>\n",
       "      <td>0.860968</td>\n",
       "      <td>1219.854749</td>\n",
       "      <td>68.170248</td>\n",
       "      <td>66.839062</td>\n",
       "      <td>60.021204</td>\n",
       "      <td>3.299373</td>\n",
       "    </tr>\n",
       "    <tr>\n",
       "      <td>std</td>\n",
       "      <td>6.956694e+05</td>\n",
       "      <td>0.0</td>\n",
       "      <td>0.0</td>\n",
       "      <td>0.0</td>\n",
       "      <td>0.0</td>\n",
       "      <td>328.439770</td>\n",
       "      <td>338.156291</td>\n",
       "      <td>344.474791</td>\n",
       "      <td>341.998630</td>\n",
       "      <td>297.207406</td>\n",
       "      <td>...</td>\n",
       "      <td>0.650457</td>\n",
       "      <td>0.279772</td>\n",
       "      <td>0.287950</td>\n",
       "      <td>0.311885</td>\n",
       "      <td>0.345987</td>\n",
       "      <td>954.733842</td>\n",
       "      <td>267.580450</td>\n",
       "      <td>271.201856</td>\n",
       "      <td>253.938223</td>\n",
       "      <td>32.408353</td>\n",
       "    </tr>\n",
       "    <tr>\n",
       "      <td>min</td>\n",
       "      <td>7.000000e+09</td>\n",
       "      <td>109.0</td>\n",
       "      <td>0.0</td>\n",
       "      <td>0.0</td>\n",
       "      <td>0.0</td>\n",
       "      <td>-2258.709000</td>\n",
       "      <td>-2014.045000</td>\n",
       "      <td>-945.808000</td>\n",
       "      <td>-1899.505000</td>\n",
       "      <td>0.000000</td>\n",
       "      <td>...</td>\n",
       "      <td>0.000000</td>\n",
       "      <td>0.000000</td>\n",
       "      <td>0.000000</td>\n",
       "      <td>0.000000</td>\n",
       "      <td>0.000000</td>\n",
       "      <td>180.000000</td>\n",
       "      <td>0.000000</td>\n",
       "      <td>0.000000</td>\n",
       "      <td>0.000000</td>\n",
       "      <td>0.000000</td>\n",
       "    </tr>\n",
       "    <tr>\n",
       "      <td>25%</td>\n",
       "      <td>7.000606e+09</td>\n",
       "      <td>109.0</td>\n",
       "      <td>0.0</td>\n",
       "      <td>0.0</td>\n",
       "      <td>0.0</td>\n",
       "      <td>93.411500</td>\n",
       "      <td>86.980500</td>\n",
       "      <td>84.126000</td>\n",
       "      <td>62.685000</td>\n",
       "      <td>7.380000</td>\n",
       "      <td>...</td>\n",
       "      <td>0.000000</td>\n",
       "      <td>1.000000</td>\n",
       "      <td>1.000000</td>\n",
       "      <td>1.000000</td>\n",
       "      <td>1.000000</td>\n",
       "      <td>467.000000</td>\n",
       "      <td>0.000000</td>\n",
       "      <td>0.000000</td>\n",
       "      <td>0.000000</td>\n",
       "      <td>0.000000</td>\n",
       "    </tr>\n",
       "    <tr>\n",
       "      <td>50%</td>\n",
       "      <td>7.001205e+09</td>\n",
       "      <td>109.0</td>\n",
       "      <td>0.0</td>\n",
       "      <td>0.0</td>\n",
       "      <td>0.0</td>\n",
       "      <td>197.704000</td>\n",
       "      <td>191.640000</td>\n",
       "      <td>192.080000</td>\n",
       "      <td>176.849000</td>\n",
       "      <td>34.310000</td>\n",
       "      <td>...</td>\n",
       "      <td>0.000000</td>\n",
       "      <td>1.000000</td>\n",
       "      <td>1.000000</td>\n",
       "      <td>1.000000</td>\n",
       "      <td>1.000000</td>\n",
       "      <td>863.000000</td>\n",
       "      <td>0.000000</td>\n",
       "      <td>0.000000</td>\n",
       "      <td>0.000000</td>\n",
       "      <td>0.000000</td>\n",
       "    </tr>\n",
       "    <tr>\n",
       "      <td>75%</td>\n",
       "      <td>7.001812e+09</td>\n",
       "      <td>109.0</td>\n",
       "      <td>0.0</td>\n",
       "      <td>0.0</td>\n",
       "      <td>0.0</td>\n",
       "      <td>371.060000</td>\n",
       "      <td>365.344500</td>\n",
       "      <td>369.370500</td>\n",
       "      <td>353.466500</td>\n",
       "      <td>118.740000</td>\n",
       "      <td>...</td>\n",
       "      <td>0.000000</td>\n",
       "      <td>1.000000</td>\n",
       "      <td>1.000000</td>\n",
       "      <td>1.000000</td>\n",
       "      <td>1.000000</td>\n",
       "      <td>1807.500000</td>\n",
       "      <td>0.000000</td>\n",
       "      <td>0.000000</td>\n",
       "      <td>0.000000</td>\n",
       "      <td>0.000000</td>\n",
       "    </tr>\n",
       "    <tr>\n",
       "      <td>max</td>\n",
       "      <td>7.002411e+09</td>\n",
       "      <td>109.0</td>\n",
       "      <td>0.0</td>\n",
       "      <td>0.0</td>\n",
       "      <td>0.0</td>\n",
       "      <td>27731.088000</td>\n",
       "      <td>35145.834000</td>\n",
       "      <td>33543.624000</td>\n",
       "      <td>38805.617000</td>\n",
       "      <td>7376.710000</td>\n",
       "      <td>...</td>\n",
       "      <td>49.000000</td>\n",
       "      <td>1.000000</td>\n",
       "      <td>1.000000</td>\n",
       "      <td>1.000000</td>\n",
       "      <td>1.000000</td>\n",
       "      <td>4337.000000</td>\n",
       "      <td>12916.220000</td>\n",
       "      <td>9165.600000</td>\n",
       "      <td>11166.210000</td>\n",
       "      <td>2618.570000</td>\n",
       "    </tr>\n",
       "  </tbody>\n",
       "</table>\n",
       "<p>8 rows × 214 columns</p>\n",
       "</div>"
      ],
      "text/plain": [
       "       mobile_number  circle_id  loc_og_t2o_mou  std_og_t2o_mou  \\\n",
       "count   9.999900e+04    99999.0         98981.0         98981.0   \n",
       "mean    7.001207e+09      109.0             0.0             0.0   \n",
       "std     6.956694e+05        0.0             0.0             0.0   \n",
       "min     7.000000e+09      109.0             0.0             0.0   \n",
       "25%     7.000606e+09      109.0             0.0             0.0   \n",
       "50%     7.001205e+09      109.0             0.0             0.0   \n",
       "75%     7.001812e+09      109.0             0.0             0.0   \n",
       "max     7.002411e+09      109.0             0.0             0.0   \n",
       "\n",
       "       loc_ic_t2o_mou        arpu_6        arpu_7        arpu_8        arpu_9  \\\n",
       "count         98981.0  99999.000000  99999.000000  99999.000000  99999.000000   \n",
       "mean              0.0    282.987358    278.536648    279.154731    261.645069   \n",
       "std               0.0    328.439770    338.156291    344.474791    341.998630   \n",
       "min               0.0  -2258.709000  -2014.045000   -945.808000  -1899.505000   \n",
       "25%               0.0     93.411500     86.980500     84.126000     62.685000   \n",
       "50%               0.0    197.704000    191.640000    192.080000    176.849000   \n",
       "75%               0.0    371.060000    365.344500    369.370500    353.466500   \n",
       "max               0.0  27731.088000  35145.834000  33543.624000  38805.617000   \n",
       "\n",
       "        onnet_mou_6  ...   sachet_3g_9     fb_user_6     fb_user_7  \\\n",
       "count  96062.000000  ...  99999.000000  25153.000000  25571.000000   \n",
       "mean     132.395875  ...      0.084581      0.914404      0.908764   \n",
       "std      297.207406  ...      0.650457      0.279772      0.287950   \n",
       "min        0.000000  ...      0.000000      0.000000      0.000000   \n",
       "25%        7.380000  ...      0.000000      1.000000      1.000000   \n",
       "50%       34.310000  ...      0.000000      1.000000      1.000000   \n",
       "75%      118.740000  ...      0.000000      1.000000      1.000000   \n",
       "max     7376.710000  ...     49.000000      1.000000      1.000000   \n",
       "\n",
       "          fb_user_8     fb_user_9           aon    aug_vbc_3g    jul_vbc_3g  \\\n",
       "count  26339.000000  25922.000000  99999.000000  99999.000000  99999.000000   \n",
       "mean       0.890808      0.860968   1219.854749     68.170248     66.839062   \n",
       "std        0.311885      0.345987    954.733842    267.580450    271.201856   \n",
       "min        0.000000      0.000000    180.000000      0.000000      0.000000   \n",
       "25%        1.000000      1.000000    467.000000      0.000000      0.000000   \n",
       "50%        1.000000      1.000000    863.000000      0.000000      0.000000   \n",
       "75%        1.000000      1.000000   1807.500000      0.000000      0.000000   \n",
       "max        1.000000      1.000000   4337.000000  12916.220000   9165.600000   \n",
       "\n",
       "         jun_vbc_3g    sep_vbc_3g  \n",
       "count  99999.000000  99999.000000  \n",
       "mean      60.021204      3.299373  \n",
       "std      253.938223     32.408353  \n",
       "min        0.000000      0.000000  \n",
       "25%        0.000000      0.000000  \n",
       "50%        0.000000      0.000000  \n",
       "75%        0.000000      0.000000  \n",
       "max    11166.210000   2618.570000  \n",
       "\n",
       "[8 rows x 214 columns]"
      ]
     },
     "execution_count": 200,
     "metadata": {},
     "output_type": "execute_result"
    }
   ],
   "source": [
    "data.describe()"
   ]
  },
  {
   "cell_type": "code",
   "execution_count": 201,
   "metadata": {},
   "outputs": [],
   "source": [
    "#drop mobile number  - the number is not needed for any calculation or analysis\n",
    "data.drop('mobile_number',axis=1,inplace=True)"
   ]
  },
  {
   "cell_type": "code",
   "execution_count": 202,
   "metadata": {},
   "outputs": [
    {
     "data": {
      "text/plain": [
       "circle_id                  0\n",
       "loc_og_t2o_mou          1018\n",
       "std_og_t2o_mou          1018\n",
       "loc_ic_t2o_mou          1018\n",
       "last_date_of_month_6       0\n",
       "                        ... \n",
       "aon                        0\n",
       "aug_vbc_3g                 0\n",
       "jul_vbc_3g                 0\n",
       "jun_vbc_3g                 0\n",
       "sep_vbc_3g                 0\n",
       "Length: 225, dtype: int64"
      ]
     },
     "execution_count": 202,
     "metadata": {},
     "output_type": "execute_result"
    }
   ],
   "source": [
    "#check for missing values\n",
    "data.isna().sum()"
   ]
  },
  {
   "cell_type": "code",
   "execution_count": 203,
   "metadata": {},
   "outputs": [
    {
     "data": {
      "text/html": [
       "<div>\n",
       "<style scoped>\n",
       "    .dataframe tbody tr th:only-of-type {\n",
       "        vertical-align: middle;\n",
       "    }\n",
       "\n",
       "    .dataframe tbody tr th {\n",
       "        vertical-align: top;\n",
       "    }\n",
       "\n",
       "    .dataframe thead th {\n",
       "        text-align: right;\n",
       "    }\n",
       "</style>\n",
       "<table border=\"1\" class=\"dataframe\">\n",
       "  <thead>\n",
       "    <tr style=\"text-align: right;\">\n",
       "      <th></th>\n",
       "      <th>feature</th>\n",
       "      <th>Missing%</th>\n",
       "    </tr>\n",
       "  </thead>\n",
       "  <tbody>\n",
       "    <tr>\n",
       "      <td>188</td>\n",
       "      <td>arpu_3g_6</td>\n",
       "      <td>74.846748</td>\n",
       "    </tr>\n",
       "    <tr>\n",
       "      <td>176</td>\n",
       "      <td>av_rech_amt_data_6</td>\n",
       "      <td>74.846748</td>\n",
       "    </tr>\n",
       "    <tr>\n",
       "      <td>216</td>\n",
       "      <td>fb_user_6</td>\n",
       "      <td>74.846748</td>\n",
       "    </tr>\n",
       "    <tr>\n",
       "      <td>196</td>\n",
       "      <td>night_pck_user_6</td>\n",
       "      <td>74.846748</td>\n",
       "    </tr>\n",
       "    <tr>\n",
       "      <td>160</td>\n",
       "      <td>total_rech_data_6</td>\n",
       "      <td>74.846748</td>\n",
       "    </tr>\n",
       "    <tr>\n",
       "      <td>...</td>\n",
       "      <td>...</td>\n",
       "      <td>...</td>\n",
       "    </tr>\n",
       "    <tr>\n",
       "      <td>145</td>\n",
       "      <td>max_rech_amt_7</td>\n",
       "      <td>0.000000</td>\n",
       "    </tr>\n",
       "    <tr>\n",
       "      <td>144</td>\n",
       "      <td>max_rech_amt_6</td>\n",
       "      <td>0.000000</td>\n",
       "    </tr>\n",
       "    <tr>\n",
       "      <td>143</td>\n",
       "      <td>total_rech_amt_9</td>\n",
       "      <td>0.000000</td>\n",
       "    </tr>\n",
       "    <tr>\n",
       "      <td>142</td>\n",
       "      <td>total_rech_amt_8</td>\n",
       "      <td>0.000000</td>\n",
       "    </tr>\n",
       "    <tr>\n",
       "      <td>224</td>\n",
       "      <td>sep_vbc_3g</td>\n",
       "      <td>0.000000</td>\n",
       "    </tr>\n",
       "  </tbody>\n",
       "</table>\n",
       "<p>225 rows × 2 columns</p>\n",
       "</div>"
      ],
      "text/plain": [
       "                feature   Missing%\n",
       "188           arpu_3g_6  74.846748\n",
       "176  av_rech_amt_data_6  74.846748\n",
       "216           fb_user_6  74.846748\n",
       "196    night_pck_user_6  74.846748\n",
       "160   total_rech_data_6  74.846748\n",
       "..                  ...        ...\n",
       "145      max_rech_amt_7   0.000000\n",
       "144      max_rech_amt_6   0.000000\n",
       "143    total_rech_amt_9   0.000000\n",
       "142    total_rech_amt_8   0.000000\n",
       "224          sep_vbc_3g   0.000000\n",
       "\n",
       "[225 rows x 2 columns]"
      ]
     },
     "execution_count": 203,
     "metadata": {},
     "output_type": "execute_result"
    }
   ],
   "source": [
    "#Missing value percencentages\n",
    "missing_values = pd.DataFrame((data.isnull().sum()/len(data))*100).reset_index().rename(columns = {'index': 'feature', 0: 'Missing%'}).sort_values('Missing%',ascending = False)\n",
    "missing_values"
   ]
  },
  {
   "cell_type": "code",
   "execution_count": 204,
   "metadata": {},
   "outputs": [],
   "source": [
    "#Dropping columns where null are more than 95%\n",
    "data = data.loc[:, data.isnull().mean() < .95]\n"
   ]
  },
  {
   "cell_type": "code",
   "execution_count": 205,
   "metadata": {},
   "outputs": [],
   "source": [
    "# DATA IMPUTATION"
   ]
  },
  {
   "cell_type": "code",
   "execution_count": 206,
   "metadata": {},
   "outputs": [],
   "source": [
    "#We can also use MICE imputation \n",
    "#data imputation for categorical columns (fb and nigh pack users) as -1\n",
    "data=data.fillna({'fb_user_6':-1,'fb_user_7':-1,'fb_user_8':-1})\n",
    "data=data.fillna({'night_pck_user_6':-1,'night_pck_user_7':-1,'night_pck_user_8':-1})\n",
    "#data imputation for non categorical as 0 which means no recharge happened\n",
    "data=data.fillna(0)"
   ]
  },
  {
   "cell_type": "code",
   "execution_count": 207,
   "metadata": {},
   "outputs": [
    {
     "data": {
      "text/plain": [
       "circle_id               0\n",
       "loc_og_t2o_mou          0\n",
       "std_og_t2o_mou          0\n",
       "loc_ic_t2o_mou          0\n",
       "last_date_of_month_6    0\n",
       "                       ..\n",
       "aon                     0\n",
       "aug_vbc_3g              0\n",
       "jul_vbc_3g              0\n",
       "jun_vbc_3g              0\n",
       "sep_vbc_3g              0\n",
       "Length: 225, dtype: int64"
      ]
     },
     "execution_count": 207,
     "metadata": {},
     "output_type": "execute_result"
    }
   ],
   "source": [
    "#verifying imputation and null\n",
    "data.isna().sum()"
   ]
  },
  {
   "cell_type": "code",
   "execution_count": 208,
   "metadata": {},
   "outputs": [
    {
     "data": {
      "text/html": [
       "<div>\n",
       "<style scoped>\n",
       "    .dataframe tbody tr th:only-of-type {\n",
       "        vertical-align: middle;\n",
       "    }\n",
       "\n",
       "    .dataframe tbody tr th {\n",
       "        vertical-align: top;\n",
       "    }\n",
       "\n",
       "    .dataframe thead th {\n",
       "        text-align: right;\n",
       "    }\n",
       "</style>\n",
       "<table border=\"1\" class=\"dataframe\">\n",
       "  <thead>\n",
       "    <tr style=\"text-align: right;\">\n",
       "      <th></th>\n",
       "      <th>feature</th>\n",
       "      <th>Missing%</th>\n",
       "    </tr>\n",
       "  </thead>\n",
       "  <tbody>\n",
       "    <tr>\n",
       "      <td>0</td>\n",
       "      <td>circle_id</td>\n",
       "      <td>0.0</td>\n",
       "    </tr>\n",
       "    <tr>\n",
       "      <td>113</td>\n",
       "      <td>std_ic_t2o_mou_7</td>\n",
       "      <td>0.0</td>\n",
       "    </tr>\n",
       "    <tr>\n",
       "      <td>143</td>\n",
       "      <td>total_rech_amt_9</td>\n",
       "      <td>0.0</td>\n",
       "    </tr>\n",
       "    <tr>\n",
       "      <td>144</td>\n",
       "      <td>max_rech_amt_6</td>\n",
       "      <td>0.0</td>\n",
       "    </tr>\n",
       "    <tr>\n",
       "      <td>145</td>\n",
       "      <td>max_rech_amt_7</td>\n",
       "      <td>0.0</td>\n",
       "    </tr>\n",
       "    <tr>\n",
       "      <td>...</td>\n",
       "      <td>...</td>\n",
       "      <td>...</td>\n",
       "    </tr>\n",
       "    <tr>\n",
       "      <td>79</td>\n",
       "      <td>og_others_9</td>\n",
       "      <td>0.0</td>\n",
       "    </tr>\n",
       "    <tr>\n",
       "      <td>80</td>\n",
       "      <td>total_og_mou_6</td>\n",
       "      <td>0.0</td>\n",
       "    </tr>\n",
       "    <tr>\n",
       "      <td>81</td>\n",
       "      <td>total_og_mou_7</td>\n",
       "      <td>0.0</td>\n",
       "    </tr>\n",
       "    <tr>\n",
       "      <td>82</td>\n",
       "      <td>total_og_mou_8</td>\n",
       "      <td>0.0</td>\n",
       "    </tr>\n",
       "    <tr>\n",
       "      <td>224</td>\n",
       "      <td>sep_vbc_3g</td>\n",
       "      <td>0.0</td>\n",
       "    </tr>\n",
       "  </tbody>\n",
       "</table>\n",
       "<p>225 rows × 2 columns</p>\n",
       "</div>"
      ],
      "text/plain": [
       "              feature  Missing%\n",
       "0           circle_id       0.0\n",
       "113  std_ic_t2o_mou_7       0.0\n",
       "143  total_rech_amt_9       0.0\n",
       "144    max_rech_amt_6       0.0\n",
       "145    max_rech_amt_7       0.0\n",
       "..                ...       ...\n",
       "79        og_others_9       0.0\n",
       "80     total_og_mou_6       0.0\n",
       "81     total_og_mou_7       0.0\n",
       "82     total_og_mou_8       0.0\n",
       "224        sep_vbc_3g       0.0\n",
       "\n",
       "[225 rows x 2 columns]"
      ]
     },
     "execution_count": 208,
     "metadata": {},
     "output_type": "execute_result"
    }
   ],
   "source": [
    "#Missing value percencentages\n",
    "missing_values = pd.DataFrame((data.isnull().sum()/len(data))*100).reset_index().rename(columns = {'index': 'feature', 0: 'Missing%'}).sort_values('Missing%',ascending = False)\n",
    "missing_values"
   ]
  },
  {
   "cell_type": "code",
   "execution_count": 209,
   "metadata": {},
   "outputs": [],
   "source": [
    "## No missing values now \n",
    "##Renaming columns to get them inline with month codes\n",
    "data =data.rename(columns={'jun_vbc_3g': 'vbc_3g_6', 'jul_vbc_3g': 'vbc_3g_7',\n",
    "                           'aug_vbc_3g': 'vbc_3g_8','sep_vbc_3g': 'vbc_3g_9'})"
   ]
  },
  {
   "cell_type": "code",
   "execution_count": 210,
   "metadata": {},
   "outputs": [
    {
     "name": "stdout",
     "output_type": "stream",
     "text": [
      "<class 'pandas.core.frame.DataFrame'>\n",
      "RangeIndex: 99999 entries, 0 to 99998\n",
      "Data columns (total 225 columns):\n",
      "circle_id                   int64\n",
      "loc_og_t2o_mou              float64\n",
      "std_og_t2o_mou              float64\n",
      "loc_ic_t2o_mou              float64\n",
      "last_date_of_month_6        object\n",
      "last_date_of_month_7        object\n",
      "last_date_of_month_8        object\n",
      "last_date_of_month_9        object\n",
      "arpu_6                      float64\n",
      "arpu_7                      float64\n",
      "arpu_8                      float64\n",
      "arpu_9                      float64\n",
      "onnet_mou_6                 float64\n",
      "onnet_mou_7                 float64\n",
      "onnet_mou_8                 float64\n",
      "onnet_mou_9                 float64\n",
      "offnet_mou_6                float64\n",
      "offnet_mou_7                float64\n",
      "offnet_mou_8                float64\n",
      "offnet_mou_9                float64\n",
      "roam_ic_mou_6               float64\n",
      "roam_ic_mou_7               float64\n",
      "roam_ic_mou_8               float64\n",
      "roam_ic_mou_9               float64\n",
      "roam_og_mou_6               float64\n",
      "roam_og_mou_7               float64\n",
      "roam_og_mou_8               float64\n",
      "roam_og_mou_9               float64\n",
      "loc_og_t2t_mou_6            float64\n",
      "loc_og_t2t_mou_7            float64\n",
      "loc_og_t2t_mou_8            float64\n",
      "loc_og_t2t_mou_9            float64\n",
      "loc_og_t2m_mou_6            float64\n",
      "loc_og_t2m_mou_7            float64\n",
      "loc_og_t2m_mou_8            float64\n",
      "loc_og_t2m_mou_9            float64\n",
      "loc_og_t2f_mou_6            float64\n",
      "loc_og_t2f_mou_7            float64\n",
      "loc_og_t2f_mou_8            float64\n",
      "loc_og_t2f_mou_9            float64\n",
      "loc_og_t2c_mou_6            float64\n",
      "loc_og_t2c_mou_7            float64\n",
      "loc_og_t2c_mou_8            float64\n",
      "loc_og_t2c_mou_9            float64\n",
      "loc_og_mou_6                float64\n",
      "loc_og_mou_7                float64\n",
      "loc_og_mou_8                float64\n",
      "loc_og_mou_9                float64\n",
      "std_og_t2t_mou_6            float64\n",
      "std_og_t2t_mou_7            float64\n",
      "std_og_t2t_mou_8            float64\n",
      "std_og_t2t_mou_9            float64\n",
      "std_og_t2m_mou_6            float64\n",
      "std_og_t2m_mou_7            float64\n",
      "std_og_t2m_mou_8            float64\n",
      "std_og_t2m_mou_9            float64\n",
      "std_og_t2f_mou_6            float64\n",
      "std_og_t2f_mou_7            float64\n",
      "std_og_t2f_mou_8            float64\n",
      "std_og_t2f_mou_9            float64\n",
      "std_og_t2c_mou_6            float64\n",
      "std_og_t2c_mou_7            float64\n",
      "std_og_t2c_mou_8            float64\n",
      "std_og_t2c_mou_9            float64\n",
      "std_og_mou_6                float64\n",
      "std_og_mou_7                float64\n",
      "std_og_mou_8                float64\n",
      "std_og_mou_9                float64\n",
      "isd_og_mou_6                float64\n",
      "isd_og_mou_7                float64\n",
      "isd_og_mou_8                float64\n",
      "isd_og_mou_9                float64\n",
      "spl_og_mou_6                float64\n",
      "spl_og_mou_7                float64\n",
      "spl_og_mou_8                float64\n",
      "spl_og_mou_9                float64\n",
      "og_others_6                 float64\n",
      "og_others_7                 float64\n",
      "og_others_8                 float64\n",
      "og_others_9                 float64\n",
      "total_og_mou_6              float64\n",
      "total_og_mou_7              float64\n",
      "total_og_mou_8              float64\n",
      "total_og_mou_9              float64\n",
      "loc_ic_t2t_mou_6            float64\n",
      "loc_ic_t2t_mou_7            float64\n",
      "loc_ic_t2t_mou_8            float64\n",
      "loc_ic_t2t_mou_9            float64\n",
      "loc_ic_t2m_mou_6            float64\n",
      "loc_ic_t2m_mou_7            float64\n",
      "loc_ic_t2m_mou_8            float64\n",
      "loc_ic_t2m_mou_9            float64\n",
      "loc_ic_t2f_mou_6            float64\n",
      "loc_ic_t2f_mou_7            float64\n",
      "loc_ic_t2f_mou_8            float64\n",
      "loc_ic_t2f_mou_9            float64\n",
      "loc_ic_mou_6                float64\n",
      "loc_ic_mou_7                float64\n",
      "loc_ic_mou_8                float64\n",
      "loc_ic_mou_9                float64\n",
      "std_ic_t2t_mou_6            float64\n",
      "std_ic_t2t_mou_7            float64\n",
      "std_ic_t2t_mou_8            float64\n",
      "std_ic_t2t_mou_9            float64\n",
      "std_ic_t2m_mou_6            float64\n",
      "std_ic_t2m_mou_7            float64\n",
      "std_ic_t2m_mou_8            float64\n",
      "std_ic_t2m_mou_9            float64\n",
      "std_ic_t2f_mou_6            float64\n",
      "std_ic_t2f_mou_7            float64\n",
      "std_ic_t2f_mou_8            float64\n",
      "std_ic_t2f_mou_9            float64\n",
      "std_ic_t2o_mou_6            float64\n",
      "std_ic_t2o_mou_7            float64\n",
      "std_ic_t2o_mou_8            float64\n",
      "std_ic_t2o_mou_9            float64\n",
      "std_ic_mou_6                float64\n",
      "std_ic_mou_7                float64\n",
      "std_ic_mou_8                float64\n",
      "std_ic_mou_9                float64\n",
      "total_ic_mou_6              float64\n",
      "total_ic_mou_7              float64\n",
      "total_ic_mou_8              float64\n",
      "total_ic_mou_9              float64\n",
      "spl_ic_mou_6                float64\n",
      "spl_ic_mou_7                float64\n",
      "spl_ic_mou_8                float64\n",
      "spl_ic_mou_9                float64\n",
      "isd_ic_mou_6                float64\n",
      "isd_ic_mou_7                float64\n",
      "isd_ic_mou_8                float64\n",
      "isd_ic_mou_9                float64\n",
      "ic_others_6                 float64\n",
      "ic_others_7                 float64\n",
      "ic_others_8                 float64\n",
      "ic_others_9                 float64\n",
      "total_rech_num_6            int64\n",
      "total_rech_num_7            int64\n",
      "total_rech_num_8            int64\n",
      "total_rech_num_9            int64\n",
      "total_rech_amt_6            int64\n",
      "total_rech_amt_7            int64\n",
      "total_rech_amt_8            int64\n",
      "total_rech_amt_9            int64\n",
      "max_rech_amt_6              int64\n",
      "max_rech_amt_7              int64\n",
      "max_rech_amt_8              int64\n",
      "max_rech_amt_9              int64\n",
      "date_of_last_rech_6         object\n",
      "date_of_last_rech_7         object\n",
      "date_of_last_rech_8         object\n",
      "date_of_last_rech_9         object\n",
      "last_day_rch_amt_6          int64\n",
      "last_day_rch_amt_7          int64\n",
      "last_day_rch_amt_8          int64\n",
      "last_day_rch_amt_9          int64\n",
      "date_of_last_rech_data_6    object\n",
      "date_of_last_rech_data_7    object\n",
      "date_of_last_rech_data_8    object\n",
      "date_of_last_rech_data_9    object\n",
      "total_rech_data_6           float64\n",
      "total_rech_data_7           float64\n",
      "total_rech_data_8           float64\n",
      "total_rech_data_9           float64\n",
      "max_rech_data_6             float64\n",
      "max_rech_data_7             float64\n",
      "max_rech_data_8             float64\n",
      "max_rech_data_9             float64\n",
      "count_rech_2g_6             float64\n",
      "count_rech_2g_7             float64\n",
      "count_rech_2g_8             float64\n",
      "count_rech_2g_9             float64\n",
      "count_rech_3g_6             float64\n",
      "count_rech_3g_7             float64\n",
      "count_rech_3g_8             float64\n",
      "count_rech_3g_9             float64\n",
      "av_rech_amt_data_6          float64\n",
      "av_rech_amt_data_7          float64\n",
      "av_rech_amt_data_8          float64\n",
      "av_rech_amt_data_9          float64\n",
      "vol_2g_mb_6                 float64\n",
      "vol_2g_mb_7                 float64\n",
      "vol_2g_mb_8                 float64\n",
      "vol_2g_mb_9                 float64\n",
      "vol_3g_mb_6                 float64\n",
      "vol_3g_mb_7                 float64\n",
      "vol_3g_mb_8                 float64\n",
      "vol_3g_mb_9                 float64\n",
      "arpu_3g_6                   float64\n",
      "arpu_3g_7                   float64\n",
      "arpu_3g_8                   float64\n",
      "arpu_3g_9                   float64\n",
      "arpu_2g_6                   float64\n",
      "arpu_2g_7                   float64\n",
      "arpu_2g_8                   float64\n",
      "arpu_2g_9                   float64\n",
      "night_pck_user_6            float64\n",
      "night_pck_user_7            float64\n",
      "night_pck_user_8            float64\n",
      "night_pck_user_9            float64\n",
      "monthly_2g_6                int64\n",
      "monthly_2g_7                int64\n",
      "monthly_2g_8                int64\n",
      "monthly_2g_9                int64\n",
      "sachet_2g_6                 int64\n",
      "sachet_2g_7                 int64\n",
      "sachet_2g_8                 int64\n",
      "sachet_2g_9                 int64\n",
      "monthly_3g_6                int64\n",
      "monthly_3g_7                int64\n",
      "monthly_3g_8                int64\n",
      "monthly_3g_9                int64\n",
      "sachet_3g_6                 int64\n",
      "sachet_3g_7                 int64\n",
      "sachet_3g_8                 int64\n",
      "sachet_3g_9                 int64\n",
      "fb_user_6                   float64\n",
      "fb_user_7                   float64\n",
      "fb_user_8                   float64\n",
      "fb_user_9                   float64\n",
      "aon                         int64\n",
      "vbc_3g_8                    float64\n",
      "vbc_3g_7                    float64\n",
      "vbc_3g_6                    float64\n",
      "vbc_3g_9                    float64\n",
      "dtypes: float64(179), int64(34), object(12)\n",
      "memory usage: 171.7+ MB\n"
     ]
    }
   ],
   "source": [
    "data.info(verbose=True)"
   ]
  },
  {
   "cell_type": "code",
   "execution_count": 211,
   "metadata": {},
   "outputs": [
    {
     "data": {
      "text/plain": [
       "(99999, 225)"
      ]
     },
     "execution_count": 211,
     "metadata": {},
     "output_type": "execute_result"
    }
   ],
   "source": [
    "data.shape"
   ]
  },
  {
   "cell_type": "code",
   "execution_count": 212,
   "metadata": {},
   "outputs": [
    {
     "data": {
      "text/plain": [
       "(30019, 229)"
      ]
     },
     "execution_count": 212,
     "metadata": {},
     "output_type": "execute_result"
    }
   ],
   "source": [
    "#Deriving Features - \n",
    "data['amt_data_6'] = data.total_rech_amt_6 + data.total_rech_data_6           \n",
    "data['amt_data_7'] = data.total_rech_amt_7 + data.total_rech_data_7\n",
    "data['amt_data_8'] = data.total_rech_amt_8 + data.total_rech_data_8\n",
    "\n",
    "#  average recharge by customer in June and July\n",
    "data['avg_amt_data_6_7'] = (data.amt_data_6 + data.amt_data_7)/2\n",
    "\n",
    "#Retaining customers whose recharge amount is >= 70th percentile amount\n",
    "\n",
    "data_filtered = data.loc[data.avg_amt_data_6_7 >= data.avg_amt_data_6_7.quantile(0.7), :]\n",
    "data_filtered = data_filtered.reset_index(drop=True)\n",
    "data_filtered.shape"
   ]
  },
  {
   "cell_type": "code",
   "execution_count": 213,
   "metadata": {},
   "outputs": [
    {
     "name": "stdout",
     "output_type": "stream",
     "text": [
      "<class 'pandas.core.frame.DataFrame'>\n",
      "RangeIndex: 30019 entries, 0 to 30018\n",
      "Data columns (total 223 columns):\n",
      "circle_id                   int64\n",
      "loc_og_t2o_mou              float64\n",
      "std_og_t2o_mou              float64\n",
      "loc_ic_t2o_mou              float64\n",
      "last_date_of_month_9        object\n",
      "arpu_6                      float64\n",
      "arpu_7                      float64\n",
      "arpu_8                      float64\n",
      "arpu_9                      float64\n",
      "onnet_mou_6                 float64\n",
      "onnet_mou_7                 float64\n",
      "onnet_mou_8                 float64\n",
      "onnet_mou_9                 float64\n",
      "offnet_mou_6                float64\n",
      "offnet_mou_7                float64\n",
      "offnet_mou_8                float64\n",
      "offnet_mou_9                float64\n",
      "roam_ic_mou_6               float64\n",
      "roam_ic_mou_7               float64\n",
      "roam_ic_mou_8               float64\n",
      "roam_ic_mou_9               float64\n",
      "roam_og_mou_6               float64\n",
      "roam_og_mou_7               float64\n",
      "roam_og_mou_8               float64\n",
      "roam_og_mou_9               float64\n",
      "loc_og_t2t_mou_6            float64\n",
      "loc_og_t2t_mou_7            float64\n",
      "loc_og_t2t_mou_8            float64\n",
      "loc_og_t2t_mou_9            float64\n",
      "loc_og_t2m_mou_6            float64\n",
      "loc_og_t2m_mou_7            float64\n",
      "loc_og_t2m_mou_8            float64\n",
      "loc_og_t2m_mou_9            float64\n",
      "loc_og_t2f_mou_6            float64\n",
      "loc_og_t2f_mou_7            float64\n",
      "loc_og_t2f_mou_8            float64\n",
      "loc_og_t2f_mou_9            float64\n",
      "loc_og_t2c_mou_6            float64\n",
      "loc_og_t2c_mou_7            float64\n",
      "loc_og_t2c_mou_8            float64\n",
      "loc_og_t2c_mou_9            float64\n",
      "loc_og_mou_6                float64\n",
      "loc_og_mou_7                float64\n",
      "loc_og_mou_8                float64\n",
      "loc_og_mou_9                float64\n",
      "std_og_t2t_mou_6            float64\n",
      "std_og_t2t_mou_7            float64\n",
      "std_og_t2t_mou_8            float64\n",
      "std_og_t2t_mou_9            float64\n",
      "std_og_t2m_mou_6            float64\n",
      "std_og_t2m_mou_7            float64\n",
      "std_og_t2m_mou_8            float64\n",
      "std_og_t2m_mou_9            float64\n",
      "std_og_t2f_mou_6            float64\n",
      "std_og_t2f_mou_7            float64\n",
      "std_og_t2f_mou_8            float64\n",
      "std_og_t2f_mou_9            float64\n",
      "std_og_t2c_mou_6            float64\n",
      "std_og_t2c_mou_7            float64\n",
      "std_og_t2c_mou_8            float64\n",
      "std_og_t2c_mou_9            float64\n",
      "std_og_mou_6                float64\n",
      "std_og_mou_7                float64\n",
      "std_og_mou_8                float64\n",
      "std_og_mou_9                float64\n",
      "isd_og_mou_6                float64\n",
      "isd_og_mou_7                float64\n",
      "isd_og_mou_8                float64\n",
      "isd_og_mou_9                float64\n",
      "spl_og_mou_6                float64\n",
      "spl_og_mou_7                float64\n",
      "spl_og_mou_8                float64\n",
      "spl_og_mou_9                float64\n",
      "og_others_6                 float64\n",
      "og_others_7                 float64\n",
      "og_others_8                 float64\n",
      "og_others_9                 float64\n",
      "total_og_mou_6              float64\n",
      "total_og_mou_7              float64\n",
      "total_og_mou_8              float64\n",
      "total_og_mou_9              float64\n",
      "loc_ic_t2t_mou_6            float64\n",
      "loc_ic_t2t_mou_7            float64\n",
      "loc_ic_t2t_mou_8            float64\n",
      "loc_ic_t2t_mou_9            float64\n",
      "loc_ic_t2m_mou_6            float64\n",
      "loc_ic_t2m_mou_7            float64\n",
      "loc_ic_t2m_mou_8            float64\n",
      "loc_ic_t2m_mou_9            float64\n",
      "loc_ic_t2f_mou_6            float64\n",
      "loc_ic_t2f_mou_7            float64\n",
      "loc_ic_t2f_mou_8            float64\n",
      "loc_ic_t2f_mou_9            float64\n",
      "loc_ic_mou_6                float64\n",
      "loc_ic_mou_7                float64\n",
      "loc_ic_mou_8                float64\n",
      "loc_ic_mou_9                float64\n",
      "std_ic_t2t_mou_6            float64\n",
      "std_ic_t2t_mou_7            float64\n",
      "std_ic_t2t_mou_8            float64\n",
      "std_ic_t2t_mou_9            float64\n",
      "std_ic_t2m_mou_6            float64\n",
      "std_ic_t2m_mou_7            float64\n",
      "std_ic_t2m_mou_8            float64\n",
      "std_ic_t2m_mou_9            float64\n",
      "std_ic_t2f_mou_6            float64\n",
      "std_ic_t2f_mou_7            float64\n",
      "std_ic_t2f_mou_8            float64\n",
      "std_ic_t2f_mou_9            float64\n",
      "std_ic_t2o_mou_6            float64\n",
      "std_ic_t2o_mou_7            float64\n",
      "std_ic_t2o_mou_8            float64\n",
      "std_ic_t2o_mou_9            float64\n",
      "std_ic_mou_6                float64\n",
      "std_ic_mou_7                float64\n",
      "std_ic_mou_8                float64\n",
      "std_ic_mou_9                float64\n",
      "total_ic_mou_6              float64\n",
      "total_ic_mou_7              float64\n",
      "total_ic_mou_8              float64\n",
      "total_ic_mou_9              float64\n",
      "spl_ic_mou_6                float64\n",
      "spl_ic_mou_7                float64\n",
      "spl_ic_mou_8                float64\n",
      "spl_ic_mou_9                float64\n",
      "isd_ic_mou_6                float64\n",
      "isd_ic_mou_7                float64\n",
      "isd_ic_mou_8                float64\n",
      "isd_ic_mou_9                float64\n",
      "ic_others_6                 float64\n",
      "ic_others_7                 float64\n",
      "ic_others_8                 float64\n",
      "ic_others_9                 float64\n",
      "total_rech_num_6            int64\n",
      "total_rech_num_7            int64\n",
      "total_rech_num_8            int64\n",
      "total_rech_num_9            int64\n",
      "total_rech_amt_6            int64\n",
      "total_rech_amt_7            int64\n",
      "total_rech_amt_8            int64\n",
      "total_rech_amt_9            int64\n",
      "max_rech_amt_6              int64\n",
      "max_rech_amt_7              int64\n",
      "max_rech_amt_8              int64\n",
      "max_rech_amt_9              int64\n",
      "date_of_last_rech_9         object\n",
      "last_day_rch_amt_6          int64\n",
      "last_day_rch_amt_7          int64\n",
      "last_day_rch_amt_8          int64\n",
      "last_day_rch_amt_9          int64\n",
      "date_of_last_rech_data_9    object\n",
      "total_rech_data_6           float64\n",
      "total_rech_data_7           float64\n",
      "total_rech_data_8           float64\n",
      "total_rech_data_9           float64\n",
      "max_rech_data_6             float64\n",
      "max_rech_data_7             float64\n",
      "max_rech_data_8             float64\n",
      "max_rech_data_9             float64\n",
      "count_rech_2g_6             float64\n",
      "count_rech_2g_7             float64\n",
      "count_rech_2g_8             float64\n",
      "count_rech_2g_9             float64\n",
      "count_rech_3g_6             float64\n",
      "count_rech_3g_7             float64\n",
      "count_rech_3g_8             float64\n",
      "count_rech_3g_9             float64\n",
      "av_rech_amt_data_6          float64\n",
      "av_rech_amt_data_7          float64\n",
      "av_rech_amt_data_8          float64\n",
      "av_rech_amt_data_9          float64\n",
      "vol_2g_mb_6                 float64\n",
      "vol_2g_mb_7                 float64\n",
      "vol_2g_mb_8                 float64\n",
      "vol_2g_mb_9                 float64\n",
      "vol_3g_mb_6                 float64\n",
      "vol_3g_mb_7                 float64\n",
      "vol_3g_mb_8                 float64\n",
      "vol_3g_mb_9                 float64\n",
      "arpu_3g_6                   float64\n",
      "arpu_3g_7                   float64\n",
      "arpu_3g_8                   float64\n",
      "arpu_3g_9                   float64\n",
      "arpu_2g_6                   float64\n",
      "arpu_2g_7                   float64\n",
      "arpu_2g_8                   float64\n",
      "arpu_2g_9                   float64\n",
      "night_pck_user_6            float64\n",
      "night_pck_user_7            float64\n",
      "night_pck_user_8            float64\n",
      "night_pck_user_9            float64\n",
      "monthly_2g_6                int64\n",
      "monthly_2g_7                int64\n",
      "monthly_2g_8                int64\n",
      "monthly_2g_9                int64\n",
      "sachet_2g_6                 int64\n",
      "sachet_2g_7                 int64\n",
      "sachet_2g_8                 int64\n",
      "sachet_2g_9                 int64\n",
      "monthly_3g_6                int64\n",
      "monthly_3g_7                int64\n",
      "monthly_3g_8                int64\n",
      "monthly_3g_9                int64\n",
      "sachet_3g_6                 int64\n",
      "sachet_3g_7                 int64\n",
      "sachet_3g_8                 int64\n",
      "sachet_3g_9                 int64\n",
      "fb_user_6                   float64\n",
      "fb_user_7                   float64\n",
      "fb_user_8                   float64\n",
      "fb_user_9                   float64\n",
      "aon                         int64\n",
      "vbc_3g_8                    float64\n",
      "vbc_3g_7                    float64\n",
      "vbc_3g_6                    float64\n",
      "vbc_3g_9                    float64\n",
      "amt_data_6                  float64\n",
      "amt_data_7                  float64\n",
      "amt_data_8                  float64\n",
      "avg_amt_data_6_7            float64\n",
      "days_since_recharge_6       int64\n",
      "days_since_recharge_7       int64\n",
      "days_since_recharge_8       int64\n",
      "dtypes: float64(183), int64(37), object(3)\n",
      "memory usage: 51.1+ MB\n"
     ]
    }
   ],
   "source": [
    "data_filtered[\"last_date_of_month_6\"] = pd.to_datetime(data_filtered[\"last_date_of_month_6\"])\n",
    "data_filtered[\"last_date_of_month_7\"] = pd.to_datetime(data_filtered[\"last_date_of_month_7\"])\n",
    "data_filtered[\"last_date_of_month_8\"] = pd.to_datetime(data_filtered[\"last_date_of_month_8\"])\n",
    "data_filtered[\"date_of_last_rech_6\"] = pd.to_datetime(data_filtered[\"date_of_last_rech_6\"])\n",
    "data_filtered[\"date_of_last_rech_7\"] = pd.to_datetime(data_filtered[\"date_of_last_rech_7\"])\n",
    "data_filtered[\"date_of_last_rech_8\"] = pd.to_datetime(data_filtered[\"date_of_last_rech_8\"])\n",
    "\n",
    "#3 new columns for days since recharge.\n",
    "data_filtered[\"days_since_recharge_6\"] = data_filtered[\"last_date_of_month_6\"] - data_filtered[\"date_of_last_rech_6\"]\n",
    "data_filtered[\"days_since_recharge_7\"] = data_filtered[\"last_date_of_month_7\"] - data_filtered[\"date_of_last_rech_7\"]\n",
    "data_filtered[\"days_since_recharge_8\"] = data_filtered[\"last_date_of_month_8\"] - data_filtered[\"date_of_last_rech_8\"]\n",
    "\n",
    "#converting into days\n",
    "data_filtered[\"days_since_recharge_6\"] = data_filtered[\"days_since_recharge_6\"].dt.days\n",
    "data_filtered[\"days_since_recharge_7\"] = data_filtered[\"days_since_recharge_7\"].dt.days\n",
    "data_filtered[\"days_since_recharge_8\"] = data_filtered[\"days_since_recharge_8\"].dt.days\n",
    "\n",
    "date_columns_to_be_dropped = [\"last_date_of_month_6\",\"last_date_of_month_7\",\"last_date_of_month_8\", \n",
    "                              \"date_of_last_rech_6\", \"date_of_last_rech_7\", \"date_of_last_rech_8\",\n",
    "                              \"date_of_last_rech_data_6\",\"date_of_last_rech_data_7\",\"date_of_last_rech_data_8\"]\n",
    "data_filtered = data_filtered.drop(columns=date_columns_to_be_dropped)\n",
    "data_filtered.info(verbose=True)"
   ]
  },
  {
   "cell_type": "code",
   "execution_count": 214,
   "metadata": {},
   "outputs": [
    {
     "data": {
      "text/plain": [
       "(30019, 223)"
      ]
     },
     "execution_count": 214,
     "metadata": {},
     "output_type": "execute_result"
    }
   ],
   "source": [
    "#before outlier\n",
    "data_filtered.shape"
   ]
  },
  {
   "cell_type": "code",
   "execution_count": 215,
   "metadata": {},
   "outputs": [
    {
     "name": "stdout",
     "output_type": "stream",
     "text": [
      "<class 'pandas.core.frame.DataFrame'>\n",
      "Int64Index: 26682 entries, 0 to 30018\n",
      "Data columns (total 223 columns):\n",
      "circle_id                   int64\n",
      "loc_og_t2o_mou              float64\n",
      "std_og_t2o_mou              float64\n",
      "loc_ic_t2o_mou              float64\n",
      "last_date_of_month_9        object\n",
      "arpu_6                      float64\n",
      "arpu_7                      float64\n",
      "arpu_8                      float64\n",
      "arpu_9                      float64\n",
      "onnet_mou_6                 float64\n",
      "onnet_mou_7                 float64\n",
      "onnet_mou_8                 float64\n",
      "onnet_mou_9                 float64\n",
      "offnet_mou_6                float64\n",
      "offnet_mou_7                float64\n",
      "offnet_mou_8                float64\n",
      "offnet_mou_9                float64\n",
      "roam_ic_mou_6               float64\n",
      "roam_ic_mou_7               float64\n",
      "roam_ic_mou_8               float64\n",
      "roam_ic_mou_9               float64\n",
      "roam_og_mou_6               float64\n",
      "roam_og_mou_7               float64\n",
      "roam_og_mou_8               float64\n",
      "roam_og_mou_9               float64\n",
      "loc_og_t2t_mou_6            float64\n",
      "loc_og_t2t_mou_7            float64\n",
      "loc_og_t2t_mou_8            float64\n",
      "loc_og_t2t_mou_9            float64\n",
      "loc_og_t2m_mou_6            float64\n",
      "loc_og_t2m_mou_7            float64\n",
      "loc_og_t2m_mou_8            float64\n",
      "loc_og_t2m_mou_9            float64\n",
      "loc_og_t2f_mou_6            float64\n",
      "loc_og_t2f_mou_7            float64\n",
      "loc_og_t2f_mou_8            float64\n",
      "loc_og_t2f_mou_9            float64\n",
      "loc_og_t2c_mou_6            float64\n",
      "loc_og_t2c_mou_7            float64\n",
      "loc_og_t2c_mou_8            float64\n",
      "loc_og_t2c_mou_9            float64\n",
      "loc_og_mou_6                float64\n",
      "loc_og_mou_7                float64\n",
      "loc_og_mou_8                float64\n",
      "loc_og_mou_9                float64\n",
      "std_og_t2t_mou_6            float64\n",
      "std_og_t2t_mou_7            float64\n",
      "std_og_t2t_mou_8            float64\n",
      "std_og_t2t_mou_9            float64\n",
      "std_og_t2m_mou_6            float64\n",
      "std_og_t2m_mou_7            float64\n",
      "std_og_t2m_mou_8            float64\n",
      "std_og_t2m_mou_9            float64\n",
      "std_og_t2f_mou_6            float64\n",
      "std_og_t2f_mou_7            float64\n",
      "std_og_t2f_mou_8            float64\n",
      "std_og_t2f_mou_9            float64\n",
      "std_og_t2c_mou_6            float64\n",
      "std_og_t2c_mou_7            float64\n",
      "std_og_t2c_mou_8            float64\n",
      "std_og_t2c_mou_9            float64\n",
      "std_og_mou_6                float64\n",
      "std_og_mou_7                float64\n",
      "std_og_mou_8                float64\n",
      "std_og_mou_9                float64\n",
      "isd_og_mou_6                float64\n",
      "isd_og_mou_7                float64\n",
      "isd_og_mou_8                float64\n",
      "isd_og_mou_9                float64\n",
      "spl_og_mou_6                float64\n",
      "spl_og_mou_7                float64\n",
      "spl_og_mou_8                float64\n",
      "spl_og_mou_9                float64\n",
      "og_others_6                 float64\n",
      "og_others_7                 float64\n",
      "og_others_8                 float64\n",
      "og_others_9                 float64\n",
      "total_og_mou_6              float64\n",
      "total_og_mou_7              float64\n",
      "total_og_mou_8              float64\n",
      "total_og_mou_9              float64\n",
      "loc_ic_t2t_mou_6            float64\n",
      "loc_ic_t2t_mou_7            float64\n",
      "loc_ic_t2t_mou_8            float64\n",
      "loc_ic_t2t_mou_9            float64\n",
      "loc_ic_t2m_mou_6            float64\n",
      "loc_ic_t2m_mou_7            float64\n",
      "loc_ic_t2m_mou_8            float64\n",
      "loc_ic_t2m_mou_9            float64\n",
      "loc_ic_t2f_mou_6            float64\n",
      "loc_ic_t2f_mou_7            float64\n",
      "loc_ic_t2f_mou_8            float64\n",
      "loc_ic_t2f_mou_9            float64\n",
      "loc_ic_mou_6                float64\n",
      "loc_ic_mou_7                float64\n",
      "loc_ic_mou_8                float64\n",
      "loc_ic_mou_9                float64\n",
      "std_ic_t2t_mou_6            float64\n",
      "std_ic_t2t_mou_7            float64\n",
      "std_ic_t2t_mou_8            float64\n",
      "std_ic_t2t_mou_9            float64\n",
      "std_ic_t2m_mou_6            float64\n",
      "std_ic_t2m_mou_7            float64\n",
      "std_ic_t2m_mou_8            float64\n",
      "std_ic_t2m_mou_9            float64\n",
      "std_ic_t2f_mou_6            float64\n",
      "std_ic_t2f_mou_7            float64\n",
      "std_ic_t2f_mou_8            float64\n",
      "std_ic_t2f_mou_9            float64\n",
      "std_ic_t2o_mou_6            float64\n",
      "std_ic_t2o_mou_7            float64\n",
      "std_ic_t2o_mou_8            float64\n",
      "std_ic_t2o_mou_9            float64\n",
      "std_ic_mou_6                float64\n",
      "std_ic_mou_7                float64\n",
      "std_ic_mou_8                float64\n",
      "std_ic_mou_9                float64\n",
      "total_ic_mou_6              float64\n",
      "total_ic_mou_7              float64\n",
      "total_ic_mou_8              float64\n",
      "total_ic_mou_9              float64\n",
      "spl_ic_mou_6                float64\n",
      "spl_ic_mou_7                float64\n",
      "spl_ic_mou_8                float64\n",
      "spl_ic_mou_9                float64\n",
      "isd_ic_mou_6                float64\n",
      "isd_ic_mou_7                float64\n",
      "isd_ic_mou_8                float64\n",
      "isd_ic_mou_9                float64\n",
      "ic_others_6                 float64\n",
      "ic_others_7                 float64\n",
      "ic_others_8                 float64\n",
      "ic_others_9                 float64\n",
      "total_rech_num_6            int64\n",
      "total_rech_num_7            int64\n",
      "total_rech_num_8            int64\n",
      "total_rech_num_9            int64\n",
      "total_rech_amt_6            int64\n",
      "total_rech_amt_7            int64\n",
      "total_rech_amt_8            int64\n",
      "total_rech_amt_9            int64\n",
      "max_rech_amt_6              int64\n",
      "max_rech_amt_7              int64\n",
      "max_rech_amt_8              int64\n",
      "max_rech_amt_9              int64\n",
      "date_of_last_rech_9         object\n",
      "last_day_rch_amt_6          int64\n",
      "last_day_rch_amt_7          int64\n",
      "last_day_rch_amt_8          int64\n",
      "last_day_rch_amt_9          int64\n",
      "date_of_last_rech_data_9    object\n",
      "total_rech_data_6           float64\n",
      "total_rech_data_7           float64\n",
      "total_rech_data_8           float64\n",
      "total_rech_data_9           float64\n",
      "max_rech_data_6             float64\n",
      "max_rech_data_7             float64\n",
      "max_rech_data_8             float64\n",
      "max_rech_data_9             float64\n",
      "count_rech_2g_6             float64\n",
      "count_rech_2g_7             float64\n",
      "count_rech_2g_8             float64\n",
      "count_rech_2g_9             float64\n",
      "count_rech_3g_6             float64\n",
      "count_rech_3g_7             float64\n",
      "count_rech_3g_8             float64\n",
      "count_rech_3g_9             float64\n",
      "av_rech_amt_data_6          float64\n",
      "av_rech_amt_data_7          float64\n",
      "av_rech_amt_data_8          float64\n",
      "av_rech_amt_data_9          float64\n",
      "vol_2g_mb_6                 float64\n",
      "vol_2g_mb_7                 float64\n",
      "vol_2g_mb_8                 float64\n",
      "vol_2g_mb_9                 float64\n",
      "vol_3g_mb_6                 float64\n",
      "vol_3g_mb_7                 float64\n",
      "vol_3g_mb_8                 float64\n",
      "vol_3g_mb_9                 float64\n",
      "arpu_3g_6                   float64\n",
      "arpu_3g_7                   float64\n",
      "arpu_3g_8                   float64\n",
      "arpu_3g_9                   float64\n",
      "arpu_2g_6                   float64\n",
      "arpu_2g_7                   float64\n",
      "arpu_2g_8                   float64\n",
      "arpu_2g_9                   float64\n",
      "night_pck_user_6            float64\n",
      "night_pck_user_7            float64\n",
      "night_pck_user_8            float64\n",
      "night_pck_user_9            float64\n",
      "monthly_2g_6                int64\n",
      "monthly_2g_7                int64\n",
      "monthly_2g_8                int64\n",
      "monthly_2g_9                int64\n",
      "sachet_2g_6                 int64\n",
      "sachet_2g_7                 int64\n",
      "sachet_2g_8                 int64\n",
      "sachet_2g_9                 int64\n",
      "monthly_3g_6                int64\n",
      "monthly_3g_7                int64\n",
      "monthly_3g_8                int64\n",
      "monthly_3g_9                int64\n",
      "sachet_3g_6                 int64\n",
      "sachet_3g_7                 int64\n",
      "sachet_3g_8                 int64\n",
      "sachet_3g_9                 int64\n",
      "fb_user_6                   float64\n",
      "fb_user_7                   float64\n",
      "fb_user_8                   float64\n",
      "fb_user_9                   float64\n",
      "aon                         int64\n",
      "vbc_3g_8                    float64\n",
      "vbc_3g_7                    float64\n",
      "vbc_3g_6                    float64\n",
      "vbc_3g_9                    float64\n",
      "amt_data_6                  float64\n",
      "amt_data_7                  float64\n",
      "amt_data_8                  float64\n",
      "avg_amt_data_6_7            float64\n",
      "days_since_recharge_6       int64\n",
      "days_since_recharge_7       int64\n",
      "days_since_recharge_8       int64\n",
      "dtypes: float64(183), int64(37), object(3)\n",
      "memory usage: 45.6+ MB\n"
     ]
    }
   ],
   "source": [
    "# HANDLING OUTLIERS\n",
    "#z_scores = stats.zscore(data_filtered)\n",
    "\n",
    "#abs_z_scores = np.abs(z_scores)\n",
    "#filtered_entries = (abs_z_scores < 3).all(axis=1)\n",
    "#data_filtered = data_filtered[filtered_entries]\n",
    "\n",
    "#Using Quantile method ##method is removing all churn_flag=1 rows\n",
    "Q1 = data_filtered.quantile(0.01)\n",
    "Q3 = data_filtered.quantile(0.99)\n",
    "IQR = Q3 - Q1\n",
    "\n",
    "\n",
    "data_filtered = data_filtered[~((data_filtered < (Q1 - 1.5 * IQR)) |(data_filtered > (Q3 + 1.5 * IQR))).any(axis=1)]\n",
    "data_filtered.info(verbose=True)"
   ]
  },
  {
   "cell_type": "code",
   "execution_count": 216,
   "metadata": {},
   "outputs": [
    {
     "data": {
      "text/plain": [
       "(26682, 223)"
      ]
     },
     "execution_count": 216,
     "metadata": {},
     "output_type": "execute_result"
    }
   ],
   "source": [
    "#after outlier treatment\n",
    "data_filtered.shape"
   ]
  },
  {
   "cell_type": "code",
   "execution_count": 217,
   "metadata": {},
   "outputs": [
    {
     "name": "stdout",
     "output_type": "stream",
     "text": [
      "0    23956\n",
      "1     2726\n",
      "Name: churn_flag, dtype: int64\n"
     ]
    }
   ],
   "source": [
    "#Identifying Churn customers\n",
    "data_filtered['churn_flag'] = np.where(((data_filtered['total_ic_mou_9'] == 0.00) | (data_filtered['total_og_mou_9'] == 0.00))\n",
    "                            & ((data_filtered['vol_2g_mb_9'] == 0.00) | (data_filtered['vol_3g_mb_9'] == 0.00))\n",
    "                            , 1, 0)\n",
    "print(data_filtered['churn_flag'].value_counts())\n"
   ]
  },
  {
   "cell_type": "code",
   "execution_count": 218,
   "metadata": {},
   "outputs": [
    {
     "data": {
      "text/plain": [
       "Text(0.5, 1.0, 'Churn Distribution')"
      ]
     },
     "execution_count": 218,
     "metadata": {},
     "output_type": "execute_result"
    },
    {
     "data": {
      "image/png": "[encoded data removed]",
      "text/plain": [
       "<Figure size 360x360 with 1 Axes>"
      ]
     },
     "metadata": {},
     "output_type": "display_data"
    }
   ],
   "source": [
    "ax = (data_filtered['churn_flag'].value_counts()*100.0 /len(data_filtered)).plot.pie(autopct='%.1f%%', labels = ['No', 'Yes'],figsize =(5,5), fontsize = 12 )                                                                           \n",
    "\n",
    "ax.set_ylabel('Churn',fontsize = 12)\n",
    "ax.set_title('Churn Distribution', fontsize = 12)"
   ]
  },
  {
   "cell_type": "code",
   "execution_count": 219,
   "metadata": {},
   "outputs": [
    {
     "data": {
      "text/plain": [
       "<matplotlib.axes._subplots.AxesSubplot at 0x1ef009783c8>"
      ]
     },
     "execution_count": 219,
     "metadata": {},
     "output_type": "execute_result"
    },
    {
     "data": {
      "image/png": "[encoded data removed]",
      "text/plain": [
       "<Figure size 432x288 with 1 Axes>"
      ]
     },
     "metadata": {
      "needs_background": "light"
     },
     "output_type": "display_data"
    }
   ],
   "source": [
    "\n",
    "data_filtered['months_on_nw'] = round(data_filtered['aon']/(31))\n",
    "data_filtered['months_on_nw']\n",
    "\n",
    "sns.boxplot(x = data_filtered.churn_flag, y = data_filtered.months_on_nw)\n",
    "# its clear tenured customers do not churn a lot"
   ]
  },
  {
   "cell_type": "code",
   "execution_count": 220,
   "metadata": {},
   "outputs": [],
   "source": [
    "data_filtered.drop('aon', axis=1, inplace=True)"
   ]
  },
  {
   "cell_type": "code",
   "execution_count": 221,
   "metadata": {},
   "outputs": [
    {
     "name": "stdout",
     "output_type": "stream",
     "text": [
      "list of columns dropped: Series([], Name: col_name, dtype: object)\n"
     ]
    },
    {
     "data": {
      "text/plain": [
       "(26682, 224)"
      ]
     },
     "execution_count": 221,
     "metadata": {},
     "output_type": "execute_result"
    }
   ],
   "source": [
    "# Drop Columns with > 30% of missing values except 9th Month's columns\n",
    "cols = data_filtered.columns\n",
    "data_null_perc = data_filtered.isnull().sum() * 100 / len(data_filtered)\n",
    "data_null_df = pd.DataFrame({'col_name': cols,\n",
    "                                 'perc_null': data_null_perc})\n",
    "\n",
    "drop_cols = data_null_df.loc[(data_null_df[\"col_name\"].str.contains('_9')==False) & (data_null_df[\"perc_null\"] > 30.0)][\"col_name\"]\n",
    "print(\"list of columns dropped:\",drop_cols)\n",
    "\n",
    "# lets drop these columns\n",
    "data_filtered.drop(drop_cols, axis=1,inplace = True)\n",
    "data_filtered.shape"
   ]
  },
  {
   "cell_type": "code",
   "execution_count": 222,
   "metadata": {},
   "outputs": [
    {
     "name": "stdout",
     "output_type": "stream",
     "text": [
      "<class 'pandas.core.frame.DataFrame'>\n",
      "Int64Index: 26682 entries, 0 to 30018\n",
      "Data columns (total 169 columns):\n",
      "circle_id                int64\n",
      "loc_og_t2o_mou           float64\n",
      "std_og_t2o_mou           float64\n",
      "loc_ic_t2o_mou           float64\n",
      "arpu_6                   float64\n",
      "arpu_7                   float64\n",
      "arpu_8                   float64\n",
      "onnet_mou_6              float64\n",
      "onnet_mou_7              float64\n",
      "onnet_mou_8              float64\n",
      "offnet_mou_6             float64\n",
      "offnet_mou_7             float64\n",
      "offnet_mou_8             float64\n",
      "roam_ic_mou_6            float64\n",
      "roam_ic_mou_7            float64\n",
      "roam_ic_mou_8            float64\n",
      "roam_og_mou_6            float64\n",
      "roam_og_mou_7            float64\n",
      "roam_og_mou_8            float64\n",
      "loc_og_t2t_mou_6         float64\n",
      "loc_og_t2t_mou_7         float64\n",
      "loc_og_t2t_mou_8         float64\n",
      "loc_og_t2m_mou_6         float64\n",
      "loc_og_t2m_mou_7         float64\n",
      "loc_og_t2m_mou_8         float64\n",
      "loc_og_t2f_mou_6         float64\n",
      "loc_og_t2f_mou_7         float64\n",
      "loc_og_t2f_mou_8         float64\n",
      "loc_og_t2c_mou_6         float64\n",
      "loc_og_t2c_mou_7         float64\n",
      "loc_og_t2c_mou_8         float64\n",
      "loc_og_mou_6             float64\n",
      "loc_og_mou_7             float64\n",
      "loc_og_mou_8             float64\n",
      "std_og_t2t_mou_6         float64\n",
      "std_og_t2t_mou_7         float64\n",
      "std_og_t2t_mou_8         float64\n",
      "std_og_t2m_mou_6         float64\n",
      "std_og_t2m_mou_7         float64\n",
      "std_og_t2m_mou_8         float64\n",
      "std_og_t2f_mou_6         float64\n",
      "std_og_t2f_mou_7         float64\n",
      "std_og_t2f_mou_8         float64\n",
      "std_og_t2c_mou_6         float64\n",
      "std_og_t2c_mou_7         float64\n",
      "std_og_t2c_mou_8         float64\n",
      "std_og_mou_6             float64\n",
      "std_og_mou_7             float64\n",
      "std_og_mou_8             float64\n",
      "isd_og_mou_6             float64\n",
      "isd_og_mou_7             float64\n",
      "isd_og_mou_8             float64\n",
      "spl_og_mou_6             float64\n",
      "spl_og_mou_7             float64\n",
      "spl_og_mou_8             float64\n",
      "og_others_6              float64\n",
      "og_others_7              float64\n",
      "og_others_8              float64\n",
      "total_og_mou_6           float64\n",
      "total_og_mou_7           float64\n",
      "total_og_mou_8           float64\n",
      "loc_ic_t2t_mou_6         float64\n",
      "loc_ic_t2t_mou_7         float64\n",
      "loc_ic_t2t_mou_8         float64\n",
      "loc_ic_t2m_mou_6         float64\n",
      "loc_ic_t2m_mou_7         float64\n",
      "loc_ic_t2m_mou_8         float64\n",
      "loc_ic_t2f_mou_6         float64\n",
      "loc_ic_t2f_mou_7         float64\n",
      "loc_ic_t2f_mou_8         float64\n",
      "loc_ic_mou_6             float64\n",
      "loc_ic_mou_7             float64\n",
      "loc_ic_mou_8             float64\n",
      "std_ic_t2t_mou_6         float64\n",
      "std_ic_t2t_mou_7         float64\n",
      "std_ic_t2t_mou_8         float64\n",
      "std_ic_t2m_mou_6         float64\n",
      "std_ic_t2m_mou_7         float64\n",
      "std_ic_t2m_mou_8         float64\n",
      "std_ic_t2f_mou_6         float64\n",
      "std_ic_t2f_mou_7         float64\n",
      "std_ic_t2f_mou_8         float64\n",
      "std_ic_t2o_mou_6         float64\n",
      "std_ic_t2o_mou_7         float64\n",
      "std_ic_t2o_mou_8         float64\n",
      "std_ic_mou_6             float64\n",
      "std_ic_mou_7             float64\n",
      "std_ic_mou_8             float64\n",
      "total_ic_mou_6           float64\n",
      "total_ic_mou_7           float64\n",
      "total_ic_mou_8           float64\n",
      "spl_ic_mou_6             float64\n",
      "spl_ic_mou_7             float64\n",
      "spl_ic_mou_8             float64\n",
      "isd_ic_mou_6             float64\n",
      "isd_ic_mou_7             float64\n",
      "isd_ic_mou_8             float64\n",
      "ic_others_6              float64\n",
      "ic_others_7              float64\n",
      "ic_others_8              float64\n",
      "total_rech_num_6         int64\n",
      "total_rech_num_7         int64\n",
      "total_rech_num_8         int64\n",
      "total_rech_amt_6         int64\n",
      "total_rech_amt_7         int64\n",
      "total_rech_amt_8         int64\n",
      "max_rech_amt_6           int64\n",
      "max_rech_amt_7           int64\n",
      "max_rech_amt_8           int64\n",
      "last_day_rch_amt_6       int64\n",
      "last_day_rch_amt_7       int64\n",
      "last_day_rch_amt_8       int64\n",
      "total_rech_data_6        float64\n",
      "total_rech_data_7        float64\n",
      "total_rech_data_8        float64\n",
      "max_rech_data_6          float64\n",
      "max_rech_data_7          float64\n",
      "max_rech_data_8          float64\n",
      "count_rech_2g_6          float64\n",
      "count_rech_2g_7          float64\n",
      "count_rech_2g_8          float64\n",
      "count_rech_3g_6          float64\n",
      "count_rech_3g_7          float64\n",
      "count_rech_3g_8          float64\n",
      "av_rech_amt_data_6       float64\n",
      "av_rech_amt_data_7       float64\n",
      "av_rech_amt_data_8       float64\n",
      "vol_2g_mb_6              float64\n",
      "vol_2g_mb_7              float64\n",
      "vol_2g_mb_8              float64\n",
      "vol_3g_mb_6              float64\n",
      "vol_3g_mb_7              float64\n",
      "vol_3g_mb_8              float64\n",
      "arpu_3g_6                float64\n",
      "arpu_3g_7                float64\n",
      "arpu_3g_8                float64\n",
      "arpu_2g_6                float64\n",
      "arpu_2g_7                float64\n",
      "arpu_2g_8                float64\n",
      "night_pck_user_6         float64\n",
      "night_pck_user_7         float64\n",
      "night_pck_user_8         float64\n",
      "monthly_2g_6             int64\n",
      "monthly_2g_7             int64\n",
      "monthly_2g_8             int64\n",
      "sachet_2g_6              int64\n",
      "sachet_2g_7              int64\n",
      "sachet_2g_8              int64\n",
      "monthly_3g_6             int64\n",
      "monthly_3g_7             int64\n",
      "monthly_3g_8             int64\n",
      "sachet_3g_6              int64\n",
      "sachet_3g_7              int64\n",
      "sachet_3g_8              int64\n",
      "fb_user_6                float64\n",
      "fb_user_7                float64\n",
      "fb_user_8                float64\n",
      "vbc_3g_8                 float64\n",
      "vbc_3g_7                 float64\n",
      "vbc_3g_6                 float64\n",
      "amt_data_6               float64\n",
      "amt_data_7               float64\n",
      "amt_data_8               float64\n",
      "avg_amt_data_6_7         float64\n",
      "days_since_recharge_6    int64\n",
      "days_since_recharge_7    int64\n",
      "days_since_recharge_8    int64\n",
      "churn_flag               int32\n",
      "months_on_nw             float64\n",
      "dtypes: float64(140), int32(1), int64(28)\n",
      "memory usage: 34.5 MB\n"
     ]
    }
   ],
   "source": [
    "#Now that every column follows same naming patter drop features related to Churn Phase\n",
    "data_filtered = data_filtered.drop(data_filtered.filter(regex='_9', axis = 1).columns, axis=1)\n",
    "#Pls note the dataset is comprising only of numeric features now\n",
    "data_filtered.info(verbose=True)"
   ]
  },
  {
   "cell_type": "code",
   "execution_count": 223,
   "metadata": {},
   "outputs": [],
   "source": [
    "#Plotting heatmap to get an overall picture\n",
    "#heatmap(50,30,data_filtered)"
   ]
  },
  {
   "cell_type": "code",
   "execution_count": 224,
   "metadata": {},
   "outputs": [
    {
     "data": {
      "text/html": [
       "<div>\n",
       "<style scoped>\n",
       "    .dataframe tbody tr th:only-of-type {\n",
       "        vertical-align: middle;\n",
       "    }\n",
       "\n",
       "    .dataframe tbody tr th {\n",
       "        vertical-align: top;\n",
       "    }\n",
       "\n",
       "    .dataframe thead th {\n",
       "        text-align: right;\n",
       "    }\n",
       "</style>\n",
       "<table border=\"1\" class=\"dataframe\">\n",
       "  <thead>\n",
       "    <tr style=\"text-align: right;\">\n",
       "      <th></th>\n",
       "      <th>circle_id</th>\n",
       "      <th>loc_og_t2o_mou</th>\n",
       "      <th>std_og_t2o_mou</th>\n",
       "      <th>loc_ic_t2o_mou</th>\n",
       "      <th>arpu_6</th>\n",
       "      <th>arpu_7</th>\n",
       "      <th>arpu_8</th>\n",
       "      <th>onnet_mou_6</th>\n",
       "      <th>onnet_mou_7</th>\n",
       "      <th>onnet_mou_8</th>\n",
       "      <th>...</th>\n",
       "      <th>vbc_3g_6</th>\n",
       "      <th>amt_data_6</th>\n",
       "      <th>amt_data_7</th>\n",
       "      <th>amt_data_8</th>\n",
       "      <th>avg_amt_data_6_7</th>\n",
       "      <th>days_since_recharge_6</th>\n",
       "      <th>days_since_recharge_7</th>\n",
       "      <th>days_since_recharge_8</th>\n",
       "      <th>churn_flag</th>\n",
       "      <th>months_on_nw</th>\n",
       "    </tr>\n",
       "  </thead>\n",
       "  <tbody>\n",
       "    <tr>\n",
       "      <td>circle_id</td>\n",
       "      <td>NaN</td>\n",
       "      <td>NaN</td>\n",
       "      <td>NaN</td>\n",
       "      <td>NaN</td>\n",
       "      <td>NaN</td>\n",
       "      <td>NaN</td>\n",
       "      <td>NaN</td>\n",
       "      <td>NaN</td>\n",
       "      <td>NaN</td>\n",
       "      <td>NaN</td>\n",
       "      <td>...</td>\n",
       "      <td>NaN</td>\n",
       "      <td>NaN</td>\n",
       "      <td>NaN</td>\n",
       "      <td>NaN</td>\n",
       "      <td>NaN</td>\n",
       "      <td>NaN</td>\n",
       "      <td>NaN</td>\n",
       "      <td>NaN</td>\n",
       "      <td>NaN</td>\n",
       "      <td>NaN</td>\n",
       "    </tr>\n",
       "    <tr>\n",
       "      <td>loc_og_t2o_mou</td>\n",
       "      <td>NaN</td>\n",
       "      <td>NaN</td>\n",
       "      <td>NaN</td>\n",
       "      <td>NaN</td>\n",
       "      <td>NaN</td>\n",
       "      <td>NaN</td>\n",
       "      <td>NaN</td>\n",
       "      <td>NaN</td>\n",
       "      <td>NaN</td>\n",
       "      <td>NaN</td>\n",
       "      <td>...</td>\n",
       "      <td>NaN</td>\n",
       "      <td>NaN</td>\n",
       "      <td>NaN</td>\n",
       "      <td>NaN</td>\n",
       "      <td>NaN</td>\n",
       "      <td>NaN</td>\n",
       "      <td>NaN</td>\n",
       "      <td>NaN</td>\n",
       "      <td>NaN</td>\n",
       "      <td>NaN</td>\n",
       "    </tr>\n",
       "    <tr>\n",
       "      <td>std_og_t2o_mou</td>\n",
       "      <td>NaN</td>\n",
       "      <td>NaN</td>\n",
       "      <td>NaN</td>\n",
       "      <td>NaN</td>\n",
       "      <td>NaN</td>\n",
       "      <td>NaN</td>\n",
       "      <td>NaN</td>\n",
       "      <td>NaN</td>\n",
       "      <td>NaN</td>\n",
       "      <td>NaN</td>\n",
       "      <td>...</td>\n",
       "      <td>NaN</td>\n",
       "      <td>NaN</td>\n",
       "      <td>NaN</td>\n",
       "      <td>NaN</td>\n",
       "      <td>NaN</td>\n",
       "      <td>NaN</td>\n",
       "      <td>NaN</td>\n",
       "      <td>NaN</td>\n",
       "      <td>NaN</td>\n",
       "      <td>NaN</td>\n",
       "    </tr>\n",
       "    <tr>\n",
       "      <td>loc_ic_t2o_mou</td>\n",
       "      <td>NaN</td>\n",
       "      <td>NaN</td>\n",
       "      <td>NaN</td>\n",
       "      <td>NaN</td>\n",
       "      <td>NaN</td>\n",
       "      <td>NaN</td>\n",
       "      <td>NaN</td>\n",
       "      <td>NaN</td>\n",
       "      <td>NaN</td>\n",
       "      <td>NaN</td>\n",
       "      <td>...</td>\n",
       "      <td>NaN</td>\n",
       "      <td>NaN</td>\n",
       "      <td>NaN</td>\n",
       "      <td>NaN</td>\n",
       "      <td>NaN</td>\n",
       "      <td>NaN</td>\n",
       "      <td>NaN</td>\n",
       "      <td>NaN</td>\n",
       "      <td>NaN</td>\n",
       "      <td>NaN</td>\n",
       "    </tr>\n",
       "    <tr>\n",
       "      <td>arpu_6</td>\n",
       "      <td>NaN</td>\n",
       "      <td>NaN</td>\n",
       "      <td>NaN</td>\n",
       "      <td>NaN</td>\n",
       "      <td>1.000000</td>\n",
       "      <td>0.485554</td>\n",
       "      <td>0.381883</td>\n",
       "      <td>0.386553</td>\n",
       "      <td>0.177315</td>\n",
       "      <td>0.134430</td>\n",
       "      <td>...</td>\n",
       "      <td>0.184192</td>\n",
       "      <td>0.927319</td>\n",
       "      <td>0.448181</td>\n",
       "      <td>0.372477</td>\n",
       "      <td>0.825563</td>\n",
       "      <td>-0.164400</td>\n",
       "      <td>0.019534</td>\n",
       "      <td>0.011543</td>\n",
       "      <td>0.063475</td>\n",
       "      <td>0.007479</td>\n",
       "    </tr>\n",
       "    <tr>\n",
       "      <td>...</td>\n",
       "      <td>...</td>\n",
       "      <td>...</td>\n",
       "      <td>...</td>\n",
       "      <td>...</td>\n",
       "      <td>...</td>\n",
       "      <td>...</td>\n",
       "      <td>...</td>\n",
       "      <td>...</td>\n",
       "      <td>...</td>\n",
       "      <td>...</td>\n",
       "      <td>...</td>\n",
       "      <td>...</td>\n",
       "      <td>...</td>\n",
       "      <td>...</td>\n",
       "      <td>...</td>\n",
       "      <td>...</td>\n",
       "      <td>...</td>\n",
       "      <td>...</td>\n",
       "      <td>...</td>\n",
       "      <td>...</td>\n",
       "      <td>...</td>\n",
       "    </tr>\n",
       "    <tr>\n",
       "      <td>days_since_recharge_6</td>\n",
       "      <td>NaN</td>\n",
       "      <td>NaN</td>\n",
       "      <td>NaN</td>\n",
       "      <td>NaN</td>\n",
       "      <td>-0.164400</td>\n",
       "      <td>-0.102363</td>\n",
       "      <td>-0.034908</td>\n",
       "      <td>-0.155219</td>\n",
       "      <td>-0.133318</td>\n",
       "      <td>-0.095057</td>\n",
       "      <td>...</td>\n",
       "      <td>0.088574</td>\n",
       "      <td>-0.193520</td>\n",
       "      <td>-0.022455</td>\n",
       "      <td>-0.056547</td>\n",
       "      <td>-0.129382</td>\n",
       "      <td>1.000000</td>\n",
       "      <td>0.229560</td>\n",
       "      <td>0.103568</td>\n",
       "      <td>-0.010861</td>\n",
       "      <td>0.138936</td>\n",
       "    </tr>\n",
       "    <tr>\n",
       "      <td>days_since_recharge_7</td>\n",
       "      <td>NaN</td>\n",
       "      <td>NaN</td>\n",
       "      <td>NaN</td>\n",
       "      <td>NaN</td>\n",
       "      <td>0.019534</td>\n",
       "      <td>-0.200261</td>\n",
       "      <td>-0.200625</td>\n",
       "      <td>-0.046521</td>\n",
       "      <td>-0.145110</td>\n",
       "      <td>-0.168430</td>\n",
       "      <td>...</td>\n",
       "      <td>0.083234</td>\n",
       "      <td>0.039715</td>\n",
       "      <td>-0.228826</td>\n",
       "      <td>-0.164498</td>\n",
       "      <td>-0.114357</td>\n",
       "      <td>0.229560</td>\n",
       "      <td>1.000000</td>\n",
       "      <td>0.121260</td>\n",
       "      <td>0.135460</td>\n",
       "      <td>0.063927</td>\n",
       "    </tr>\n",
       "    <tr>\n",
       "      <td>days_since_recharge_8</td>\n",
       "      <td>NaN</td>\n",
       "      <td>NaN</td>\n",
       "      <td>NaN</td>\n",
       "      <td>NaN</td>\n",
       "      <td>0.011543</td>\n",
       "      <td>-0.072667</td>\n",
       "      <td>-0.120811</td>\n",
       "      <td>-0.009616</td>\n",
       "      <td>-0.036031</td>\n",
       "      <td>-0.061024</td>\n",
       "      <td>...</td>\n",
       "      <td>-0.013465</td>\n",
       "      <td>0.020161</td>\n",
       "      <td>-0.038437</td>\n",
       "      <td>-0.162416</td>\n",
       "      <td>-0.011135</td>\n",
       "      <td>0.103568</td>\n",
       "      <td>0.121260</td>\n",
       "      <td>1.000000</td>\n",
       "      <td>0.127538</td>\n",
       "      <td>0.011113</td>\n",
       "    </tr>\n",
       "    <tr>\n",
       "      <td>churn_flag</td>\n",
       "      <td>NaN</td>\n",
       "      <td>NaN</td>\n",
       "      <td>NaN</td>\n",
       "      <td>NaN</td>\n",
       "      <td>0.063475</td>\n",
       "      <td>-0.052614</td>\n",
       "      <td>-0.275675</td>\n",
       "      <td>0.077044</td>\n",
       "      <td>0.007373</td>\n",
       "      <td>-0.118284</td>\n",
       "      <td>...</td>\n",
       "      <td>-0.030923</td>\n",
       "      <td>0.067160</td>\n",
       "      <td>-0.062310</td>\n",
       "      <td>-0.275668</td>\n",
       "      <td>0.002585</td>\n",
       "      <td>-0.010861</td>\n",
       "      <td>0.135460</td>\n",
       "      <td>0.127538</td>\n",
       "      <td>1.000000</td>\n",
       "      <td>-0.142943</td>\n",
       "    </tr>\n",
       "    <tr>\n",
       "      <td>months_on_nw</td>\n",
       "      <td>NaN</td>\n",
       "      <td>NaN</td>\n",
       "      <td>NaN</td>\n",
       "      <td>NaN</td>\n",
       "      <td>0.007479</td>\n",
       "      <td>-0.003191</td>\n",
       "      <td>0.069928</td>\n",
       "      <td>-0.096062</td>\n",
       "      <td>-0.106811</td>\n",
       "      <td>-0.068652</td>\n",
       "      <td>...</td>\n",
       "      <td>0.026907</td>\n",
       "      <td>0.004669</td>\n",
       "      <td>0.011642</td>\n",
       "      <td>0.062916</td>\n",
       "      <td>0.009822</td>\n",
       "      <td>0.138936</td>\n",
       "      <td>0.063927</td>\n",
       "      <td>0.011113</td>\n",
       "      <td>-0.142943</td>\n",
       "      <td>1.000000</td>\n",
       "    </tr>\n",
       "  </tbody>\n",
       "</table>\n",
       "<p>169 rows × 169 columns</p>\n",
       "</div>"
      ],
      "text/plain": [
       "                       circle_id  loc_og_t2o_mou  std_og_t2o_mou  \\\n",
       "circle_id                    NaN             NaN             NaN   \n",
       "loc_og_t2o_mou               NaN             NaN             NaN   \n",
       "std_og_t2o_mou               NaN             NaN             NaN   \n",
       "loc_ic_t2o_mou               NaN             NaN             NaN   \n",
       "arpu_6                       NaN             NaN             NaN   \n",
       "...                          ...             ...             ...   \n",
       "days_since_recharge_6        NaN             NaN             NaN   \n",
       "days_since_recharge_7        NaN             NaN             NaN   \n",
       "days_since_recharge_8        NaN             NaN             NaN   \n",
       "churn_flag                   NaN             NaN             NaN   \n",
       "months_on_nw                 NaN             NaN             NaN   \n",
       "\n",
       "                       loc_ic_t2o_mou    arpu_6    arpu_7    arpu_8  \\\n",
       "circle_id                         NaN       NaN       NaN       NaN   \n",
       "loc_og_t2o_mou                    NaN       NaN       NaN       NaN   \n",
       "std_og_t2o_mou                    NaN       NaN       NaN       NaN   \n",
       "loc_ic_t2o_mou                    NaN       NaN       NaN       NaN   \n",
       "arpu_6                            NaN  1.000000  0.485554  0.381883   \n",
       "...                               ...       ...       ...       ...   \n",
       "days_since_recharge_6             NaN -0.164400 -0.102363 -0.034908   \n",
       "days_since_recharge_7             NaN  0.019534 -0.200261 -0.200625   \n",
       "days_since_recharge_8             NaN  0.011543 -0.072667 -0.120811   \n",
       "churn_flag                        NaN  0.063475 -0.052614 -0.275675   \n",
       "months_on_nw                      NaN  0.007479 -0.003191  0.069928   \n",
       "\n",
       "                       onnet_mou_6  onnet_mou_7  onnet_mou_8  ...  vbc_3g_6  \\\n",
       "circle_id                      NaN          NaN          NaN  ...       NaN   \n",
       "loc_og_t2o_mou                 NaN          NaN          NaN  ...       NaN   \n",
       "std_og_t2o_mou                 NaN          NaN          NaN  ...       NaN   \n",
       "loc_ic_t2o_mou                 NaN          NaN          NaN  ...       NaN   \n",
       "arpu_6                    0.386553     0.177315     0.134430  ...  0.184192   \n",
       "...                            ...          ...          ...  ...       ...   \n",
       "days_since_recharge_6    -0.155219    -0.133318    -0.095057  ...  0.088574   \n",
       "days_since_recharge_7    -0.046521    -0.145110    -0.168430  ...  0.083234   \n",
       "days_since_recharge_8    -0.009616    -0.036031    -0.061024  ... -0.013465   \n",
       "churn_flag                0.077044     0.007373    -0.118284  ... -0.030923   \n",
       "months_on_nw             -0.096062    -0.106811    -0.068652  ...  0.026907   \n",
       "\n",
       "                       amt_data_6  amt_data_7  amt_data_8  avg_amt_data_6_7  \\\n",
       "circle_id                     NaN         NaN         NaN               NaN   \n",
       "loc_og_t2o_mou                NaN         NaN         NaN               NaN   \n",
       "std_og_t2o_mou                NaN         NaN         NaN               NaN   \n",
       "loc_ic_t2o_mou                NaN         NaN         NaN               NaN   \n",
       "arpu_6                   0.927319    0.448181    0.372477          0.825563   \n",
       "...                           ...         ...         ...               ...   \n",
       "days_since_recharge_6   -0.193520   -0.022455   -0.056547         -0.129382   \n",
       "days_since_recharge_7    0.039715   -0.228826   -0.164498         -0.114357   \n",
       "days_since_recharge_8    0.020161   -0.038437   -0.162416         -0.011135   \n",
       "churn_flag               0.067160   -0.062310   -0.275668          0.002585   \n",
       "months_on_nw             0.004669    0.011642    0.062916          0.009822   \n",
       "\n",
       "                       days_since_recharge_6  days_since_recharge_7  \\\n",
       "circle_id                                NaN                    NaN   \n",
       "loc_og_t2o_mou                           NaN                    NaN   \n",
       "std_og_t2o_mou                           NaN                    NaN   \n",
       "loc_ic_t2o_mou                           NaN                    NaN   \n",
       "arpu_6                             -0.164400               0.019534   \n",
       "...                                      ...                    ...   \n",
       "days_since_recharge_6               1.000000               0.229560   \n",
       "days_since_recharge_7               0.229560               1.000000   \n",
       "days_since_recharge_8               0.103568               0.121260   \n",
       "churn_flag                         -0.010861               0.135460   \n",
       "months_on_nw                        0.138936               0.063927   \n",
       "\n",
       "                       days_since_recharge_8  churn_flag  months_on_nw  \n",
       "circle_id                                NaN         NaN           NaN  \n",
       "loc_og_t2o_mou                           NaN         NaN           NaN  \n",
       "std_og_t2o_mou                           NaN         NaN           NaN  \n",
       "loc_ic_t2o_mou                           NaN         NaN           NaN  \n",
       "arpu_6                              0.011543    0.063475      0.007479  \n",
       "...                                      ...         ...           ...  \n",
       "days_since_recharge_6               0.103568   -0.010861      0.138936  \n",
       "days_since_recharge_7               0.121260    0.135460      0.063927  \n",
       "days_since_recharge_8               1.000000    0.127538      0.011113  \n",
       "churn_flag                          0.127538    1.000000     -0.142943  \n",
       "months_on_nw                        0.011113   -0.142943      1.000000  \n",
       "\n",
       "[169 rows x 169 columns]"
      ]
     },
     "execution_count": 224,
     "metadata": {},
     "output_type": "execute_result"
    }
   ],
   "source": [
    "## Heatmap is not of much help with large no of features\n",
    "#Analysing further ..\n",
    "correlation = data_filtered.corr()\n",
    "correlation"
   ]
  },
  {
   "cell_type": "code",
   "execution_count": 225,
   "metadata": {
    "scrolled": true
   },
   "outputs": [
    {
     "name": "stdout",
     "output_type": "stream",
     "text": [
      "churn_flag               1.000000\n",
      "std_og_mou_6             0.138610\n",
      "days_since_recharge_7    0.135460\n",
      "days_since_recharge_8    0.127538\n",
      "std_og_t2m_mou_6         0.105027\n",
      "std_og_t2t_mou_6         0.098548\n",
      "Name: churn_flag, dtype: float64 \n",
      "\n"
     ]
    }
   ],
   "source": [
    "#Top 5 correlation\n",
    "print (correlation['churn_flag'].sort_values(ascending=False)[:6], '\\n')"
   ]
  },
  {
   "cell_type": "code",
   "execution_count": 226,
   "metadata": {},
   "outputs": [],
   "source": [
    "# Analysis further"
   ]
  },
  {
   "cell_type": "code",
   "execution_count": 227,
   "metadata": {},
   "outputs": [],
   "source": [
    "# create box plot for  6th, 7th and 8th month\n",
    "def plot_box_chart(attribute):\n",
    "    plt.figure(figsize=(20,16))\n",
    "    df = data_filtered\n",
    "    plt.subplot(2,3,1)\n",
    "    sns.boxplot(data=df, y=attribute+\"_6\",x=\"churn_flag\",hue=\"churn_flag\",\n",
    "                showfliers=False,palette=(\"plasma\"))\n",
    "    plt.subplot(2,3,2)\n",
    "    sns.boxplot(data=df, y=attribute+\"_7\",x=\"churn_flag\",hue=\"churn_flag\",\n",
    "                showfliers=False,palette=(\"plasma\"))\n",
    "    plt.subplot(2,3,3)\n",
    "    sns.boxplot(data=df, y=attribute+\"_8\",x=\"churn_flag\",hue=\"churn_flag\",\n",
    "                showfliers=False,palette=(\"plasma\"))\n",
    "    plt.show()"
   ]
  },
  {
   "cell_type": "code",
   "execution_count": 228,
   "metadata": {},
   "outputs": [
    {
     "data": {
      "text/plain": [
       "['total_rech_amt_6',\n",
       " 'total_rech_amt_7',\n",
       " 'total_rech_amt_8',\n",
       " 'max_rech_amt_6',\n",
       " 'max_rech_amt_7',\n",
       " 'max_rech_amt_8',\n",
       " 'av_rech_amt_data_6',\n",
       " 'av_rech_amt_data_7',\n",
       " 'av_rech_amt_data_8']"
      ]
     },
     "execution_count": 228,
     "metadata": {},
     "output_type": "execute_result"
    }
   ],
   "source": [
    "recharge_amnt_columns =  data_filtered.columns[data_filtered.columns.str.contains('rech_amt')]\n",
    "recharge_amnt_columns.tolist()"
   ]
  },
  {
   "cell_type": "code",
   "execution_count": 229,
   "metadata": {},
   "outputs": [
    {
     "data": {
      "image/png": "[encoded data removed]",
      "text/plain": [
       "<Figure size 1440x1152 with 3 Axes>"
      ]
     },
     "metadata": {
      "needs_background": "light"
     },
     "output_type": "display_data"
    }
   ],
   "source": [
    "# Ploting for total recharge amount:\n",
    "plot_box_chart('total_rech_amt')\n",
    "#can see a drop in rechargeable amount down in 8th month for churning customers"
   ]
  },
  {
   "cell_type": "code",
   "execution_count": 230,
   "metadata": {},
   "outputs": [
    {
     "data": {
      "image/png": "[encoded data removed]",
      "text/plain": [
       "<Figure size 1440x1152 with 3 Axes>"
      ]
     },
     "metadata": {
      "needs_background": "light"
     },
     "output_type": "display_data"
    }
   ],
   "source": [
    "# Ploting for total recharge amount for data:\n",
    "plot_box_chart('amt_data')\n",
    "#recharge amount drops in 8th month for churning customers"
   ]
  },
  {
   "cell_type": "code",
   "execution_count": 231,
   "metadata": {},
   "outputs": [
    {
     "data": {
      "image/png": "[encoded data removed]",
      "text/plain": [
       "<Figure size 1440x1152 with 3 Axes>"
      ]
     },
     "metadata": {
      "needs_background": "light"
     },
     "output_type": "display_data"
    }
   ],
   "source": [
    "# Ploting for total recharge amount for data:\n",
    "plot_box_chart('max_rech_amt')\n",
    "#Max recharge amount drops in 8th month for churning customers"
   ]
  },
  {
   "cell_type": "code",
   "execution_count": 232,
   "metadata": {},
   "outputs": [
    {
     "data": {
      "image/png": "[encoded data removed]",
      "text/plain": [
       "<Figure size 1440x1152 with 3 Axes>"
      ]
     },
     "metadata": {
      "needs_background": "light"
     },
     "output_type": "display_data"
    }
   ],
   "source": [
    "# Ploting for Total recharge for Number:\n",
    "plot_box_chart('total_rech_num')\n",
    "#total recharge number drops in 8th month for churning customers"
   ]
  },
  {
   "cell_type": "code",
   "execution_count": 233,
   "metadata": {},
   "outputs": [
    {
     "data": {
      "image/png": "[encoded data removed]",
      "text/plain": [
       "<Figure size 1440x1152 with 3 Axes>"
      ]
     },
     "metadata": {
      "needs_background": "light"
     },
     "output_type": "display_data"
    }
   ],
   "source": [
    "# Ploting for maximum recharge for data:\n",
    "plot_box_chart('max_rech_data')\n",
    "#recharge data is almost going to nill in 8th month for churning customers"
   ]
  },
  {
   "cell_type": "code",
   "execution_count": 234,
   "metadata": {},
   "outputs": [
    {
     "data": {
      "image/png": "[encoded data removed]",
      "text/plain": [
       "<Figure size 1440x1152 with 3 Axes>"
      ]
     },
     "metadata": {
      "needs_background": "light"
     },
     "output_type": "display_data"
    }
   ],
   "source": [
    "# Ploting for last day recharge amount:\n",
    "plot_box_chart('last_day_rch_amt')\n",
    "#recharge amount is reducing a lot in 8th month for churning customers"
   ]
  },
  {
   "cell_type": "code",
   "execution_count": 235,
   "metadata": {},
   "outputs": [
    {
     "data": {
      "image/png": "[encoded data removed]",
      "text/plain": [
       "<Figure size 1440x1152 with 3 Axes>"
      ]
     },
     "metadata": {
      "needs_background": "light"
     },
     "output_type": "display_data"
    }
   ],
   "source": [
    "# Ploting for volume of 2G and 3G usage columns:\n",
    "plot_box_chart('vol_2g_mb')\n",
    "#2g use of CHurn customers are very less in all 3 months"
   ]
  },
  {
   "cell_type": "code",
   "execution_count": 236,
   "metadata": {},
   "outputs": [
    {
     "data": {
      "image/png": "[encoded data removed]",
      "text/plain": [
       "<Figure size 1440x1152 with 3 Axes>"
      ]
     },
     "metadata": {
      "needs_background": "light"
     },
     "output_type": "display_data"
    }
   ],
   "source": [
    "plot_box_chart('vol_3g_mb')\n",
    "#3g use of CHurn customers are very less in all 3 months"
   ]
  },
  {
   "cell_type": "code",
   "execution_count": 237,
   "metadata": {},
   "outputs": [],
   "source": [
    "mou_og_cols6 = data_filtered.columns[data_filtered.columns.str.contains('.*_og_.*mou_6',regex=True)]"
   ]
  },
  {
   "cell_type": "code",
   "execution_count": 238,
   "metadata": {},
   "outputs": [
    {
     "data": {
      "image/png": "[encoded data removed]",
      "text/plain": [
       "<Figure size 720x504 with 2 Axes>"
      ]
     },
     "metadata": {
      "needs_background": "light"
     },
     "output_type": "display_data"
    }
   ],
   "source": [
    "heatmap(10, 7,data_filtered.filter(mou_og_cols6))"
   ]
  },
  {
   "cell_type": "code",
   "execution_count": 239,
   "metadata": {},
   "outputs": [
    {
     "name": "stdout",
     "output_type": "stream",
     "text": [
      "337.86 == 337.84999999999997\n",
      "274.21 == 274.20000000000005\n",
      "63.64 == 63.64\n"
     ]
    }
   ],
   "source": [
    "print(data_filtered.loc[8,'total_og_mou_6'],\"==\",data_filtered.loc[8,['loc_og_mou_6','std_og_mou_6','spl_og_mou_6','isd_og_mou_6','og_others_6']].sum())\n",
    "print(data_filtered.loc[8,'std_og_mou_6'],\"==\",data_filtered.loc[8,['std_og_t2m_mou_6','std_og_t2t_mou_6','std_og_t2f_mou_6','std_og_loc_mou_6']].sum())\n",
    "print(data_filtered.loc[8,'loc_og_mou_6'],\"==\",data_filtered.loc[8,['loc_og_t2m_mou_6','loc_og_t2t_mou_6','loc_og_t2f_mou_6','loc_og_2tc_mou_6']].sum())"
   ]
  },
  {
   "cell_type": "code",
   "execution_count": 240,
   "metadata": {},
   "outputs": [
    {
     "name": "stdout",
     "output_type": "stream",
     "text": [
      "Columns dropped - \n",
      "['loc_og_mou_6', 'loc_og_mou_7', 'loc_og_mou_8', 'std_og_mou_6', 'std_og_mou_7', 'std_og_mou_8', 'total_og_mou_6', 'total_og_mou_7', 'total_og_mou_8']\n"
     ]
    }
   ],
   "source": [
    "list_total_og_cols = data_filtered.columns[data_filtered.columns.str.contains('total_og_mou|std_og_mou|loc_og_mou',regex=True)]\n",
    "data_filtered.drop(list_total_og_cols,axis=1,inplace=True)\n",
    "print(\"Columns dropped - \")\n",
    "print(list_total_og_cols.tolist())"
   ]
  },
  {
   "cell_type": "code",
   "execution_count": 241,
   "metadata": {},
   "outputs": [],
   "source": [
    "mou_ic_cols6 = data_filtered.columns[data_filtered.columns.str.contains('.*_ic_.*mou_6',regex=True)]"
   ]
  },
  {
   "cell_type": "code",
   "execution_count": 242,
   "metadata": {},
   "outputs": [
    {
     "data": {
      "image/png": "[encoded data removed]",
      "text/plain": [
       "<Figure size 720x504 with 2 Axes>"
      ]
     },
     "metadata": {
      "needs_background": "light"
     },
     "output_type": "display_data"
    }
   ],
   "source": [
    "heatmap(10,7,data_filtered.filter(mou_ic_cols6))"
   ]
  },
  {
   "cell_type": "code",
   "execution_count": 243,
   "metadata": {},
   "outputs": [
    {
     "name": "stdout",
     "output_type": "stream",
     "text": [
      "392.69 == 392.68999999999994\n",
      "350.78 == 350.76\n",
      "41.91 == 41.9\n"
     ]
    }
   ],
   "source": [
    "print(data_filtered.loc[21,'total_ic_mou_6'],\"==\",data_filtered.loc[21,['loc_ic_mou_6','roam_ic_mou_6','isd_ic_mou_6','spl_ic_mou_6','std_ic_mou_6']].sum())\n",
    "print(data_filtered.loc[21,'loc_ic_mou_6'],\"==\",data_filtered.loc[21,['loc_ic_t2t_mou_6','loc_ic_t2m_mou_6','loc_ic_t2f_mou_6','loc_ic_t2c_mou_6']].sum())\n",
    "print(data_filtered.loc[21,'std_ic_mou_6'],\"==\",data_filtered.loc[21,['std_ic_t2t_mou_6','std_ic_t2m_mou_6','std_ic_t2f_mou_6','std_ic_t2c_mou_6']].sum())"
   ]
  },
  {
   "cell_type": "code",
   "execution_count": 244,
   "metadata": {},
   "outputs": [
    {
     "name": "stdout",
     "output_type": "stream",
     "text": [
      "Columns dropped - \n"
     ]
    },
    {
     "data": {
      "text/plain": [
       "['loc_ic_mou_6',\n",
       " 'loc_ic_mou_7',\n",
       " 'loc_ic_mou_8',\n",
       " 'std_ic_mou_6',\n",
       " 'std_ic_mou_7',\n",
       " 'std_ic_mou_8',\n",
       " 'total_ic_mou_6',\n",
       " 'total_ic_mou_7',\n",
       " 'total_ic_mou_8']"
      ]
     },
     "execution_count": 244,
     "metadata": {},
     "output_type": "execute_result"
    }
   ],
   "source": [
    "list_total_ic_cols = data_filtered.columns[data_filtered.columns.str.contains('total_ic_mou|std_ic_mou|loc_ic_mou',regex=True)]\n",
    "data_filtered.drop(list_total_ic_cols,axis=1,inplace=True)\n",
    "print(\"Columns dropped - \")\n",
    "list_total_ic_cols.tolist()"
   ]
  },
  {
   "cell_type": "code",
   "execution_count": 245,
   "metadata": {},
   "outputs": [],
   "source": [
    "data_filtered.drop('avg_amt_data_6_7',axis=1,inplace=True)"
   ]
  },
  {
   "cell_type": "code",
   "execution_count": 246,
   "metadata": {},
   "outputs": [
    {
     "name": "stdout",
     "output_type": "stream",
     "text": [
      "arpu\n",
      "onnet_mou\n",
      "offnet_mou\n",
      "roam_ic_mou\n",
      "roam_og_mou\n",
      "loc_og_t2t_mou\n",
      "loc_og_t2m_mou\n",
      "loc_og_t2f_mou\n",
      "loc_og_t2c_mou\n",
      "std_og_t2t_mou\n",
      "std_og_t2m_mou\n",
      "std_og_t2f_mou\n",
      "std_og_t2c_mou\n",
      "isd_og_mou\n",
      "spl_og_mou\n",
      "og_others\n",
      "loc_ic_t2t_mou\n",
      "loc_ic_t2m_mou\n",
      "loc_ic_t2f_mou\n",
      "std_ic_t2t_mou\n",
      "std_ic_t2m_mou\n",
      "std_ic_t2f_mou\n",
      "std_ic_t2o_mou\n",
      "spl_ic_mou\n",
      "isd_ic_mou\n",
      "ic_others\n",
      "total_rech_num\n",
      "total_rech_amt\n",
      "max_rech_amt\n",
      "last_day_rch_amt\n",
      "total_rech_data\n",
      "max_rech_data\n",
      "count_rech_2g\n",
      "count_rech_3g\n",
      "av_rech_amt_data\n",
      "vol_2g_mb\n",
      "vol_3g_mb\n",
      "arpu_3g\n",
      "arpu_2g\n",
      "night_pck_user\n",
      "monthly_2g\n",
      "sachet_2g\n",
      "monthly_3g\n",
      "sachet_3g\n",
      "fb_user\n",
      "vbc_3g\n",
      "amt_data\n",
      "days_since_recharge\n"
     ]
    }
   ],
   "source": [
    "col_list = data_filtered.filter(regex='_6|_7').columns.str[:-2]\n",
    "for idx, col in enumerate(col_list.unique()):\n",
    "    print(col)\n",
    "    avg_col_name = \"avg_\"+col+\"_av67\"\n",
    "    col_6 = col+\"_6\"\n",
    "    col_7 = col+\"_7\"\n",
    "    data_filtered[avg_col_name] = (data_filtered[col_6]  + data_filtered[col_7])/ 2"
   ]
  },
  {
   "cell_type": "code",
   "execution_count": 247,
   "metadata": {},
   "outputs": [
    {
     "name": "stdout",
     "output_type": "stream",
     "text": [
      "(26682, 102)\n"
     ]
    }
   ],
   "source": [
    "col_list_to_drop = data_filtered.filter(regex='_6|_7')\n",
    "data_filtered.drop(col_list_to_drop,axis=1,inplace=True)\n",
    "print (data_filtered.shape)"
   ]
  },
  {
   "cell_type": "code",
   "execution_count": 248,
   "metadata": {},
   "outputs": [
    {
     "name": "stdout",
     "output_type": "stream",
     "text": [
      "\n",
      "Column circle_id has no variance and contains only 1 unique value\n",
      "Dropping the column circle_id\n",
      "\n",
      "Column loc_og_t2o_mou has no variance and contains only 1 unique value\n",
      "Dropping the column loc_og_t2o_mou\n",
      "\n",
      "Column std_og_t2o_mou has no variance and contains only 1 unique value\n",
      "Dropping the column std_og_t2o_mou\n",
      "\n",
      "Column loc_ic_t2o_mou has no variance and contains only 1 unique value\n",
      "Dropping the column loc_ic_t2o_mou\n",
      "\n",
      "Column std_og_t2c_mou_8 has no variance and contains only 1 unique value\n",
      "Dropping the column std_og_t2c_mou_8\n",
      "\n",
      "Column og_others_8 has no variance and contains only 1 unique value\n",
      "Dropping the column og_others_8\n",
      "\n",
      "Column std_ic_t2o_mou_8 has no variance and contains only 1 unique value\n",
      "Dropping the column std_ic_t2o_mou_8\n",
      "\n",
      "Column avg_std_og_t2c_mou_av67 has no variance and contains only 1 unique value\n",
      "Dropping the column avg_std_og_t2c_mou_av67\n",
      "\n",
      "Column avg_std_ic_t2o_mou_av67 has no variance and contains only 1 unique value\n",
      "Dropping the column avg_std_ic_t2o_mou_av67\n",
      "\n",
      "Dimension of the updated dataset: (26682, 93)\n"
     ]
    }
   ],
   "source": [
    "# lets check the columns with no variance in their values and drop such columns\n",
    "for i in data_filtered.columns:\n",
    "    if data_filtered[i].nunique() == 1:\n",
    "        print(\"\\nColumn\",i,\"has no variance and contains only\", data_filtered[i].nunique(),\"unique value\")\n",
    "        print(\"Dropping the column\",i)\n",
    "        data_filtered.drop(i,axis=1,inplace = True)\n",
    "\n",
    "print(\"\\nDimension of the updated dataset:\",data_filtered.shape)"
   ]
  },
  {
   "cell_type": "code",
   "execution_count": 249,
   "metadata": {},
   "outputs": [
    {
     "data": {
      "text/plain": [
       "<matplotlib.axes._subplots.AxesSubplot at 0x1ef62081888>"
      ]
     },
     "execution_count": 249,
     "metadata": {},
     "output_type": "execute_result"
    },
    {
     "data": {
      "image/png": "[encoded data removed]",
      "text/plain": [
       "<Figure size 1440x720 with 1 Axes>"
      ]
     },
     "metadata": {
      "needs_background": "light"
     },
     "output_type": "display_data"
    }
   ],
   "source": [
    "# lets check correlation of churn with other columns\n",
    "\n",
    "plt.figure(figsize=(20,10))\n",
    "data_filtered.corr()['churn_flag'].sort_values(ascending = False).plot(kind='bar')\n",
    "\n",
    "#correlation with Churn\n",
    "# positive - > days_since_recharge_8, average_days_since_recharge_67, averge_std_outgoing_67,\n",
    "#       - average_roam_outgoing_67, roam_incomingcalls_8, 67 months - avg std, oam, outgoing, rechargeetc\n",
    "# negative -> revenue_per_user_8, amnt_data_8, total_Recharge_amount_8, local_calls_inc/outg_8,\n",
    "#         - total/rech_amount_8, months_on_network, other 8 month variables like - average_out_going, internet_usage, etc"
   ]
  },
  {
   "cell_type": "code",
   "execution_count": 250,
   "metadata": {},
   "outputs": [],
   "source": [
    "# SPLITTING DATA SET"
   ]
  },
  {
   "cell_type": "code",
   "execution_count": 251,
   "metadata": {},
   "outputs": [
    {
     "name": "stdout",
     "output_type": "stream",
     "text": [
      "Shape of Train dataset (18677, 92) (18677,)\n",
      "Shape of Test dataset (8005, 92) (8005,)\n"
     ]
    }
   ],
   "source": [
    "# Putting feature variable to X\n",
    "from sklearn.model_selection import train_test_split\n",
    "\n",
    "X = data_filtered.drop(['churn_flag'],axis=1)\n",
    "\n",
    "# Putting response variable to y\n",
    "y = data_filtered['churn_flag']\n",
    "X_train, X_test, y_train, y_test = train_test_split(X, y,train_size=0.7,test_size=0.3, random_state=100)\n",
    "print (\"Shape of Train dataset\",X_train.shape, y_train.shape)\n",
    "print (\"Shape of Test dataset\",X_test.shape, y_test.shape)\n"
   ]
  },
  {
   "cell_type": "code",
   "execution_count": 252,
   "metadata": {},
   "outputs": [],
   "source": [
    "# TREATING CLASS IMBALANCE"
   ]
  },
  {
   "cell_type": "code",
   "execution_count": 253,
   "metadata": {},
   "outputs": [
    {
     "name": "stdout",
     "output_type": "stream",
     "text": [
      "Before OverSampling, counts of label '1': 1870\n",
      "Before OverSampling, counts of label '0': 16807 \n",
      "\n",
      "After OverSampling, the shape of train_X: (33614, 92)\n",
      "After OverSampling, the shape of train_y: (33614,) \n",
      "\n",
      "After OverSampling, counts of label '1': 16807\n",
      "After OverSampling, counts of label '0': 16807\n"
     ]
    }
   ],
   "source": [
    "print(\"Before OverSampling, counts of label '1': {}\".format(sum(y_train == 1))) \n",
    "print(\"Before OverSampling, counts of label '0': {} \\n\".format(sum(y_train == 0)))\n",
    "sm =  SMOTE(random_state = 27)\n",
    "X_train, y_train = sm.fit_sample(X_train, y_train.ravel()) \n",
    "  \n",
    "print('After OverSampling, the shape of train_X: {}'.format(X_train.shape)) \n",
    "print('After OverSampling, the shape of train_y: {} \\n'.format(y_train.shape)) \n",
    "\n",
    "print(\"After OverSampling, counts of label '1': {}\".format(sum(y_train == 1))) \n",
    "print(\"After OverSampling, counts of label '0': {}\".format(sum(y_train == 0))) \n"
   ]
  },
  {
   "cell_type": "code",
   "execution_count": 254,
   "metadata": {},
   "outputs": [],
   "source": [
    "from sklearn.preprocessing import StandardScaler\n",
    "scaler = StandardScaler()\n",
    "scaler.fit(X_train) \n",
    "\n",
    "X_train_after_scaling = scaler.transform(X_train)\n",
    "X_test_after_scaling = scaler.transform(X_test)"
   ]
  },
  {
   "cell_type": "code",
   "execution_count": 255,
   "metadata": {},
   "outputs": [],
   "source": [
    "logreg = LogisticRegression()\n",
    "\n",
    "logreg.fit(X_train_after_scaling, y_train)\n",
    "\n",
    "lr = LogisticRegression(solver = 'lbfgs')"
   ]
  },
  {
   "cell_type": "code",
   "execution_count": 256,
   "metadata": {},
   "outputs": [],
   "source": [
    "y_pred = logreg.predict(X_test_after_scaling)"
   ]
  },
  {
   "cell_type": "code",
   "execution_count": 257,
   "metadata": {},
   "outputs": [
    {
     "data": {
      "text/plain": [
       "array([1, 0, 0, ..., 0, 0, 1])"
      ]
     },
     "execution_count": 257,
     "metadata": {},
     "output_type": "execute_result"
    }
   ],
   "source": [
    "y_pred"
   ]
  },
  {
   "cell_type": "code",
   "execution_count": 258,
   "metadata": {},
   "outputs": [
    {
     "data": {
      "text/plain": [
       "8005"
      ]
     },
     "execution_count": 258,
     "metadata": {},
     "output_type": "execute_result"
    }
   ],
   "source": [
    "y_pred.size"
   ]
  },
  {
   "cell_type": "code",
   "execution_count": 259,
   "metadata": {},
   "outputs": [
    {
     "data": {
      "text/plain": [
       "7533     0\n",
       "26374    0\n",
       "5745     1\n",
       "6307     0\n",
       "29940    1\n",
       "        ..\n",
       "12069    0\n",
       "29304    0\n",
       "12125    0\n",
       "23030    0\n",
       "5738     1\n",
       "Name: churn_flag, Length: 8005, dtype: int32"
      ]
     },
     "execution_count": 259,
     "metadata": {},
     "output_type": "execute_result"
    }
   ],
   "source": [
    "y_test"
   ]
  },
  {
   "cell_type": "code",
   "execution_count": 260,
   "metadata": {},
   "outputs": [
    {
     "name": "stdout",
     "output_type": "stream",
     "text": [
      "0.15028107432854465\n",
      "-0.5736491150321004\n"
     ]
    }
   ],
   "source": [
    "printingMSEandRsquare(y_test, y_pred)"
   ]
  },
  {
   "cell_type": "code",
   "execution_count": 261,
   "metadata": {},
   "outputs": [
    {
     "name": "stdout",
     "output_type": "stream",
     "text": [
      "[[6135 1014]\n",
      " [ 189  667]]\n"
     ]
    }
   ],
   "source": [
    "confusion_matrix_1 = confusion_matrix(y_test, y_pred)\n",
    "print(confusion_matrix_1)\n"
   ]
  },
  {
   "cell_type": "code",
   "execution_count": 262,
   "metadata": {},
   "outputs": [
    {
     "name": "stdout",
     "output_type": "stream",
     "text": [
      "Acuracy Score 0.8497189256714553\n",
      "Sensitivity:  0.7792056074766355\n",
      "Specificity:  0.8581619806966009\n",
      "false postive rate:  0.14183801930339907\n",
      "positive predictive value:  0.3967876264128495\n",
      "Negative predictive value:  0.9701138519924098\n",
      "Misclassification Rate:  0.15028107432854465\n"
     ]
    }
   ],
   "source": [
    "y_pred_default = y_pred\n",
    "printingConfusionMetricDetails(confusion_matrix_1)\n"
   ]
  },
  {
   "cell_type": "code",
   "execution_count": 263,
   "metadata": {},
   "outputs": [],
   "source": [
    "x = X_train_after_scaling"
   ]
  },
  {
   "cell_type": "code",
   "execution_count": 264,
   "metadata": {},
   "outputs": [],
   "source": [
    "from sklearn.decomposition import PCA"
   ]
  },
  {
   "cell_type": "code",
   "execution_count": 265,
   "metadata": {},
   "outputs": [],
   "source": [
    "pca = PCA(random_state=42)"
   ]
  },
  {
   "cell_type": "code",
   "execution_count": 266,
   "metadata": {},
   "outputs": [
    {
     "data": {
      "text/plain": [
       "PCA(random_state=42)"
      ]
     },
     "execution_count": 266,
     "metadata": {},
     "output_type": "execute_result"
    }
   ],
   "source": [
    "pca.fit(x)"
   ]
  },
  {
   "cell_type": "code",
   "execution_count": 267,
   "metadata": {},
   "outputs": [
    {
     "data": {
      "text/plain": [
       "array([[ 1.12475323e-01, -6.78851822e-03,  2.39047380e-02, ...,\n",
       "         1.49557993e-01,  6.15598208e-02,  3.25676536e-02],\n",
       "       [ 2.78020873e-01,  1.88048146e-01,  2.48850134e-01, ...,\n",
       "        -5.08342864e-02,  2.11060946e-01, -1.18116708e-01],\n",
       "       [-6.10266979e-03,  2.39173705e-02,  1.71554051e-02, ...,\n",
       "        -5.11900736e-02, -6.34051333e-02, -1.30973648e-01],\n",
       "       ...,\n",
       "       [-0.00000000e+00,  9.38967399e-15,  1.12952878e-14, ...,\n",
       "        -2.01329860e-16, -6.05941940e-02,  4.72304108e-17],\n",
       "       [-0.00000000e+00, -2.42631743e-15, -3.72813979e-15, ...,\n",
       "         2.20399293e-17,  5.15420207e-01, -2.44269894e-17],\n",
       "       [ 0.00000000e+00, -4.79590639e-15, -3.92870581e-15, ...,\n",
       "         6.45006649e-17,  4.13708405e-01,  1.67364173e-16]])"
      ]
     },
     "execution_count": 267,
     "metadata": {},
     "output_type": "execute_result"
    }
   ],
   "source": [
    "pca.components_"
   ]
  },
  {
   "cell_type": "code",
   "execution_count": 268,
   "metadata": {},
   "outputs": [
    {
     "data": {
      "text/plain": [
       "array([1.60304610e-01, 8.52097335e-02, 6.45313505e-02, 5.36761906e-02,\n",
       "       3.65373159e-02, 3.40688920e-02, 3.33043392e-02, 2.68489318e-02,\n",
       "       2.59507684e-02, 2.32252697e-02, 2.15313817e-02, 2.12146133e-02,\n",
       "       2.04777248e-02, 1.89919190e-02, 1.74162115e-02, 1.59822613e-02,\n",
       "       1.55689732e-02, 1.41434228e-02, 1.39592411e-02, 1.28155545e-02,\n",
       "       1.22576225e-02, 1.20309244e-02, 1.14024120e-02, 1.08623126e-02,\n",
       "       1.04820374e-02, 1.03534065e-02, 1.01109997e-02, 9.61819199e-03,\n",
       "       9.47491625e-03, 9.25610540e-03, 9.02047691e-03, 8.74975023e-03,\n",
       "       8.27167125e-03, 8.10768871e-03, 7.80526632e-03, 7.58204323e-03,\n",
       "       7.45172662e-03, 6.89295519e-03, 6.53622315e-03, 6.37218757e-03,\n",
       "       5.99588882e-03, 5.78675411e-03, 5.65996154e-03, 5.50760098e-03,\n",
       "       5.42035844e-03, 4.63870902e-03, 4.45670571e-03, 4.27499956e-03,\n",
       "       4.04410337e-03, 3.77643462e-03, 3.75172754e-03, 3.67241083e-03,\n",
       "       3.41710188e-03, 3.37754589e-03, 3.11744227e-03, 3.03277184e-03,\n",
       "       2.88059882e-03, 2.79078017e-03, 2.64233319e-03, 2.54132026e-03,\n",
       "       2.44929713e-03, 2.06319260e-03, 1.92722039e-03, 1.83137912e-03,\n",
       "       1.80008180e-03, 1.69536309e-03, 1.36903662e-03, 1.21727101e-03,\n",
       "       9.84899293e-04, 9.06494768e-04, 8.36668741e-04, 5.63541729e-04,\n",
       "       5.11667716e-04, 4.70142839e-04, 4.25263951e-04, 3.70618498e-04,\n",
       "       3.29359418e-04, 3.14802889e-04, 2.77849336e-04, 1.71830975e-04,\n",
       "       1.68566306e-04, 7.36374649e-05, 4.12738818e-05, 1.69626400e-05,\n",
       "       2.99738537e-07, 1.04519322e-07, 1.89440138e-09, 3.16145099e-32,\n",
       "       8.22199386e-34, 7.49182294e-34, 7.49182294e-34, 5.76591761e-34])"
      ]
     },
     "execution_count": 268,
     "metadata": {},
     "output_type": "execute_result"
    }
   ],
   "source": [
    "pca.explained_variance_ratio_"
   ]
  },
  {
   "cell_type": "code",
   "execution_count": 269,
   "metadata": {},
   "outputs": [
    {
     "data": {
      "text/plain": [
       "[<matplotlib.lines.Line2D at 0x1ef00a80708>]"
      ]
     },
     "execution_count": 269,
     "metadata": {},
     "output_type": "execute_result"
    },
    {
     "data": {
      "image/png": "[encoded data removed]",
      "text/plain": [
       "<Figure size 432x288 with 1 Axes>"
      ]
     },
     "metadata": {
      "needs_background": "light"
     },
     "output_type": "display_data"
    }
   ],
   "source": [
    "import matplotlib.pyplot as plt\n",
    "var_cumu = np.cumsum(pca.explained_variance_ratio_)\n",
    "plt.plot(range(1,len(var_cumu)+1), var_cumu)"
   ]
  },
  {
   "cell_type": "code",
   "execution_count": 270,
   "metadata": {},
   "outputs": [
    {
     "data": {
      "text/plain": [
       "(33614, 70)"
      ]
     },
     "execution_count": 270,
     "metadata": {},
     "output_type": "execute_result"
    }
   ],
   "source": [
    "from sklearn.decomposition import IncrementalPCA\n",
    "\n",
    "pcaFinal = IncrementalPCA(n_components=70)\n",
    "train_pca = pcaFinal.fit_transform(X_train_after_scaling)\n",
    "train_pca.shape"
   ]
  },
  {
   "cell_type": "code",
   "execution_count": 271,
   "metadata": {},
   "outputs": [
    {
     "data": {
      "text/plain": [
       "(8005, 70)"
      ]
     },
     "execution_count": 271,
     "metadata": {},
     "output_type": "execute_result"
    }
   ],
   "source": [
    "#Applying selected components to the test data - 70 components for 95 percent variance\n",
    "test_pca = pcaFinal.fit_transform(X_test_after_scaling)\n",
    "test_pca.shape \n"
   ]
  },
  {
   "cell_type": "code",
   "execution_count": 272,
   "metadata": {},
   "outputs": [
    {
     "data": {
      "text/plain": [
       "array([[-1.03272341e+00,  5.49892003e+00, -1.23305433e+00, ...,\n",
       "        -6.52698676e-02, -1.73618374e-01, -2.16743914e-01],\n",
       "       [-2.25142618e+00, -2.15715535e-01, -6.66645336e-01, ...,\n",
       "        -1.00172654e-01,  1.12347461e-01, -3.27849774e-01],\n",
       "       [-2.31259117e+00,  6.80888383e-01, -8.69094098e-01, ...,\n",
       "        -3.53516636e-02, -1.65416570e-01,  2.19356030e-02],\n",
       "       ...,\n",
       "       [ 7.47606562e+00, -4.58306005e+00, -2.57398595e+00, ...,\n",
       "         5.08897034e-01, -5.70529632e-01, -4.79834141e-01],\n",
       "       [-2.97165226e+00, -2.36286432e+00, -8.77979842e-01, ...,\n",
       "        -6.38498369e-03,  2.97989723e-02, -4.16582099e-02],\n",
       "       [-1.30969543e+00, -9.17823902e-01,  1.09179222e+00, ...,\n",
       "        -1.72598150e-01,  1.85612890e-01,  1.97429312e-01]])"
      ]
     },
     "execution_count": 272,
     "metadata": {},
     "output_type": "execute_result"
    }
   ],
   "source": [
    "train_pca"
   ]
  },
  {
   "cell_type": "code",
   "execution_count": 273,
   "metadata": {},
   "outputs": [
    {
     "data": {
      "text/plain": [
       "(33614,)"
      ]
     },
     "execution_count": 273,
     "metadata": {},
     "output_type": "execute_result"
    }
   ],
   "source": [
    "y_train.shape"
   ]
  },
  {
   "cell_type": "code",
   "execution_count": 274,
   "metadata": {},
   "outputs": [
    {
     "data": {
      "text/plain": [
       "LogisticRegression()"
      ]
     },
     "execution_count": 274,
     "metadata": {},
     "output_type": "execute_result"
    }
   ],
   "source": [
    "logreg = LogisticRegression()\n",
    "\n",
    "logreg.fit(train_pca, y_train)"
   ]
  },
  {
   "cell_type": "code",
   "execution_count": 275,
   "metadata": {},
   "outputs": [],
   "source": [
    "y_pred = logreg.predict(test_pca)\n"
   ]
  },
  {
   "cell_type": "code",
   "execution_count": 276,
   "metadata": {},
   "outputs": [
    {
     "data": {
      "text/plain": [
       "array([1, 1, 0, ..., 1, 1, 1])"
      ]
     },
     "execution_count": 276,
     "metadata": {},
     "output_type": "execute_result"
    }
   ],
   "source": [
    "y_pred"
   ]
  },
  {
   "cell_type": "code",
   "execution_count": 277,
   "metadata": {},
   "outputs": [
    {
     "data": {
      "text/plain": [
       "8005"
      ]
     },
     "execution_count": 277,
     "metadata": {},
     "output_type": "execute_result"
    }
   ],
   "source": [
    "y_pred.size"
   ]
  },
  {
   "cell_type": "code",
   "execution_count": 278,
   "metadata": {},
   "outputs": [
    {
     "data": {
      "text/plain": [
       "7533     0\n",
       "26374    0\n",
       "5745     1\n",
       "6307     0\n",
       "29940    1\n",
       "        ..\n",
       "12069    0\n",
       "29304    0\n",
       "12125    0\n",
       "23030    0\n",
       "5738     1\n",
       "Name: churn_flag, Length: 8005, dtype: int32"
      ]
     },
     "execution_count": 278,
     "metadata": {},
     "output_type": "execute_result"
    }
   ],
   "source": [
    "y_test"
   ]
  },
  {
   "cell_type": "code",
   "execution_count": 279,
   "metadata": {},
   "outputs": [
    {
     "name": "stdout",
     "output_type": "stream",
     "text": [
      "0.4978138663335415\n",
      "-4.21279445004399\n"
     ]
    }
   ],
   "source": [
    "printingMSEandRsquare(y_test, y_pred)"
   ]
  },
  {
   "cell_type": "code",
   "execution_count": 280,
   "metadata": {},
   "outputs": [
    {
     "name": "stdout",
     "output_type": "stream",
     "text": [
      "[[3358 3791]\n",
      " [ 194  662]]\n"
     ]
    }
   ],
   "source": [
    "confusion_matrix2 = confusion_matrix(y_test, y_pred)\n",
    "print(confusion_matrix2)\n",
    "y_pred_default = y_pred"
   ]
  },
  {
   "cell_type": "code",
   "execution_count": 281,
   "metadata": {},
   "outputs": [
    {
     "name": "stdout",
     "output_type": "stream",
     "text": [
      "Acuracy Score 0.5021861336664585\n",
      "Sensitivity:  0.7733644859813084\n",
      "Specificity:  0.4697160442019863\n",
      "false postive rate:  0.5302839557980137\n",
      "positive predictive value:  0.14866382214237592\n",
      "Negative predictive value:  0.9453828828828829\n",
      "Misclassification Rate:  0.4978138663335415\n"
     ]
    }
   ],
   "source": [
    "printingConfusionMetricDetails(confusion_matrix2)"
   ]
  },
  {
   "cell_type": "code",
   "execution_count": 282,
   "metadata": {},
   "outputs": [],
   "source": [
    "# Decision tree after Logistic regression"
   ]
  },
  {
   "cell_type": "code",
   "execution_count": 283,
   "metadata": {},
   "outputs": [
    {
     "data": {
      "text/plain": [
       "DecisionTreeClassifier(class_weight='balanced', max_depth=5)"
      ]
     },
     "execution_count": 283,
     "metadata": {},
     "output_type": "execute_result"
    }
   ],
   "source": [
    "# Fitting the decision tree with default hyperparameters, apart from\n",
    "# max_depth which is 5 so that we can plot and read the tree.\n",
    "dt_default = DecisionTreeClassifier(max_depth=5, class_weight='balanced')\n",
    "dt_default.fit(train_pca,y_train)"
   ]
  },
  {
   "cell_type": "code",
   "execution_count": 284,
   "metadata": {},
   "outputs": [
    {
     "name": "stdout",
     "output_type": "stream",
     "text": [
      "              precision    recall  f1-score   support\n",
      "\n",
      "           0       0.94      0.60      0.73      7149\n",
      "           1       0.17      0.67      0.27       856\n",
      "\n",
      "    accuracy                           0.61      8005\n",
      "   macro avg       0.55      0.64      0.50      8005\n",
      "weighted avg       0.86      0.61      0.68      8005\n",
      "\n",
      "[[4282 2867]\n",
      " [ 280  576]]\n",
      "Acuracy Score 0.6068707058088695\n"
     ]
    }
   ],
   "source": [
    "# Let's check the evaluation metrics of our default model\n",
    "# Making predictions\n",
    "y_pred_default = dt_default.predict(test_pca)\n",
    "\n",
    "print(classification_report(y_test,y_pred_default))\n",
    "print(confusion_matrix(y_test,y_pred_default))\n",
    "print('Acuracy Score', accuracy_score(y_test,y_pred_default))"
   ]
  },
  {
   "cell_type": "code",
   "execution_count": 285,
   "metadata": {},
   "outputs": [
    {
     "name": "stdout",
     "output_type": "stream",
     "text": [
      "Acuracy Score 0.6068707058088695\n",
      "Sensitivity:  0.6728971962616822\n",
      "Specificity:  0.5989648901944328\n",
      "false postive rate:  0.4010351098055672\n",
      "positive predictive value:  0.16729596282311937\n",
      "Negative predictive value:  0.9386234107847435\n",
      "Misclassification Rate:  0.3931292941911305\n"
     ]
    }
   ],
   "source": [
    "confusion_tree = confusion_matrix(y_test,y_pred_default)\n",
    "printingConfusionMetricDetails(confusion_tree)"
   ]
  },
  {
   "cell_type": "code",
   "execution_count": 286,
   "metadata": {},
   "outputs": [],
   "source": [
    "########## lets tune hyper parameters\n",
    "# GridSearchCV to find optimal max_depth\n",
    "\n",
    "# specify number of folds for k-fold CV\n",
    "n_folds = 5\n",
    "\n",
    "# parameters to build the model on\n",
    "parameters = {'max_depth': range(1, 40)}\n"
   ]
  },
  {
   "cell_type": "code",
   "execution_count": 287,
   "metadata": {},
   "outputs": [],
   "source": [
    "# instantiate the model\n",
    "dtree = DecisionTreeClassifier(criterion = \"gini\", class_weight='balanced', random_state = 100)\n"
   ]
  },
  {
   "cell_type": "code",
   "execution_count": 288,
   "metadata": {},
   "outputs": [],
   "source": [
    "# fit tree on training data\n",
    "tree = GridSearchCV(dtree, parameters, \n",
    "                    cv=n_folds, \n",
    "                   scoring=\"accuracy\", return_train_score=True,  n_jobs = -1)\n"
   ]
  },
  {
   "cell_type": "code",
   "execution_count": 289,
   "metadata": {},
   "outputs": [
    {
     "data": {
      "text/plain": [
       "GridSearchCV(cv=5,\n",
       "             estimator=DecisionTreeClassifier(class_weight='balanced',\n",
       "                                              random_state=100),\n",
       "             n_jobs=-1, param_grid={'max_depth': range(1, 40)},\n",
       "             return_train_score=True, scoring='accuracy')"
      ]
     },
     "execution_count": 289,
     "metadata": {},
     "output_type": "execute_result"
    }
   ],
   "source": [
    "tree.fit(train_pca,y_train)"
   ]
  },
  {
   "cell_type": "code",
   "execution_count": 290,
   "metadata": {},
   "outputs": [
    {
     "data": {
      "text/plain": [
       "(33614,)"
      ]
     },
     "execution_count": 290,
     "metadata": {},
     "output_type": "execute_result"
    }
   ],
   "source": [
    "y_train.shape"
   ]
  },
  {
   "cell_type": "code",
   "execution_count": 291,
   "metadata": {},
   "outputs": [
    {
     "data": {
      "text/html": [
       "<div>\n",
       "<style scoped>\n",
       "    .dataframe tbody tr th:only-of-type {\n",
       "        vertical-align: middle;\n",
       "    }\n",
       "\n",
       "    .dataframe tbody tr th {\n",
       "        vertical-align: top;\n",
       "    }\n",
       "\n",
       "    .dataframe thead th {\n",
       "        text-align: right;\n",
       "    }\n",
       "</style>\n",
       "<table border=\"1\" class=\"dataframe\">\n",
       "  <thead>\n",
       "    <tr style=\"text-align: right;\">\n",
       "      <th></th>\n",
       "      <th>mean_fit_time</th>\n",
       "      <th>std_fit_time</th>\n",
       "      <th>mean_score_time</th>\n",
       "      <th>std_score_time</th>\n",
       "      <th>param_max_depth</th>\n",
       "      <th>params</th>\n",
       "      <th>split0_test_score</th>\n",
       "      <th>split1_test_score</th>\n",
       "      <th>split2_test_score</th>\n",
       "      <th>split3_test_score</th>\n",
       "      <th>...</th>\n",
       "      <th>mean_test_score</th>\n",
       "      <th>std_test_score</th>\n",
       "      <th>rank_test_score</th>\n",
       "      <th>split0_train_score</th>\n",
       "      <th>split1_train_score</th>\n",
       "      <th>split2_train_score</th>\n",
       "      <th>split3_train_score</th>\n",
       "      <th>split4_train_score</th>\n",
       "      <th>mean_train_score</th>\n",
       "      <th>std_train_score</th>\n",
       "    </tr>\n",
       "  </thead>\n",
       "  <tbody>\n",
       "    <tr>\n",
       "      <td>0</td>\n",
       "      <td>0.493716</td>\n",
       "      <td>0.017933</td>\n",
       "      <td>0.004997</td>\n",
       "      <td>0.000632</td>\n",
       "      <td>1</td>\n",
       "      <td>{'max_depth': 1}</td>\n",
       "      <td>0.696564</td>\n",
       "      <td>0.694333</td>\n",
       "      <td>0.693589</td>\n",
       "      <td>0.695672</td>\n",
       "      <td>...</td>\n",
       "      <td>0.698132</td>\n",
       "      <td>0.006271</td>\n",
       "      <td>39</td>\n",
       "      <td>0.700271</td>\n",
       "      <td>0.701090</td>\n",
       "      <td>0.700011</td>\n",
       "      <td>0.700718</td>\n",
       "      <td>0.695895</td>\n",
       "      <td>0.699597</td>\n",
       "      <td>0.001888</td>\n",
       "    </tr>\n",
       "    <tr>\n",
       "      <td>1</td>\n",
       "      <td>0.932065</td>\n",
       "      <td>0.028604</td>\n",
       "      <td>0.004997</td>\n",
       "      <td>0.000002</td>\n",
       "      <td>2</td>\n",
       "      <td>{'max_depth': 2}</td>\n",
       "      <td>0.717686</td>\n",
       "      <td>0.713818</td>\n",
       "      <td>0.713521</td>\n",
       "      <td>0.718578</td>\n",
       "      <td>...</td>\n",
       "      <td>0.718570</td>\n",
       "      <td>0.005707</td>\n",
       "      <td>38</td>\n",
       "      <td>0.721654</td>\n",
       "      <td>0.723030</td>\n",
       "      <td>0.719088</td>\n",
       "      <td>0.721766</td>\n",
       "      <td>0.715120</td>\n",
       "      <td>0.720132</td>\n",
       "      <td>0.002814</td>\n",
       "    </tr>\n",
       "    <tr>\n",
       "      <td>2</td>\n",
       "      <td>1.309249</td>\n",
       "      <td>0.029870</td>\n",
       "      <td>0.004797</td>\n",
       "      <td>0.000399</td>\n",
       "      <td>3</td>\n",
       "      <td>{'max_depth': 3}</td>\n",
       "      <td>0.746393</td>\n",
       "      <td>0.732560</td>\n",
       "      <td>0.750409</td>\n",
       "      <td>0.754574</td>\n",
       "      <td>...</td>\n",
       "      <td>0.748587</td>\n",
       "      <td>0.009047</td>\n",
       "      <td>37</td>\n",
       "      <td>0.757428</td>\n",
       "      <td>0.739430</td>\n",
       "      <td>0.758878</td>\n",
       "      <td>0.755457</td>\n",
       "      <td>0.756508</td>\n",
       "      <td>0.753540</td>\n",
       "      <td>0.007144</td>\n",
       "    </tr>\n",
       "    <tr>\n",
       "      <td>3</td>\n",
       "      <td>1.694026</td>\n",
       "      <td>0.036190</td>\n",
       "      <td>0.004398</td>\n",
       "      <td>0.000489</td>\n",
       "      <td>4</td>\n",
       "      <td>{'max_depth': 4}</td>\n",
       "      <td>0.760821</td>\n",
       "      <td>0.772721</td>\n",
       "      <td>0.763201</td>\n",
       "      <td>0.770638</td>\n",
       "      <td>...</td>\n",
       "      <td>0.768757</td>\n",
       "      <td>0.005858</td>\n",
       "      <td>36</td>\n",
       "      <td>0.776691</td>\n",
       "      <td>0.774943</td>\n",
       "      <td>0.773902</td>\n",
       "      <td>0.775687</td>\n",
       "      <td>0.774803</td>\n",
       "      <td>0.775205</td>\n",
       "      <td>0.000935</td>\n",
       "    </tr>\n",
       "    <tr>\n",
       "      <td>4</td>\n",
       "      <td>2.034631</td>\n",
       "      <td>0.019156</td>\n",
       "      <td>0.008995</td>\n",
       "      <td>0.007505</td>\n",
       "      <td>5</td>\n",
       "      <td>{'max_depth': 5}</td>\n",
       "      <td>0.778224</td>\n",
       "      <td>0.796519</td>\n",
       "      <td>0.791313</td>\n",
       "      <td>0.801577</td>\n",
       "      <td>...</td>\n",
       "      <td>0.792676</td>\n",
       "      <td>0.007926</td>\n",
       "      <td>35</td>\n",
       "      <td>0.792719</td>\n",
       "      <td>0.797739</td>\n",
       "      <td>0.802164</td>\n",
       "      <td>0.804767</td>\n",
       "      <td>0.793842</td>\n",
       "      <td>0.798246</td>\n",
       "      <td>0.004649</td>\n",
       "    </tr>\n",
       "  </tbody>\n",
       "</table>\n",
       "<p>5 rows × 21 columns</p>\n",
       "</div>"
      ],
      "text/plain": [
       "   mean_fit_time  std_fit_time  mean_score_time  std_score_time  \\\n",
       "0       0.493716      0.017933         0.004997        0.000632   \n",
       "1       0.932065      0.028604         0.004997        0.000002   \n",
       "2       1.309249      0.029870         0.004797        0.000399   \n",
       "3       1.694026      0.036190         0.004398        0.000489   \n",
       "4       2.034631      0.019156         0.008995        0.007505   \n",
       "\n",
       "  param_max_depth            params  split0_test_score  split1_test_score  \\\n",
       "0               1  {'max_depth': 1}           0.696564           0.694333   \n",
       "1               2  {'max_depth': 2}           0.717686           0.713818   \n",
       "2               3  {'max_depth': 3}           0.746393           0.732560   \n",
       "3               4  {'max_depth': 4}           0.760821           0.772721   \n",
       "4               5  {'max_depth': 5}           0.778224           0.796519   \n",
       "\n",
       "   split2_test_score  split3_test_score  ...  mean_test_score  std_test_score  \\\n",
       "0           0.693589           0.695672  ...         0.698132        0.006271   \n",
       "1           0.713521           0.718578  ...         0.718570        0.005707   \n",
       "2           0.750409           0.754574  ...         0.748587        0.009047   \n",
       "3           0.763201           0.770638  ...         0.768757        0.005858   \n",
       "4           0.791313           0.801577  ...         0.792676        0.007926   \n",
       "\n",
       "   rank_test_score  split0_train_score  split1_train_score  \\\n",
       "0               39            0.700271            0.701090   \n",
       "1               38            0.721654            0.723030   \n",
       "2               37            0.757428            0.739430   \n",
       "3               36            0.776691            0.774943   \n",
       "4               35            0.792719            0.797739   \n",
       "\n",
       "   split2_train_score  split3_train_score  split4_train_score  \\\n",
       "0            0.700011            0.700718            0.695895   \n",
       "1            0.719088            0.721766            0.715120   \n",
       "2            0.758878            0.755457            0.756508   \n",
       "3            0.773902            0.775687            0.774803   \n",
       "4            0.802164            0.804767            0.793842   \n",
       "\n",
       "   mean_train_score  std_train_score  \n",
       "0          0.699597         0.001888  \n",
       "1          0.720132         0.002814  \n",
       "2          0.753540         0.007144  \n",
       "3          0.775205         0.000935  \n",
       "4          0.798246         0.004649  \n",
       "\n",
       "[5 rows x 21 columns]"
      ]
     },
     "execution_count": 291,
     "metadata": {},
     "output_type": "execute_result"
    }
   ],
   "source": [
    "# scores of GridSearch CV\n",
    "scores = tree.cv_results_\n",
    "pd.DataFrame(scores).head()"
   ]
  },
  {
   "cell_type": "code",
   "execution_count": 292,
   "metadata": {},
   "outputs": [
    {
     "data": {
      "image/png": "[encoded data removed]",
      "text/plain": [
       "<Figure size 432x288 with 1 Axes>"
      ]
     },
     "metadata": {
      "needs_background": "light"
     },
     "output_type": "display_data"
    }
   ],
   "source": [
    "# plotting accuracies with max_depth\n",
    "plt.figure()\n",
    "plt.plot(scores[\"param_max_depth\"], \n",
    "         scores[\"mean_train_score\"], \n",
    "         label=\"training accuracy\")\n",
    "plt.plot(scores[\"param_max_depth\"], \n",
    "         scores[\"mean_test_score\"], \n",
    "         label=\"test accuracy\")\n",
    "plt.xlabel(\"max_depth\")\n",
    "plt.ylabel(\"Accuracy\")\n",
    "plt.legend()\n",
    "plt.show()\n",
    "\n",
    "# seems 15 or 20 Max depth"
   ]
  },
  {
   "cell_type": "code",
   "execution_count": 293,
   "metadata": {
    "scrolled": true
   },
   "outputs": [
    {
     "data": {
      "text/plain": [
       "GridSearchCV(cv=5,\n",
       "             estimator=DecisionTreeClassifier(class_weight='balanced',\n",
       "                                              random_state=100),\n",
       "             n_jobs=-1, param_grid={'min_samples_leaf': range(5, 200, 20)},\n",
       "             return_train_score=True, scoring='accuracy')"
      ]
     },
     "execution_count": 293,
     "metadata": {},
     "output_type": "execute_result"
    }
   ],
   "source": [
    "## Lets tune min sample leaf\n",
    "# parameters to build the model on\n",
    "parameters = {'min_samples_leaf': range(5, 200, 20)}\n",
    "\n",
    "# instantiate the model\n",
    "dtree = DecisionTreeClassifier(criterion = \"gini\",class_weight='balanced',random_state = 100)\n",
    "\n",
    "# fit tree on training data\n",
    "tree = GridSearchCV(dtree, parameters, \n",
    "                    cv=n_folds, \n",
    "                   scoring=\"accuracy\", return_train_score=True , n_jobs = -1)\n",
    "tree.fit(train_pca,y_train)"
   ]
  },
  {
   "cell_type": "code",
   "execution_count": 294,
   "metadata": {},
   "outputs": [
    {
     "data": {
      "text/html": [
       "<div>\n",
       "<style scoped>\n",
       "    .dataframe tbody tr th:only-of-type {\n",
       "        vertical-align: middle;\n",
       "    }\n",
       "\n",
       "    .dataframe tbody tr th {\n",
       "        vertical-align: top;\n",
       "    }\n",
       "\n",
       "    .dataframe thead th {\n",
       "        text-align: right;\n",
       "    }\n",
       "</style>\n",
       "<table border=\"1\" class=\"dataframe\">\n",
       "  <thead>\n",
       "    <tr style=\"text-align: right;\">\n",
       "      <th></th>\n",
       "      <th>mean_fit_time</th>\n",
       "      <th>std_fit_time</th>\n",
       "      <th>mean_score_time</th>\n",
       "      <th>std_score_time</th>\n",
       "      <th>param_min_samples_leaf</th>\n",
       "      <th>params</th>\n",
       "      <th>split0_test_score</th>\n",
       "      <th>split1_test_score</th>\n",
       "      <th>split2_test_score</th>\n",
       "      <th>split3_test_score</th>\n",
       "      <th>...</th>\n",
       "      <th>mean_test_score</th>\n",
       "      <th>std_test_score</th>\n",
       "      <th>rank_test_score</th>\n",
       "      <th>split0_train_score</th>\n",
       "      <th>split1_train_score</th>\n",
       "      <th>split2_train_score</th>\n",
       "      <th>split3_train_score</th>\n",
       "      <th>split4_train_score</th>\n",
       "      <th>mean_train_score</th>\n",
       "      <th>std_train_score</th>\n",
       "    </tr>\n",
       "  </thead>\n",
       "  <tbody>\n",
       "    <tr>\n",
       "      <td>0</td>\n",
       "      <td>6.112470</td>\n",
       "      <td>0.168823</td>\n",
       "      <td>0.009795</td>\n",
       "      <td>3.866009e-03</td>\n",
       "      <td>5</td>\n",
       "      <td>{'min_samples_leaf': 5}</td>\n",
       "      <td>0.840547</td>\n",
       "      <td>0.859140</td>\n",
       "      <td>0.850662</td>\n",
       "      <td>0.865685</td>\n",
       "      <td>...</td>\n",
       "      <td>0.854584</td>\n",
       "      <td>0.008505</td>\n",
       "      <td>1</td>\n",
       "      <td>0.960098</td>\n",
       "      <td>0.956454</td>\n",
       "      <td>0.957718</td>\n",
       "      <td>0.957495</td>\n",
       "      <td>0.958129</td>\n",
       "      <td>0.957979</td>\n",
       "      <td>0.001195</td>\n",
       "    </tr>\n",
       "    <tr>\n",
       "      <td>1</td>\n",
       "      <td>4.759805</td>\n",
       "      <td>0.126430</td>\n",
       "      <td>0.005997</td>\n",
       "      <td>6.675720e-07</td>\n",
       "      <td>25</td>\n",
       "      <td>{'min_samples_leaf': 25}</td>\n",
       "      <td>0.819723</td>\n",
       "      <td>0.840994</td>\n",
       "      <td>0.835193</td>\n",
       "      <td>0.842779</td>\n",
       "      <td>...</td>\n",
       "      <td>0.834414</td>\n",
       "      <td>0.008133</td>\n",
       "      <td>2</td>\n",
       "      <td>0.887211</td>\n",
       "      <td>0.886579</td>\n",
       "      <td>0.883902</td>\n",
       "      <td>0.883902</td>\n",
       "      <td>0.884687</td>\n",
       "      <td>0.885256</td>\n",
       "      <td>0.001383</td>\n",
       "    </tr>\n",
       "    <tr>\n",
       "      <td>2</td>\n",
       "      <td>4.373120</td>\n",
       "      <td>0.111110</td>\n",
       "      <td>0.006597</td>\n",
       "      <td>4.892981e-04</td>\n",
       "      <td>45</td>\n",
       "      <td>{'min_samples_leaf': 45}</td>\n",
       "      <td>0.811245</td>\n",
       "      <td>0.832069</td>\n",
       "      <td>0.824483</td>\n",
       "      <td>0.831177</td>\n",
       "      <td>...</td>\n",
       "      <td>0.826085</td>\n",
       "      <td>0.007916</td>\n",
       "      <td>3</td>\n",
       "      <td>0.860176</td>\n",
       "      <td>0.860176</td>\n",
       "      <td>0.859879</td>\n",
       "      <td>0.861924</td>\n",
       "      <td>0.860367</td>\n",
       "      <td>0.860505</td>\n",
       "      <td>0.000727</td>\n",
       "    </tr>\n",
       "    <tr>\n",
       "      <td>3</td>\n",
       "      <td>4.076137</td>\n",
       "      <td>0.059598</td>\n",
       "      <td>0.006196</td>\n",
       "      <td>4.009521e-04</td>\n",
       "      <td>65</td>\n",
       "      <td>{'min_samples_leaf': 65}</td>\n",
       "      <td>0.806336</td>\n",
       "      <td>0.828945</td>\n",
       "      <td>0.820021</td>\n",
       "      <td>0.825822</td>\n",
       "      <td>...</td>\n",
       "      <td>0.820938</td>\n",
       "      <td>0.007860</td>\n",
       "      <td>4</td>\n",
       "      <td>0.846491</td>\n",
       "      <td>0.848760</td>\n",
       "      <td>0.843888</td>\n",
       "      <td>0.846826</td>\n",
       "      <td>0.844378</td>\n",
       "      <td>0.846069</td>\n",
       "      <td>0.001767</td>\n",
       "    </tr>\n",
       "    <tr>\n",
       "      <td>4</td>\n",
       "      <td>3.882171</td>\n",
       "      <td>0.032909</td>\n",
       "      <td>0.005998</td>\n",
       "      <td>5.761645e-07</td>\n",
       "      <td>85</td>\n",
       "      <td>{'min_samples_leaf': 85}</td>\n",
       "      <td>0.805890</td>\n",
       "      <td>0.822847</td>\n",
       "      <td>0.811989</td>\n",
       "      <td>0.819277</td>\n",
       "      <td>...</td>\n",
       "      <td>0.815851</td>\n",
       "      <td>0.006105</td>\n",
       "      <td>5</td>\n",
       "      <td>0.837492</td>\n",
       "      <td>0.837529</td>\n",
       "      <td>0.835930</td>\n",
       "      <td>0.838756</td>\n",
       "      <td>0.835825</td>\n",
       "      <td>0.837107</td>\n",
       "      <td>0.001102</td>\n",
       "    </tr>\n",
       "  </tbody>\n",
       "</table>\n",
       "<p>5 rows × 21 columns</p>\n",
       "</div>"
      ],
      "text/plain": [
       "   mean_fit_time  std_fit_time  mean_score_time  std_score_time  \\\n",
       "0       6.112470      0.168823         0.009795    3.866009e-03   \n",
       "1       4.759805      0.126430         0.005997    6.675720e-07   \n",
       "2       4.373120      0.111110         0.006597    4.892981e-04   \n",
       "3       4.076137      0.059598         0.006196    4.009521e-04   \n",
       "4       3.882171      0.032909         0.005998    5.761645e-07   \n",
       "\n",
       "  param_min_samples_leaf                    params  split0_test_score  \\\n",
       "0                      5   {'min_samples_leaf': 5}           0.840547   \n",
       "1                     25  {'min_samples_leaf': 25}           0.819723   \n",
       "2                     45  {'min_samples_leaf': 45}           0.811245   \n",
       "3                     65  {'min_samples_leaf': 65}           0.806336   \n",
       "4                     85  {'min_samples_leaf': 85}           0.805890   \n",
       "\n",
       "   split1_test_score  split2_test_score  split3_test_score  ...  \\\n",
       "0           0.859140           0.850662           0.865685  ...   \n",
       "1           0.840994           0.835193           0.842779  ...   \n",
       "2           0.832069           0.824483           0.831177  ...   \n",
       "3           0.828945           0.820021           0.825822  ...   \n",
       "4           0.822847           0.811989           0.819277  ...   \n",
       "\n",
       "   mean_test_score  std_test_score  rank_test_score  split0_train_score  \\\n",
       "0         0.854584        0.008505                1            0.960098   \n",
       "1         0.834414        0.008133                2            0.887211   \n",
       "2         0.826085        0.007916                3            0.860176   \n",
       "3         0.820938        0.007860                4            0.846491   \n",
       "4         0.815851        0.006105                5            0.837492   \n",
       "\n",
       "   split1_train_score  split2_train_score  split3_train_score  \\\n",
       "0            0.956454            0.957718            0.957495   \n",
       "1            0.886579            0.883902            0.883902   \n",
       "2            0.860176            0.859879            0.861924   \n",
       "3            0.848760            0.843888            0.846826   \n",
       "4            0.837529            0.835930            0.838756   \n",
       "\n",
       "   split4_train_score  mean_train_score  std_train_score  \n",
       "0            0.958129          0.957979         0.001195  \n",
       "1            0.884687          0.885256         0.001383  \n",
       "2            0.860367          0.860505         0.000727  \n",
       "3            0.844378          0.846069         0.001767  \n",
       "4            0.835825          0.837107         0.001102  \n",
       "\n",
       "[5 rows x 21 columns]"
      ]
     },
     "execution_count": 294,
     "metadata": {},
     "output_type": "execute_result"
    }
   ],
   "source": [
    "# scores of GridSearch CV\n",
    "scores = tree.cv_results_\n",
    "pd.DataFrame(scores).head()"
   ]
  },
  {
   "cell_type": "code",
   "execution_count": 295,
   "metadata": {},
   "outputs": [
    {
     "data": {
      "image/png": "[encoded data removed]",
      "text/plain": [
       "<Figure size 432x288 with 1 Axes>"
      ]
     },
     "metadata": {
      "needs_background": "light"
     },
     "output_type": "display_data"
    }
   ],
   "source": [
    "# plotting accuracies with min_samples_leaf\n",
    "plt.figure()\n",
    "plt.plot(scores[\"param_min_samples_leaf\"], \n",
    "         scores[\"mean_train_score\"], \n",
    "         label=\"training accuracy\")\n",
    "plt.plot(scores[\"param_min_samples_leaf\"], \n",
    "         scores[\"mean_test_score\"], \n",
    "         label=\"test accuracy\")\n",
    "plt.xlabel(\"min_samples_leaf\")\n",
    "plt.ylabel(\"Accuracy\")\n",
    "plt.legend()\n",
    "plt.show()\n",
    "\n",
    "#seems 5 to 75"
   ]
  },
  {
   "cell_type": "code",
   "execution_count": 296,
   "metadata": {},
   "outputs": [
    {
     "data": {
      "text/plain": [
       "GridSearchCV(cv=5,\n",
       "             estimator=DecisionTreeClassifier(class_weight='balanced',\n",
       "                                              random_state=100),\n",
       "             n_jobs=-1, param_grid={'min_samples_split': range(5, 200, 20)},\n",
       "             return_train_score=True, scoring='accuracy')"
      ]
     },
     "execution_count": 296,
     "metadata": {},
     "output_type": "execute_result"
    }
   ],
   "source": [
    "## Tuning min sample split\n",
    "# parameters to build the model on\n",
    "parameters = {'min_samples_split': range(5, 200, 20)}\n",
    "\n",
    "# instantiate the model\n",
    "dtree = DecisionTreeClassifier(criterion = \"gini\",class_weight='balanced', random_state = 100)\n",
    "\n",
    "# fit tree on training data\n",
    "tree = GridSearchCV(dtree, parameters, \n",
    "                    cv=n_folds, \n",
    "                   scoring=\"accuracy\", return_train_score=True,  n_jobs = -1)\n",
    "tree.fit(train_pca,y_train)"
   ]
  },
  {
   "cell_type": "code",
   "execution_count": 297,
   "metadata": {},
   "outputs": [
    {
     "data": {
      "text/html": [
       "<div>\n",
       "<style scoped>\n",
       "    .dataframe tbody tr th:only-of-type {\n",
       "        vertical-align: middle;\n",
       "    }\n",
       "\n",
       "    .dataframe tbody tr th {\n",
       "        vertical-align: top;\n",
       "    }\n",
       "\n",
       "    .dataframe thead th {\n",
       "        text-align: right;\n",
       "    }\n",
       "</style>\n",
       "<table border=\"1\" class=\"dataframe\">\n",
       "  <thead>\n",
       "    <tr style=\"text-align: right;\">\n",
       "      <th></th>\n",
       "      <th>mean_fit_time</th>\n",
       "      <th>std_fit_time</th>\n",
       "      <th>mean_score_time</th>\n",
       "      <th>std_score_time</th>\n",
       "      <th>param_min_samples_split</th>\n",
       "      <th>params</th>\n",
       "      <th>split0_test_score</th>\n",
       "      <th>split1_test_score</th>\n",
       "      <th>split2_test_score</th>\n",
       "      <th>split3_test_score</th>\n",
       "      <th>...</th>\n",
       "      <th>mean_test_score</th>\n",
       "      <th>std_test_score</th>\n",
       "      <th>rank_test_score</th>\n",
       "      <th>split0_train_score</th>\n",
       "      <th>split1_train_score</th>\n",
       "      <th>split2_train_score</th>\n",
       "      <th>split3_train_score</th>\n",
       "      <th>split4_train_score</th>\n",
       "      <th>mean_train_score</th>\n",
       "      <th>std_train_score</th>\n",
       "    </tr>\n",
       "  </thead>\n",
       "  <tbody>\n",
       "    <tr>\n",
       "      <td>0</td>\n",
       "      <td>7.049154</td>\n",
       "      <td>0.190939</td>\n",
       "      <td>0.008595</td>\n",
       "      <td>0.002575</td>\n",
       "      <td>5</td>\n",
       "      <td>{'min_samples_split': 5}</td>\n",
       "      <td>0.846646</td>\n",
       "      <td>0.868809</td>\n",
       "      <td>0.860925</td>\n",
       "      <td>0.865685</td>\n",
       "      <td>...</td>\n",
       "      <td>0.861427</td>\n",
       "      <td>0.007805</td>\n",
       "      <td>1</td>\n",
       "      <td>0.993343</td>\n",
       "      <td>0.993046</td>\n",
       "      <td>0.993641</td>\n",
       "      <td>0.993529</td>\n",
       "      <td>0.992563</td>\n",
       "      <td>0.993225</td>\n",
       "      <td>0.000387</td>\n",
       "    </tr>\n",
       "    <tr>\n",
       "      <td>1</td>\n",
       "      <td>6.975997</td>\n",
       "      <td>0.222843</td>\n",
       "      <td>0.006797</td>\n",
       "      <td>0.000399</td>\n",
       "      <td>25</td>\n",
       "      <td>{'min_samples_split': 25}</td>\n",
       "      <td>0.830582</td>\n",
       "      <td>0.858248</td>\n",
       "      <td>0.845456</td>\n",
       "      <td>0.854678</td>\n",
       "      <td>...</td>\n",
       "      <td>0.848932</td>\n",
       "      <td>0.010143</td>\n",
       "      <td>2</td>\n",
       "      <td>0.954855</td>\n",
       "      <td>0.956156</td>\n",
       "      <td>0.950504</td>\n",
       "      <td>0.952214</td>\n",
       "      <td>0.953555</td>\n",
       "      <td>0.953457</td>\n",
       "      <td>0.001976</td>\n",
       "    </tr>\n",
       "    <tr>\n",
       "      <td>2</td>\n",
       "      <td>6.927425</td>\n",
       "      <td>0.207740</td>\n",
       "      <td>0.012193</td>\n",
       "      <td>0.011402</td>\n",
       "      <td>45</td>\n",
       "      <td>{'min_samples_split': 45}</td>\n",
       "      <td>0.826714</td>\n",
       "      <td>0.852001</td>\n",
       "      <td>0.841440</td>\n",
       "      <td>0.847538</td>\n",
       "      <td>...</td>\n",
       "      <td>0.843696</td>\n",
       "      <td>0.009247</td>\n",
       "      <td>3</td>\n",
       "      <td>0.930200</td>\n",
       "      <td>0.928749</td>\n",
       "      <td>0.925217</td>\n",
       "      <td>0.929047</td>\n",
       "      <td>0.927041</td>\n",
       "      <td>0.928051</td>\n",
       "      <td>0.001741</td>\n",
       "    </tr>\n",
       "    <tr>\n",
       "      <td>3</td>\n",
       "      <td>7.057749</td>\n",
       "      <td>0.193680</td>\n",
       "      <td>0.006997</td>\n",
       "      <td>0.000632</td>\n",
       "      <td>65</td>\n",
       "      <td>{'min_samples_split': 65}</td>\n",
       "      <td>0.818236</td>\n",
       "      <td>0.846051</td>\n",
       "      <td>0.837275</td>\n",
       "      <td>0.843968</td>\n",
       "      <td>...</td>\n",
       "      <td>0.837865</td>\n",
       "      <td>0.010248</td>\n",
       "      <td>4</td>\n",
       "      <td>0.913912</td>\n",
       "      <td>0.912090</td>\n",
       "      <td>0.903685</td>\n",
       "      <td>0.907925</td>\n",
       "      <td>0.909676</td>\n",
       "      <td>0.909457</td>\n",
       "      <td>0.003535</td>\n",
       "    </tr>\n",
       "    <tr>\n",
       "      <td>4</td>\n",
       "      <td>6.794018</td>\n",
       "      <td>0.218487</td>\n",
       "      <td>0.006397</td>\n",
       "      <td>0.000490</td>\n",
       "      <td>85</td>\n",
       "      <td>{'min_samples_split': 85}</td>\n",
       "      <td>0.809906</td>\n",
       "      <td>0.839209</td>\n",
       "      <td>0.830433</td>\n",
       "      <td>0.834598</td>\n",
       "      <td>...</td>\n",
       "      <td>0.830428</td>\n",
       "      <td>0.010704</td>\n",
       "      <td>5</td>\n",
       "      <td>0.900747</td>\n",
       "      <td>0.895318</td>\n",
       "      <td>0.892269</td>\n",
       "      <td>0.899111</td>\n",
       "      <td>0.897962</td>\n",
       "      <td>0.897082</td>\n",
       "      <td>0.002987</td>\n",
       "    </tr>\n",
       "  </tbody>\n",
       "</table>\n",
       "<p>5 rows × 21 columns</p>\n",
       "</div>"
      ],
      "text/plain": [
       "   mean_fit_time  std_fit_time  mean_score_time  std_score_time  \\\n",
       "0       7.049154      0.190939         0.008595        0.002575   \n",
       "1       6.975997      0.222843         0.006797        0.000399   \n",
       "2       6.927425      0.207740         0.012193        0.011402   \n",
       "3       7.057749      0.193680         0.006997        0.000632   \n",
       "4       6.794018      0.218487         0.006397        0.000490   \n",
       "\n",
       "  param_min_samples_split                     params  split0_test_score  \\\n",
       "0                       5   {'min_samples_split': 5}           0.846646   \n",
       "1                      25  {'min_samples_split': 25}           0.830582   \n",
       "2                      45  {'min_samples_split': 45}           0.826714   \n",
       "3                      65  {'min_samples_split': 65}           0.818236   \n",
       "4                      85  {'min_samples_split': 85}           0.809906   \n",
       "\n",
       "   split1_test_score  split2_test_score  split3_test_score  ...  \\\n",
       "0           0.868809           0.860925           0.865685  ...   \n",
       "1           0.858248           0.845456           0.854678  ...   \n",
       "2           0.852001           0.841440           0.847538  ...   \n",
       "3           0.846051           0.837275           0.843968  ...   \n",
       "4           0.839209           0.830433           0.834598  ...   \n",
       "\n",
       "   mean_test_score  std_test_score  rank_test_score  split0_train_score  \\\n",
       "0         0.861427        0.007805                1            0.993343   \n",
       "1         0.848932        0.010143                2            0.954855   \n",
       "2         0.843696        0.009247                3            0.930200   \n",
       "3         0.837865        0.010248                4            0.913912   \n",
       "4         0.830428        0.010704                5            0.900747   \n",
       "\n",
       "   split1_train_score  split2_train_score  split3_train_score  \\\n",
       "0            0.993046            0.993641            0.993529   \n",
       "1            0.956156            0.950504            0.952214   \n",
       "2            0.928749            0.925217            0.929047   \n",
       "3            0.912090            0.903685            0.907925   \n",
       "4            0.895318            0.892269            0.899111   \n",
       "\n",
       "   split4_train_score  mean_train_score  std_train_score  \n",
       "0            0.992563          0.993225         0.000387  \n",
       "1            0.953555          0.953457         0.001976  \n",
       "2            0.927041          0.928051         0.001741  \n",
       "3            0.909676          0.909457         0.003535  \n",
       "4            0.897962          0.897082         0.002987  \n",
       "\n",
       "[5 rows x 21 columns]"
      ]
     },
     "execution_count": 297,
     "metadata": {},
     "output_type": "execute_result"
    }
   ],
   "source": [
    "# scores of GridSearch CV\n",
    "scores = tree.cv_results_\n",
    "pd.DataFrame(scores).head()"
   ]
  },
  {
   "cell_type": "code",
   "execution_count": 298,
   "metadata": {},
   "outputs": [
    {
     "data": {
      "image/png": "[encoded data removed]",
      "text/plain": [
       "<Figure size 432x288 with 1 Axes>"
      ]
     },
     "metadata": {
      "needs_background": "light"
     },
     "output_type": "display_data"
    }
   ],
   "source": [
    "# plotting accuracies with min_samples_split\n",
    "plt.figure()\n",
    "plt.plot(scores[\"param_min_samples_split\"], \n",
    "         scores[\"mean_train_score\"], \n",
    "         label=\"training accuracy\")\n",
    "plt.plot(scores[\"param_min_samples_split\"], \n",
    "         scores[\"mean_test_score\"], \n",
    "         label=\"test accuracy\")\n",
    "plt.xlabel(\"min_samples_split\")\n",
    "plt.ylabel(\"Accuracy\")\n",
    "plt.legend()\n",
    "plt.show()\n",
    "\n",
    "#seems 25"
   ]
  },
  {
   "cell_type": "code",
   "execution_count": 299,
   "metadata": {},
   "outputs": [
    {
     "name": "stdout",
     "output_type": "stream",
     "text": [
      "Fitting 5 folds for each of 64 candidates, totalling 320 fits\n"
     ]
    },
    {
     "name": "stderr",
     "output_type": "stream",
     "text": [
      "[Parallel(n_jobs=-1)]: Using backend LokyBackend with 4 concurrent workers.\n",
      "[Parallel(n_jobs=-1)]: Done  42 tasks      | elapsed:  1.2min\n",
      "[Parallel(n_jobs=-1)]: Done 192 tasks      | elapsed:  5.2min\n",
      "[Parallel(n_jobs=-1)]: Done 320 out of 320 | elapsed:  7.5min finished\n"
     ]
    },
    {
     "data": {
      "text/plain": [
       "GridSearchCV(cv=5, estimator=DecisionTreeClassifier(class_weight='balanced'),\n",
       "             n_jobs=-1,\n",
       "             param_grid={'criterion': ['entropy', 'gini'],\n",
       "                         'max_depth': range(10, 20, 5),\n",
       "                         'min_samples_leaf': range(5, 75, 20),\n",
       "                         'min_samples_split': range(5, 75, 20)},\n",
       "             refit='recall_score', verbose=1)"
      ]
     },
     "execution_count": 299,
     "metadata": {},
     "output_type": "execute_result"
    }
   ],
   "source": [
    "# Create the parameter grid \n",
    "param_grid = {\n",
    "    'max_depth': range(10, 20, 5),\n",
    "    'min_samples_leaf': range(5, 75, 20),\n",
    "    'min_samples_split': range(5, 75, 20),\n",
    "    'criterion': [\"entropy\", \"gini\"]\n",
    "}\n",
    "\n",
    "n_folds = 5\n",
    "\n",
    "# Instantiate the grid search model\n",
    "dtree = DecisionTreeClassifier(class_weight='balanced')\n",
    "grid_search = GridSearchCV(estimator = dtree, param_grid = param_grid, refit='recall_score',\n",
    "                          cv = n_folds, verbose = 1, n_jobs = -1)\n",
    "\n",
    "# Fit the grid search to the data\n",
    "grid_search.fit(train_pca,y_train)"
   ]
  },
  {
   "cell_type": "code",
   "execution_count": 300,
   "metadata": {},
   "outputs": [
    {
     "data": {
      "text/html": [
       "<div>\n",
       "<style scoped>\n",
       "    .dataframe tbody tr th:only-of-type {\n",
       "        vertical-align: middle;\n",
       "    }\n",
       "\n",
       "    .dataframe tbody tr th {\n",
       "        vertical-align: top;\n",
       "    }\n",
       "\n",
       "    .dataframe thead th {\n",
       "        text-align: right;\n",
       "    }\n",
       "</style>\n",
       "<table border=\"1\" class=\"dataframe\">\n",
       "  <thead>\n",
       "    <tr style=\"text-align: right;\">\n",
       "      <th></th>\n",
       "      <th>mean_fit_time</th>\n",
       "      <th>std_fit_time</th>\n",
       "      <th>mean_score_time</th>\n",
       "      <th>std_score_time</th>\n",
       "      <th>param_criterion</th>\n",
       "      <th>param_max_depth</th>\n",
       "      <th>param_min_samples_leaf</th>\n",
       "      <th>param_min_samples_split</th>\n",
       "      <th>params</th>\n",
       "      <th>split0_test_score</th>\n",
       "      <th>split1_test_score</th>\n",
       "      <th>split2_test_score</th>\n",
       "      <th>split3_test_score</th>\n",
       "      <th>split4_test_score</th>\n",
       "      <th>mean_test_score</th>\n",
       "      <th>std_test_score</th>\n",
       "      <th>rank_test_score</th>\n",
       "    </tr>\n",
       "  </thead>\n",
       "  <tbody>\n",
       "    <tr>\n",
       "      <td>0</td>\n",
       "      <td>7.120918</td>\n",
       "      <td>0.142539</td>\n",
       "      <td>0.006197</td>\n",
       "      <td>0.000400</td>\n",
       "      <td>entropy</td>\n",
       "      <td>10</td>\n",
       "      <td>5</td>\n",
       "      <td>5</td>\n",
       "      <td>{'criterion': 'entropy', 'max_depth': 10, 'min...</td>\n",
       "      <td>0.827309</td>\n",
       "      <td>0.829094</td>\n",
       "      <td>0.837275</td>\n",
       "      <td>0.839209</td>\n",
       "      <td>0.829813</td>\n",
       "      <td>0.832540</td>\n",
       "      <td>0.004766</td>\n",
       "      <td>19</td>\n",
       "    </tr>\n",
       "    <tr>\n",
       "      <td>1</td>\n",
       "      <td>6.975390</td>\n",
       "      <td>0.156879</td>\n",
       "      <td>0.005797</td>\n",
       "      <td>0.000400</td>\n",
       "      <td>entropy</td>\n",
       "      <td>10</td>\n",
       "      <td>5</td>\n",
       "      <td>25</td>\n",
       "      <td>{'criterion': 'entropy', 'max_depth': 10, 'min...</td>\n",
       "      <td>0.821360</td>\n",
       "      <td>0.826268</td>\n",
       "      <td>0.832515</td>\n",
       "      <td>0.836383</td>\n",
       "      <td>0.826837</td>\n",
       "      <td>0.828673</td>\n",
       "      <td>0.005231</td>\n",
       "      <td>22</td>\n",
       "    </tr>\n",
       "    <tr>\n",
       "      <td>2</td>\n",
       "      <td>6.988167</td>\n",
       "      <td>0.158619</td>\n",
       "      <td>0.006198</td>\n",
       "      <td>0.000401</td>\n",
       "      <td>entropy</td>\n",
       "      <td>10</td>\n",
       "      <td>5</td>\n",
       "      <td>45</td>\n",
       "      <td>{'criterion': 'entropy', 'max_depth': 10, 'min...</td>\n",
       "      <td>0.816451</td>\n",
       "      <td>0.824037</td>\n",
       "      <td>0.832367</td>\n",
       "      <td>0.834449</td>\n",
       "      <td>0.825350</td>\n",
       "      <td>0.826531</td>\n",
       "      <td>0.006418</td>\n",
       "      <td>27</td>\n",
       "    </tr>\n",
       "    <tr>\n",
       "      <td>3</td>\n",
       "      <td>6.979056</td>\n",
       "      <td>0.095473</td>\n",
       "      <td>0.006197</td>\n",
       "      <td>0.000399</td>\n",
       "      <td>entropy</td>\n",
       "      <td>10</td>\n",
       "      <td>5</td>\n",
       "      <td>65</td>\n",
       "      <td>{'criterion': 'entropy', 'max_depth': 10, 'min...</td>\n",
       "      <td>0.815856</td>\n",
       "      <td>0.824483</td>\n",
       "      <td>0.830879</td>\n",
       "      <td>0.831325</td>\n",
       "      <td>0.823713</td>\n",
       "      <td>0.825251</td>\n",
       "      <td>0.005653</td>\n",
       "      <td>36</td>\n",
       "    </tr>\n",
       "    <tr>\n",
       "      <td>4</td>\n",
       "      <td>6.791550</td>\n",
       "      <td>0.101842</td>\n",
       "      <td>0.006197</td>\n",
       "      <td>0.000748</td>\n",
       "      <td>entropy</td>\n",
       "      <td>10</td>\n",
       "      <td>25</td>\n",
       "      <td>5</td>\n",
       "      <td>{'criterion': 'entropy', 'max_depth': 10, 'min...</td>\n",
       "      <td>0.813476</td>\n",
       "      <td>0.820021</td>\n",
       "      <td>0.827755</td>\n",
       "      <td>0.828350</td>\n",
       "      <td>0.824457</td>\n",
       "      <td>0.822812</td>\n",
       "      <td>0.005528</td>\n",
       "      <td>37</td>\n",
       "    </tr>\n",
       "  </tbody>\n",
       "</table>\n",
       "</div>"
      ],
      "text/plain": [
       "   mean_fit_time  std_fit_time  mean_score_time  std_score_time  \\\n",
       "0       7.120918      0.142539         0.006197        0.000400   \n",
       "1       6.975390      0.156879         0.005797        0.000400   \n",
       "2       6.988167      0.158619         0.006198        0.000401   \n",
       "3       6.979056      0.095473         0.006197        0.000399   \n",
       "4       6.791550      0.101842         0.006197        0.000748   \n",
       "\n",
       "  param_criterion param_max_depth param_min_samples_leaf  \\\n",
       "0         entropy              10                      5   \n",
       "1         entropy              10                      5   \n",
       "2         entropy              10                      5   \n",
       "3         entropy              10                      5   \n",
       "4         entropy              10                     25   \n",
       "\n",
       "  param_min_samples_split                                             params  \\\n",
       "0                       5  {'criterion': 'entropy', 'max_depth': 10, 'min...   \n",
       "1                      25  {'criterion': 'entropy', 'max_depth': 10, 'min...   \n",
       "2                      45  {'criterion': 'entropy', 'max_depth': 10, 'min...   \n",
       "3                      65  {'criterion': 'entropy', 'max_depth': 10, 'min...   \n",
       "4                       5  {'criterion': 'entropy', 'max_depth': 10, 'min...   \n",
       "\n",
       "   split0_test_score  split1_test_score  split2_test_score  split3_test_score  \\\n",
       "0           0.827309           0.829094           0.837275           0.839209   \n",
       "1           0.821360           0.826268           0.832515           0.836383   \n",
       "2           0.816451           0.824037           0.832367           0.834449   \n",
       "3           0.815856           0.824483           0.830879           0.831325   \n",
       "4           0.813476           0.820021           0.827755           0.828350   \n",
       "\n",
       "   split4_test_score  mean_test_score  std_test_score  rank_test_score  \n",
       "0           0.829813         0.832540        0.004766               19  \n",
       "1           0.826837         0.828673        0.005231               22  \n",
       "2           0.825350         0.826531        0.006418               27  \n",
       "3           0.823713         0.825251        0.005653               36  \n",
       "4           0.824457         0.822812        0.005528               37  "
      ]
     },
     "execution_count": 300,
     "metadata": {},
     "output_type": "execute_result"
    }
   ],
   "source": [
    "# cv results\n",
    "cv_results = pd.DataFrame(grid_search.cv_results_)\n",
    "cv_results.head()"
   ]
  },
  {
   "cell_type": "code",
   "execution_count": 301,
   "metadata": {},
   "outputs": [
    {
     "name": "stdout",
     "output_type": "stream",
     "text": [
      "best accuracy 0.8587789132440813\n",
      "DecisionTreeClassifier(class_weight='balanced', criterion='entropy',\n",
      "                       max_depth=15, min_samples_leaf=5, min_samples_split=5)\n"
     ]
    }
   ],
   "source": [
    "# printing the optimal accuracy score and hyperparameters\n",
    "print(\"best accuracy\", grid_search.best_score_)\n",
    "print(grid_search.best_estimator_)"
   ]
  },
  {
   "cell_type": "code",
   "execution_count": 302,
   "metadata": {},
   "outputs": [
    {
     "data": {
      "text/plain": [
       "DecisionTreeClassifier(class_weight='balanced', max_depth=15,\n",
       "                       min_samples_leaf=5, min_samples_split=5,\n",
       "                       random_state=100)"
      ]
     },
     "execution_count": 302,
     "metadata": {},
     "output_type": "execute_result"
    }
   ],
   "source": [
    "# model with optimal hyperparameters\n",
    "clf_gini = DecisionTreeClassifier(criterion = \"gini\",class_weight='balanced',\n",
    "                                  random_state = 100,\n",
    "                                  max_depth=15, \n",
    "                                  min_samples_leaf=5,\n",
    "                                  min_samples_split=5)\n",
    "clf_gini.fit(train_pca,y_train)"
   ]
  },
  {
   "cell_type": "code",
   "execution_count": 303,
   "metadata": {},
   "outputs": [
    {
     "data": {
      "text/plain": [
       "array([[4769, 2380],\n",
       "       [ 425,  431]], dtype=int64)"
      ]
     },
     "execution_count": 303,
     "metadata": {},
     "output_type": "execute_result"
    }
   ],
   "source": [
    "y_pred_default = clf_gini.predict(test_pca)\n",
    "confusion_tree_hyper=confusion_matrix(y_test,y_pred_default)\n",
    "confusion_tree_hyper"
   ]
  },
  {
   "cell_type": "code",
   "execution_count": 304,
   "metadata": {},
   "outputs": [
    {
     "name": "stdout",
     "output_type": "stream",
     "text": [
      "Acuracy Score 0.6495940037476577\n",
      "Sensitivity:  0.5035046728971962\n",
      "Specificity:  0.6670863057770318\n",
      "false postive rate:  0.33291369422296824\n",
      "positive predictive value:  0.15332621842760583\n",
      "Negative predictive value:  0.9181748170966499\n",
      "Misclassification Rate:  0.3504059962523423\n"
     ]
    }
   ],
   "source": [
    "printingConfusionMetricDetails(confusion_tree_hyper)"
   ]
  },
  {
   "cell_type": "code",
   "execution_count": 305,
   "metadata": {},
   "outputs": [],
   "source": [
    "# Random forest\n",
    "\n",
    "# Importing random forest classifier from sklearn library\n",
    "# Running the random forest with default parameters.\n",
    "rfc = RandomForestClassifier(class_weight='balanced')\n",
    "\n",
    "# fit\n",
    "rfc.fit(train_pca,y_train)\n",
    "\n",
    "# Making predictions\n",
    "y_pred_default = rfc.predict(test_pca)"
   ]
  },
  {
   "cell_type": "code",
   "execution_count": 306,
   "metadata": {},
   "outputs": [
    {
     "data": {
      "text/plain": [
       "array([[6264,  885],\n",
       "       [ 591,  265]], dtype=int64)"
      ]
     },
     "execution_count": 306,
     "metadata": {},
     "output_type": "execute_result"
    }
   ],
   "source": [
    "confusion_rf=confusion_matrix(y_test,y_pred_default)\n",
    "confusion_rf"
   ]
  },
  {
   "cell_type": "code",
   "execution_count": 307,
   "metadata": {},
   "outputs": [
    {
     "name": "stdout",
     "output_type": "stream",
     "text": [
      "Acuracy Score 0.8156152404747034\n",
      "Sensitivity:  0.30957943925233644\n",
      "Specificity:  0.8762064624422996\n",
      "false postive rate:  0.12379353755770038\n",
      "positive predictive value:  0.23043478260869565\n",
      "Negative predictive value:  0.9137855579868709\n",
      "Misclassification Rate:  0.18438475952529668\n"
     ]
    }
   ],
   "source": [
    "printingConfusionMetricDetails(confusion_rf)"
   ]
  },
  {
   "cell_type": "code",
   "execution_count": 308,
   "metadata": {},
   "outputs": [
    {
     "data": {
      "text/plain": [
       "GridSearchCV(cv=5, estimator=RandomForestClassifier(class_weight='balanced'),\n",
       "             n_jobs=-1, param_grid={'max_depth': range(2, 20, 5)},\n",
       "             return_train_score=True, scoring='accuracy')"
      ]
     },
     "execution_count": 308,
     "metadata": {},
     "output_type": "execute_result"
    }
   ],
   "source": [
    "#Lets do some hyper parameter tuning  for RF\n",
    "\n",
    "# GridSearchCV to find optimal n_estimators\n",
    "\n",
    "# specify number of folds for k-fold CV\n",
    "n_folds = 5\n",
    "# parameters to build the model on\n",
    "parameters = {'max_depth': range(2, 20, 5)}\n",
    "\n",
    "# instantiate the model\n",
    "rf_with_pca = RandomForestClassifier(class_weight='balanced')\n",
    "\n",
    "\n",
    "# fit tree on training data\n",
    "rf_with_pca = GridSearchCV(rf_with_pca, parameters, \n",
    "                    cv=n_folds, \n",
    "                   scoring=\"accuracy\", n_jobs=-1, return_train_score=True)\n",
    "rf_with_pca.fit(train_pca, y_train)"
   ]
  },
  {
   "cell_type": "code",
   "execution_count": 309,
   "metadata": {},
   "outputs": [
    {
     "data": {
      "text/html": [
       "<div>\n",
       "<style scoped>\n",
       "    .dataframe tbody tr th:only-of-type {\n",
       "        vertical-align: middle;\n",
       "    }\n",
       "\n",
       "    .dataframe tbody tr th {\n",
       "        vertical-align: top;\n",
       "    }\n",
       "\n",
       "    .dataframe thead th {\n",
       "        text-align: right;\n",
       "    }\n",
       "</style>\n",
       "<table border=\"1\" class=\"dataframe\">\n",
       "  <thead>\n",
       "    <tr style=\"text-align: right;\">\n",
       "      <th></th>\n",
       "      <th>mean_fit_time</th>\n",
       "      <th>std_fit_time</th>\n",
       "      <th>mean_score_time</th>\n",
       "      <th>std_score_time</th>\n",
       "      <th>param_max_depth</th>\n",
       "      <th>params</th>\n",
       "      <th>split0_test_score</th>\n",
       "      <th>split1_test_score</th>\n",
       "      <th>split2_test_score</th>\n",
       "      <th>split3_test_score</th>\n",
       "      <th>...</th>\n",
       "      <th>mean_test_score</th>\n",
       "      <th>std_test_score</th>\n",
       "      <th>rank_test_score</th>\n",
       "      <th>split0_train_score</th>\n",
       "      <th>split1_train_score</th>\n",
       "      <th>split2_train_score</th>\n",
       "      <th>split3_train_score</th>\n",
       "      <th>split4_train_score</th>\n",
       "      <th>mean_train_score</th>\n",
       "      <th>std_train_score</th>\n",
       "    </tr>\n",
       "  </thead>\n",
       "  <tbody>\n",
       "    <tr>\n",
       "      <td>0</td>\n",
       "      <td>8.083950</td>\n",
       "      <td>0.039109</td>\n",
       "      <td>0.151083</td>\n",
       "      <td>0.023224</td>\n",
       "      <td>2</td>\n",
       "      <td>{'max_depth': 2}</td>\n",
       "      <td>0.764093</td>\n",
       "      <td>0.774803</td>\n",
       "      <td>0.757995</td>\n",
       "      <td>0.777332</td>\n",
       "      <td>...</td>\n",
       "      <td>0.770929</td>\n",
       "      <td>0.008487</td>\n",
       "      <td>4</td>\n",
       "      <td>0.782641</td>\n",
       "      <td>0.778662</td>\n",
       "      <td>0.761519</td>\n",
       "      <td>0.775166</td>\n",
       "      <td>0.772795</td>\n",
       "      <td>0.774157</td>\n",
       "      <td>0.007140</td>\n",
       "    </tr>\n",
       "    <tr>\n",
       "      <td>1</td>\n",
       "      <td>23.272610</td>\n",
       "      <td>0.078231</td>\n",
       "      <td>0.160309</td>\n",
       "      <td>0.033415</td>\n",
       "      <td>7</td>\n",
       "      <td>{'max_depth': 7}</td>\n",
       "      <td>0.833556</td>\n",
       "      <td>0.848728</td>\n",
       "      <td>0.848282</td>\n",
       "      <td>0.841291</td>\n",
       "      <td>...</td>\n",
       "      <td>0.845154</td>\n",
       "      <td>0.007053</td>\n",
       "      <td>3</td>\n",
       "      <td>0.866424</td>\n",
       "      <td>0.862705</td>\n",
       "      <td>0.861887</td>\n",
       "      <td>0.861218</td>\n",
       "      <td>0.864644</td>\n",
       "      <td>0.863375</td>\n",
       "      <td>0.001909</td>\n",
       "    </tr>\n",
       "    <tr>\n",
       "      <td>2</td>\n",
       "      <td>34.573013</td>\n",
       "      <td>0.250244</td>\n",
       "      <td>0.194888</td>\n",
       "      <td>0.015663</td>\n",
       "      <td>12</td>\n",
       "      <td>{'max_depth': 12}</td>\n",
       "      <td>0.910457</td>\n",
       "      <td>0.919381</td>\n",
       "      <td>0.912837</td>\n",
       "      <td>0.908225</td>\n",
       "      <td>...</td>\n",
       "      <td>0.913608</td>\n",
       "      <td>0.004130</td>\n",
       "      <td>2</td>\n",
       "      <td>0.960247</td>\n",
       "      <td>0.960582</td>\n",
       "      <td>0.959726</td>\n",
       "      <td>0.960916</td>\n",
       "      <td>0.961810</td>\n",
       "      <td>0.960656</td>\n",
       "      <td>0.000698</td>\n",
       "    </tr>\n",
       "    <tr>\n",
       "      <td>3</td>\n",
       "      <td>36.799623</td>\n",
       "      <td>4.050927</td>\n",
       "      <td>0.192150</td>\n",
       "      <td>0.041406</td>\n",
       "      <td>17</td>\n",
       "      <td>{'max_depth': 17}</td>\n",
       "      <td>0.937082</td>\n",
       "      <td>0.940503</td>\n",
       "      <td>0.940503</td>\n",
       "      <td>0.933214</td>\n",
       "      <td>...</td>\n",
       "      <td>0.937943</td>\n",
       "      <td>0.002699</td>\n",
       "      <td>1</td>\n",
       "      <td>0.986166</td>\n",
       "      <td>0.987951</td>\n",
       "      <td>0.986538</td>\n",
       "      <td>0.987989</td>\n",
       "      <td>0.986539</td>\n",
       "      <td>0.987037</td>\n",
       "      <td>0.000774</td>\n",
       "    </tr>\n",
       "  </tbody>\n",
       "</table>\n",
       "<p>4 rows × 21 columns</p>\n",
       "</div>"
      ],
      "text/plain": [
       "   mean_fit_time  std_fit_time  mean_score_time  std_score_time  \\\n",
       "0       8.083950      0.039109         0.151083        0.023224   \n",
       "1      23.272610      0.078231         0.160309        0.033415   \n",
       "2      34.573013      0.250244         0.194888        0.015663   \n",
       "3      36.799623      4.050927         0.192150        0.041406   \n",
       "\n",
       "  param_max_depth             params  split0_test_score  split1_test_score  \\\n",
       "0               2   {'max_depth': 2}           0.764093           0.774803   \n",
       "1               7   {'max_depth': 7}           0.833556           0.848728   \n",
       "2              12  {'max_depth': 12}           0.910457           0.919381   \n",
       "3              17  {'max_depth': 17}           0.937082           0.940503   \n",
       "\n",
       "   split2_test_score  split3_test_score  ...  mean_test_score  std_test_score  \\\n",
       "0           0.757995           0.777332  ...         0.770929        0.008487   \n",
       "1           0.848282           0.841291  ...         0.845154        0.007053   \n",
       "2           0.912837           0.908225  ...         0.913608        0.004130   \n",
       "3           0.940503           0.933214  ...         0.937943        0.002699   \n",
       "\n",
       "   rank_test_score  split0_train_score  split1_train_score  \\\n",
       "0                4            0.782641            0.778662   \n",
       "1                3            0.866424            0.862705   \n",
       "2                2            0.960247            0.960582   \n",
       "3                1            0.986166            0.987951   \n",
       "\n",
       "   split2_train_score  split3_train_score  split4_train_score  \\\n",
       "0            0.761519            0.775166            0.772795   \n",
       "1            0.861887            0.861218            0.864644   \n",
       "2            0.959726            0.960916            0.961810   \n",
       "3            0.986538            0.987989            0.986539   \n",
       "\n",
       "   mean_train_score  std_train_score  \n",
       "0          0.774157         0.007140  \n",
       "1          0.863375         0.001909  \n",
       "2          0.960656         0.000698  \n",
       "3          0.987037         0.000774  \n",
       "\n",
       "[4 rows x 21 columns]"
      ]
     },
     "execution_count": 309,
     "metadata": {},
     "output_type": "execute_result"
    }
   ],
   "source": [
    "# scores of GridSearch CV\n",
    "scores = rf_with_pca.cv_results_\n",
    "pd.DataFrame(scores).head()"
   ]
  },
  {
   "cell_type": "code",
   "execution_count": 310,
   "metadata": {
    "scrolled": true
   },
   "outputs": [
    {
     "data": {
      "image/png": "[encoded data removed]",
      "text/plain": [
       "<Figure size 432x288 with 1 Axes>"
      ]
     },
     "metadata": {
      "needs_background": "light"
     },
     "output_type": "display_data"
    }
   ],
   "source": [
    "# plotting accuracies with max_depth\n",
    "plt.figure()\n",
    "plt.plot(scores[\"param_max_depth\"], \n",
    "         scores[\"mean_train_score\"], \n",
    "         label=\"training accuracy\")\n",
    "plt.plot(scores[\"param_max_depth\"], \n",
    "         scores[\"mean_test_score\"], \n",
    "         label=\"test accuracy\")\n",
    "plt.xlabel(\"max_depth\")\n",
    "plt.ylabel(\"Accuracy\")\n",
    "plt.legend()\n",
    "plt.show()\n",
    "\n",
    "#seems 11 to 13"
   ]
  },
  {
   "cell_type": "code",
   "execution_count": 311,
   "metadata": {},
   "outputs": [
    {
     "name": "stdout",
     "output_type": "stream",
     "text": [
      "Fitting 5 folds for each of 4 candidates, totalling 20 fits\n"
     ]
    },
    {
     "name": "stderr",
     "output_type": "stream",
     "text": [
      "[Parallel(n_jobs=-1)]: Using backend LokyBackend with 4 concurrent workers.\n",
      "[Parallel(n_jobs=-1)]: Done  20 out of  20 | elapsed: 19.3min finished\n"
     ]
    },
    {
     "data": {
      "text/plain": [
       "GridSearchCV(cv=5,\n",
       "             estimator=RandomForestClassifier(class_weight='balanced',\n",
       "                                              max_depth=10),\n",
       "             n_jobs=-1, param_grid={'n_estimators': range(100, 1500, 400)},\n",
       "             return_train_score=True, scoring='accuracy', verbose=1)"
      ]
     },
     "execution_count": 311,
     "metadata": {},
     "output_type": "execute_result"
    }
   ],
   "source": [
    "# Tuning n_estimators\n",
    "# GridSearchCV to find optimal n_estimators\n",
    "\n",
    "# specify number of folds for k-fold CV\n",
    "n_folds = 5\n",
    "\n",
    "# parameters to build the model on\n",
    "parameters = {'n_estimators': range(100, 1500, 400)}\n",
    "\n",
    "# instantiate the model (note we are specifying a max_depth)\n",
    "rf = RandomForestClassifier(max_depth=10, class_weight='balanced')\n",
    "\n",
    "\n",
    "# fit tree on training data\n",
    "rf = GridSearchCV(rf, parameters, \n",
    "                    cv=n_folds, \n",
    "                   scoring=\"accuracy\", n_jobs=-1, verbose = 1, return_train_score=True)\n",
    "rf.fit(train_pca, y_train)"
   ]
  },
  {
   "cell_type": "code",
   "execution_count": 312,
   "metadata": {},
   "outputs": [
    {
     "data": {
      "text/html": [
       "<div>\n",
       "<style scoped>\n",
       "    .dataframe tbody tr th:only-of-type {\n",
       "        vertical-align: middle;\n",
       "    }\n",
       "\n",
       "    .dataframe tbody tr th {\n",
       "        vertical-align: top;\n",
       "    }\n",
       "\n",
       "    .dataframe thead th {\n",
       "        text-align: right;\n",
       "    }\n",
       "</style>\n",
       "<table border=\"1\" class=\"dataframe\">\n",
       "  <thead>\n",
       "    <tr style=\"text-align: right;\">\n",
       "      <th></th>\n",
       "      <th>mean_fit_time</th>\n",
       "      <th>std_fit_time</th>\n",
       "      <th>mean_score_time</th>\n",
       "      <th>std_score_time</th>\n",
       "      <th>param_n_estimators</th>\n",
       "      <th>params</th>\n",
       "      <th>split0_test_score</th>\n",
       "      <th>split1_test_score</th>\n",
       "      <th>split2_test_score</th>\n",
       "      <th>split3_test_score</th>\n",
       "      <th>...</th>\n",
       "      <th>mean_test_score</th>\n",
       "      <th>std_test_score</th>\n",
       "      <th>rank_test_score</th>\n",
       "      <th>split0_train_score</th>\n",
       "      <th>split1_train_score</th>\n",
       "      <th>split2_train_score</th>\n",
       "      <th>split3_train_score</th>\n",
       "      <th>split4_train_score</th>\n",
       "      <th>mean_train_score</th>\n",
       "      <th>std_train_score</th>\n",
       "    </tr>\n",
       "  </thead>\n",
       "  <tbody>\n",
       "    <tr>\n",
       "      <td>0</td>\n",
       "      <td>30.793941</td>\n",
       "      <td>0.300635</td>\n",
       "      <td>0.186294</td>\n",
       "      <td>0.029476</td>\n",
       "      <td>100</td>\n",
       "      <td>{'n_estimators': 100}</td>\n",
       "      <td>0.884724</td>\n",
       "      <td>0.894541</td>\n",
       "      <td>0.895136</td>\n",
       "      <td>0.883980</td>\n",
       "      <td>...</td>\n",
       "      <td>0.890046</td>\n",
       "      <td>0.004785</td>\n",
       "      <td>3</td>\n",
       "      <td>0.929010</td>\n",
       "      <td>0.928154</td>\n",
       "      <td>0.930943</td>\n",
       "      <td>0.927894</td>\n",
       "      <td>0.928306</td>\n",
       "      <td>0.928861</td>\n",
       "      <td>0.001105</td>\n",
       "    </tr>\n",
       "    <tr>\n",
       "      <td>1</td>\n",
       "      <td>152.523502</td>\n",
       "      <td>0.311181</td>\n",
       "      <td>0.876898</td>\n",
       "      <td>0.064611</td>\n",
       "      <td>500</td>\n",
       "      <td>{'n_estimators': 500}</td>\n",
       "      <td>0.884278</td>\n",
       "      <td>0.894690</td>\n",
       "      <td>0.891120</td>\n",
       "      <td>0.887996</td>\n",
       "      <td>...</td>\n",
       "      <td>0.889957</td>\n",
       "      <td>0.003546</td>\n",
       "      <td>4</td>\n",
       "      <td>0.931464</td>\n",
       "      <td>0.930758</td>\n",
       "      <td>0.929010</td>\n",
       "      <td>0.930720</td>\n",
       "      <td>0.930425</td>\n",
       "      <td>0.930475</td>\n",
       "      <td>0.000808</td>\n",
       "    </tr>\n",
       "    <tr>\n",
       "      <td>2</td>\n",
       "      <td>275.411905</td>\n",
       "      <td>0.604813</td>\n",
       "      <td>1.516131</td>\n",
       "      <td>0.030320</td>\n",
       "      <td>900</td>\n",
       "      <td>{'n_estimators': 900}</td>\n",
       "      <td>0.886063</td>\n",
       "      <td>0.895582</td>\n",
       "      <td>0.891864</td>\n",
       "      <td>0.886658</td>\n",
       "      <td>...</td>\n",
       "      <td>0.890790</td>\n",
       "      <td>0.003808</td>\n",
       "      <td>1</td>\n",
       "      <td>0.932282</td>\n",
       "      <td>0.931018</td>\n",
       "      <td>0.930348</td>\n",
       "      <td>0.930200</td>\n",
       "      <td>0.931058</td>\n",
       "      <td>0.930981</td>\n",
       "      <td>0.000736</td>\n",
       "    </tr>\n",
       "    <tr>\n",
       "      <td>3</td>\n",
       "      <td>357.867718</td>\n",
       "      <td>47.957483</td>\n",
       "      <td>1.743236</td>\n",
       "      <td>0.392050</td>\n",
       "      <td>1300</td>\n",
       "      <td>{'n_estimators': 1300}</td>\n",
       "      <td>0.885914</td>\n",
       "      <td>0.897219</td>\n",
       "      <td>0.891418</td>\n",
       "      <td>0.886658</td>\n",
       "      <td>...</td>\n",
       "      <td>0.890552</td>\n",
       "      <td>0.004071</td>\n",
       "      <td>2</td>\n",
       "      <td>0.931055</td>\n",
       "      <td>0.931538</td>\n",
       "      <td>0.930200</td>\n",
       "      <td>0.930869</td>\n",
       "      <td>0.930834</td>\n",
       "      <td>0.930899</td>\n",
       "      <td>0.000431</td>\n",
       "    </tr>\n",
       "  </tbody>\n",
       "</table>\n",
       "<p>4 rows × 21 columns</p>\n",
       "</div>"
      ],
      "text/plain": [
       "   mean_fit_time  std_fit_time  mean_score_time  std_score_time  \\\n",
       "0      30.793941      0.300635         0.186294        0.029476   \n",
       "1     152.523502      0.311181         0.876898        0.064611   \n",
       "2     275.411905      0.604813         1.516131        0.030320   \n",
       "3     357.867718     47.957483         1.743236        0.392050   \n",
       "\n",
       "  param_n_estimators                  params  split0_test_score  \\\n",
       "0                100   {'n_estimators': 100}           0.884724   \n",
       "1                500   {'n_estimators': 500}           0.884278   \n",
       "2                900   {'n_estimators': 900}           0.886063   \n",
       "3               1300  {'n_estimators': 1300}           0.885914   \n",
       "\n",
       "   split1_test_score  split2_test_score  split3_test_score  ...  \\\n",
       "0           0.894541           0.895136           0.883980  ...   \n",
       "1           0.894690           0.891120           0.887996  ...   \n",
       "2           0.895582           0.891864           0.886658  ...   \n",
       "3           0.897219           0.891418           0.886658  ...   \n",
       "\n",
       "   mean_test_score  std_test_score  rank_test_score  split0_train_score  \\\n",
       "0         0.890046        0.004785                3            0.929010   \n",
       "1         0.889957        0.003546                4            0.931464   \n",
       "2         0.890790        0.003808                1            0.932282   \n",
       "3         0.890552        0.004071                2            0.931055   \n",
       "\n",
       "   split1_train_score  split2_train_score  split3_train_score  \\\n",
       "0            0.928154            0.930943            0.927894   \n",
       "1            0.930758            0.929010            0.930720   \n",
       "2            0.931018            0.930348            0.930200   \n",
       "3            0.931538            0.930200            0.930869   \n",
       "\n",
       "   split4_train_score  mean_train_score  std_train_score  \n",
       "0            0.928306          0.928861         0.001105  \n",
       "1            0.930425          0.930475         0.000808  \n",
       "2            0.931058          0.930981         0.000736  \n",
       "3            0.930834          0.930899         0.000431  \n",
       "\n",
       "[4 rows x 21 columns]"
      ]
     },
     "execution_count": 312,
     "metadata": {},
     "output_type": "execute_result"
    }
   ],
   "source": [
    "# scores of GridSearch CV\n",
    "scores = rf.cv_results_\n",
    "pd.DataFrame(scores).head()"
   ]
  },
  {
   "cell_type": "code",
   "execution_count": 313,
   "metadata": {},
   "outputs": [
    {
     "data": {
      "image/png": "[encoded data removed]",
      "text/plain": [
       "<Figure size 432x288 with 1 Axes>"
      ]
     },
     "metadata": {
      "needs_background": "light"
     },
     "output_type": "display_data"
    }
   ],
   "source": [
    "# plotting accuracies with n_estimators\n",
    "plt.figure()\n",
    "plt.plot(scores[\"param_n_estimators\"], \n",
    "         scores[\"mean_train_score\"], \n",
    "         label=\"training accuracy\")\n",
    "plt.plot(scores[\"param_n_estimators\"], \n",
    "         scores[\"mean_test_score\"], \n",
    "         label=\"test accuracy\")\n",
    "plt.xlabel(\"n_estimators\")\n",
    "plt.ylabel(\"Accuracy\")\n",
    "plt.legend()\n",
    "plt.show()"
   ]
  },
  {
   "cell_type": "code",
   "execution_count": 314,
   "metadata": {},
   "outputs": [
    {
     "name": "stdout",
     "output_type": "stream",
     "text": [
      "Fitting 5 folds for each of 5 candidates, totalling 25 fits\n"
     ]
    },
    {
     "name": "stderr",
     "output_type": "stream",
     "text": [
      "[Parallel(n_jobs=-1)]: Using backend LokyBackend with 4 concurrent workers.\n",
      "[Parallel(n_jobs=-1)]: Done  25 out of  25 | elapsed:  6.0min finished\n"
     ]
    },
    {
     "data": {
      "text/plain": [
       "GridSearchCV(cv=5,\n",
       "             estimator=RandomForestClassifier(class_weight='balanced',\n",
       "                                              max_depth=10),\n",
       "             n_jobs=-1, param_grid={'max_features': [4, 8, 14, 20, 24]},\n",
       "             return_train_score=True, scoring='accuracy', verbose=1)"
      ]
     },
     "execution_count": 314,
     "metadata": {},
     "output_type": "execute_result"
    }
   ],
   "source": [
    "# GridSearchCV to find optimal max_features\n",
    "# specify number of folds for k-fold CV\n",
    "n_folds = 5\n",
    "\n",
    "# parameters to build the model on\n",
    "parameters = {'max_features': [4, 8, 14, 20, 24]}\n",
    "\n",
    "# instantiate the model\n",
    "rf = RandomForestClassifier(max_depth=10,class_weight='balanced')\n",
    "\n",
    "\n",
    "# fit tree on training data\n",
    "rf = GridSearchCV(rf, parameters, \n",
    "                    cv=n_folds, \n",
    "                   scoring=\"accuracy\", n_jobs=-1, return_train_score=True, verbose = 1)\n",
    "rf.fit(train_pca, y_train)"
   ]
  },
  {
   "cell_type": "code",
   "execution_count": 315,
   "metadata": {},
   "outputs": [
    {
     "data": {
      "text/html": [
       "<div>\n",
       "<style scoped>\n",
       "    .dataframe tbody tr th:only-of-type {\n",
       "        vertical-align: middle;\n",
       "    }\n",
       "\n",
       "    .dataframe tbody tr th {\n",
       "        vertical-align: top;\n",
       "    }\n",
       "\n",
       "    .dataframe thead th {\n",
       "        text-align: right;\n",
       "    }\n",
       "</style>\n",
       "<table border=\"1\" class=\"dataframe\">\n",
       "  <thead>\n",
       "    <tr style=\"text-align: right;\">\n",
       "      <th></th>\n",
       "      <th>mean_fit_time</th>\n",
       "      <th>std_fit_time</th>\n",
       "      <th>mean_score_time</th>\n",
       "      <th>std_score_time</th>\n",
       "      <th>param_max_features</th>\n",
       "      <th>params</th>\n",
       "      <th>split0_test_score</th>\n",
       "      <th>split1_test_score</th>\n",
       "      <th>split2_test_score</th>\n",
       "      <th>split3_test_score</th>\n",
       "      <th>...</th>\n",
       "      <th>mean_test_score</th>\n",
       "      <th>std_test_score</th>\n",
       "      <th>rank_test_score</th>\n",
       "      <th>split0_train_score</th>\n",
       "      <th>split1_train_score</th>\n",
       "      <th>split2_train_score</th>\n",
       "      <th>split3_train_score</th>\n",
       "      <th>split4_train_score</th>\n",
       "      <th>mean_train_score</th>\n",
       "      <th>std_train_score</th>\n",
       "    </tr>\n",
       "  </thead>\n",
       "  <tbody>\n",
       "    <tr>\n",
       "      <td>0</td>\n",
       "      <td>16.430243</td>\n",
       "      <td>0.103845</td>\n",
       "      <td>0.176299</td>\n",
       "      <td>0.007835</td>\n",
       "      <td>4</td>\n",
       "      <td>{'max_features': 4}</td>\n",
       "      <td>0.875502</td>\n",
       "      <td>0.889930</td>\n",
       "      <td>0.888294</td>\n",
       "      <td>0.886955</td>\n",
       "      <td>...</td>\n",
       "      <td>0.886149</td>\n",
       "      <td>0.005445</td>\n",
       "      <td>5</td>\n",
       "      <td>0.923618</td>\n",
       "      <td>0.923878</td>\n",
       "      <td>0.922576</td>\n",
       "      <td>0.926258</td>\n",
       "      <td>0.924327</td>\n",
       "      <td>0.924131</td>\n",
       "      <td>0.001209</td>\n",
       "    </tr>\n",
       "    <tr>\n",
       "      <td>1</td>\n",
       "      <td>30.668058</td>\n",
       "      <td>0.160341</td>\n",
       "      <td>0.167104</td>\n",
       "      <td>0.006877</td>\n",
       "      <td>8</td>\n",
       "      <td>{'max_features': 8}</td>\n",
       "      <td>0.877882</td>\n",
       "      <td>0.894987</td>\n",
       "      <td>0.891120</td>\n",
       "      <td>0.885468</td>\n",
       "      <td>...</td>\n",
       "      <td>0.887725</td>\n",
       "      <td>0.005802</td>\n",
       "      <td>4</td>\n",
       "      <td>0.927076</td>\n",
       "      <td>0.928229</td>\n",
       "      <td>0.927188</td>\n",
       "      <td>0.929233</td>\n",
       "      <td>0.929235</td>\n",
       "      <td>0.928192</td>\n",
       "      <td>0.000941</td>\n",
       "    </tr>\n",
       "    <tr>\n",
       "      <td>2</td>\n",
       "      <td>52.046807</td>\n",
       "      <td>0.179118</td>\n",
       "      <td>0.164906</td>\n",
       "      <td>0.007532</td>\n",
       "      <td>14</td>\n",
       "      <td>{'max_features': 14}</td>\n",
       "      <td>0.884278</td>\n",
       "      <td>0.897665</td>\n",
       "      <td>0.891120</td>\n",
       "      <td>0.890525</td>\n",
       "      <td>...</td>\n",
       "      <td>0.892188</td>\n",
       "      <td>0.004963</td>\n",
       "      <td>3</td>\n",
       "      <td>0.933881</td>\n",
       "      <td>0.934513</td>\n",
       "      <td>0.931724</td>\n",
       "      <td>0.933026</td>\n",
       "      <td>0.934590</td>\n",
       "      <td>0.933547</td>\n",
       "      <td>0.001070</td>\n",
       "    </tr>\n",
       "    <tr>\n",
       "      <td>3</td>\n",
       "      <td>72.802390</td>\n",
       "      <td>0.361339</td>\n",
       "      <td>0.169303</td>\n",
       "      <td>0.012250</td>\n",
       "      <td>20</td>\n",
       "      <td>{'max_features': 20}</td>\n",
       "      <td>0.890971</td>\n",
       "      <td>0.900193</td>\n",
       "      <td>0.893797</td>\n",
       "      <td>0.892607</td>\n",
       "      <td>...</td>\n",
       "      <td>0.895341</td>\n",
       "      <td>0.003658</td>\n",
       "      <td>2</td>\n",
       "      <td>0.937897</td>\n",
       "      <td>0.938121</td>\n",
       "      <td>0.936633</td>\n",
       "      <td>0.936968</td>\n",
       "      <td>0.938123</td>\n",
       "      <td>0.937548</td>\n",
       "      <td>0.000625</td>\n",
       "    </tr>\n",
       "    <tr>\n",
       "      <td>4</td>\n",
       "      <td>83.526869</td>\n",
       "      <td>2.900112</td>\n",
       "      <td>0.142279</td>\n",
       "      <td>0.042847</td>\n",
       "      <td>24</td>\n",
       "      <td>{'max_features': 24}</td>\n",
       "      <td>0.892607</td>\n",
       "      <td>0.904358</td>\n",
       "      <td>0.895136</td>\n",
       "      <td>0.892607</td>\n",
       "      <td>...</td>\n",
       "      <td>0.897394</td>\n",
       "      <td>0.004962</td>\n",
       "      <td>1</td>\n",
       "      <td>0.938158</td>\n",
       "      <td>0.939868</td>\n",
       "      <td>0.938158</td>\n",
       "      <td>0.939422</td>\n",
       "      <td>0.940428</td>\n",
       "      <td>0.939207</td>\n",
       "      <td>0.000914</td>\n",
       "    </tr>\n",
       "  </tbody>\n",
       "</table>\n",
       "<p>5 rows × 21 columns</p>\n",
       "</div>"
      ],
      "text/plain": [
       "   mean_fit_time  std_fit_time  mean_score_time  std_score_time  \\\n",
       "0      16.430243      0.103845         0.176299        0.007835   \n",
       "1      30.668058      0.160341         0.167104        0.006877   \n",
       "2      52.046807      0.179118         0.164906        0.007532   \n",
       "3      72.802390      0.361339         0.169303        0.012250   \n",
       "4      83.526869      2.900112         0.142279        0.042847   \n",
       "\n",
       "  param_max_features                params  split0_test_score  \\\n",
       "0                  4   {'max_features': 4}           0.875502   \n",
       "1                  8   {'max_features': 8}           0.877882   \n",
       "2                 14  {'max_features': 14}           0.884278   \n",
       "3                 20  {'max_features': 20}           0.890971   \n",
       "4                 24  {'max_features': 24}           0.892607   \n",
       "\n",
       "   split1_test_score  split2_test_score  split3_test_score  ...  \\\n",
       "0           0.889930           0.888294           0.886955  ...   \n",
       "1           0.894987           0.891120           0.885468  ...   \n",
       "2           0.897665           0.891120           0.890525  ...   \n",
       "3           0.900193           0.893797           0.892607  ...   \n",
       "4           0.904358           0.895136           0.892607  ...   \n",
       "\n",
       "   mean_test_score  std_test_score  rank_test_score  split0_train_score  \\\n",
       "0         0.886149        0.005445                5            0.923618   \n",
       "1         0.887725        0.005802                4            0.927076   \n",
       "2         0.892188        0.004963                3            0.933881   \n",
       "3         0.895341        0.003658                2            0.937897   \n",
       "4         0.897394        0.004962                1            0.938158   \n",
       "\n",
       "   split1_train_score  split2_train_score  split3_train_score  \\\n",
       "0            0.923878            0.922576            0.926258   \n",
       "1            0.928229            0.927188            0.929233   \n",
       "2            0.934513            0.931724            0.933026   \n",
       "3            0.938121            0.936633            0.936968   \n",
       "4            0.939868            0.938158            0.939422   \n",
       "\n",
       "   split4_train_score  mean_train_score  std_train_score  \n",
       "0            0.924327          0.924131         0.001209  \n",
       "1            0.929235          0.928192         0.000941  \n",
       "2            0.934590          0.933547         0.001070  \n",
       "3            0.938123          0.937548         0.000625  \n",
       "4            0.940428          0.939207         0.000914  \n",
       "\n",
       "[5 rows x 21 columns]"
      ]
     },
     "execution_count": 315,
     "metadata": {},
     "output_type": "execute_result"
    }
   ],
   "source": [
    "# scores of GridSearch CV\n",
    "scores = rf.cv_results_\n",
    "pd.DataFrame(scores).head()"
   ]
  },
  {
   "cell_type": "code",
   "execution_count": 316,
   "metadata": {},
   "outputs": [
    {
     "data": {
      "image/png": "[encoded data removed]",
      "text/plain": [
       "<Figure size 432x288 with 1 Axes>"
      ]
     },
     "metadata": {
      "needs_background": "light"
     },
     "output_type": "display_data"
    }
   ],
   "source": [
    "# plotting accuracies with max_features\n",
    "plt.figure()\n",
    "plt.plot(scores[\"param_max_features\"], \n",
    "         scores[\"mean_train_score\"], \n",
    "         label=\"training accuracy\")\n",
    "plt.plot(scores[\"param_max_features\"], \n",
    "         scores[\"mean_test_score\"], \n",
    "         label=\"test accuracy\")\n",
    "plt.xlabel(\"max_features\")\n",
    "plt.ylabel(\"Accuracy\")\n",
    "plt.legend()\n",
    "plt.show()\n",
    "\n",
    "# 8 to 12"
   ]
  },
  {
   "cell_type": "code",
   "execution_count": 317,
   "metadata": {},
   "outputs": [
    {
     "name": "stdout",
     "output_type": "stream",
     "text": [
      "Fitting 5 folds for each of 6 candidates, totalling 30 fits\n"
     ]
    },
    {
     "name": "stderr",
     "output_type": "stream",
     "text": [
      "[Parallel(n_jobs=-1)]: Using backend LokyBackend with 4 concurrent workers.\n",
      "[Parallel(n_jobs=-1)]: Done  30 out of  30 | elapsed:  3.2min finished\n"
     ]
    },
    {
     "data": {
      "text/plain": [
       "GridSearchCV(cv=5, estimator=RandomForestClassifier(class_weight='balanced'),\n",
       "             n_jobs=-1, param_grid={'min_samples_leaf': range(100, 400, 50)},\n",
       "             return_train_score=True, scoring='accuracy', verbose=1)"
      ]
     },
     "execution_count": 317,
     "metadata": {},
     "output_type": "execute_result"
    }
   ],
   "source": [
    "# GridSearchCV to find optimal min_samples_leaf\n",
    "\n",
    "# specify number of folds for k-fold CV\n",
    "n_folds = 5\n",
    "\n",
    "# parameters to build the model on\n",
    "parameters = {'min_samples_leaf': range(100, 400, 50)}\n",
    "\n",
    "# instantiate the model\n",
    "rf = RandomForestClassifier(class_weight='balanced')\n",
    "\n",
    "\n",
    "# fit tree on training data\n",
    "rf = GridSearchCV(rf, parameters, \n",
    "                    cv=n_folds, \n",
    "                   scoring=\"accuracy\", n_jobs=-1, return_train_score=True, verbose = 1)\n",
    "rf.fit(train_pca, y_train)"
   ]
  },
  {
   "cell_type": "code",
   "execution_count": 318,
   "metadata": {},
   "outputs": [
    {
     "data": {
      "text/html": [
       "<div>\n",
       "<style scoped>\n",
       "    .dataframe tbody tr th:only-of-type {\n",
       "        vertical-align: middle;\n",
       "    }\n",
       "\n",
       "    .dataframe tbody tr th {\n",
       "        vertical-align: top;\n",
       "    }\n",
       "\n",
       "    .dataframe thead th {\n",
       "        text-align: right;\n",
       "    }\n",
       "</style>\n",
       "<table border=\"1\" class=\"dataframe\">\n",
       "  <thead>\n",
       "    <tr style=\"text-align: right;\">\n",
       "      <th></th>\n",
       "      <th>mean_fit_time</th>\n",
       "      <th>std_fit_time</th>\n",
       "      <th>mean_score_time</th>\n",
       "      <th>std_score_time</th>\n",
       "      <th>param_min_samples_leaf</th>\n",
       "      <th>params</th>\n",
       "      <th>split0_test_score</th>\n",
       "      <th>split1_test_score</th>\n",
       "      <th>split2_test_score</th>\n",
       "      <th>split3_test_score</th>\n",
       "      <th>...</th>\n",
       "      <th>mean_test_score</th>\n",
       "      <th>std_test_score</th>\n",
       "      <th>rank_test_score</th>\n",
       "      <th>split0_train_score</th>\n",
       "      <th>split1_train_score</th>\n",
       "      <th>split2_train_score</th>\n",
       "      <th>split3_train_score</th>\n",
       "      <th>split4_train_score</th>\n",
       "      <th>mean_train_score</th>\n",
       "      <th>std_train_score</th>\n",
       "    </tr>\n",
       "  </thead>\n",
       "  <tbody>\n",
       "    <tr>\n",
       "      <td>0</td>\n",
       "      <td>27.268677</td>\n",
       "      <td>0.279795</td>\n",
       "      <td>0.159960</td>\n",
       "      <td>0.017154</td>\n",
       "      <td>100</td>\n",
       "      <td>{'min_samples_leaf': 100}</td>\n",
       "      <td>0.832515</td>\n",
       "      <td>0.851554</td>\n",
       "      <td>0.850216</td>\n",
       "      <td>0.847390</td>\n",
       "      <td>...</td>\n",
       "      <td>0.846612</td>\n",
       "      <td>0.007204</td>\n",
       "      <td>1</td>\n",
       "      <td>0.865792</td>\n",
       "      <td>0.862073</td>\n",
       "      <td>0.862259</td>\n",
       "      <td>0.863672</td>\n",
       "      <td>0.862822</td>\n",
       "      <td>0.863323</td>\n",
       "      <td>0.001354</td>\n",
       "    </tr>\n",
       "    <tr>\n",
       "      <td>1</td>\n",
       "      <td>25.402949</td>\n",
       "      <td>0.906952</td>\n",
       "      <td>0.159159</td>\n",
       "      <td>0.004664</td>\n",
       "      <td>150</td>\n",
       "      <td>{'min_samples_leaf': 150}</td>\n",
       "      <td>0.823442</td>\n",
       "      <td>0.841886</td>\n",
       "      <td>0.839506</td>\n",
       "      <td>0.836383</td>\n",
       "      <td>...</td>\n",
       "      <td>0.836497</td>\n",
       "      <td>0.006802</td>\n",
       "      <td>2</td>\n",
       "      <td>0.852441</td>\n",
       "      <td>0.847235</td>\n",
       "      <td>0.847495</td>\n",
       "      <td>0.851995</td>\n",
       "      <td>0.849323</td>\n",
       "      <td>0.849698</td>\n",
       "      <td>0.002184</td>\n",
       "    </tr>\n",
       "    <tr>\n",
       "      <td>2</td>\n",
       "      <td>25.070625</td>\n",
       "      <td>0.204555</td>\n",
       "      <td>0.155961</td>\n",
       "      <td>0.020855</td>\n",
       "      <td>200</td>\n",
       "      <td>{'min_samples_leaf': 200}</td>\n",
       "      <td>0.818533</td>\n",
       "      <td>0.838614</td>\n",
       "      <td>0.834895</td>\n",
       "      <td>0.830135</td>\n",
       "      <td>...</td>\n",
       "      <td>0.831915</td>\n",
       "      <td>0.007295</td>\n",
       "      <td>3</td>\n",
       "      <td>0.844781</td>\n",
       "      <td>0.841694</td>\n",
       "      <td>0.840393</td>\n",
       "      <td>0.841360</td>\n",
       "      <td>0.839952</td>\n",
       "      <td>0.841636</td>\n",
       "      <td>0.001694</td>\n",
       "    </tr>\n",
       "    <tr>\n",
       "      <td>3</td>\n",
       "      <td>23.879842</td>\n",
       "      <td>0.221924</td>\n",
       "      <td>0.155959</td>\n",
       "      <td>0.018926</td>\n",
       "      <td>250</td>\n",
       "      <td>{'min_samples_leaf': 250}</td>\n",
       "      <td>0.809609</td>\n",
       "      <td>0.830135</td>\n",
       "      <td>0.829838</td>\n",
       "      <td>0.825376</td>\n",
       "      <td>...</td>\n",
       "      <td>0.825995</td>\n",
       "      <td>0.008743</td>\n",
       "      <td>4</td>\n",
       "      <td>0.838682</td>\n",
       "      <td>0.835930</td>\n",
       "      <td>0.835298</td>\n",
       "      <td>0.835744</td>\n",
       "      <td>0.834672</td>\n",
       "      <td>0.836065</td>\n",
       "      <td>0.001378</td>\n",
       "    </tr>\n",
       "    <tr>\n",
       "      <td>4</td>\n",
       "      <td>22.806900</td>\n",
       "      <td>0.248104</td>\n",
       "      <td>0.146363</td>\n",
       "      <td>0.015507</td>\n",
       "      <td>300</td>\n",
       "      <td>{'min_samples_leaf': 300}</td>\n",
       "      <td>0.804700</td>\n",
       "      <td>0.823739</td>\n",
       "      <td>0.826863</td>\n",
       "      <td>0.823888</td>\n",
       "      <td>...</td>\n",
       "      <td>0.822128</td>\n",
       "      <td>0.009151</td>\n",
       "      <td>5</td>\n",
       "      <td>0.833141</td>\n",
       "      <td>0.828790</td>\n",
       "      <td>0.828456</td>\n",
       "      <td>0.832807</td>\n",
       "      <td>0.830396</td>\n",
       "      <td>0.830718</td>\n",
       "      <td>0.001958</td>\n",
       "    </tr>\n",
       "  </tbody>\n",
       "</table>\n",
       "<p>5 rows × 21 columns</p>\n",
       "</div>"
      ],
      "text/plain": [
       "   mean_fit_time  std_fit_time  mean_score_time  std_score_time  \\\n",
       "0      27.268677      0.279795         0.159960        0.017154   \n",
       "1      25.402949      0.906952         0.159159        0.004664   \n",
       "2      25.070625      0.204555         0.155961        0.020855   \n",
       "3      23.879842      0.221924         0.155959        0.018926   \n",
       "4      22.806900      0.248104         0.146363        0.015507   \n",
       "\n",
       "  param_min_samples_leaf                     params  split0_test_score  \\\n",
       "0                    100  {'min_samples_leaf': 100}           0.832515   \n",
       "1                    150  {'min_samples_leaf': 150}           0.823442   \n",
       "2                    200  {'min_samples_leaf': 200}           0.818533   \n",
       "3                    250  {'min_samples_leaf': 250}           0.809609   \n",
       "4                    300  {'min_samples_leaf': 300}           0.804700   \n",
       "\n",
       "   split1_test_score  split2_test_score  split3_test_score  ...  \\\n",
       "0           0.851554           0.850216           0.847390  ...   \n",
       "1           0.841886           0.839506           0.836383  ...   \n",
       "2           0.838614           0.834895           0.830135  ...   \n",
       "3           0.830135           0.829838           0.825376  ...   \n",
       "4           0.823739           0.826863           0.823888  ...   \n",
       "\n",
       "   mean_test_score  std_test_score  rank_test_score  split0_train_score  \\\n",
       "0         0.846612        0.007204                1            0.865792   \n",
       "1         0.836497        0.006802                2            0.852441   \n",
       "2         0.831915        0.007295                3            0.844781   \n",
       "3         0.825995        0.008743                4            0.838682   \n",
       "4         0.822128        0.009151                5            0.833141   \n",
       "\n",
       "   split1_train_score  split2_train_score  split3_train_score  \\\n",
       "0            0.862073            0.862259            0.863672   \n",
       "1            0.847235            0.847495            0.851995   \n",
       "2            0.841694            0.840393            0.841360   \n",
       "3            0.835930            0.835298            0.835744   \n",
       "4            0.828790            0.828456            0.832807   \n",
       "\n",
       "   split4_train_score  mean_train_score  std_train_score  \n",
       "0            0.862822          0.863323         0.001354  \n",
       "1            0.849323          0.849698         0.002184  \n",
       "2            0.839952          0.841636         0.001694  \n",
       "3            0.834672          0.836065         0.001378  \n",
       "4            0.830396          0.830718         0.001958  \n",
       "\n",
       "[5 rows x 21 columns]"
      ]
     },
     "execution_count": 318,
     "metadata": {},
     "output_type": "execute_result"
    }
   ],
   "source": [
    "# scores of GridSearch CV\n",
    "scores = rf.cv_results_\n",
    "pd.DataFrame(scores).head()"
   ]
  },
  {
   "cell_type": "code",
   "execution_count": 319,
   "metadata": {},
   "outputs": [
    {
     "data": {
      "image/png": "[encoded data removed]",
      "text/plain": [
       "<Figure size 432x288 with 1 Axes>"
      ]
     },
     "metadata": {
      "needs_background": "light"
     },
     "output_type": "display_data"
    }
   ],
   "source": [
    "# plotting accuracies with min_samples_leaf\n",
    "plt.figure()\n",
    "plt.plot(scores[\"param_min_samples_leaf\"], \n",
    "         scores[\"mean_train_score\"], \n",
    "         label=\"training accuracy\")\n",
    "plt.plot(scores[\"param_min_samples_leaf\"], \n",
    "         scores[\"mean_test_score\"], \n",
    "         label=\"test accuracy\")\n",
    "plt.xlabel(\"min_samples_leaf\")\n",
    "plt.ylabel(\"Accuracy\")\n",
    "plt.legend()\n",
    "plt.show()\n",
    "\n",
    "#seems 100 to 150"
   ]
  },
  {
   "cell_type": "code",
   "execution_count": 320,
   "metadata": {
    "scrolled": true
   },
   "outputs": [
    {
     "name": "stdout",
     "output_type": "stream",
     "text": [
      "Fitting 5 folds for each of 6 candidates, totalling 30 fits\n"
     ]
    },
    {
     "name": "stderr",
     "output_type": "stream",
     "text": [
      "[Parallel(n_jobs=-1)]: Using backend LokyBackend with 4 concurrent workers.\n",
      "[Parallel(n_jobs=-1)]: Done  30 out of  30 | elapsed:  4.7min finished\n"
     ]
    },
    {
     "data": {
      "text/plain": [
       "GridSearchCV(cv=5, estimator=RandomForestClassifier(class_weight='balanced'),\n",
       "             n_jobs=-1, param_grid={'min_samples_split': range(200, 500, 50)},\n",
       "             return_train_score=True, scoring='accuracy', verbose=1)"
      ]
     },
     "execution_count": 320,
     "metadata": {},
     "output_type": "execute_result"
    }
   ],
   "source": [
    "# GridSearchCV to find optimal min_samples_split\n",
    "\n",
    "# specify number of folds for k-fold CV\n",
    "n_folds = 5\n",
    "\n",
    "# parameters to build the model on\n",
    "parameters = {'min_samples_split': range(200, 500, 50)}\n",
    "\n",
    "# instantiate the model\n",
    "rf = RandomForestClassifier(class_weight='balanced')\n",
    "\n",
    "\n",
    "# fit tree on training data\n",
    "rf = GridSearchCV(rf, parameters, \n",
    "                    cv=n_folds, \n",
    "                   scoring=\"accuracy\", return_train_score=True, n_jobs=-1, verbose = 1)\n",
    "rf.fit(train_pca, y_train)"
   ]
  },
  {
   "cell_type": "code",
   "execution_count": 321,
   "metadata": {},
   "outputs": [
    {
     "data": {
      "text/html": [
       "<div>\n",
       "<style scoped>\n",
       "    .dataframe tbody tr th:only-of-type {\n",
       "        vertical-align: middle;\n",
       "    }\n",
       "\n",
       "    .dataframe tbody tr th {\n",
       "        vertical-align: top;\n",
       "    }\n",
       "\n",
       "    .dataframe thead th {\n",
       "        text-align: right;\n",
       "    }\n",
       "</style>\n",
       "<table border=\"1\" class=\"dataframe\">\n",
       "  <thead>\n",
       "    <tr style=\"text-align: right;\">\n",
       "      <th></th>\n",
       "      <th>mean_fit_time</th>\n",
       "      <th>std_fit_time</th>\n",
       "      <th>mean_score_time</th>\n",
       "      <th>std_score_time</th>\n",
       "      <th>param_min_samples_split</th>\n",
       "      <th>params</th>\n",
       "      <th>split0_test_score</th>\n",
       "      <th>split1_test_score</th>\n",
       "      <th>split2_test_score</th>\n",
       "      <th>split3_test_score</th>\n",
       "      <th>...</th>\n",
       "      <th>mean_test_score</th>\n",
       "      <th>std_test_score</th>\n",
       "      <th>rank_test_score</th>\n",
       "      <th>split0_train_score</th>\n",
       "      <th>split1_train_score</th>\n",
       "      <th>split2_train_score</th>\n",
       "      <th>split3_train_score</th>\n",
       "      <th>split4_train_score</th>\n",
       "      <th>mean_train_score</th>\n",
       "      <th>std_train_score</th>\n",
       "    </tr>\n",
       "  </thead>\n",
       "  <tbody>\n",
       "    <tr>\n",
       "      <td>0</td>\n",
       "      <td>38.953305</td>\n",
       "      <td>0.315442</td>\n",
       "      <td>0.196750</td>\n",
       "      <td>0.005878</td>\n",
       "      <td>200</td>\n",
       "      <td>{'min_samples_split': 200}</td>\n",
       "      <td>0.846497</td>\n",
       "      <td>0.870445</td>\n",
       "      <td>0.865536</td>\n",
       "      <td>0.864495</td>\n",
       "      <td>...</td>\n",
       "      <td>0.862676</td>\n",
       "      <td>0.008337</td>\n",
       "      <td>1</td>\n",
       "      <td>0.894091</td>\n",
       "      <td>0.887546</td>\n",
       "      <td>0.887583</td>\n",
       "      <td>0.889703</td>\n",
       "      <td>0.888220</td>\n",
       "      <td>0.889429</td>\n",
       "      <td>0.002459</td>\n",
       "    </tr>\n",
       "    <tr>\n",
       "      <td>1</td>\n",
       "      <td>37.973190</td>\n",
       "      <td>0.642144</td>\n",
       "      <td>0.190352</td>\n",
       "      <td>0.017992</td>\n",
       "      <td>250</td>\n",
       "      <td>{'min_samples_split': 250}</td>\n",
       "      <td>0.836680</td>\n",
       "      <td>0.861669</td>\n",
       "      <td>0.858397</td>\n",
       "      <td>0.855422</td>\n",
       "      <td>...</td>\n",
       "      <td>0.854704</td>\n",
       "      <td>0.009292</td>\n",
       "      <td>2</td>\n",
       "      <td>0.882265</td>\n",
       "      <td>0.876910</td>\n",
       "      <td>0.877952</td>\n",
       "      <td>0.878249</td>\n",
       "      <td>0.880559</td>\n",
       "      <td>0.879187</td>\n",
       "      <td>0.001947</td>\n",
       "    </tr>\n",
       "    <tr>\n",
       "      <td>2</td>\n",
       "      <td>35.821748</td>\n",
       "      <td>0.632474</td>\n",
       "      <td>0.181554</td>\n",
       "      <td>0.016312</td>\n",
       "      <td>300</td>\n",
       "      <td>{'min_samples_split': 300}</td>\n",
       "      <td>0.834151</td>\n",
       "      <td>0.858248</td>\n",
       "      <td>0.855422</td>\n",
       "      <td>0.850216</td>\n",
       "      <td>...</td>\n",
       "      <td>0.850539</td>\n",
       "      <td>0.008589</td>\n",
       "      <td>3</td>\n",
       "      <td>0.874940</td>\n",
       "      <td>0.868878</td>\n",
       "      <td>0.870440</td>\n",
       "      <td>0.872151</td>\n",
       "      <td>0.870036</td>\n",
       "      <td>0.871289</td>\n",
       "      <td>0.002106</td>\n",
       "    </tr>\n",
       "    <tr>\n",
       "      <td>3</td>\n",
       "      <td>34.726627</td>\n",
       "      <td>0.279460</td>\n",
       "      <td>0.171157</td>\n",
       "      <td>0.002993</td>\n",
       "      <td>350</td>\n",
       "      <td>{'min_samples_split': 350}</td>\n",
       "      <td>0.830135</td>\n",
       "      <td>0.856760</td>\n",
       "      <td>0.849026</td>\n",
       "      <td>0.847092</td>\n",
       "      <td>...</td>\n",
       "      <td>0.847147</td>\n",
       "      <td>0.009126</td>\n",
       "      <td>4</td>\n",
       "      <td>0.869213</td>\n",
       "      <td>0.862519</td>\n",
       "      <td>0.864044</td>\n",
       "      <td>0.865866</td>\n",
       "      <td>0.864123</td>\n",
       "      <td>0.865153</td>\n",
       "      <td>0.002290</td>\n",
       "    </tr>\n",
       "    <tr>\n",
       "      <td>4</td>\n",
       "      <td>34.169625</td>\n",
       "      <td>0.423874</td>\n",
       "      <td>0.161560</td>\n",
       "      <td>0.005985</td>\n",
       "      <td>400</td>\n",
       "      <td>{'min_samples_split': 400}</td>\n",
       "      <td>0.825673</td>\n",
       "      <td>0.853191</td>\n",
       "      <td>0.847241</td>\n",
       "      <td>0.842332</td>\n",
       "      <td>...</td>\n",
       "      <td>0.843845</td>\n",
       "      <td>0.009794</td>\n",
       "      <td>5</td>\n",
       "      <td>0.863374</td>\n",
       "      <td>0.859358</td>\n",
       "      <td>0.858168</td>\n",
       "      <td>0.861589</td>\n",
       "      <td>0.859810</td>\n",
       "      <td>0.860460</td>\n",
       "      <td>0.001825</td>\n",
       "    </tr>\n",
       "  </tbody>\n",
       "</table>\n",
       "<p>5 rows × 21 columns</p>\n",
       "</div>"
      ],
      "text/plain": [
       "   mean_fit_time  std_fit_time  mean_score_time  std_score_time  \\\n",
       "0      38.953305      0.315442         0.196750        0.005878   \n",
       "1      37.973190      0.642144         0.190352        0.017992   \n",
       "2      35.821748      0.632474         0.181554        0.016312   \n",
       "3      34.726627      0.279460         0.171157        0.002993   \n",
       "4      34.169625      0.423874         0.161560        0.005985   \n",
       "\n",
       "  param_min_samples_split                      params  split0_test_score  \\\n",
       "0                     200  {'min_samples_split': 200}           0.846497   \n",
       "1                     250  {'min_samples_split': 250}           0.836680   \n",
       "2                     300  {'min_samples_split': 300}           0.834151   \n",
       "3                     350  {'min_samples_split': 350}           0.830135   \n",
       "4                     400  {'min_samples_split': 400}           0.825673   \n",
       "\n",
       "   split1_test_score  split2_test_score  split3_test_score  ...  \\\n",
       "0           0.870445           0.865536           0.864495  ...   \n",
       "1           0.861669           0.858397           0.855422  ...   \n",
       "2           0.858248           0.855422           0.850216  ...   \n",
       "3           0.856760           0.849026           0.847092  ...   \n",
       "4           0.853191           0.847241           0.842332  ...   \n",
       "\n",
       "   mean_test_score  std_test_score  rank_test_score  split0_train_score  \\\n",
       "0         0.862676        0.008337                1            0.894091   \n",
       "1         0.854704        0.009292                2            0.882265   \n",
       "2         0.850539        0.008589                3            0.874940   \n",
       "3         0.847147        0.009126                4            0.869213   \n",
       "4         0.843845        0.009794                5            0.863374   \n",
       "\n",
       "   split1_train_score  split2_train_score  split3_train_score  \\\n",
       "0            0.887546            0.887583            0.889703   \n",
       "1            0.876910            0.877952            0.878249   \n",
       "2            0.868878            0.870440            0.872151   \n",
       "3            0.862519            0.864044            0.865866   \n",
       "4            0.859358            0.858168            0.861589   \n",
       "\n",
       "   split4_train_score  mean_train_score  std_train_score  \n",
       "0            0.888220          0.889429         0.002459  \n",
       "1            0.880559          0.879187         0.001947  \n",
       "2            0.870036          0.871289         0.002106  \n",
       "3            0.864123          0.865153         0.002290  \n",
       "4            0.859810          0.860460         0.001825  \n",
       "\n",
       "[5 rows x 21 columns]"
      ]
     },
     "execution_count": 321,
     "metadata": {},
     "output_type": "execute_result"
    }
   ],
   "source": [
    "# scores of GridSearch CV\n",
    "scores = rf.cv_results_\n",
    "pd.DataFrame(scores).head()"
   ]
  },
  {
   "cell_type": "code",
   "execution_count": 322,
   "metadata": {},
   "outputs": [
    {
     "data": {
      "image/png": "[encoded data removed]",
      "text/plain": [
       "<Figure size 432x288 with 1 Axes>"
      ]
     },
     "metadata": {
      "needs_background": "light"
     },
     "output_type": "display_data"
    }
   ],
   "source": [
    "# plotting accuracies with min_samples_split\n",
    "plt.figure()\n",
    "plt.plot(scores[\"param_min_samples_split\"], \n",
    "         scores[\"mean_train_score\"], \n",
    "         label=\"training accuracy\")\n",
    "plt.plot(scores[\"param_min_samples_split\"], \n",
    "         scores[\"mean_test_score\"], \n",
    "         label=\"test accuracy\")\n",
    "plt.xlabel(\"min_samples_split\")\n",
    "plt.ylabel(\"Accuracy\")\n",
    "plt.legend()\n",
    "plt.show()\n",
    "\n",
    "# 200 to 300"
   ]
  },
  {
   "cell_type": "code",
   "execution_count": 323,
   "metadata": {},
   "outputs": [],
   "source": [
    "# Create the parameter grid based on the results of random search \n",
    "param_grid = {\n",
    "    'max_depth': [11,13],\n",
    "    'min_samples_leaf': range(100, 150, 50),\n",
    "    'min_samples_split': range(200, 400, 100),\n",
    "    'n_estimators': range(300, 600, 100), \n",
    "    'max_features': [8, 10, 12]\n",
    "}\n",
    "# Create a based model\n",
    "rf = RandomForestClassifier(class_weight='balanced')\n",
    "\n",
    "# Instantiate the grid search model\n",
    "grid_search = GridSearchCV(estimator = rf, param_grid = param_grid,refit='recall_score' ,\n",
    "                          cv = 3, n_jobs=-1, verbose = 1)"
   ]
  },
  {
   "cell_type": "code",
   "execution_count": 324,
   "metadata": {},
   "outputs": [
    {
     "name": "stdout",
     "output_type": "stream",
     "text": [
      "Fitting 3 folds for each of 36 candidates, totalling 108 fits\n"
     ]
    },
    {
     "name": "stderr",
     "output_type": "stream",
     "text": [
      "[Parallel(n_jobs=-1)]: Using backend LokyBackend with 4 concurrent workers.\n",
      "[Parallel(n_jobs=-1)]: Done  42 tasks      | elapsed: 17.5min\n",
      "[Parallel(n_jobs=-1)]: Done 108 out of 108 | elapsed: 47.9min finished\n"
     ]
    },
    {
     "data": {
      "text/plain": [
       "GridSearchCV(cv=3, estimator=RandomForestClassifier(class_weight='balanced'),\n",
       "             n_jobs=-1,\n",
       "             param_grid={'max_depth': [11, 13], 'max_features': [8, 10, 12],\n",
       "                         'min_samples_leaf': range(100, 150, 50),\n",
       "                         'min_samples_split': range(200, 400, 100),\n",
       "                         'n_estimators': range(300, 600, 100)},\n",
       "             refit='recall_score', verbose=1)"
      ]
     },
     "execution_count": 324,
     "metadata": {},
     "output_type": "execute_result"
    }
   ],
   "source": [
    "# Fit the grid search to the data\n",
    "grid_search.fit(train_pca, y_train)"
   ]
  },
  {
   "cell_type": "code",
   "execution_count": 325,
   "metadata": {},
   "outputs": [
    {
     "name": "stdout",
     "output_type": "stream",
     "text": [
      "Accuracy got is 0.8459274707089959 using {'max_depth': 13, 'max_features': 10, 'min_samples_leaf': 100, 'min_samples_split': 200, 'n_estimators': 300}\n"
     ]
    }
   ],
   "source": [
    "# printing the optimal accuracy score and hyperparameters\n",
    "print('Accuracy got is',grid_search.best_score_,'using',grid_search.best_params_)"
   ]
  },
  {
   "cell_type": "code",
   "execution_count": 326,
   "metadata": {},
   "outputs": [],
   "source": [
    "# model with the best hyperparameters\n",
    "\n",
    "rfc = RandomForestClassifier(bootstrap=True, class_weight='balanced',\n",
    "                             max_depth=13,\n",
    "                             min_samples_leaf=100, \n",
    "                             min_samples_split=200,\n",
    "                             max_features=10,\n",
    "                             n_estimators=400)"
   ]
  },
  {
   "cell_type": "code",
   "execution_count": 327,
   "metadata": {},
   "outputs": [
    {
     "data": {
      "text/plain": [
       "RandomForestClassifier(class_weight='balanced', max_depth=13, max_features=10,\n",
       "                       min_samples_leaf=100, min_samples_split=200,\n",
       "                       n_estimators=400)"
      ]
     },
     "execution_count": 327,
     "metadata": {},
     "output_type": "execute_result"
    }
   ],
   "source": [
    "rfc.fit(train_pca,y_train)"
   ]
  },
  {
   "cell_type": "code",
   "execution_count": 328,
   "metadata": {},
   "outputs": [],
   "source": [
    "# predict\n",
    "y_pred_default = rfc.predict(test_pca)"
   ]
  },
  {
   "cell_type": "code",
   "execution_count": 329,
   "metadata": {},
   "outputs": [
    {
     "data": {
      "text/plain": [
       "array([[5017, 2132],\n",
       "       [ 328,  528]], dtype=int64)"
      ]
     },
     "execution_count": 329,
     "metadata": {},
     "output_type": "execute_result"
    }
   ],
   "source": [
    "# Confusion Matrix\n",
    "confusion_rf_hyper=confusion_matrix(y_test,y_pred_default)\n",
    "confusion_rf_hyper"
   ]
  },
  {
   "cell_type": "code",
   "execution_count": 330,
   "metadata": {},
   "outputs": [
    {
     "name": "stdout",
     "output_type": "stream",
     "text": [
      "Acuracy Score 0.6926920674578388\n",
      "Sensitivity:  0.616822429906542\n",
      "Specificity:  0.7017764722338788\n",
      "false postive rate:  0.29822352776612115\n",
      "positive predictive value:  0.19849624060150375\n",
      "Negative predictive value:  0.9386342376052386\n",
      "Misclassification Rate:  0.30730793254216116\n"
     ]
    }
   ],
   "source": [
    "printingConfusionMetricDetails(confusion_rf_hyper)"
   ]
  },
  {
   "cell_type": "code",
   "execution_count": 331,
   "metadata": {},
   "outputs": [],
   "source": [
    "# COMPARING MODELS"
   ]
  },
  {
   "cell_type": "code",
   "execution_count": 332,
   "metadata": {},
   "outputs": [],
   "source": [
    "#first logistic reg - accu - 84, Se - 74 , Spec - 85\n",
    "# PCA - Logisc - acc-50, Sen - 77, Sepc - 46\n",
    "# DT - first - Acc - 60, Sen -67 , Spec - 59\n",
    "# DT - tuning - Acc - 64, Sen - 50, Spec - 66\n",
    "# RF - - first - Acc  81, Sen - 30, Sepc - 87\n",
    "# RF - post tuning - Acc - 69 Sen - 61, Sepc -70\n",
    "# \n",
    "# RF seems to have hte highest Accuracy post PCA"
   ]
  },
  {
   "cell_type": "code",
   "execution_count": 333,
   "metadata": {},
   "outputs": [],
   "source": [
    "# let us use Logistic regression and  RF on full data set to get the important parameters"
   ]
  },
  {
   "cell_type": "code",
   "execution_count": 334,
   "metadata": {},
   "outputs": [],
   "source": [
    "# 1. Logistic Regression- Important Features"
   ]
  },
  {
   "cell_type": "code",
   "execution_count": 335,
   "metadata": {},
   "outputs": [],
   "source": [
    "logreg = LogisticRegression()\n",
    "\n",
    "logreg.fit(X_train_after_scaling, y_train)\n",
    "\n",
    "lr = LogisticRegression(solver = 'lbfgs')"
   ]
  },
  {
   "cell_type": "code",
   "execution_count": 336,
   "metadata": {},
   "outputs": [],
   "source": [
    "y_pred = logreg.predict(X_test_after_scaling)"
   ]
  },
  {
   "cell_type": "code",
   "execution_count": 337,
   "metadata": {},
   "outputs": [
    {
     "name": "stdout",
     "output_type": "stream",
     "text": [
      "0.15028107432854465\n",
      "-0.5736491150321004\n",
      "[[6135 1014]\n",
      " [ 189  667]]\n",
      "Acuracy Score 0.8497189256714553\n",
      "Sensitivity:  0.7792056074766355\n",
      "Specificity:  0.8581619806966009\n",
      "false postive rate:  0.14183801930339907\n",
      "positive predictive value:  0.3967876264128495\n",
      "Negative predictive value:  0.9701138519924098\n",
      "Misclassification Rate:  0.15028107432854465\n"
     ]
    }
   ],
   "source": [
    "printingMSEandRsquare(y_test, y_pred)\n",
    "confusion_matrix_1 = confusion_matrix(y_test, y_pred)\n",
    "print(confusion_matrix_1)\n",
    "y_pred_default = y_pred\n",
    "printingConfusionMetricDetails(confusion_matrix_1)\n"
   ]
  },
  {
   "cell_type": "code",
   "execution_count": 338,
   "metadata": {},
   "outputs": [
    {
     "name": "stdout",
     "output_type": "stream",
     "text": [
      "tuned hpyerparameters :(best parameters)  {'C': 1000.0, 'penalty': 'l2'}\n",
      "accuracy : 0.8626181958040944\n"
     ]
    }
   ],
   "source": [
    "gridSearchForLR(lr,X_train_after_scaling,y_train)"
   ]
  },
  {
   "cell_type": "code",
   "execution_count": 339,
   "metadata": {},
   "outputs": [
    {
     "data": {
      "text/plain": [
       "LogisticRegression(C=1000)"
      ]
     },
     "execution_count": 339,
     "metadata": {},
     "output_type": "execute_result"
    }
   ],
   "source": [
    "logreg_afterTuning=LogisticRegression(C=1000,penalty=\"l2\")\n",
    "logreg_afterTuning.fit(X_train_after_scaling, y_train)"
   ]
  },
  {
   "cell_type": "code",
   "execution_count": 340,
   "metadata": {},
   "outputs": [],
   "source": [
    "y_pred = logreg_afterTuning.predict(X_test_after_scaling)"
   ]
  },
  {
   "cell_type": "code",
   "execution_count": 341,
   "metadata": {},
   "outputs": [
    {
     "name": "stdout",
     "output_type": "stream",
     "text": [
      "0.1476577139287945\n",
      "-0.5461789309791709\n"
     ]
    }
   ],
   "source": [
    "printingMSEandRsquare(y_test, y_pred)"
   ]
  },
  {
   "cell_type": "code",
   "execution_count": 342,
   "metadata": {},
   "outputs": [
    {
     "name": "stdout",
     "output_type": "stream",
     "text": [
      "[[6160  989]\n",
      " [ 193  663]]\n"
     ]
    }
   ],
   "source": [
    "confusion_matrix_LR = confusion_matrix(y_test, y_pred)\n",
    "print(confusion_matrix_LR)"
   ]
  },
  {
   "cell_type": "code",
   "execution_count": 343,
   "metadata": {},
   "outputs": [
    {
     "name": "stdout",
     "output_type": "stream",
     "text": [
      "Acuracy Score 0.8523422860712055\n",
      "Sensitivity:  0.7745327102803738\n",
      "Specificity:  0.8616589732829767\n",
      "false postive rate:  0.13834102671702336\n",
      "positive predictive value:  0.4013317191283293\n",
      "Negative predictive value:  0.9696206516606328\n",
      "Misclassification Rate:  0.1476577139287945\n"
     ]
    }
   ],
   "source": [
    "y_pred_default = y_pred\n",
    "printingConfusionMetricDetails(confusion_matrix_LR)"
   ]
  },
  {
   "cell_type": "code",
   "execution_count": 344,
   "metadata": {},
   "outputs": [
    {
     "name": "stdout",
     "output_type": "stream",
     "text": [
      "[('total_rech_data_8',\n",
      "  22.795497739721466),\n",
      " ('count_rech_2g_8',\n",
      "  19.172239690358445),\n",
      " ('count_rech_3g_8',\n",
      "  15.61335977691228),\n",
      " ('std_og_t2m_mou_8',\n",
      "  1.0855273517738668),\n",
      " ('amt_data_8',\n",
      "  0.9183763873283998),\n",
      " ('avg_std_og_t2t_mou_av67',\n",
      "  0.8286968643092189),\n",
      " ('onnet_mou_8',\n",
      "  0.5366286675994093),\n",
      " ('avg_total_rech_num_av67',\n",
      "  0.4895284238348489),\n",
      " ('avg_arpu_2g_av67',\n",
      "  0.42130940139963),\n",
      " ('avg_offnet_mou_av67',\n",
      "  0.4211313125779051),\n",
      " ('avg_loc_ic_t2m_mou_av67',\n",
      "  0.36001681004557284),\n",
      " ('avg_loc_og_t2t_mou_av67',\n",
      "  0.34921449296447427),\n",
      " ('roam_og_mou_8',\n",
      "  0.31222140334924353),\n",
      " ('avg_max_rech_data_av67',\n",
      "  0.28655536120506647),\n",
      " ('arpu_2g_8',\n",
      "  0.2784599020596347),\n",
      " ('loc_og_t2m_mou_8',\n",
      "  0.16925456246483642),\n",
      " ('avg_max_rech_amt_av67',\n",
      "  0.14006379123810422),\n",
      " ('avg_isd_og_mou_av67',\n",
      "  0.1289407621294376),\n",
      " ('avg_days_since_recharge_av67',\n",
      "  0.11902074767314977),\n",
      " ('max_rech_data_8',\n",
      "  0.10798805308483454),\n",
      " ('avg_isd_ic_mou_av67',\n",
      "  0.1044909390870871),\n",
      " ('avg_vol_3g_mb_av67',\n",
      "  0.1008846476676677),\n",
      " ('avg_loc_ic_t2t_mou_av67',\n",
      "  0.09956547274660295),\n",
      " ('avg_spl_og_mou_av67',\n",
      "  0.09771934820992494),\n",
      " ('loc_og_t2c_mou_8',\n",
      "  0.09308923731663607),\n",
      " ('avg_monthly_2g_av67',\n",
      "  0.09303122406437268),\n",
      " ('avg_arpu_av67',\n",
      "  0.08823625592943263),\n",
      " ('avg_fb_user_av67',\n",
      "  0.08213304799705434),\n",
      " ('arpu_8',\n",
      "  0.07633364918608466),\n",
      " ('avg_total_rech_data_av67',\n",
      "  0.07031405597406484),\n",
      " ('av_rech_amt_data_8',\n",
      "  0.0694776957748034),\n",
      " ('avg_monthly_3g_av67',\n",
      "  0.0685600115418201),\n",
      " ('avg_count_rech_3g_av67',\n",
      "  0.06840436310592313),\n",
      " ('avg_roam_ic_mou_av67',\n",
      "  0.0634437305412586),\n",
      " ('avg_count_rech_2g_av67',\n",
      "  0.047898781488324084),\n",
      " ('avg_roam_og_mou_av67',\n",
      "  0.04346638415792872),\n",
      " ('avg_std_ic_t2t_mou_av67',\n",
      "  0.041890341108077364),\n",
      " ('days_since_recharge_8',\n",
      "  0.03268143290759729),\n",
      " ('avg_sachet_3g_av67',\n",
      "  0.030084793957589083),\n",
      " ('avg_sachet_2g_av67',\n",
      "  0.029257720124691678),\n",
      " ('std_og_t2f_mou_8',\n",
      "  0.028709044036468893),\n",
      " ('avg_std_ic_t2f_mou_av67',\n",
      "  0.019443534457512616),\n",
      " ('avg_arpu_3g_av67',\n",
      "  0.009520567364064005),\n",
      " ('avg_vol_2g_mb_av67',\n",
      "  0.008080901128108208),\n",
      " ('vol_2g_mb_8',\n",
      "  -0.007771853419877272),\n",
      " ('spl_og_mou_8',\n",
      "  -0.008104379218419165),\n",
      " ('avg_std_og_t2f_mou_av67',\n",
      "  -0.011207480460902164),\n",
      " ('avg_ic_others_av67',\n",
      "  -0.014612587787833187),\n",
      " ('avg_loc_og_t2f_mou_av67',\n",
      "  -0.0233131502795785),\n",
      " ('avg_loc_ic_t2f_mou_av67',\n",
      "  -0.025410919017137826),\n",
      " ('avg_spl_ic_mou_av67',\n",
      "  -0.025847273485011604),\n",
      " ('avg_amt_data_av67',\n",
      "  -0.03452142302377592),\n",
      " ('avg_total_rech_amt_av67',\n",
      "  -0.034874245525101995),\n",
      " ('vol_3g_mb_8',\n",
      "  -0.04531048685756374),\n",
      " ('max_rech_amt_8',\n",
      "  -0.05139232019838339),\n",
      " ('avg_og_others_av67',\n",
      "  -0.05740362945870074),\n",
      " ('ic_others_8',\n",
      "  -0.05871790643416298),\n",
      " ('avg_std_ic_t2m_mou_av67',\n",
      "  -0.059252599985836076),\n",
      " ('std_ic_t2f_mou_8',\n",
      "  -0.06365827740254598),\n",
      " ('roam_ic_mou_8',\n",
      "  -0.06440812749298482),\n",
      " ('loc_og_t2f_mou_8',\n",
      "  -0.0739284561221029),\n",
      " ('avg_last_day_rch_amt_av67',\n",
      "  -0.07796010920417595),\n",
      " ('avg_vbc_3g_av67',\n",
      "  -0.09725518735822236),\n",
      " ('isd_og_mou_8',\n",
      "  -0.1043382066492523),\n",
      " ('isd_ic_mou_8',\n",
      "  -0.12019716496842767),\n",
      " ('avg_loc_og_t2c_mou_av67',\n",
      "  -0.13443688596892497),\n",
      " ('avg_night_pck_user_av67',\n",
      "  -0.14614729275166238),\n",
      " ('std_ic_t2m_mou_8',\n",
      "  -0.1480471483566454),\n",
      " ('avg_loc_og_t2m_mou_av67',\n",
      "  -0.19403015235785215),\n",
      " ('avg_std_og_t2m_mou_av67',\n",
      "  -0.1963175959390007),\n",
      " ('vbc_3g_8',\n",
      "  -0.1989331150968001),\n",
      " ('std_ic_t2t_mou_8',\n",
      "  -0.22571539380150255),\n",
      " ('loc_ic_t2f_mou_8',\n",
      "  -0.23979685334384587),\n",
      " ('spl_ic_mou_8',\n",
      "  -0.2736462777867636),\n",
      " ('night_pck_user_8',\n",
      "  -0.2957097267285451),\n",
      " ('months_on_nw',\n",
      "  -0.36528446851317126),\n",
      " ('arpu_3g_8',\n",
      "  -0.38548388252586513),\n",
      " ('last_day_rch_amt_8',\n",
      "  -0.3992821153606273),\n",
      " ('loc_og_t2t_mou_8',\n",
      "  -0.40579531503649713),\n",
      " ('fb_user_8',\n",
      "  -0.4751554138947354),\n",
      " ('loc_ic_t2t_mou_8',\n",
      "  -0.4864404144814074),\n",
      " ('avg_av_rech_amt_data_av67',\n",
      "  -0.5678451437788873),\n",
      " ('total_rech_amt_8',\n",
      "  -0.6763566952001052),\n",
      " ('std_og_t2t_mou_8',\n",
      "  -0.7663583727632765),\n",
      " ('avg_onnet_mou_av67',\n",
      "  -0.7668846690197276),\n",
      " ('total_rech_num_8',\n",
      "  -0.8917409842255853),\n",
      " ('loc_ic_t2m_mou_8',\n",
      "  -0.9360609882440305),\n",
      " ('offnet_mou_8',\n",
      "  -1.6545649965761762),\n",
      " ('monthly_2g_8',\n",
      "  -8.023212428665865),\n",
      " ('sachet_3g_8',\n",
      "  -14.147974413748203),\n",
      " ('monthly_3g_8',\n",
      "  -18.160901024999877),\n",
      " ('sachet_2g_8',\n",
      "  -38.1632738675575)]\n"
     ]
    }
   ],
   "source": [
    "#Printing importance table for Logistic Regression\n",
    "importance = logreg_afterTuning.coef_[0]\n",
    "impFeaturesforModels(importance)"
   ]
  },
  {
   "cell_type": "code",
   "execution_count": 345,
   "metadata": {},
   "outputs": [
    {
     "data": {
      "text/plain": [
       "<matplotlib.axes._subplots.AxesSubplot at 0x1ef00352308>"
      ]
     },
     "execution_count": 345,
     "metadata": {},
     "output_type": "execute_result"
    },
    {
     "data": {
      "image/png": "[encoded data removed]",
      "text/plain": [
       "<Figure size 432x288 with 1 Axes>"
      ]
     },
     "metadata": {
      "needs_background": "light"
     },
     "output_type": "display_data"
    }
   ],
   "source": [
    "weights = pd.Series(importance,\n",
    "                 index=X.columns.values)\n",
    "weights.sort_values()[-10:].plot(kind = 'barh')"
   ]
  },
  {
   "cell_type": "code",
   "execution_count": 346,
   "metadata": {},
   "outputs": [],
   "source": [
    "# Random Forest with Best Hyper Parameters - important Features"
   ]
  },
  {
   "cell_type": "code",
   "execution_count": 347,
   "metadata": {},
   "outputs": [],
   "source": [
    "rfc_with_HyperParams = RandomForestClassifier(bootstrap=True, class_weight='balanced',\n",
    "                             max_depth=10,\n",
    "                             min_samples_leaf=100, \n",
    "                             min_samples_split=200,\n",
    "                             max_features=12,\n",
    "                             n_estimators=200)"
   ]
  },
  {
   "cell_type": "code",
   "execution_count": 348,
   "metadata": {},
   "outputs": [
    {
     "data": {
      "text/plain": [
       "RandomForestClassifier(class_weight='balanced', max_depth=10, max_features=12,\n",
       "                       min_samples_leaf=100, min_samples_split=200,\n",
       "                       n_estimators=200)"
      ]
     },
     "execution_count": 348,
     "metadata": {},
     "output_type": "execute_result"
    }
   ],
   "source": [
    "rfc_with_HyperParams.fit(X_train_after_scaling,y_train)"
   ]
  },
  {
   "cell_type": "code",
   "execution_count": 349,
   "metadata": {},
   "outputs": [],
   "source": [
    "# predict\n",
    "y_pred_default = rfc_with_HyperParams.predict(X_test_after_scaling)"
   ]
  },
  {
   "cell_type": "code",
   "execution_count": 350,
   "metadata": {},
   "outputs": [
    {
     "data": {
      "text/plain": [
       "array([[6415,  734],\n",
       "       [ 161,  695]], dtype=int64)"
      ]
     },
     "execution_count": 350,
     "metadata": {},
     "output_type": "execute_result"
    }
   ],
   "source": [
    "# Confusion Matrix\n",
    "confusion_rf_hyper=confusion_matrix(y_test,y_pred_default)\n",
    "confusion_rf_hyper"
   ]
  },
  {
   "cell_type": "code",
   "execution_count": 351,
   "metadata": {},
   "outputs": [
    {
     "name": "stdout",
     "output_type": "stream",
     "text": [
      "Acuracy Score 0.8881948782011243\n",
      "Sensitivity:  0.8119158878504673\n",
      "Specificity:  0.8973282976640089\n",
      "false postive rate:  0.10267170233599104\n",
      "positive predictive value:  0.48635409377186845\n",
      "Negative predictive value:  0.9755170316301703\n",
      "Misclassification Rate:  0.11180512179887571\n"
     ]
    }
   ],
   "source": [
    "printingConfusionMetricDetails(confusion_rf_hyper)"
   ]
  },
  {
   "cell_type": "code",
   "execution_count": 352,
   "metadata": {},
   "outputs": [
    {
     "name": "stdout",
     "output_type": "stream",
     "text": [
      "[('loc_ic_t2m_mou_8',\n",
      "  0.09054413806718951),\n",
      " ('roam_ic_mou_8',\n",
      "  0.08909418733980555),\n",
      " ('total_rech_amt_8',\n",
      "  0.08857687473347069),\n",
      " ('roam_og_mou_8',\n",
      "  0.08285881069243871),\n",
      " ('loc_og_t2m_mou_8',\n",
      "  0.08058304378103708),\n",
      " ('amt_data_8',\n",
      "  0.07785466424714899),\n",
      " ('arpu_8',\n",
      "  0.057648896722412156),\n",
      " ('last_day_rch_amt_8',\n",
      "  0.050424551752782536),\n",
      " ('offnet_mou_8',\n",
      "  0.03678421687243153),\n",
      " ('loc_og_t2t_mou_8',\n",
      "  0.033943130419831324),\n",
      " ('days_since_recharge_8',\n",
      "  0.03344259593654181),\n",
      " ('max_rech_amt_8',\n",
      "  0.033156619749922886),\n",
      " ('loc_ic_t2t_mou_8',\n",
      "  0.030447723792266398),\n",
      " ('onnet_mou_8',\n",
      "  0.020155763615860793),\n",
      " ('night_pck_user_8',\n",
      "  0.017625414535677446),\n",
      " ('total_rech_num_8',\n",
      "  0.014805500356219161),\n",
      " ('fb_user_8',\n",
      "  0.011770358638829352),\n",
      " ('loc_ic_t2f_mou_8',\n",
      "  0.00869910318870907),\n",
      " ('total_rech_data_8',\n",
      "  0.00820177550030849),\n",
      " ('loc_og_t2f_mou_8',\n",
      "  0.00811120287702212),\n",
      " ('avg_loc_og_t2c_mou_av67',\n",
      "  0.007341571481916788),\n",
      " ('std_ic_t2m_mou_8',\n",
      "  0.006959607245958658),\n",
      " ('avg_spl_og_mou_av67',\n",
      "  0.0068169928033025426),\n",
      " ('max_rech_data_8',\n",
      "  0.006451236692516789),\n",
      " ('avg_total_rech_num_av67',\n",
      "  0.005178409034569094),\n",
      " ('std_og_t2m_mou_8',\n",
      "  0.0048274938523033715),\n",
      " ('avg_spl_ic_mou_av67',\n",
      "  0.004553863948452114),\n",
      " ('av_rech_amt_data_8',\n",
      "  0.004444405403796515),\n",
      " ('avg_loc_ic_t2m_mou_av67',\n",
      "  0.004386986972208618),\n",
      " ('avg_roam_og_mou_av67',\n",
      "  0.00369051368610048),\n",
      " ('months_on_nw',\n",
      "  0.003594863630923324),\n",
      " ('avg_max_rech_amt_av67',\n",
      "  0.0033511709275296318),\n",
      " ('std_og_t2t_mou_8',\n",
      "  0.0032357740532734302),\n",
      " ('avg_roam_ic_mou_av67',\n",
      "  0.003146157118387636),\n",
      " ('avg_loc_og_t2m_mou_av67',\n",
      "  0.0029238639349617357),\n",
      " ('spl_og_mou_8',\n",
      "  0.002897917970241344),\n",
      " ('avg_night_pck_user_av67',\n",
      "  0.0027311674220302667),\n",
      " ('avg_og_others_av67',\n",
      "  0.0026123919310392023),\n",
      " ('avg_std_ic_t2t_mou_av67',\n",
      "  0.0025163077800080817),\n",
      " ('count_rech_2g_8',\n",
      "  0.002355186880882693),\n",
      " ('avg_std_og_t2t_mou_av67',\n",
      "  0.002230092173331441),\n",
      " ('avg_offnet_mou_av67',\n",
      "  0.0020653486713379057),\n",
      " ('avg_last_day_rch_amt_av67',\n",
      "  0.0016897560942441274),\n",
      " ('vol_2g_mb_8',\n",
      "  0.0016269108346681543),\n",
      " ('avg_ic_others_av67',\n",
      "  0.00157268957580108),\n",
      " ('avg_arpu_2g_av67',\n",
      "  0.001551072244309965),\n",
      " ('vbc_3g_8',\n",
      "  0.001508150392130088),\n",
      " ('avg_onnet_mou_av67',\n",
      "  0.0013108991320211615),\n",
      " ('loc_og_t2c_mou_8',\n",
      "  0.001193616646345639),\n",
      " ('avg_loc_ic_t2f_mou_av67',\n",
      "  0.0011784749329011531),\n",
      " ('avg_loc_ic_t2t_mou_av67',\n",
      "  0.001176721207163434),\n",
      " ('avg_days_since_recharge_av67',\n",
      "  0.0011563240697643644),\n",
      " ('avg_fb_user_av67',\n",
      "  0.0011552063730762112),\n",
      " ('avg_loc_og_t2t_mou_av67',\n",
      "  0.001142223081978305),\n",
      " ('avg_arpu_av67',\n",
      "  0.0011366121137152397),\n",
      " ('avg_std_og_t2m_mou_av67',\n",
      "  0.0010917441967536862),\n",
      " ('avg_isd_ic_mou_av67',\n",
      "  0.0010776806310553687),\n",
      " ('vol_3g_mb_8',\n",
      "  0.001054372728787346),\n",
      " ('avg_total_rech_amt_av67',\n",
      "  0.0010282773111957265),\n",
      " ('avg_amt_data_av67',\n",
      "  0.0009702509029934322),\n",
      " ('avg_count_rech_2g_av67',\n",
      "  0.0008829230300165943),\n",
      " ('std_ic_t2t_mou_8',\n",
      "  0.0008782812935848633),\n",
      " ('avg_total_rech_data_av67',\n",
      "  0.0008752258092946674),\n",
      " ('avg_av_rech_amt_data_av67',\n",
      "  0.0008365051705529114),\n",
      " ('std_ic_t2f_mou_8',\n",
      "  0.0008229761906503459),\n",
      " ('avg_max_rech_data_av67',\n",
      "  0.0008026425020801557),\n",
      " ('avg_vol_2g_mb_av67',\n",
      "  0.0007653074399146007),\n",
      " ('avg_vol_3g_mb_av67',\n",
      "  0.0006826060104004905),\n",
      " ('avg_loc_og_t2f_mou_av67',\n",
      "  0.0006444520555950646),\n",
      " ('avg_vbc_3g_av67',\n",
      "  0.0006366413883498863),\n",
      " ('avg_arpu_3g_av67',\n",
      "  0.0006338641370358206),\n",
      " ('avg_std_ic_t2f_mou_av67',\n",
      "  0.000572016373398014),\n",
      " ('avg_monthly_3g_av67',\n",
      "  0.0005075055375133201),\n",
      " ('avg_sachet_2g_av67',\n",
      "  0.0005002691145722964),\n",
      " ('avg_std_ic_t2m_mou_av67',\n",
      "  0.0004873321938892461),\n",
      " ('isd_ic_mou_8',\n",
      "  0.0004806045634636147),\n",
      " ('arpu_2g_8',\n",
      "  0.00044756971608454207),\n",
      " ('avg_count_rech_3g_av67',\n",
      "  0.00043003177231843836),\n",
      " ('count_rech_3g_8',\n",
      "  0.0003653386525325452),\n",
      " ('avg_isd_og_mou_av67',\n",
      "  0.00036425765281639344),\n",
      " ('avg_monthly_2g_av67',\n",
      "  0.0002639107925018319),\n",
      " ('sachet_2g_8',\n",
      "  0.0002314757235114712),\n",
      " ('arpu_3g_8',\n",
      "  0.00022812514537337762),\n",
      " ('monthly_2g_8',\n",
      "  0.00021889418218968472),\n",
      " ('avg_sachet_3g_av67',\n",
      "  0.00020955936659302173),\n",
      " ('avg_std_og_t2f_mou_av67',\n",
      "  0.00020903217683825476),\n",
      " ('ic_others_8',\n",
      "  0.00010600655963749807),\n",
      " ('monthly_3g_8',\n",
      "  7.360089137182284e-05),\n",
      " ('spl_ic_mou_8',\n",
      "  7.118091281288098e-05),\n",
      " ('std_og_t2f_mou_8',\n",
      "  6.818459622087037e-05),\n",
      " ('isd_og_mou_8',\n",
      "  4.280014500380675e-05),\n",
      " ('sachet_3g_8',\n",
      "  0.0)]\n"
     ]
    }
   ],
   "source": [
    "#Printing importance table for Random Forest\n",
    "importance = rfc_with_HyperParams.feature_importances_\n",
    "impFeaturesforModels(importance)\n",
    "# let us use RF on full data set to get the important parameters"
   ]
  },
  {
   "cell_type": "code",
   "execution_count": 353,
   "metadata": {},
   "outputs": [
    {
     "data": {
      "text/plain": [
       "<matplotlib.axes._subplots.AxesSubplot at 0x1ef00332288>"
      ]
     },
     "execution_count": 353,
     "metadata": {},
     "output_type": "execute_result"
    },
    {
     "data": {
      "image/png": "[encoded data removed]",
      "text/plain": [
       "<Figure size 432x288 with 1 Axes>"
      ]
     },
     "metadata": {
      "needs_background": "light"
     },
     "output_type": "display_data"
    }
   ],
   "source": [
    "weights = pd.Series(importance,\n",
    "                 index=X.columns.values)\n",
    "weights.sort_values()[-10:].plot(kind = 'barh')"
   ]
  },
  {
   "cell_type": "code",
   "execution_count": 354,
   "metadata": {},
   "outputs": [],
   "source": [
    "#top parameters of LR\n",
    "# 1) total_rech_data_8 2)count_rech_2g_8 3) count_rech_3g_8 4)std_og_t2m_mou_8 5)avg_std_og_t2t_mou_av67\n",
    "# 6)amt_data_8 7)onnet_mou_8 8)avg_offnet_mou_av67 9) avg_arpu_2g_av67 10) avg_total_rech_num_av67\n",
    "\n",
    "#top parameters for RF\n",
    "#1)total_rech_amt_8 2) roam_og_mou_8 3) amt_data_8 4)loc_ic_t2m_mou_8 5)roam_ic_mou_8\n",
    "#6)loc_og_t2m_mou_8 7)arpu_8 8)offnet_mou_8 9) last_day_rch_amt_8 10)loc_ic_t2t_mou_8"
   ]
  },
  {
   "cell_type": "code",
   "execution_count": 355,
   "metadata": {},
   "outputs": [],
   "source": [
    "# observations\n",
    "# 1) Total rechargeable amount (and total rech data included there) for month 8 seems to be a strong indicator\n",
    "# 2) Number of times customer recharges for 2g and 3g data are also strong indicators of Churn\n",
    "# 3) Average revenue per user - dipping is a strong indicator of Churn\n"
   ]
  }
 ],
 "metadata": {
  "kernelspec": {
   "display_name": "Python 3",
   "language": "python",
   "name": "python3"
  },
  "language_info": {
   "codemirror_mode": {
    "name": "ipython",
    "version": 3
   },
   "file_extension": ".py",
   "mimetype": "text/x-python",
   "name": "python",
   "nbconvert_exporter": "python",
   "pygments_lexer": "ipython3",
   "version": "3.7.4"
  }
 },
 "nbformat": 4,
 "nbformat_minor": 2
}
