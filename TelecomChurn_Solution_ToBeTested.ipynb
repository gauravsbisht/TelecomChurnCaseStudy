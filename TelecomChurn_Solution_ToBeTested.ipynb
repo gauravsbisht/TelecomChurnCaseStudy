{
 "cells": [
  {
   "cell_type": "code",
   "execution_count": 1332,
   "metadata": {},
   "outputs": [],
   "source": [
    "#!pip install imblearn --user  \n",
    "#uncomment below only if imblearn is not installed \n",
    "\n",
    "#restart Jupyter engine again is still fails to import imblearn"
   ]
  },
  {
   "cell_type": "code",
   "execution_count": 1333,
   "metadata": {},
   "outputs": [],
   "source": [
    "# Importing the required libraries\n",
    "import numpy as np, pandas as pd\n",
    "import matplotlib.pyplot as plt\n",
    "import seaborn as sns\n",
    "import operator\n",
    "import pprint\n",
    "\n",
    "from imblearn.over_sampling import SMOTE \n",
    "from sklearn.preprocessing import StandardScaler\n",
    "from sklearn.metrics import confusion_matrix\n",
    "# Importing classification report and confusion matrix from sklearn metrics\n",
    "from sklearn.metrics import classification_report, confusion_matrix, accuracy_score\n",
    "from sklearn.linear_model import LogisticRegression\n",
    "from sklearn.metrics import mean_squared_error, r2_score\n",
    "\n",
    "from sklearn.model_selection import KFold\n",
    "from sklearn.model_selection import GridSearchCV\n",
    "\n",
    "from sklearn.tree import DecisionTreeClassifier\n",
    "from sklearn.ensemble import RandomForestClassifier\n",
    "\n",
    "import warnings\n",
    "warnings.filterwarnings('ignore')"
   ]
  },
  {
   "cell_type": "code",
   "execution_count": 1334,
   "metadata": {},
   "outputs": [],
   "source": [
    "data = pd.read_csv(\"telecom_churn_data.csv\", sep=',', encoding='ISO-8859-1')"
   ]
  },
  {
   "cell_type": "code",
   "execution_count": 1335,
   "metadata": {},
   "outputs": [
    {
     "data": {
      "text/html": [
       "<div>\n",
       "<style scoped>\n",
       "    .dataframe tbody tr th:only-of-type {\n",
       "        vertical-align: middle;\n",
       "    }\n",
       "\n",
       "    .dataframe tbody tr th {\n",
       "        vertical-align: top;\n",
       "    }\n",
       "\n",
       "    .dataframe thead th {\n",
       "        text-align: right;\n",
       "    }\n",
       "</style>\n",
       "<table border=\"1\" class=\"dataframe\">\n",
       "  <thead>\n",
       "    <tr style=\"text-align: right;\">\n",
       "      <th></th>\n",
       "      <th>mobile_number</th>\n",
       "      <th>circle_id</th>\n",
       "      <th>loc_og_t2o_mou</th>\n",
       "      <th>std_og_t2o_mou</th>\n",
       "      <th>loc_ic_t2o_mou</th>\n",
       "      <th>last_date_of_month_6</th>\n",
       "      <th>last_date_of_month_7</th>\n",
       "      <th>last_date_of_month_8</th>\n",
       "      <th>last_date_of_month_9</th>\n",
       "      <th>arpu_6</th>\n",
       "      <th>...</th>\n",
       "      <th>sachet_3g_9</th>\n",
       "      <th>fb_user_6</th>\n",
       "      <th>fb_user_7</th>\n",
       "      <th>fb_user_8</th>\n",
       "      <th>fb_user_9</th>\n",
       "      <th>aon</th>\n",
       "      <th>aug_vbc_3g</th>\n",
       "      <th>jul_vbc_3g</th>\n",
       "      <th>jun_vbc_3g</th>\n",
       "      <th>sep_vbc_3g</th>\n",
       "    </tr>\n",
       "  </thead>\n",
       "  <tbody>\n",
       "    <tr>\n",
       "      <td>0</td>\n",
       "      <td>7000842753</td>\n",
       "      <td>109</td>\n",
       "      <td>0.0</td>\n",
       "      <td>0.0</td>\n",
       "      <td>0.0</td>\n",
       "      <td>6/30/2014</td>\n",
       "      <td>7/31/2014</td>\n",
       "      <td>8/31/2014</td>\n",
       "      <td>9/30/2014</td>\n",
       "      <td>197.385</td>\n",
       "      <td>...</td>\n",
       "      <td>0</td>\n",
       "      <td>1.0</td>\n",
       "      <td>1.0</td>\n",
       "      <td>1.0</td>\n",
       "      <td>NaN</td>\n",
       "      <td>968</td>\n",
       "      <td>30.4</td>\n",
       "      <td>0.0</td>\n",
       "      <td>101.20</td>\n",
       "      <td>3.58</td>\n",
       "    </tr>\n",
       "    <tr>\n",
       "      <td>1</td>\n",
       "      <td>7001865778</td>\n",
       "      <td>109</td>\n",
       "      <td>0.0</td>\n",
       "      <td>0.0</td>\n",
       "      <td>0.0</td>\n",
       "      <td>6/30/2014</td>\n",
       "      <td>7/31/2014</td>\n",
       "      <td>8/31/2014</td>\n",
       "      <td>9/30/2014</td>\n",
       "      <td>34.047</td>\n",
       "      <td>...</td>\n",
       "      <td>0</td>\n",
       "      <td>NaN</td>\n",
       "      <td>1.0</td>\n",
       "      <td>1.0</td>\n",
       "      <td>NaN</td>\n",
       "      <td>1006</td>\n",
       "      <td>0.0</td>\n",
       "      <td>0.0</td>\n",
       "      <td>0.00</td>\n",
       "      <td>0.00</td>\n",
       "    </tr>\n",
       "    <tr>\n",
       "      <td>2</td>\n",
       "      <td>7001625959</td>\n",
       "      <td>109</td>\n",
       "      <td>0.0</td>\n",
       "      <td>0.0</td>\n",
       "      <td>0.0</td>\n",
       "      <td>6/30/2014</td>\n",
       "      <td>7/31/2014</td>\n",
       "      <td>8/31/2014</td>\n",
       "      <td>9/30/2014</td>\n",
       "      <td>167.690</td>\n",
       "      <td>...</td>\n",
       "      <td>0</td>\n",
       "      <td>NaN</td>\n",
       "      <td>NaN</td>\n",
       "      <td>NaN</td>\n",
       "      <td>1.0</td>\n",
       "      <td>1103</td>\n",
       "      <td>0.0</td>\n",
       "      <td>0.0</td>\n",
       "      <td>4.17</td>\n",
       "      <td>0.00</td>\n",
       "    </tr>\n",
       "    <tr>\n",
       "      <td>3</td>\n",
       "      <td>7001204172</td>\n",
       "      <td>109</td>\n",
       "      <td>0.0</td>\n",
       "      <td>0.0</td>\n",
       "      <td>0.0</td>\n",
       "      <td>6/30/2014</td>\n",
       "      <td>7/31/2014</td>\n",
       "      <td>8/31/2014</td>\n",
       "      <td>9/30/2014</td>\n",
       "      <td>221.338</td>\n",
       "      <td>...</td>\n",
       "      <td>0</td>\n",
       "      <td>NaN</td>\n",
       "      <td>NaN</td>\n",
       "      <td>NaN</td>\n",
       "      <td>NaN</td>\n",
       "      <td>2491</td>\n",
       "      <td>0.0</td>\n",
       "      <td>0.0</td>\n",
       "      <td>0.00</td>\n",
       "      <td>0.00</td>\n",
       "    </tr>\n",
       "    <tr>\n",
       "      <td>4</td>\n",
       "      <td>7000142493</td>\n",
       "      <td>109</td>\n",
       "      <td>0.0</td>\n",
       "      <td>0.0</td>\n",
       "      <td>0.0</td>\n",
       "      <td>6/30/2014</td>\n",
       "      <td>7/31/2014</td>\n",
       "      <td>8/31/2014</td>\n",
       "      <td>9/30/2014</td>\n",
       "      <td>261.636</td>\n",
       "      <td>...</td>\n",
       "      <td>0</td>\n",
       "      <td>0.0</td>\n",
       "      <td>NaN</td>\n",
       "      <td>NaN</td>\n",
       "      <td>NaN</td>\n",
       "      <td>1526</td>\n",
       "      <td>0.0</td>\n",
       "      <td>0.0</td>\n",
       "      <td>0.00</td>\n",
       "      <td>0.00</td>\n",
       "    </tr>\n",
       "  </tbody>\n",
       "</table>\n",
       "<p>5 rows × 226 columns</p>\n",
       "</div>"
      ],
      "text/plain": [
       "   mobile_number  circle_id  loc_og_t2o_mou  std_og_t2o_mou  loc_ic_t2o_mou  \\\n",
       "0     7000842753        109             0.0             0.0             0.0   \n",
       "1     7001865778        109             0.0             0.0             0.0   \n",
       "2     7001625959        109             0.0             0.0             0.0   \n",
       "3     7001204172        109             0.0             0.0             0.0   \n",
       "4     7000142493        109             0.0             0.0             0.0   \n",
       "\n",
       "  last_date_of_month_6 last_date_of_month_7 last_date_of_month_8  \\\n",
       "0            6/30/2014            7/31/2014            8/31/2014   \n",
       "1            6/30/2014            7/31/2014            8/31/2014   \n",
       "2            6/30/2014            7/31/2014            8/31/2014   \n",
       "3            6/30/2014            7/31/2014            8/31/2014   \n",
       "4            6/30/2014            7/31/2014            8/31/2014   \n",
       "\n",
       "  last_date_of_month_9   arpu_6  ...  sachet_3g_9  fb_user_6  fb_user_7  \\\n",
       "0            9/30/2014  197.385  ...            0        1.0        1.0   \n",
       "1            9/30/2014   34.047  ...            0        NaN        1.0   \n",
       "2            9/30/2014  167.690  ...            0        NaN        NaN   \n",
       "3            9/30/2014  221.338  ...            0        NaN        NaN   \n",
       "4            9/30/2014  261.636  ...            0        0.0        NaN   \n",
       "\n",
       "   fb_user_8  fb_user_9   aon  aug_vbc_3g  jul_vbc_3g  jun_vbc_3g  sep_vbc_3g  \n",
       "0        1.0        NaN   968        30.4         0.0      101.20        3.58  \n",
       "1        1.0        NaN  1006         0.0         0.0        0.00        0.00  \n",
       "2        NaN        1.0  1103         0.0         0.0        4.17        0.00  \n",
       "3        NaN        NaN  2491         0.0         0.0        0.00        0.00  \n",
       "4        NaN        NaN  1526         0.0         0.0        0.00        0.00  \n",
       "\n",
       "[5 rows x 226 columns]"
      ]
     },
     "execution_count": 1335,
     "metadata": {},
     "output_type": "execute_result"
    }
   ],
   "source": [
    "data.head()"
   ]
  },
  {
   "cell_type": "code",
   "execution_count": 1336,
   "metadata": {},
   "outputs": [
    {
     "name": "stdout",
     "output_type": "stream",
     "text": [
      "<class 'pandas.core.frame.DataFrame'>\n",
      "RangeIndex: 99999 entries, 0 to 99998\n",
      "Data columns (total 226 columns):\n",
      "mobile_number               int64\n",
      "circle_id                   int64\n",
      "loc_og_t2o_mou              float64\n",
      "std_og_t2o_mou              float64\n",
      "loc_ic_t2o_mou              float64\n",
      "last_date_of_month_6        object\n",
      "last_date_of_month_7        object\n",
      "last_date_of_month_8        object\n",
      "last_date_of_month_9        object\n",
      "arpu_6                      float64\n",
      "arpu_7                      float64\n",
      "arpu_8                      float64\n",
      "arpu_9                      float64\n",
      "onnet_mou_6                 float64\n",
      "onnet_mou_7                 float64\n",
      "onnet_mou_8                 float64\n",
      "onnet_mou_9                 float64\n",
      "offnet_mou_6                float64\n",
      "offnet_mou_7                float64\n",
      "offnet_mou_8                float64\n",
      "offnet_mou_9                float64\n",
      "roam_ic_mou_6               float64\n",
      "roam_ic_mou_7               float64\n",
      "roam_ic_mou_8               float64\n",
      "roam_ic_mou_9               float64\n",
      "roam_og_mou_6               float64\n",
      "roam_og_mou_7               float64\n",
      "roam_og_mou_8               float64\n",
      "roam_og_mou_9               float64\n",
      "loc_og_t2t_mou_6            float64\n",
      "loc_og_t2t_mou_7            float64\n",
      "loc_og_t2t_mou_8            float64\n",
      "loc_og_t2t_mou_9            float64\n",
      "loc_og_t2m_mou_6            float64\n",
      "loc_og_t2m_mou_7            float64\n",
      "loc_og_t2m_mou_8            float64\n",
      "loc_og_t2m_mou_9            float64\n",
      "loc_og_t2f_mou_6            float64\n",
      "loc_og_t2f_mou_7            float64\n",
      "loc_og_t2f_mou_8            float64\n",
      "loc_og_t2f_mou_9            float64\n",
      "loc_og_t2c_mou_6            float64\n",
      "loc_og_t2c_mou_7            float64\n",
      "loc_og_t2c_mou_8            float64\n",
      "loc_og_t2c_mou_9            float64\n",
      "loc_og_mou_6                float64\n",
      "loc_og_mou_7                float64\n",
      "loc_og_mou_8                float64\n",
      "loc_og_mou_9                float64\n",
      "std_og_t2t_mou_6            float64\n",
      "std_og_t2t_mou_7            float64\n",
      "std_og_t2t_mou_8            float64\n",
      "std_og_t2t_mou_9            float64\n",
      "std_og_t2m_mou_6            float64\n",
      "std_og_t2m_mou_7            float64\n",
      "std_og_t2m_mou_8            float64\n",
      "std_og_t2m_mou_9            float64\n",
      "std_og_t2f_mou_6            float64\n",
      "std_og_t2f_mou_7            float64\n",
      "std_og_t2f_mou_8            float64\n",
      "std_og_t2f_mou_9            float64\n",
      "std_og_t2c_mou_6            float64\n",
      "std_og_t2c_mou_7            float64\n",
      "std_og_t2c_mou_8            float64\n",
      "std_og_t2c_mou_9            float64\n",
      "std_og_mou_6                float64\n",
      "std_og_mou_7                float64\n",
      "std_og_mou_8                float64\n",
      "std_og_mou_9                float64\n",
      "isd_og_mou_6                float64\n",
      "isd_og_mou_7                float64\n",
      "isd_og_mou_8                float64\n",
      "isd_og_mou_9                float64\n",
      "spl_og_mou_6                float64\n",
      "spl_og_mou_7                float64\n",
      "spl_og_mou_8                float64\n",
      "spl_og_mou_9                float64\n",
      "og_others_6                 float64\n",
      "og_others_7                 float64\n",
      "og_others_8                 float64\n",
      "og_others_9                 float64\n",
      "total_og_mou_6              float64\n",
      "total_og_mou_7              float64\n",
      "total_og_mou_8              float64\n",
      "total_og_mou_9              float64\n",
      "loc_ic_t2t_mou_6            float64\n",
      "loc_ic_t2t_mou_7            float64\n",
      "loc_ic_t2t_mou_8            float64\n",
      "loc_ic_t2t_mou_9            float64\n",
      "loc_ic_t2m_mou_6            float64\n",
      "loc_ic_t2m_mou_7            float64\n",
      "loc_ic_t2m_mou_8            float64\n",
      "loc_ic_t2m_mou_9            float64\n",
      "loc_ic_t2f_mou_6            float64\n",
      "loc_ic_t2f_mou_7            float64\n",
      "loc_ic_t2f_mou_8            float64\n",
      "loc_ic_t2f_mou_9            float64\n",
      "loc_ic_mou_6                float64\n",
      "loc_ic_mou_7                float64\n",
      "loc_ic_mou_8                float64\n",
      "loc_ic_mou_9                float64\n",
      "std_ic_t2t_mou_6            float64\n",
      "std_ic_t2t_mou_7            float64\n",
      "std_ic_t2t_mou_8            float64\n",
      "std_ic_t2t_mou_9            float64\n",
      "std_ic_t2m_mou_6            float64\n",
      "std_ic_t2m_mou_7            float64\n",
      "std_ic_t2m_mou_8            float64\n",
      "std_ic_t2m_mou_9            float64\n",
      "std_ic_t2f_mou_6            float64\n",
      "std_ic_t2f_mou_7            float64\n",
      "std_ic_t2f_mou_8            float64\n",
      "std_ic_t2f_mou_9            float64\n",
      "std_ic_t2o_mou_6            float64\n",
      "std_ic_t2o_mou_7            float64\n",
      "std_ic_t2o_mou_8            float64\n",
      "std_ic_t2o_mou_9            float64\n",
      "std_ic_mou_6                float64\n",
      "std_ic_mou_7                float64\n",
      "std_ic_mou_8                float64\n",
      "std_ic_mou_9                float64\n",
      "total_ic_mou_6              float64\n",
      "total_ic_mou_7              float64\n",
      "total_ic_mou_8              float64\n",
      "total_ic_mou_9              float64\n",
      "spl_ic_mou_6                float64\n",
      "spl_ic_mou_7                float64\n",
      "spl_ic_mou_8                float64\n",
      "spl_ic_mou_9                float64\n",
      "isd_ic_mou_6                float64\n",
      "isd_ic_mou_7                float64\n",
      "isd_ic_mou_8                float64\n",
      "isd_ic_mou_9                float64\n",
      "ic_others_6                 float64\n",
      "ic_others_7                 float64\n",
      "ic_others_8                 float64\n",
      "ic_others_9                 float64\n",
      "total_rech_num_6            int64\n",
      "total_rech_num_7            int64\n",
      "total_rech_num_8            int64\n",
      "total_rech_num_9            int64\n",
      "total_rech_amt_6            int64\n",
      "total_rech_amt_7            int64\n",
      "total_rech_amt_8            int64\n",
      "total_rech_amt_9            int64\n",
      "max_rech_amt_6              int64\n",
      "max_rech_amt_7              int64\n",
      "max_rech_amt_8              int64\n",
      "max_rech_amt_9              int64\n",
      "date_of_last_rech_6         object\n",
      "date_of_last_rech_7         object\n",
      "date_of_last_rech_8         object\n",
      "date_of_last_rech_9         object\n",
      "last_day_rch_amt_6          int64\n",
      "last_day_rch_amt_7          int64\n",
      "last_day_rch_amt_8          int64\n",
      "last_day_rch_amt_9          int64\n",
      "date_of_last_rech_data_6    object\n",
      "date_of_last_rech_data_7    object\n",
      "date_of_last_rech_data_8    object\n",
      "date_of_last_rech_data_9    object\n",
      "total_rech_data_6           float64\n",
      "total_rech_data_7           float64\n",
      "total_rech_data_8           float64\n",
      "total_rech_data_9           float64\n",
      "max_rech_data_6             float64\n",
      "max_rech_data_7             float64\n",
      "max_rech_data_8             float64\n",
      "max_rech_data_9             float64\n",
      "count_rech_2g_6             float64\n",
      "count_rech_2g_7             float64\n",
      "count_rech_2g_8             float64\n",
      "count_rech_2g_9             float64\n",
      "count_rech_3g_6             float64\n",
      "count_rech_3g_7             float64\n",
      "count_rech_3g_8             float64\n",
      "count_rech_3g_9             float64\n",
      "av_rech_amt_data_6          float64\n",
      "av_rech_amt_data_7          float64\n",
      "av_rech_amt_data_8          float64\n",
      "av_rech_amt_data_9          float64\n",
      "vol_2g_mb_6                 float64\n",
      "vol_2g_mb_7                 float64\n",
      "vol_2g_mb_8                 float64\n",
      "vol_2g_mb_9                 float64\n",
      "vol_3g_mb_6                 float64\n",
      "vol_3g_mb_7                 float64\n",
      "vol_3g_mb_8                 float64\n",
      "vol_3g_mb_9                 float64\n",
      "arpu_3g_6                   float64\n",
      "arpu_3g_7                   float64\n",
      "arpu_3g_8                   float64\n",
      "arpu_3g_9                   float64\n",
      "arpu_2g_6                   float64\n",
      "arpu_2g_7                   float64\n",
      "arpu_2g_8                   float64\n",
      "arpu_2g_9                   float64\n",
      "night_pck_user_6            float64\n",
      "night_pck_user_7            float64\n",
      "night_pck_user_8            float64\n",
      "night_pck_user_9            float64\n",
      "monthly_2g_6                int64\n",
      "monthly_2g_7                int64\n",
      "monthly_2g_8                int64\n",
      "monthly_2g_9                int64\n",
      "sachet_2g_6                 int64\n",
      "sachet_2g_7                 int64\n",
      "sachet_2g_8                 int64\n",
      "sachet_2g_9                 int64\n",
      "monthly_3g_6                int64\n",
      "monthly_3g_7                int64\n",
      "monthly_3g_8                int64\n",
      "monthly_3g_9                int64\n",
      "sachet_3g_6                 int64\n",
      "sachet_3g_7                 int64\n",
      "sachet_3g_8                 int64\n",
      "sachet_3g_9                 int64\n",
      "fb_user_6                   float64\n",
      "fb_user_7                   float64\n",
      "fb_user_8                   float64\n",
      "fb_user_9                   float64\n",
      "aon                         int64\n",
      "aug_vbc_3g                  float64\n",
      "jul_vbc_3g                  float64\n",
      "jun_vbc_3g                  float64\n",
      "sep_vbc_3g                  float64\n",
      "dtypes: float64(179), int64(35), object(12)\n",
      "memory usage: 172.4+ MB\n"
     ]
    }
   ],
   "source": [
    "data.info(verbose=True)"
   ]
  },
  {
   "cell_type": "code",
   "execution_count": 1337,
   "metadata": {},
   "outputs": [],
   "source": [
    "def gridSearchForLR(LRModel,X_train,y_train):\n",
    "    grid={\"C\":np.logspace(-3,3,7), \"penalty\":[\"l1\",\"l2\"]}# l1 lasso l2 ridge\n",
    "    logreg_cv=GridSearchCV(LRModel,grid,cv=10)\n",
    "    logreg_cv.fit(X_train, y_train)\n",
    "\n",
    "    print(\"tuned hpyerparameters :(best parameters) \",logreg_cv.best_params_)\n",
    "    print(\"accuracy :\",logreg_cv.best_score_)"
   ]
  },
  {
   "cell_type": "code",
   "execution_count": 1338,
   "metadata": {},
   "outputs": [],
   "source": [
    "def impFeaturesforModels(importance):\n",
    "    importancePerFeature = sorted(dict(zip(X_train.columns, importance)).items(),key=operator.itemgetter(1),reverse=True)\n",
    "    pprint.pprint(importancePerFeature, width=1)\n",
    "    #print(importancePerFeature)"
   ]
  },
  {
   "cell_type": "code",
   "execution_count": 1339,
   "metadata": {},
   "outputs": [],
   "source": [
    "#function to get confusion metric parameters printed\n",
    "\n",
    "def printingConfusionMetricDetails(confusion_metric):\n",
    "    TP = confusion_metric[1,1] # true positive \n",
    "    TN = confusion_metric[0,0] # true negatives\n",
    "    FP = confusion_metric[0,1] # false positives\n",
    "    FN = confusion_metric[1,0] # false negatives\n",
    "\n",
    "\n",
    "    print('Acuracy Score', accuracy_score(y_test,y_pred_default))\n",
    "    print('Sensitivity: ', TP / float(TP+FN))\n",
    "    print('Specificity: ',TN / float(TN+FP))\n",
    "    print('false postive rate: ',FP/ float(TN+FP))\n",
    "    print('positive predictive value: ', TP / float(TP+FP))\n",
    "    print('Negative predictive value: ',TN / float(TN+ FN))\n",
    "    print('Misclassification Rate: ',(FN+FP)/(TP+TN+FP+FN))\n"
   ]
  },
  {
   "cell_type": "code",
   "execution_count": 1340,
   "metadata": {},
   "outputs": [],
   "source": [
    "#function to print Mean Sq Error and R2\n",
    "def printingMSEandRsquare(y_test, y_pred):\n",
    "    mean_square_err = mean_squared_error(y_test, y_pred)\n",
    "    r_square = r2_score(y_test, y_pred)\n",
    "    print(mean_square_err)\n",
    "    print(r_square)"
   ]
  },
  {
   "cell_type": "code",
   "execution_count": 1341,
   "metadata": {},
   "outputs": [
    {
     "data": {
      "text/html": [
       "<div>\n",
       "<style scoped>\n",
       "    .dataframe tbody tr th:only-of-type {\n",
       "        vertical-align: middle;\n",
       "    }\n",
       "\n",
       "    .dataframe tbody tr th {\n",
       "        vertical-align: top;\n",
       "    }\n",
       "\n",
       "    .dataframe thead th {\n",
       "        text-align: right;\n",
       "    }\n",
       "</style>\n",
       "<table border=\"1\" class=\"dataframe\">\n",
       "  <thead>\n",
       "    <tr style=\"text-align: right;\">\n",
       "      <th></th>\n",
       "      <th>mobile_number</th>\n",
       "      <th>circle_id</th>\n",
       "      <th>loc_og_t2o_mou</th>\n",
       "      <th>std_og_t2o_mou</th>\n",
       "      <th>loc_ic_t2o_mou</th>\n",
       "      <th>arpu_6</th>\n",
       "      <th>arpu_7</th>\n",
       "      <th>arpu_8</th>\n",
       "      <th>arpu_9</th>\n",
       "      <th>onnet_mou_6</th>\n",
       "      <th>...</th>\n",
       "      <th>sachet_3g_9</th>\n",
       "      <th>fb_user_6</th>\n",
       "      <th>fb_user_7</th>\n",
       "      <th>fb_user_8</th>\n",
       "      <th>fb_user_9</th>\n",
       "      <th>aon</th>\n",
       "      <th>aug_vbc_3g</th>\n",
       "      <th>jul_vbc_3g</th>\n",
       "      <th>jun_vbc_3g</th>\n",
       "      <th>sep_vbc_3g</th>\n",
       "    </tr>\n",
       "  </thead>\n",
       "  <tbody>\n",
       "    <tr>\n",
       "      <td>count</td>\n",
       "      <td>9.999900e+04</td>\n",
       "      <td>99999.0</td>\n",
       "      <td>98981.0</td>\n",
       "      <td>98981.0</td>\n",
       "      <td>98981.0</td>\n",
       "      <td>99999.000000</td>\n",
       "      <td>99999.000000</td>\n",
       "      <td>99999.000000</td>\n",
       "      <td>99999.000000</td>\n",
       "      <td>96062.000000</td>\n",
       "      <td>...</td>\n",
       "      <td>99999.000000</td>\n",
       "      <td>25153.000000</td>\n",
       "      <td>25571.000000</td>\n",
       "      <td>26339.000000</td>\n",
       "      <td>25922.000000</td>\n",
       "      <td>99999.000000</td>\n",
       "      <td>99999.000000</td>\n",
       "      <td>99999.000000</td>\n",
       "      <td>99999.000000</td>\n",
       "      <td>99999.000000</td>\n",
       "    </tr>\n",
       "    <tr>\n",
       "      <td>mean</td>\n",
       "      <td>7.001207e+09</td>\n",
       "      <td>109.0</td>\n",
       "      <td>0.0</td>\n",
       "      <td>0.0</td>\n",
       "      <td>0.0</td>\n",
       "      <td>282.987358</td>\n",
       "      <td>278.536648</td>\n",
       "      <td>279.154731</td>\n",
       "      <td>261.645069</td>\n",
       "      <td>132.395875</td>\n",
       "      <td>...</td>\n",
       "      <td>0.084581</td>\n",
       "      <td>0.914404</td>\n",
       "      <td>0.908764</td>\n",
       "      <td>0.890808</td>\n",
       "      <td>0.860968</td>\n",
       "      <td>1219.854749</td>\n",
       "      <td>68.170248</td>\n",
       "      <td>66.839062</td>\n",
       "      <td>60.021204</td>\n",
       "      <td>3.299373</td>\n",
       "    </tr>\n",
       "    <tr>\n",
       "      <td>std</td>\n",
       "      <td>6.956694e+05</td>\n",
       "      <td>0.0</td>\n",
       "      <td>0.0</td>\n",
       "      <td>0.0</td>\n",
       "      <td>0.0</td>\n",
       "      <td>328.439770</td>\n",
       "      <td>338.156291</td>\n",
       "      <td>344.474791</td>\n",
       "      <td>341.998630</td>\n",
       "      <td>297.207406</td>\n",
       "      <td>...</td>\n",
       "      <td>0.650457</td>\n",
       "      <td>0.279772</td>\n",
       "      <td>0.287950</td>\n",
       "      <td>0.311885</td>\n",
       "      <td>0.345987</td>\n",
       "      <td>954.733842</td>\n",
       "      <td>267.580450</td>\n",
       "      <td>271.201856</td>\n",
       "      <td>253.938223</td>\n",
       "      <td>32.408353</td>\n",
       "    </tr>\n",
       "    <tr>\n",
       "      <td>min</td>\n",
       "      <td>7.000000e+09</td>\n",
       "      <td>109.0</td>\n",
       "      <td>0.0</td>\n",
       "      <td>0.0</td>\n",
       "      <td>0.0</td>\n",
       "      <td>-2258.709000</td>\n",
       "      <td>-2014.045000</td>\n",
       "      <td>-945.808000</td>\n",
       "      <td>-1899.505000</td>\n",
       "      <td>0.000000</td>\n",
       "      <td>...</td>\n",
       "      <td>0.000000</td>\n",
       "      <td>0.000000</td>\n",
       "      <td>0.000000</td>\n",
       "      <td>0.000000</td>\n",
       "      <td>0.000000</td>\n",
       "      <td>180.000000</td>\n",
       "      <td>0.000000</td>\n",
       "      <td>0.000000</td>\n",
       "      <td>0.000000</td>\n",
       "      <td>0.000000</td>\n",
       "    </tr>\n",
       "    <tr>\n",
       "      <td>25%</td>\n",
       "      <td>7.000606e+09</td>\n",
       "      <td>109.0</td>\n",
       "      <td>0.0</td>\n",
       "      <td>0.0</td>\n",
       "      <td>0.0</td>\n",
       "      <td>93.411500</td>\n",
       "      <td>86.980500</td>\n",
       "      <td>84.126000</td>\n",
       "      <td>62.685000</td>\n",
       "      <td>7.380000</td>\n",
       "      <td>...</td>\n",
       "      <td>0.000000</td>\n",
       "      <td>1.000000</td>\n",
       "      <td>1.000000</td>\n",
       "      <td>1.000000</td>\n",
       "      <td>1.000000</td>\n",
       "      <td>467.000000</td>\n",
       "      <td>0.000000</td>\n",
       "      <td>0.000000</td>\n",
       "      <td>0.000000</td>\n",
       "      <td>0.000000</td>\n",
       "    </tr>\n",
       "    <tr>\n",
       "      <td>50%</td>\n",
       "      <td>7.001205e+09</td>\n",
       "      <td>109.0</td>\n",
       "      <td>0.0</td>\n",
       "      <td>0.0</td>\n",
       "      <td>0.0</td>\n",
       "      <td>197.704000</td>\n",
       "      <td>191.640000</td>\n",
       "      <td>192.080000</td>\n",
       "      <td>176.849000</td>\n",
       "      <td>34.310000</td>\n",
       "      <td>...</td>\n",
       "      <td>0.000000</td>\n",
       "      <td>1.000000</td>\n",
       "      <td>1.000000</td>\n",
       "      <td>1.000000</td>\n",
       "      <td>1.000000</td>\n",
       "      <td>863.000000</td>\n",
       "      <td>0.000000</td>\n",
       "      <td>0.000000</td>\n",
       "      <td>0.000000</td>\n",
       "      <td>0.000000</td>\n",
       "    </tr>\n",
       "    <tr>\n",
       "      <td>75%</td>\n",
       "      <td>7.001812e+09</td>\n",
       "      <td>109.0</td>\n",
       "      <td>0.0</td>\n",
       "      <td>0.0</td>\n",
       "      <td>0.0</td>\n",
       "      <td>371.060000</td>\n",
       "      <td>365.344500</td>\n",
       "      <td>369.370500</td>\n",
       "      <td>353.466500</td>\n",
       "      <td>118.740000</td>\n",
       "      <td>...</td>\n",
       "      <td>0.000000</td>\n",
       "      <td>1.000000</td>\n",
       "      <td>1.000000</td>\n",
       "      <td>1.000000</td>\n",
       "      <td>1.000000</td>\n",
       "      <td>1807.500000</td>\n",
       "      <td>0.000000</td>\n",
       "      <td>0.000000</td>\n",
       "      <td>0.000000</td>\n",
       "      <td>0.000000</td>\n",
       "    </tr>\n",
       "    <tr>\n",
       "      <td>max</td>\n",
       "      <td>7.002411e+09</td>\n",
       "      <td>109.0</td>\n",
       "      <td>0.0</td>\n",
       "      <td>0.0</td>\n",
       "      <td>0.0</td>\n",
       "      <td>27731.088000</td>\n",
       "      <td>35145.834000</td>\n",
       "      <td>33543.624000</td>\n",
       "      <td>38805.617000</td>\n",
       "      <td>7376.710000</td>\n",
       "      <td>...</td>\n",
       "      <td>49.000000</td>\n",
       "      <td>1.000000</td>\n",
       "      <td>1.000000</td>\n",
       "      <td>1.000000</td>\n",
       "      <td>1.000000</td>\n",
       "      <td>4337.000000</td>\n",
       "      <td>12916.220000</td>\n",
       "      <td>9165.600000</td>\n",
       "      <td>11166.210000</td>\n",
       "      <td>2618.570000</td>\n",
       "    </tr>\n",
       "  </tbody>\n",
       "</table>\n",
       "<p>8 rows × 214 columns</p>\n",
       "</div>"
      ],
      "text/plain": [
       "       mobile_number  circle_id  loc_og_t2o_mou  std_og_t2o_mou  \\\n",
       "count   9.999900e+04    99999.0         98981.0         98981.0   \n",
       "mean    7.001207e+09      109.0             0.0             0.0   \n",
       "std     6.956694e+05        0.0             0.0             0.0   \n",
       "min     7.000000e+09      109.0             0.0             0.0   \n",
       "25%     7.000606e+09      109.0             0.0             0.0   \n",
       "50%     7.001205e+09      109.0             0.0             0.0   \n",
       "75%     7.001812e+09      109.0             0.0             0.0   \n",
       "max     7.002411e+09      109.0             0.0             0.0   \n",
       "\n",
       "       loc_ic_t2o_mou        arpu_6        arpu_7        arpu_8        arpu_9  \\\n",
       "count         98981.0  99999.000000  99999.000000  99999.000000  99999.000000   \n",
       "mean              0.0    282.987358    278.536648    279.154731    261.645069   \n",
       "std               0.0    328.439770    338.156291    344.474791    341.998630   \n",
       "min               0.0  -2258.709000  -2014.045000   -945.808000  -1899.505000   \n",
       "25%               0.0     93.411500     86.980500     84.126000     62.685000   \n",
       "50%               0.0    197.704000    191.640000    192.080000    176.849000   \n",
       "75%               0.0    371.060000    365.344500    369.370500    353.466500   \n",
       "max               0.0  27731.088000  35145.834000  33543.624000  38805.617000   \n",
       "\n",
       "        onnet_mou_6  ...   sachet_3g_9     fb_user_6     fb_user_7  \\\n",
       "count  96062.000000  ...  99999.000000  25153.000000  25571.000000   \n",
       "mean     132.395875  ...      0.084581      0.914404      0.908764   \n",
       "std      297.207406  ...      0.650457      0.279772      0.287950   \n",
       "min        0.000000  ...      0.000000      0.000000      0.000000   \n",
       "25%        7.380000  ...      0.000000      1.000000      1.000000   \n",
       "50%       34.310000  ...      0.000000      1.000000      1.000000   \n",
       "75%      118.740000  ...      0.000000      1.000000      1.000000   \n",
       "max     7376.710000  ...     49.000000      1.000000      1.000000   \n",
       "\n",
       "          fb_user_8     fb_user_9           aon    aug_vbc_3g    jul_vbc_3g  \\\n",
       "count  26339.000000  25922.000000  99999.000000  99999.000000  99999.000000   \n",
       "mean       0.890808      0.860968   1219.854749     68.170248     66.839062   \n",
       "std        0.311885      0.345987    954.733842    267.580450    271.201856   \n",
       "min        0.000000      0.000000    180.000000      0.000000      0.000000   \n",
       "25%        1.000000      1.000000    467.000000      0.000000      0.000000   \n",
       "50%        1.000000      1.000000    863.000000      0.000000      0.000000   \n",
       "75%        1.000000      1.000000   1807.500000      0.000000      0.000000   \n",
       "max        1.000000      1.000000   4337.000000  12916.220000   9165.600000   \n",
       "\n",
       "         jun_vbc_3g    sep_vbc_3g  \n",
       "count  99999.000000  99999.000000  \n",
       "mean      60.021204      3.299373  \n",
       "std      253.938223     32.408353  \n",
       "min        0.000000      0.000000  \n",
       "25%        0.000000      0.000000  \n",
       "50%        0.000000      0.000000  \n",
       "75%        0.000000      0.000000  \n",
       "max    11166.210000   2618.570000  \n",
       "\n",
       "[8 rows x 214 columns]"
      ]
     },
     "execution_count": 1341,
     "metadata": {},
     "output_type": "execute_result"
    }
   ],
   "source": [
    "data.describe()"
   ]
  },
  {
   "cell_type": "code",
   "execution_count": 1342,
   "metadata": {},
   "outputs": [],
   "source": [
    "#drop mobile number  - the number is not needed for any calculation or analysis\n",
    "data.drop('mobile_number',axis=1,inplace=True)"
   ]
  },
  {
   "cell_type": "code",
   "execution_count": 1343,
   "metadata": {},
   "outputs": [
    {
     "data": {
      "text/plain": [
       "circle_id                  0\n",
       "loc_og_t2o_mou          1018\n",
       "std_og_t2o_mou          1018\n",
       "loc_ic_t2o_mou          1018\n",
       "last_date_of_month_6       0\n",
       "                        ... \n",
       "aon                        0\n",
       "aug_vbc_3g                 0\n",
       "jul_vbc_3g                 0\n",
       "jun_vbc_3g                 0\n",
       "sep_vbc_3g                 0\n",
       "Length: 225, dtype: int64"
      ]
     },
     "execution_count": 1343,
     "metadata": {},
     "output_type": "execute_result"
    }
   ],
   "source": [
    "#check for missing values\n",
    "data.isna().sum()"
   ]
  },
  {
   "cell_type": "code",
   "execution_count": 1344,
   "metadata": {},
   "outputs": [
    {
     "data": {
      "text/html": [
       "<div>\n",
       "<style scoped>\n",
       "    .dataframe tbody tr th:only-of-type {\n",
       "        vertical-align: middle;\n",
       "    }\n",
       "\n",
       "    .dataframe tbody tr th {\n",
       "        vertical-align: top;\n",
       "    }\n",
       "\n",
       "    .dataframe thead th {\n",
       "        text-align: right;\n",
       "    }\n",
       "</style>\n",
       "<table border=\"1\" class=\"dataframe\">\n",
       "  <thead>\n",
       "    <tr style=\"text-align: right;\">\n",
       "      <th></th>\n",
       "      <th>feature</th>\n",
       "      <th>Missing%</th>\n",
       "    </tr>\n",
       "  </thead>\n",
       "  <tbody>\n",
       "    <tr>\n",
       "      <td>188</td>\n",
       "      <td>arpu_3g_6</td>\n",
       "      <td>74.846748</td>\n",
       "    </tr>\n",
       "    <tr>\n",
       "      <td>176</td>\n",
       "      <td>av_rech_amt_data_6</td>\n",
       "      <td>74.846748</td>\n",
       "    </tr>\n",
       "    <tr>\n",
       "      <td>216</td>\n",
       "      <td>fb_user_6</td>\n",
       "      <td>74.846748</td>\n",
       "    </tr>\n",
       "    <tr>\n",
       "      <td>196</td>\n",
       "      <td>night_pck_user_6</td>\n",
       "      <td>74.846748</td>\n",
       "    </tr>\n",
       "    <tr>\n",
       "      <td>160</td>\n",
       "      <td>total_rech_data_6</td>\n",
       "      <td>74.846748</td>\n",
       "    </tr>\n",
       "    <tr>\n",
       "      <td>...</td>\n",
       "      <td>...</td>\n",
       "      <td>...</td>\n",
       "    </tr>\n",
       "    <tr>\n",
       "      <td>145</td>\n",
       "      <td>max_rech_amt_7</td>\n",
       "      <td>0.000000</td>\n",
       "    </tr>\n",
       "    <tr>\n",
       "      <td>144</td>\n",
       "      <td>max_rech_amt_6</td>\n",
       "      <td>0.000000</td>\n",
       "    </tr>\n",
       "    <tr>\n",
       "      <td>143</td>\n",
       "      <td>total_rech_amt_9</td>\n",
       "      <td>0.000000</td>\n",
       "    </tr>\n",
       "    <tr>\n",
       "      <td>142</td>\n",
       "      <td>total_rech_amt_8</td>\n",
       "      <td>0.000000</td>\n",
       "    </tr>\n",
       "    <tr>\n",
       "      <td>224</td>\n",
       "      <td>sep_vbc_3g</td>\n",
       "      <td>0.000000</td>\n",
       "    </tr>\n",
       "  </tbody>\n",
       "</table>\n",
       "<p>225 rows × 2 columns</p>\n",
       "</div>"
      ],
      "text/plain": [
       "                feature   Missing%\n",
       "188           arpu_3g_6  74.846748\n",
       "176  av_rech_amt_data_6  74.846748\n",
       "216           fb_user_6  74.846748\n",
       "196    night_pck_user_6  74.846748\n",
       "160   total_rech_data_6  74.846748\n",
       "..                  ...        ...\n",
       "145      max_rech_amt_7   0.000000\n",
       "144      max_rech_amt_6   0.000000\n",
       "143    total_rech_amt_9   0.000000\n",
       "142    total_rech_amt_8   0.000000\n",
       "224          sep_vbc_3g   0.000000\n",
       "\n",
       "[225 rows x 2 columns]"
      ]
     },
     "execution_count": 1344,
     "metadata": {},
     "output_type": "execute_result"
    }
   ],
   "source": [
    "#Missing value percencentages\n",
    "missing_values = pd.DataFrame((data.isnull().sum()/len(data))*100).reset_index().rename(columns = {'index': 'feature', 0: 'Missing%'}).sort_values('Missing%',ascending = False)\n",
    "missing_values"
   ]
  },
  {
   "cell_type": "code",
   "execution_count": 1345,
   "metadata": {},
   "outputs": [],
   "source": [
    "#Dropping columns where null are more than 95%\n",
    "data=data.loc[:, data.isnull().mean() < .95]\n",
    "# 1 column dropped"
   ]
  },
  {
   "cell_type": "code",
   "execution_count": 1346,
   "metadata": {},
   "outputs": [],
   "source": [
    "#DATA IMPUTATION\n",
    "#We can also use MICE imputation \n",
    "#data imputation for categorical columns (fb and nigh pack users) as -1\n",
    "data=data.fillna({'fb_user_6':-1,'fb_user_7':-1,'fb_user_8':-1})\n",
    "data=data.fillna({'night_pck_user_6':-1,'night_pck_user_7':-1,'night_pck_user_8':-1})\n",
    "#data imputation for non categorical as 0 which means no recharge happened\n",
    "data=data.fillna(0)"
   ]
  },
  {
   "cell_type": "code",
   "execution_count": 1347,
   "metadata": {},
   "outputs": [
    {
     "data": {
      "text/plain": [
       "circle_id               0\n",
       "loc_og_t2o_mou          0\n",
       "std_og_t2o_mou          0\n",
       "loc_ic_t2o_mou          0\n",
       "last_date_of_month_6    0\n",
       "                       ..\n",
       "aon                     0\n",
       "aug_vbc_3g              0\n",
       "jul_vbc_3g              0\n",
       "jun_vbc_3g              0\n",
       "sep_vbc_3g              0\n",
       "Length: 225, dtype: int64"
      ]
     },
     "execution_count": 1347,
     "metadata": {},
     "output_type": "execute_result"
    }
   ],
   "source": [
    "#verifying imputation and null\n",
    "data.isna().sum()"
   ]
  },
  {
   "cell_type": "code",
   "execution_count": 1348,
   "metadata": {},
   "outputs": [
    {
     "data": {
      "text/html": [
       "<div>\n",
       "<style scoped>\n",
       "    .dataframe tbody tr th:only-of-type {\n",
       "        vertical-align: middle;\n",
       "    }\n",
       "\n",
       "    .dataframe tbody tr th {\n",
       "        vertical-align: top;\n",
       "    }\n",
       "\n",
       "    .dataframe thead th {\n",
       "        text-align: right;\n",
       "    }\n",
       "</style>\n",
       "<table border=\"1\" class=\"dataframe\">\n",
       "  <thead>\n",
       "    <tr style=\"text-align: right;\">\n",
       "      <th></th>\n",
       "      <th>feature</th>\n",
       "      <th>Missing%</th>\n",
       "    </tr>\n",
       "  </thead>\n",
       "  <tbody>\n",
       "    <tr>\n",
       "      <td>0</td>\n",
       "      <td>circle_id</td>\n",
       "      <td>0.0</td>\n",
       "    </tr>\n",
       "    <tr>\n",
       "      <td>113</td>\n",
       "      <td>std_ic_t2o_mou_7</td>\n",
       "      <td>0.0</td>\n",
       "    </tr>\n",
       "    <tr>\n",
       "      <td>143</td>\n",
       "      <td>total_rech_amt_9</td>\n",
       "      <td>0.0</td>\n",
       "    </tr>\n",
       "    <tr>\n",
       "      <td>144</td>\n",
       "      <td>max_rech_amt_6</td>\n",
       "      <td>0.0</td>\n",
       "    </tr>\n",
       "    <tr>\n",
       "      <td>145</td>\n",
       "      <td>max_rech_amt_7</td>\n",
       "      <td>0.0</td>\n",
       "    </tr>\n",
       "    <tr>\n",
       "      <td>...</td>\n",
       "      <td>...</td>\n",
       "      <td>...</td>\n",
       "    </tr>\n",
       "    <tr>\n",
       "      <td>79</td>\n",
       "      <td>og_others_9</td>\n",
       "      <td>0.0</td>\n",
       "    </tr>\n",
       "    <tr>\n",
       "      <td>80</td>\n",
       "      <td>total_og_mou_6</td>\n",
       "      <td>0.0</td>\n",
       "    </tr>\n",
       "    <tr>\n",
       "      <td>81</td>\n",
       "      <td>total_og_mou_7</td>\n",
       "      <td>0.0</td>\n",
       "    </tr>\n",
       "    <tr>\n",
       "      <td>82</td>\n",
       "      <td>total_og_mou_8</td>\n",
       "      <td>0.0</td>\n",
       "    </tr>\n",
       "    <tr>\n",
       "      <td>224</td>\n",
       "      <td>sep_vbc_3g</td>\n",
       "      <td>0.0</td>\n",
       "    </tr>\n",
       "  </tbody>\n",
       "</table>\n",
       "<p>225 rows × 2 columns</p>\n",
       "</div>"
      ],
      "text/plain": [
       "              feature  Missing%\n",
       "0           circle_id       0.0\n",
       "113  std_ic_t2o_mou_7       0.0\n",
       "143  total_rech_amt_9       0.0\n",
       "144    max_rech_amt_6       0.0\n",
       "145    max_rech_amt_7       0.0\n",
       "..                ...       ...\n",
       "79        og_others_9       0.0\n",
       "80     total_og_mou_6       0.0\n",
       "81     total_og_mou_7       0.0\n",
       "82     total_og_mou_8       0.0\n",
       "224        sep_vbc_3g       0.0\n",
       "\n",
       "[225 rows x 2 columns]"
      ]
     },
     "execution_count": 1348,
     "metadata": {},
     "output_type": "execute_result"
    }
   ],
   "source": [
    "#Missing value percencentages\n",
    "missing_values = pd.DataFrame((data.isnull().sum()/len(data))*100).reset_index().rename(columns = {'index': 'feature', 0: 'Missing%'}).sort_values('Missing%',ascending = False)\n",
    "missing_values"
   ]
  },
  {
   "cell_type": "code",
   "execution_count": 1349,
   "metadata": {},
   "outputs": [],
   "source": [
    "## No missing values now \n",
    "##Renaming columns to get them inline with month codes\n",
    "data =data.rename(columns={'jun_vbc_3g': 'vbc_3g_6', 'jul_vbc_3g': 'vbc_3g_7',\n",
    "                           'aug_vbc_3g': 'vbc_3g_8','sep_vbc_3g': 'vbc_3g_9'})"
   ]
  },
  {
   "cell_type": "code",
   "execution_count": 1350,
   "metadata": {},
   "outputs": [
    {
     "name": "stdout",
     "output_type": "stream",
     "text": [
      "<class 'pandas.core.frame.DataFrame'>\n",
      "RangeIndex: 99999 entries, 0 to 99998\n",
      "Data columns (total 225 columns):\n",
      "circle_id                   int64\n",
      "loc_og_t2o_mou              float64\n",
      "std_og_t2o_mou              float64\n",
      "loc_ic_t2o_mou              float64\n",
      "last_date_of_month_6        object\n",
      "last_date_of_month_7        object\n",
      "last_date_of_month_8        object\n",
      "last_date_of_month_9        object\n",
      "arpu_6                      float64\n",
      "arpu_7                      float64\n",
      "arpu_8                      float64\n",
      "arpu_9                      float64\n",
      "onnet_mou_6                 float64\n",
      "onnet_mou_7                 float64\n",
      "onnet_mou_8                 float64\n",
      "onnet_mou_9                 float64\n",
      "offnet_mou_6                float64\n",
      "offnet_mou_7                float64\n",
      "offnet_mou_8                float64\n",
      "offnet_mou_9                float64\n",
      "roam_ic_mou_6               float64\n",
      "roam_ic_mou_7               float64\n",
      "roam_ic_mou_8               float64\n",
      "roam_ic_mou_9               float64\n",
      "roam_og_mou_6               float64\n",
      "roam_og_mou_7               float64\n",
      "roam_og_mou_8               float64\n",
      "roam_og_mou_9               float64\n",
      "loc_og_t2t_mou_6            float64\n",
      "loc_og_t2t_mou_7            float64\n",
      "loc_og_t2t_mou_8            float64\n",
      "loc_og_t2t_mou_9            float64\n",
      "loc_og_t2m_mou_6            float64\n",
      "loc_og_t2m_mou_7            float64\n",
      "loc_og_t2m_mou_8            float64\n",
      "loc_og_t2m_mou_9            float64\n",
      "loc_og_t2f_mou_6            float64\n",
      "loc_og_t2f_mou_7            float64\n",
      "loc_og_t2f_mou_8            float64\n",
      "loc_og_t2f_mou_9            float64\n",
      "loc_og_t2c_mou_6            float64\n",
      "loc_og_t2c_mou_7            float64\n",
      "loc_og_t2c_mou_8            float64\n",
      "loc_og_t2c_mou_9            float64\n",
      "loc_og_mou_6                float64\n",
      "loc_og_mou_7                float64\n",
      "loc_og_mou_8                float64\n",
      "loc_og_mou_9                float64\n",
      "std_og_t2t_mou_6            float64\n",
      "std_og_t2t_mou_7            float64\n",
      "std_og_t2t_mou_8            float64\n",
      "std_og_t2t_mou_9            float64\n",
      "std_og_t2m_mou_6            float64\n",
      "std_og_t2m_mou_7            float64\n",
      "std_og_t2m_mou_8            float64\n",
      "std_og_t2m_mou_9            float64\n",
      "std_og_t2f_mou_6            float64\n",
      "std_og_t2f_mou_7            float64\n",
      "std_og_t2f_mou_8            float64\n",
      "std_og_t2f_mou_9            float64\n",
      "std_og_t2c_mou_6            float64\n",
      "std_og_t2c_mou_7            float64\n",
      "std_og_t2c_mou_8            float64\n",
      "std_og_t2c_mou_9            float64\n",
      "std_og_mou_6                float64\n",
      "std_og_mou_7                float64\n",
      "std_og_mou_8                float64\n",
      "std_og_mou_9                float64\n",
      "isd_og_mou_6                float64\n",
      "isd_og_mou_7                float64\n",
      "isd_og_mou_8                float64\n",
      "isd_og_mou_9                float64\n",
      "spl_og_mou_6                float64\n",
      "spl_og_mou_7                float64\n",
      "spl_og_mou_8                float64\n",
      "spl_og_mou_9                float64\n",
      "og_others_6                 float64\n",
      "og_others_7                 float64\n",
      "og_others_8                 float64\n",
      "og_others_9                 float64\n",
      "total_og_mou_6              float64\n",
      "total_og_mou_7              float64\n",
      "total_og_mou_8              float64\n",
      "total_og_mou_9              float64\n",
      "loc_ic_t2t_mou_6            float64\n",
      "loc_ic_t2t_mou_7            float64\n",
      "loc_ic_t2t_mou_8            float64\n",
      "loc_ic_t2t_mou_9            float64\n",
      "loc_ic_t2m_mou_6            float64\n",
      "loc_ic_t2m_mou_7            float64\n",
      "loc_ic_t2m_mou_8            float64\n",
      "loc_ic_t2m_mou_9            float64\n",
      "loc_ic_t2f_mou_6            float64\n",
      "loc_ic_t2f_mou_7            float64\n",
      "loc_ic_t2f_mou_8            float64\n",
      "loc_ic_t2f_mou_9            float64\n",
      "loc_ic_mou_6                float64\n",
      "loc_ic_mou_7                float64\n",
      "loc_ic_mou_8                float64\n",
      "loc_ic_mou_9                float64\n",
      "std_ic_t2t_mou_6            float64\n",
      "std_ic_t2t_mou_7            float64\n",
      "std_ic_t2t_mou_8            float64\n",
      "std_ic_t2t_mou_9            float64\n",
      "std_ic_t2m_mou_6            float64\n",
      "std_ic_t2m_mou_7            float64\n",
      "std_ic_t2m_mou_8            float64\n",
      "std_ic_t2m_mou_9            float64\n",
      "std_ic_t2f_mou_6            float64\n",
      "std_ic_t2f_mou_7            float64\n",
      "std_ic_t2f_mou_8            float64\n",
      "std_ic_t2f_mou_9            float64\n",
      "std_ic_t2o_mou_6            float64\n",
      "std_ic_t2o_mou_7            float64\n",
      "std_ic_t2o_mou_8            float64\n",
      "std_ic_t2o_mou_9            float64\n",
      "std_ic_mou_6                float64\n",
      "std_ic_mou_7                float64\n",
      "std_ic_mou_8                float64\n",
      "std_ic_mou_9                float64\n",
      "total_ic_mou_6              float64\n",
      "total_ic_mou_7              float64\n",
      "total_ic_mou_8              float64\n",
      "total_ic_mou_9              float64\n",
      "spl_ic_mou_6                float64\n",
      "spl_ic_mou_7                float64\n",
      "spl_ic_mou_8                float64\n",
      "spl_ic_mou_9                float64\n",
      "isd_ic_mou_6                float64\n",
      "isd_ic_mou_7                float64\n",
      "isd_ic_mou_8                float64\n",
      "isd_ic_mou_9                float64\n",
      "ic_others_6                 float64\n",
      "ic_others_7                 float64\n",
      "ic_others_8                 float64\n",
      "ic_others_9                 float64\n",
      "total_rech_num_6            int64\n",
      "total_rech_num_7            int64\n",
      "total_rech_num_8            int64\n",
      "total_rech_num_9            int64\n",
      "total_rech_amt_6            int64\n",
      "total_rech_amt_7            int64\n",
      "total_rech_amt_8            int64\n",
      "total_rech_amt_9            int64\n",
      "max_rech_amt_6              int64\n",
      "max_rech_amt_7              int64\n",
      "max_rech_amt_8              int64\n",
      "max_rech_amt_9              int64\n",
      "date_of_last_rech_6         object\n",
      "date_of_last_rech_7         object\n",
      "date_of_last_rech_8         object\n",
      "date_of_last_rech_9         object\n",
      "last_day_rch_amt_6          int64\n",
      "last_day_rch_amt_7          int64\n",
      "last_day_rch_amt_8          int64\n",
      "last_day_rch_amt_9          int64\n",
      "date_of_last_rech_data_6    object\n",
      "date_of_last_rech_data_7    object\n",
      "date_of_last_rech_data_8    object\n",
      "date_of_last_rech_data_9    object\n",
      "total_rech_data_6           float64\n",
      "total_rech_data_7           float64\n",
      "total_rech_data_8           float64\n",
      "total_rech_data_9           float64\n",
      "max_rech_data_6             float64\n",
      "max_rech_data_7             float64\n",
      "max_rech_data_8             float64\n",
      "max_rech_data_9             float64\n",
      "count_rech_2g_6             float64\n",
      "count_rech_2g_7             float64\n",
      "count_rech_2g_8             float64\n",
      "count_rech_2g_9             float64\n",
      "count_rech_3g_6             float64\n",
      "count_rech_3g_7             float64\n",
      "count_rech_3g_8             float64\n",
      "count_rech_3g_9             float64\n",
      "av_rech_amt_data_6          float64\n",
      "av_rech_amt_data_7          float64\n",
      "av_rech_amt_data_8          float64\n",
      "av_rech_amt_data_9          float64\n",
      "vol_2g_mb_6                 float64\n",
      "vol_2g_mb_7                 float64\n",
      "vol_2g_mb_8                 float64\n",
      "vol_2g_mb_9                 float64\n",
      "vol_3g_mb_6                 float64\n",
      "vol_3g_mb_7                 float64\n",
      "vol_3g_mb_8                 float64\n",
      "vol_3g_mb_9                 float64\n",
      "arpu_3g_6                   float64\n",
      "arpu_3g_7                   float64\n",
      "arpu_3g_8                   float64\n",
      "arpu_3g_9                   float64\n",
      "arpu_2g_6                   float64\n",
      "arpu_2g_7                   float64\n",
      "arpu_2g_8                   float64\n",
      "arpu_2g_9                   float64\n",
      "night_pck_user_6            float64\n",
      "night_pck_user_7            float64\n",
      "night_pck_user_8            float64\n",
      "night_pck_user_9            float64\n",
      "monthly_2g_6                int64\n",
      "monthly_2g_7                int64\n",
      "monthly_2g_8                int64\n",
      "monthly_2g_9                int64\n",
      "sachet_2g_6                 int64\n",
      "sachet_2g_7                 int64\n",
      "sachet_2g_8                 int64\n",
      "sachet_2g_9                 int64\n",
      "monthly_3g_6                int64\n",
      "monthly_3g_7                int64\n",
      "monthly_3g_8                int64\n",
      "monthly_3g_9                int64\n",
      "sachet_3g_6                 int64\n",
      "sachet_3g_7                 int64\n",
      "sachet_3g_8                 int64\n",
      "sachet_3g_9                 int64\n",
      "fb_user_6                   float64\n",
      "fb_user_7                   float64\n",
      "fb_user_8                   float64\n",
      "fb_user_9                   float64\n",
      "aon                         int64\n",
      "vbc_3g_8                    float64\n",
      "vbc_3g_7                    float64\n",
      "vbc_3g_6                    float64\n",
      "vbc_3g_9                    float64\n",
      "dtypes: float64(179), int64(34), object(12)\n",
      "memory usage: 171.7+ MB\n"
     ]
    }
   ],
   "source": [
    "data.info(verbose=True)"
   ]
  },
  {
   "cell_type": "code",
   "execution_count": 1351,
   "metadata": {},
   "outputs": [
    {
     "data": {
      "text/plain": [
       "(99999, 225)"
      ]
     },
     "execution_count": 1351,
     "metadata": {},
     "output_type": "execute_result"
    }
   ],
   "source": [
    "#data.describe()\n",
    "data.shape"
   ]
  },
  {
   "cell_type": "code",
   "execution_count": 1352,
   "metadata": {},
   "outputs": [
    {
     "data": {
      "text/plain": [
       "(30019, 229)"
      ]
     },
     "execution_count": 1352,
     "metadata": {},
     "output_type": "execute_result"
    }
   ],
   "source": [
    "#Deriving Features - \n",
    "data['amt_data_6'] = data.total_rech_amt_6 + data.total_rech_data_6           \n",
    "data['amt_data_7'] = data.total_rech_amt_7 + data.total_rech_data_7\n",
    "data['amt_data_8'] = data.total_rech_amt_8 + data.total_rech_data_8\n",
    "\n",
    "#  average recharge by customer in June and July\n",
    "data['avg_amt_data_6_7'] = (data.amt_data_6 + data.amt_data_7)/2\n",
    "\n",
    "#Retaining customers whose recharge amount is >= 70th percentile amount\n",
    "\n",
    "data_filtered = data.loc[data.avg_amt_data_6_7 >= data.avg_amt_data_6_7.quantile(0.7), :]\n",
    "data_filtered = data_filtered.reset_index(drop=True)\n",
    "data_filtered.shape"
   ]
  },
  {
   "cell_type": "code",
   "execution_count": 1353,
   "metadata": {},
   "outputs": [
    {
     "name": "stdout",
     "output_type": "stream",
     "text": [
      "<class 'pandas.core.frame.DataFrame'>\n",
      "RangeIndex: 30019 entries, 0 to 30018\n",
      "Data columns (total 223 columns):\n",
      "circle_id                   int64\n",
      "loc_og_t2o_mou              float64\n",
      "std_og_t2o_mou              float64\n",
      "loc_ic_t2o_mou              float64\n",
      "last_date_of_month_9        object\n",
      "arpu_6                      float64\n",
      "arpu_7                      float64\n",
      "arpu_8                      float64\n",
      "arpu_9                      float64\n",
      "onnet_mou_6                 float64\n",
      "onnet_mou_7                 float64\n",
      "onnet_mou_8                 float64\n",
      "onnet_mou_9                 float64\n",
      "offnet_mou_6                float64\n",
      "offnet_mou_7                float64\n",
      "offnet_mou_8                float64\n",
      "offnet_mou_9                float64\n",
      "roam_ic_mou_6               float64\n",
      "roam_ic_mou_7               float64\n",
      "roam_ic_mou_8               float64\n",
      "roam_ic_mou_9               float64\n",
      "roam_og_mou_6               float64\n",
      "roam_og_mou_7               float64\n",
      "roam_og_mou_8               float64\n",
      "roam_og_mou_9               float64\n",
      "loc_og_t2t_mou_6            float64\n",
      "loc_og_t2t_mou_7            float64\n",
      "loc_og_t2t_mou_8            float64\n",
      "loc_og_t2t_mou_9            float64\n",
      "loc_og_t2m_mou_6            float64\n",
      "loc_og_t2m_mou_7            float64\n",
      "loc_og_t2m_mou_8            float64\n",
      "loc_og_t2m_mou_9            float64\n",
      "loc_og_t2f_mou_6            float64\n",
      "loc_og_t2f_mou_7            float64\n",
      "loc_og_t2f_mou_8            float64\n",
      "loc_og_t2f_mou_9            float64\n",
      "loc_og_t2c_mou_6            float64\n",
      "loc_og_t2c_mou_7            float64\n",
      "loc_og_t2c_mou_8            float64\n",
      "loc_og_t2c_mou_9            float64\n",
      "loc_og_mou_6                float64\n",
      "loc_og_mou_7                float64\n",
      "loc_og_mou_8                float64\n",
      "loc_og_mou_9                float64\n",
      "std_og_t2t_mou_6            float64\n",
      "std_og_t2t_mou_7            float64\n",
      "std_og_t2t_mou_8            float64\n",
      "std_og_t2t_mou_9            float64\n",
      "std_og_t2m_mou_6            float64\n",
      "std_og_t2m_mou_7            float64\n",
      "std_og_t2m_mou_8            float64\n",
      "std_og_t2m_mou_9            float64\n",
      "std_og_t2f_mou_6            float64\n",
      "std_og_t2f_mou_7            float64\n",
      "std_og_t2f_mou_8            float64\n",
      "std_og_t2f_mou_9            float64\n",
      "std_og_t2c_mou_6            float64\n",
      "std_og_t2c_mou_7            float64\n",
      "std_og_t2c_mou_8            float64\n",
      "std_og_t2c_mou_9            float64\n",
      "std_og_mou_6                float64\n",
      "std_og_mou_7                float64\n",
      "std_og_mou_8                float64\n",
      "std_og_mou_9                float64\n",
      "isd_og_mou_6                float64\n",
      "isd_og_mou_7                float64\n",
      "isd_og_mou_8                float64\n",
      "isd_og_mou_9                float64\n",
      "spl_og_mou_6                float64\n",
      "spl_og_mou_7                float64\n",
      "spl_og_mou_8                float64\n",
      "spl_og_mou_9                float64\n",
      "og_others_6                 float64\n",
      "og_others_7                 float64\n",
      "og_others_8                 float64\n",
      "og_others_9                 float64\n",
      "total_og_mou_6              float64\n",
      "total_og_mou_7              float64\n",
      "total_og_mou_8              float64\n",
      "total_og_mou_9              float64\n",
      "loc_ic_t2t_mou_6            float64\n",
      "loc_ic_t2t_mou_7            float64\n",
      "loc_ic_t2t_mou_8            float64\n",
      "loc_ic_t2t_mou_9            float64\n",
      "loc_ic_t2m_mou_6            float64\n",
      "loc_ic_t2m_mou_7            float64\n",
      "loc_ic_t2m_mou_8            float64\n",
      "loc_ic_t2m_mou_9            float64\n",
      "loc_ic_t2f_mou_6            float64\n",
      "loc_ic_t2f_mou_7            float64\n",
      "loc_ic_t2f_mou_8            float64\n",
      "loc_ic_t2f_mou_9            float64\n",
      "loc_ic_mou_6                float64\n",
      "loc_ic_mou_7                float64\n",
      "loc_ic_mou_8                float64\n",
      "loc_ic_mou_9                float64\n",
      "std_ic_t2t_mou_6            float64\n",
      "std_ic_t2t_mou_7            float64\n",
      "std_ic_t2t_mou_8            float64\n",
      "std_ic_t2t_mou_9            float64\n",
      "std_ic_t2m_mou_6            float64\n",
      "std_ic_t2m_mou_7            float64\n",
      "std_ic_t2m_mou_8            float64\n",
      "std_ic_t2m_mou_9            float64\n",
      "std_ic_t2f_mou_6            float64\n",
      "std_ic_t2f_mou_7            float64\n",
      "std_ic_t2f_mou_8            float64\n",
      "std_ic_t2f_mou_9            float64\n",
      "std_ic_t2o_mou_6            float64\n",
      "std_ic_t2o_mou_7            float64\n",
      "std_ic_t2o_mou_8            float64\n",
      "std_ic_t2o_mou_9            float64\n",
      "std_ic_mou_6                float64\n",
      "std_ic_mou_7                float64\n",
      "std_ic_mou_8                float64\n",
      "std_ic_mou_9                float64\n",
      "total_ic_mou_6              float64\n",
      "total_ic_mou_7              float64\n",
      "total_ic_mou_8              float64\n",
      "total_ic_mou_9              float64\n",
      "spl_ic_mou_6                float64\n",
      "spl_ic_mou_7                float64\n",
      "spl_ic_mou_8                float64\n",
      "spl_ic_mou_9                float64\n",
      "isd_ic_mou_6                float64\n",
      "isd_ic_mou_7                float64\n",
      "isd_ic_mou_8                float64\n",
      "isd_ic_mou_9                float64\n",
      "ic_others_6                 float64\n",
      "ic_others_7                 float64\n",
      "ic_others_8                 float64\n",
      "ic_others_9                 float64\n",
      "total_rech_num_6            int64\n",
      "total_rech_num_7            int64\n",
      "total_rech_num_8            int64\n",
      "total_rech_num_9            int64\n",
      "total_rech_amt_6            int64\n",
      "total_rech_amt_7            int64\n",
      "total_rech_amt_8            int64\n",
      "total_rech_amt_9            int64\n",
      "max_rech_amt_6              int64\n",
      "max_rech_amt_7              int64\n",
      "max_rech_amt_8              int64\n",
      "max_rech_amt_9              int64\n",
      "date_of_last_rech_9         object\n",
      "last_day_rch_amt_6          int64\n",
      "last_day_rch_amt_7          int64\n",
      "last_day_rch_amt_8          int64\n",
      "last_day_rch_amt_9          int64\n",
      "date_of_last_rech_data_9    object\n",
      "total_rech_data_6           float64\n",
      "total_rech_data_7           float64\n",
      "total_rech_data_8           float64\n",
      "total_rech_data_9           float64\n",
      "max_rech_data_6             float64\n",
      "max_rech_data_7             float64\n",
      "max_rech_data_8             float64\n",
      "max_rech_data_9             float64\n",
      "count_rech_2g_6             float64\n",
      "count_rech_2g_7             float64\n",
      "count_rech_2g_8             float64\n",
      "count_rech_2g_9             float64\n",
      "count_rech_3g_6             float64\n",
      "count_rech_3g_7             float64\n",
      "count_rech_3g_8             float64\n",
      "count_rech_3g_9             float64\n",
      "av_rech_amt_data_6          float64\n",
      "av_rech_amt_data_7          float64\n",
      "av_rech_amt_data_8          float64\n",
      "av_rech_amt_data_9          float64\n",
      "vol_2g_mb_6                 float64\n",
      "vol_2g_mb_7                 float64\n",
      "vol_2g_mb_8                 float64\n",
      "vol_2g_mb_9                 float64\n",
      "vol_3g_mb_6                 float64\n",
      "vol_3g_mb_7                 float64\n",
      "vol_3g_mb_8                 float64\n",
      "vol_3g_mb_9                 float64\n",
      "arpu_3g_6                   float64\n",
      "arpu_3g_7                   float64\n",
      "arpu_3g_8                   float64\n",
      "arpu_3g_9                   float64\n",
      "arpu_2g_6                   float64\n",
      "arpu_2g_7                   float64\n",
      "arpu_2g_8                   float64\n",
      "arpu_2g_9                   float64\n",
      "night_pck_user_6            float64\n",
      "night_pck_user_7            float64\n",
      "night_pck_user_8            float64\n",
      "night_pck_user_9            float64\n",
      "monthly_2g_6                int64\n",
      "monthly_2g_7                int64\n",
      "monthly_2g_8                int64\n",
      "monthly_2g_9                int64\n",
      "sachet_2g_6                 int64\n",
      "sachet_2g_7                 int64\n",
      "sachet_2g_8                 int64\n",
      "sachet_2g_9                 int64\n",
      "monthly_3g_6                int64\n",
      "monthly_3g_7                int64\n",
      "monthly_3g_8                int64\n",
      "monthly_3g_9                int64\n",
      "sachet_3g_6                 int64\n",
      "sachet_3g_7                 int64\n",
      "sachet_3g_8                 int64\n",
      "sachet_3g_9                 int64\n",
      "fb_user_6                   float64\n",
      "fb_user_7                   float64\n",
      "fb_user_8                   float64\n",
      "fb_user_9                   float64\n",
      "aon                         int64\n",
      "vbc_3g_8                    float64\n",
      "vbc_3g_7                    float64\n",
      "vbc_3g_6                    float64\n",
      "vbc_3g_9                    float64\n",
      "amt_data_6                  float64\n",
      "amt_data_7                  float64\n",
      "amt_data_8                  float64\n",
      "avg_amt_data_6_7            float64\n",
      "days_since_recharge_6       int64\n",
      "days_since_recharge_7       int64\n",
      "days_since_recharge_8       int64\n",
      "dtypes: float64(183), int64(37), object(3)\n",
      "memory usage: 51.1+ MB\n"
     ]
    }
   ],
   "source": [
    "data_filtered[\"last_date_of_month_6\"] = pd.to_datetime(data_filtered[\"last_date_of_month_6\"])\n",
    "data_filtered[\"last_date_of_month_7\"] = pd.to_datetime(data_filtered[\"last_date_of_month_7\"])\n",
    "data_filtered[\"last_date_of_month_8\"] = pd.to_datetime(data_filtered[\"last_date_of_month_8\"])\n",
    "data_filtered[\"date_of_last_rech_6\"] = pd.to_datetime(data_filtered[\"date_of_last_rech_6\"])\n",
    "data_filtered[\"date_of_last_rech_7\"] = pd.to_datetime(data_filtered[\"date_of_last_rech_7\"])\n",
    "data_filtered[\"date_of_last_rech_8\"] = pd.to_datetime(data_filtered[\"date_of_last_rech_8\"])\n",
    "\n",
    "#3 new columns for days since recharge.\n",
    "data_filtered[\"days_since_recharge_6\"] = data_filtered[\"last_date_of_month_6\"] - data_filtered[\"date_of_last_rech_6\"]\n",
    "data_filtered[\"days_since_recharge_7\"] = data_filtered[\"last_date_of_month_7\"] - data_filtered[\"date_of_last_rech_7\"]\n",
    "data_filtered[\"days_since_recharge_8\"] = data_filtered[\"last_date_of_month_8\"] - data_filtered[\"date_of_last_rech_8\"]\n",
    "\n",
    "#converting into days\n",
    "data_filtered[\"days_since_recharge_6\"] = data_filtered[\"days_since_recharge_6\"].dt.days\n",
    "data_filtered[\"days_since_recharge_7\"] = data_filtered[\"days_since_recharge_7\"].dt.days\n",
    "data_filtered[\"days_since_recharge_8\"] = data_filtered[\"days_since_recharge_8\"].dt.days\n",
    "\n",
    "date_columns_to_be_dropped = [\"last_date_of_month_6\",\"last_date_of_month_7\",\"last_date_of_month_8\", \n",
    "                              \"date_of_last_rech_6\", \"date_of_last_rech_7\", \"date_of_last_rech_8\",\n",
    "                              \"date_of_last_rech_data_6\",\"date_of_last_rech_data_7\",\"date_of_last_rech_data_8\"]\n",
    "data_filtered = data_filtered.drop(columns=date_columns_to_be_dropped)\n",
    "data_filtered.info(verbose=True)"
   ]
  },
  {
   "cell_type": "code",
   "execution_count": 1354,
   "metadata": {},
   "outputs": [
    {
     "data": {
      "text/plain": [
       "(30019, 223)"
      ]
     },
     "execution_count": 1354,
     "metadata": {},
     "output_type": "execute_result"
    }
   ],
   "source": [
    "data_filtered.shape\n",
    "#before outlier"
   ]
  },
  {
   "cell_type": "code",
   "execution_count": 1355,
   "metadata": {},
   "outputs": [],
   "source": [
    "# HANDLING OUTLIERS\n",
    "#z_scores = stats.zscore(data_filtered)\n",
    "\n",
    "#abs_z_scores = np.abs(z_scores)\n",
    "#filtered_entries = (abs_z_scores < 3).all(axis=1)\n",
    "#data_filtered = data_filtered[filtered_entries]\n",
    "\n",
    "#Using Quantile method ##method is removing all churn_flag=1 rows\n",
    "Q1 = data_filtered.quantile(0.1)\n",
    "Q3 = data_filtered.quantile(0.9)\n",
    "IQR = Q3 - Q1\n",
    "\n",
    "#data_filtered = data_filtered[~((data_filtered < (Q1 - 1.5 * IQR)) |(data_filtered > (Q3 + 1.5 * IQR))).any(axis=1)]\n",
    "#data_filtered.info(verbose=True)"
   ]
  },
  {
   "cell_type": "code",
   "execution_count": 1356,
   "metadata": {},
   "outputs": [
    {
     "data": {
      "text/plain": [
       "(30019, 223)"
      ]
     },
     "execution_count": 1356,
     "metadata": {},
     "output_type": "execute_result"
    }
   ],
   "source": [
    "data_filtered.shape\n",
    "#after outlier treatment"
   ]
  },
  {
   "cell_type": "code",
   "execution_count": 1357,
   "metadata": {},
   "outputs": [
    {
     "name": "stdout",
     "output_type": "stream",
     "text": [
      "0    26973\n",
      "1     3046\n",
      "Name: churn_flag, dtype: int64\n"
     ]
    }
   ],
   "source": [
    "#Identifying Churn customers\n",
    "data_filtered['churn_flag'] = np.where(((data_filtered['total_ic_mou_9'] == 0.00) | (data_filtered['total_og_mou_9'] == 0.00))\n",
    "                            & ((data_filtered['vol_2g_mb_9'] == 0.00) | (data_filtered['vol_3g_mb_9'] == 0.00))\n",
    "                            , 1, 0)\n",
    "print(data_filtered['churn_flag'].value_counts())\n"
   ]
  },
  {
   "cell_type": "code",
   "execution_count": 1358,
   "metadata": {},
   "outputs": [],
   "source": [
    "#CONSOLIDATION OF OTHER VALUES IS NEEDED "
   ]
  },
  {
   "cell_type": "code",
   "execution_count": 1359,
   "metadata": {},
   "outputs": [
    {
     "name": "stdout",
     "output_type": "stream",
     "text": [
      "<class 'pandas.core.frame.DataFrame'>\n",
      "RangeIndex: 30019 entries, 0 to 30018\n",
      "Data columns (total 169 columns):\n",
      "circle_id                int64\n",
      "loc_og_t2o_mou           float64\n",
      "std_og_t2o_mou           float64\n",
      "loc_ic_t2o_mou           float64\n",
      "arpu_6                   float64\n",
      "arpu_7                   float64\n",
      "arpu_8                   float64\n",
      "onnet_mou_6              float64\n",
      "onnet_mou_7              float64\n",
      "onnet_mou_8              float64\n",
      "offnet_mou_6             float64\n",
      "offnet_mou_7             float64\n",
      "offnet_mou_8             float64\n",
      "roam_ic_mou_6            float64\n",
      "roam_ic_mou_7            float64\n",
      "roam_ic_mou_8            float64\n",
      "roam_og_mou_6            float64\n",
      "roam_og_mou_7            float64\n",
      "roam_og_mou_8            float64\n",
      "loc_og_t2t_mou_6         float64\n",
      "loc_og_t2t_mou_7         float64\n",
      "loc_og_t2t_mou_8         float64\n",
      "loc_og_t2m_mou_6         float64\n",
      "loc_og_t2m_mou_7         float64\n",
      "loc_og_t2m_mou_8         float64\n",
      "loc_og_t2f_mou_6         float64\n",
      "loc_og_t2f_mou_7         float64\n",
      "loc_og_t2f_mou_8         float64\n",
      "loc_og_t2c_mou_6         float64\n",
      "loc_og_t2c_mou_7         float64\n",
      "loc_og_t2c_mou_8         float64\n",
      "loc_og_mou_6             float64\n",
      "loc_og_mou_7             float64\n",
      "loc_og_mou_8             float64\n",
      "std_og_t2t_mou_6         float64\n",
      "std_og_t2t_mou_7         float64\n",
      "std_og_t2t_mou_8         float64\n",
      "std_og_t2m_mou_6         float64\n",
      "std_og_t2m_mou_7         float64\n",
      "std_og_t2m_mou_8         float64\n",
      "std_og_t2f_mou_6         float64\n",
      "std_og_t2f_mou_7         float64\n",
      "std_og_t2f_mou_8         float64\n",
      "std_og_t2c_mou_6         float64\n",
      "std_og_t2c_mou_7         float64\n",
      "std_og_t2c_mou_8         float64\n",
      "std_og_mou_6             float64\n",
      "std_og_mou_7             float64\n",
      "std_og_mou_8             float64\n",
      "isd_og_mou_6             float64\n",
      "isd_og_mou_7             float64\n",
      "isd_og_mou_8             float64\n",
      "spl_og_mou_6             float64\n",
      "spl_og_mou_7             float64\n",
      "spl_og_mou_8             float64\n",
      "og_others_6              float64\n",
      "og_others_7              float64\n",
      "og_others_8              float64\n",
      "total_og_mou_6           float64\n",
      "total_og_mou_7           float64\n",
      "total_og_mou_8           float64\n",
      "loc_ic_t2t_mou_6         float64\n",
      "loc_ic_t2t_mou_7         float64\n",
      "loc_ic_t2t_mou_8         float64\n",
      "loc_ic_t2m_mou_6         float64\n",
      "loc_ic_t2m_mou_7         float64\n",
      "loc_ic_t2m_mou_8         float64\n",
      "loc_ic_t2f_mou_6         float64\n",
      "loc_ic_t2f_mou_7         float64\n",
      "loc_ic_t2f_mou_8         float64\n",
      "loc_ic_mou_6             float64\n",
      "loc_ic_mou_7             float64\n",
      "loc_ic_mou_8             float64\n",
      "std_ic_t2t_mou_6         float64\n",
      "std_ic_t2t_mou_7         float64\n",
      "std_ic_t2t_mou_8         float64\n",
      "std_ic_t2m_mou_6         float64\n",
      "std_ic_t2m_mou_7         float64\n",
      "std_ic_t2m_mou_8         float64\n",
      "std_ic_t2f_mou_6         float64\n",
      "std_ic_t2f_mou_7         float64\n",
      "std_ic_t2f_mou_8         float64\n",
      "std_ic_t2o_mou_6         float64\n",
      "std_ic_t2o_mou_7         float64\n",
      "std_ic_t2o_mou_8         float64\n",
      "std_ic_mou_6             float64\n",
      "std_ic_mou_7             float64\n",
      "std_ic_mou_8             float64\n",
      "total_ic_mou_6           float64\n",
      "total_ic_mou_7           float64\n",
      "total_ic_mou_8           float64\n",
      "spl_ic_mou_6             float64\n",
      "spl_ic_mou_7             float64\n",
      "spl_ic_mou_8             float64\n",
      "isd_ic_mou_6             float64\n",
      "isd_ic_mou_7             float64\n",
      "isd_ic_mou_8             float64\n",
      "ic_others_6              float64\n",
      "ic_others_7              float64\n",
      "ic_others_8              float64\n",
      "total_rech_num_6         int64\n",
      "total_rech_num_7         int64\n",
      "total_rech_num_8         int64\n",
      "total_rech_amt_6         int64\n",
      "total_rech_amt_7         int64\n",
      "total_rech_amt_8         int64\n",
      "max_rech_amt_6           int64\n",
      "max_rech_amt_7           int64\n",
      "max_rech_amt_8           int64\n",
      "last_day_rch_amt_6       int64\n",
      "last_day_rch_amt_7       int64\n",
      "last_day_rch_amt_8       int64\n",
      "total_rech_data_6        float64\n",
      "total_rech_data_7        float64\n",
      "total_rech_data_8        float64\n",
      "max_rech_data_6          float64\n",
      "max_rech_data_7          float64\n",
      "max_rech_data_8          float64\n",
      "count_rech_2g_6          float64\n",
      "count_rech_2g_7          float64\n",
      "count_rech_2g_8          float64\n",
      "count_rech_3g_6          float64\n",
      "count_rech_3g_7          float64\n",
      "count_rech_3g_8          float64\n",
      "av_rech_amt_data_6       float64\n",
      "av_rech_amt_data_7       float64\n",
      "av_rech_amt_data_8       float64\n",
      "vol_2g_mb_6              float64\n",
      "vol_2g_mb_7              float64\n",
      "vol_2g_mb_8              float64\n",
      "vol_3g_mb_6              float64\n",
      "vol_3g_mb_7              float64\n",
      "vol_3g_mb_8              float64\n",
      "arpu_3g_6                float64\n",
      "arpu_3g_7                float64\n",
      "arpu_3g_8                float64\n",
      "arpu_2g_6                float64\n",
      "arpu_2g_7                float64\n",
      "arpu_2g_8                float64\n",
      "night_pck_user_6         float64\n",
      "night_pck_user_7         float64\n",
      "night_pck_user_8         float64\n",
      "monthly_2g_6             int64\n",
      "monthly_2g_7             int64\n",
      "monthly_2g_8             int64\n",
      "sachet_2g_6              int64\n",
      "sachet_2g_7              int64\n",
      "sachet_2g_8              int64\n",
      "monthly_3g_6             int64\n",
      "monthly_3g_7             int64\n",
      "monthly_3g_8             int64\n",
      "sachet_3g_6              int64\n",
      "sachet_3g_7              int64\n",
      "sachet_3g_8              int64\n",
      "fb_user_6                float64\n",
      "fb_user_7                float64\n",
      "fb_user_8                float64\n",
      "aon                      int64\n",
      "vbc_3g_8                 float64\n",
      "vbc_3g_7                 float64\n",
      "vbc_3g_6                 float64\n",
      "amt_data_6               float64\n",
      "amt_data_7               float64\n",
      "amt_data_8               float64\n",
      "avg_amt_data_6_7         float64\n",
      "days_since_recharge_6    int64\n",
      "days_since_recharge_7    int64\n",
      "days_since_recharge_8    int64\n",
      "churn_flag               int32\n",
      "dtypes: float64(139), int32(1), int64(29)\n",
      "memory usage: 38.6 MB\n"
     ]
    }
   ],
   "source": [
    "#now that every column follows same naming patter drop features related to Churn Phase\n",
    "data_filtered = data_filtered.drop(data_filtered.filter(regex='_9', axis = 1).columns, axis=1)\n",
    "data_filtered.info(verbose=True)"
   ]
  },
  {
   "cell_type": "code",
   "execution_count": 1360,
   "metadata": {},
   "outputs": [],
   "source": [
    "#Plotting heatmap to get an overall picture\n",
    "#plt.figure(figsize = (50, 30))\n",
    "#sns.heatmap(data_filtered.corr(), annot = True, cmap=\"YlGnBu\")\n",
    "#plt.show()"
   ]
  },
  {
   "cell_type": "code",
   "execution_count": 1361,
   "metadata": {},
   "outputs": [
    {
     "data": {
      "text/html": [
       "<div>\n",
       "<style scoped>\n",
       "    .dataframe tbody tr th:only-of-type {\n",
       "        vertical-align: middle;\n",
       "    }\n",
       "\n",
       "    .dataframe tbody tr th {\n",
       "        vertical-align: top;\n",
       "    }\n",
       "\n",
       "    .dataframe thead th {\n",
       "        text-align: right;\n",
       "    }\n",
       "</style>\n",
       "<table border=\"1\" class=\"dataframe\">\n",
       "  <thead>\n",
       "    <tr style=\"text-align: right;\">\n",
       "      <th></th>\n",
       "      <th>circle_id</th>\n",
       "      <th>loc_og_t2o_mou</th>\n",
       "      <th>std_og_t2o_mou</th>\n",
       "      <th>loc_ic_t2o_mou</th>\n",
       "      <th>arpu_6</th>\n",
       "      <th>arpu_7</th>\n",
       "      <th>arpu_8</th>\n",
       "      <th>onnet_mou_6</th>\n",
       "      <th>onnet_mou_7</th>\n",
       "      <th>onnet_mou_8</th>\n",
       "      <th>...</th>\n",
       "      <th>vbc_3g_7</th>\n",
       "      <th>vbc_3g_6</th>\n",
       "      <th>amt_data_6</th>\n",
       "      <th>amt_data_7</th>\n",
       "      <th>amt_data_8</th>\n",
       "      <th>avg_amt_data_6_7</th>\n",
       "      <th>days_since_recharge_6</th>\n",
       "      <th>days_since_recharge_7</th>\n",
       "      <th>days_since_recharge_8</th>\n",
       "      <th>churn_flag</th>\n",
       "    </tr>\n",
       "  </thead>\n",
       "  <tbody>\n",
       "    <tr>\n",
       "      <td>0</td>\n",
       "      <td>109</td>\n",
       "      <td>0.0</td>\n",
       "      <td>0.0</td>\n",
       "      <td>0.0</td>\n",
       "      <td>1069.180</td>\n",
       "      <td>1349.850</td>\n",
       "      <td>3171.480</td>\n",
       "      <td>57.84</td>\n",
       "      <td>54.68</td>\n",
       "      <td>52.29</td>\n",
       "      <td>...</td>\n",
       "      <td>19.38</td>\n",
       "      <td>18.74</td>\n",
       "      <td>1580.0</td>\n",
       "      <td>790.0</td>\n",
       "      <td>3638.0</td>\n",
       "      <td>1185.0</td>\n",
       "      <td>3</td>\n",
       "      <td>6</td>\n",
       "      <td>5</td>\n",
       "      <td>1</td>\n",
       "    </tr>\n",
       "    <tr>\n",
       "      <td>1</td>\n",
       "      <td>109</td>\n",
       "      <td>0.0</td>\n",
       "      <td>0.0</td>\n",
       "      <td>0.0</td>\n",
       "      <td>378.721</td>\n",
       "      <td>492.223</td>\n",
       "      <td>137.362</td>\n",
       "      <td>413.69</td>\n",
       "      <td>351.03</td>\n",
       "      <td>35.08</td>\n",
       "      <td>...</td>\n",
       "      <td>910.65</td>\n",
       "      <td>122.16</td>\n",
       "      <td>437.0</td>\n",
       "      <td>603.0</td>\n",
       "      <td>123.0</td>\n",
       "      <td>520.0</td>\n",
       "      <td>5</td>\n",
       "      <td>0</td>\n",
       "      <td>1</td>\n",
       "      <td>0</td>\n",
       "    </tr>\n",
       "    <tr>\n",
       "      <td>2</td>\n",
       "      <td>109</td>\n",
       "      <td>0.0</td>\n",
       "      <td>0.0</td>\n",
       "      <td>0.0</td>\n",
       "      <td>492.846</td>\n",
       "      <td>205.671</td>\n",
       "      <td>593.260</td>\n",
       "      <td>501.76</td>\n",
       "      <td>108.39</td>\n",
       "      <td>534.24</td>\n",
       "      <td>...</td>\n",
       "      <td>0.00</td>\n",
       "      <td>0.00</td>\n",
       "      <td>507.0</td>\n",
       "      <td>253.0</td>\n",
       "      <td>720.0</td>\n",
       "      <td>380.0</td>\n",
       "      <td>10</td>\n",
       "      <td>9</td>\n",
       "      <td>1</td>\n",
       "      <td>0</td>\n",
       "    </tr>\n",
       "    <tr>\n",
       "      <td>3</td>\n",
       "      <td>109</td>\n",
       "      <td>0.0</td>\n",
       "      <td>0.0</td>\n",
       "      <td>0.0</td>\n",
       "      <td>430.975</td>\n",
       "      <td>299.869</td>\n",
       "      <td>187.894</td>\n",
       "      <td>50.51</td>\n",
       "      <td>74.01</td>\n",
       "      <td>70.61</td>\n",
       "      <td>...</td>\n",
       "      <td>2.45</td>\n",
       "      <td>21.89</td>\n",
       "      <td>570.0</td>\n",
       "      <td>348.0</td>\n",
       "      <td>160.0</td>\n",
       "      <td>459.0</td>\n",
       "      <td>0</td>\n",
       "      <td>0</td>\n",
       "      <td>17</td>\n",
       "      <td>0</td>\n",
       "    </tr>\n",
       "    <tr>\n",
       "      <td>4</td>\n",
       "      <td>109</td>\n",
       "      <td>0.0</td>\n",
       "      <td>0.0</td>\n",
       "      <td>0.0</td>\n",
       "      <td>690.008</td>\n",
       "      <td>18.980</td>\n",
       "      <td>25.499</td>\n",
       "      <td>1185.91</td>\n",
       "      <td>9.28</td>\n",
       "      <td>7.79</td>\n",
       "      <td>...</td>\n",
       "      <td>0.00</td>\n",
       "      <td>0.00</td>\n",
       "      <td>816.0</td>\n",
       "      <td>0.0</td>\n",
       "      <td>30.0</td>\n",
       "      <td>408.0</td>\n",
       "      <td>0</td>\n",
       "      <td>1</td>\n",
       "      <td>6</td>\n",
       "      <td>0</td>\n",
       "    </tr>\n",
       "  </tbody>\n",
       "</table>\n",
       "<p>5 rows × 169 columns</p>\n",
       "</div>"
      ],
      "text/plain": [
       "   circle_id  loc_og_t2o_mou  std_og_t2o_mou  loc_ic_t2o_mou    arpu_6  \\\n",
       "0        109             0.0             0.0             0.0  1069.180   \n",
       "1        109             0.0             0.0             0.0   378.721   \n",
       "2        109             0.0             0.0             0.0   492.846   \n",
       "3        109             0.0             0.0             0.0   430.975   \n",
       "4        109             0.0             0.0             0.0   690.008   \n",
       "\n",
       "     arpu_7    arpu_8  onnet_mou_6  onnet_mou_7  onnet_mou_8  ...  vbc_3g_7  \\\n",
       "0  1349.850  3171.480        57.84        54.68        52.29  ...     19.38   \n",
       "1   492.223   137.362       413.69       351.03        35.08  ...    910.65   \n",
       "2   205.671   593.260       501.76       108.39       534.24  ...      0.00   \n",
       "3   299.869   187.894        50.51        74.01        70.61  ...      2.45   \n",
       "4    18.980    25.499      1185.91         9.28         7.79  ...      0.00   \n",
       "\n",
       "   vbc_3g_6  amt_data_6  amt_data_7  amt_data_8  avg_amt_data_6_7  \\\n",
       "0     18.74      1580.0       790.0      3638.0            1185.0   \n",
       "1    122.16       437.0       603.0       123.0             520.0   \n",
       "2      0.00       507.0       253.0       720.0             380.0   \n",
       "3     21.89       570.0       348.0       160.0             459.0   \n",
       "4      0.00       816.0         0.0        30.0             408.0   \n",
       "\n",
       "   days_since_recharge_6  days_since_recharge_7  days_since_recharge_8  \\\n",
       "0                      3                      6                      5   \n",
       "1                      5                      0                      1   \n",
       "2                     10                      9                      1   \n",
       "3                      0                      0                     17   \n",
       "4                      0                      1                      6   \n",
       "\n",
       "   churn_flag  \n",
       "0           1  \n",
       "1           0  \n",
       "2           0  \n",
       "3           0  \n",
       "4           0  \n",
       "\n",
       "[5 rows x 169 columns]"
      ]
     },
     "execution_count": 1361,
     "metadata": {},
     "output_type": "execute_result"
    }
   ],
   "source": [
    "## Heatmap is not of much help with large no of features\n",
    "#Analysing further all numeric (float and int) variables in the dataset\n",
    "#Its one and the same now ..selection is not needed .. all numeric DF\n",
    "#data_numeric = data_filtered.select_dtypes(include=['float64', 'int64','int32'])\n",
    "\n",
    "data_numeric=data_filtered\n",
    "data_numeric.head()"
   ]
  },
  {
   "cell_type": "code",
   "execution_count": 1362,
   "metadata": {},
   "outputs": [
    {
     "data": {
      "text/html": [
       "<div>\n",
       "<style scoped>\n",
       "    .dataframe tbody tr th:only-of-type {\n",
       "        vertical-align: middle;\n",
       "    }\n",
       "\n",
       "    .dataframe tbody tr th {\n",
       "        vertical-align: top;\n",
       "    }\n",
       "\n",
       "    .dataframe thead th {\n",
       "        text-align: right;\n",
       "    }\n",
       "</style>\n",
       "<table border=\"1\" class=\"dataframe\">\n",
       "  <thead>\n",
       "    <tr style=\"text-align: right;\">\n",
       "      <th></th>\n",
       "      <th>circle_id</th>\n",
       "      <th>loc_og_t2o_mou</th>\n",
       "      <th>std_og_t2o_mou</th>\n",
       "      <th>loc_ic_t2o_mou</th>\n",
       "      <th>arpu_6</th>\n",
       "      <th>arpu_7</th>\n",
       "      <th>arpu_8</th>\n",
       "      <th>onnet_mou_6</th>\n",
       "      <th>onnet_mou_7</th>\n",
       "      <th>onnet_mou_8</th>\n",
       "      <th>...</th>\n",
       "      <th>vbc_3g_7</th>\n",
       "      <th>vbc_3g_6</th>\n",
       "      <th>amt_data_6</th>\n",
       "      <th>amt_data_7</th>\n",
       "      <th>amt_data_8</th>\n",
       "      <th>avg_amt_data_6_7</th>\n",
       "      <th>days_since_recharge_6</th>\n",
       "      <th>days_since_recharge_7</th>\n",
       "      <th>days_since_recharge_8</th>\n",
       "      <th>churn_flag</th>\n",
       "    </tr>\n",
       "  </thead>\n",
       "  <tbody>\n",
       "    <tr>\n",
       "      <td>circle_id</td>\n",
       "      <td>NaN</td>\n",
       "      <td>NaN</td>\n",
       "      <td>NaN</td>\n",
       "      <td>NaN</td>\n",
       "      <td>NaN</td>\n",
       "      <td>NaN</td>\n",
       "      <td>NaN</td>\n",
       "      <td>NaN</td>\n",
       "      <td>NaN</td>\n",
       "      <td>NaN</td>\n",
       "      <td>...</td>\n",
       "      <td>NaN</td>\n",
       "      <td>NaN</td>\n",
       "      <td>NaN</td>\n",
       "      <td>NaN</td>\n",
       "      <td>NaN</td>\n",
       "      <td>NaN</td>\n",
       "      <td>NaN</td>\n",
       "      <td>NaN</td>\n",
       "      <td>NaN</td>\n",
       "      <td>NaN</td>\n",
       "    </tr>\n",
       "    <tr>\n",
       "      <td>loc_og_t2o_mou</td>\n",
       "      <td>NaN</td>\n",
       "      <td>NaN</td>\n",
       "      <td>NaN</td>\n",
       "      <td>NaN</td>\n",
       "      <td>NaN</td>\n",
       "      <td>NaN</td>\n",
       "      <td>NaN</td>\n",
       "      <td>NaN</td>\n",
       "      <td>NaN</td>\n",
       "      <td>NaN</td>\n",
       "      <td>...</td>\n",
       "      <td>NaN</td>\n",
       "      <td>NaN</td>\n",
       "      <td>NaN</td>\n",
       "      <td>NaN</td>\n",
       "      <td>NaN</td>\n",
       "      <td>NaN</td>\n",
       "      <td>NaN</td>\n",
       "      <td>NaN</td>\n",
       "      <td>NaN</td>\n",
       "      <td>NaN</td>\n",
       "    </tr>\n",
       "    <tr>\n",
       "      <td>std_og_t2o_mou</td>\n",
       "      <td>NaN</td>\n",
       "      <td>NaN</td>\n",
       "      <td>NaN</td>\n",
       "      <td>NaN</td>\n",
       "      <td>NaN</td>\n",
       "      <td>NaN</td>\n",
       "      <td>NaN</td>\n",
       "      <td>NaN</td>\n",
       "      <td>NaN</td>\n",
       "      <td>NaN</td>\n",
       "      <td>...</td>\n",
       "      <td>NaN</td>\n",
       "      <td>NaN</td>\n",
       "      <td>NaN</td>\n",
       "      <td>NaN</td>\n",
       "      <td>NaN</td>\n",
       "      <td>NaN</td>\n",
       "      <td>NaN</td>\n",
       "      <td>NaN</td>\n",
       "      <td>NaN</td>\n",
       "      <td>NaN</td>\n",
       "    </tr>\n",
       "    <tr>\n",
       "      <td>loc_ic_t2o_mou</td>\n",
       "      <td>NaN</td>\n",
       "      <td>NaN</td>\n",
       "      <td>NaN</td>\n",
       "      <td>NaN</td>\n",
       "      <td>NaN</td>\n",
       "      <td>NaN</td>\n",
       "      <td>NaN</td>\n",
       "      <td>NaN</td>\n",
       "      <td>NaN</td>\n",
       "      <td>NaN</td>\n",
       "      <td>...</td>\n",
       "      <td>NaN</td>\n",
       "      <td>NaN</td>\n",
       "      <td>NaN</td>\n",
       "      <td>NaN</td>\n",
       "      <td>NaN</td>\n",
       "      <td>NaN</td>\n",
       "      <td>NaN</td>\n",
       "      <td>NaN</td>\n",
       "      <td>NaN</td>\n",
       "      <td>NaN</td>\n",
       "    </tr>\n",
       "    <tr>\n",
       "      <td>arpu_6</td>\n",
       "      <td>NaN</td>\n",
       "      <td>NaN</td>\n",
       "      <td>NaN</td>\n",
       "      <td>NaN</td>\n",
       "      <td>1.000000</td>\n",
       "      <td>0.631603</td>\n",
       "      <td>0.571027</td>\n",
       "      <td>0.291466</td>\n",
       "      <td>0.142720</td>\n",
       "      <td>0.116785</td>\n",
       "      <td>...</td>\n",
       "      <td>0.123493</td>\n",
       "      <td>0.172676</td>\n",
       "      <td>0.941311</td>\n",
       "      <td>0.608024</td>\n",
       "      <td>0.565347</td>\n",
       "      <td>0.869008</td>\n",
       "      <td>-0.040223</td>\n",
       "      <td>0.000132</td>\n",
       "      <td>0.018859</td>\n",
       "      <td>0.058438</td>\n",
       "    </tr>\n",
       "    <tr>\n",
       "      <td>...</td>\n",
       "      <td>...</td>\n",
       "      <td>...</td>\n",
       "      <td>...</td>\n",
       "      <td>...</td>\n",
       "      <td>...</td>\n",
       "      <td>...</td>\n",
       "      <td>...</td>\n",
       "      <td>...</td>\n",
       "      <td>...</td>\n",
       "      <td>...</td>\n",
       "      <td>...</td>\n",
       "      <td>...</td>\n",
       "      <td>...</td>\n",
       "      <td>...</td>\n",
       "      <td>...</td>\n",
       "      <td>...</td>\n",
       "      <td>...</td>\n",
       "      <td>...</td>\n",
       "      <td>...</td>\n",
       "      <td>...</td>\n",
       "      <td>...</td>\n",
       "    </tr>\n",
       "    <tr>\n",
       "      <td>avg_amt_data_6_7</td>\n",
       "      <td>NaN</td>\n",
       "      <td>NaN</td>\n",
       "      <td>NaN</td>\n",
       "      <td>NaN</td>\n",
       "      <td>0.869008</td>\n",
       "      <td>0.890972</td>\n",
       "      <td>0.737276</td>\n",
       "      <td>0.229281</td>\n",
       "      <td>0.227797</td>\n",
       "      <td>0.189846</td>\n",
       "      <td>...</td>\n",
       "      <td>0.152801</td>\n",
       "      <td>0.144810</td>\n",
       "      <td>0.882371</td>\n",
       "      <td>0.892326</td>\n",
       "      <td>0.714702</td>\n",
       "      <td>1.000000</td>\n",
       "      <td>-0.008149</td>\n",
       "      <td>-0.008738</td>\n",
       "      <td>-0.003386</td>\n",
       "      <td>0.009734</td>\n",
       "    </tr>\n",
       "    <tr>\n",
       "      <td>days_since_recharge_6</td>\n",
       "      <td>NaN</td>\n",
       "      <td>NaN</td>\n",
       "      <td>NaN</td>\n",
       "      <td>NaN</td>\n",
       "      <td>-0.040223</td>\n",
       "      <td>0.007753</td>\n",
       "      <td>0.014882</td>\n",
       "      <td>-0.021534</td>\n",
       "      <td>0.009368</td>\n",
       "      <td>0.007667</td>\n",
       "      <td>...</td>\n",
       "      <td>-0.010855</td>\n",
       "      <td>-0.013781</td>\n",
       "      <td>-0.059689</td>\n",
       "      <td>0.043088</td>\n",
       "      <td>-0.003962</td>\n",
       "      <td>-0.008149</td>\n",
       "      <td>1.000000</td>\n",
       "      <td>-0.002028</td>\n",
       "      <td>0.056297</td>\n",
       "      <td>0.035712</td>\n",
       "    </tr>\n",
       "    <tr>\n",
       "      <td>days_since_recharge_7</td>\n",
       "      <td>NaN</td>\n",
       "      <td>NaN</td>\n",
       "      <td>NaN</td>\n",
       "      <td>NaN</td>\n",
       "      <td>0.000132</td>\n",
       "      <td>-0.026051</td>\n",
       "      <td>-0.027658</td>\n",
       "      <td>0.013301</td>\n",
       "      <td>-0.019921</td>\n",
       "      <td>-0.013377</td>\n",
       "      <td>...</td>\n",
       "      <td>-0.014986</td>\n",
       "      <td>-0.008861</td>\n",
       "      <td>0.053100</td>\n",
       "      <td>-0.066131</td>\n",
       "      <td>-0.030695</td>\n",
       "      <td>-0.008738</td>\n",
       "      <td>-0.002028</td>\n",
       "      <td>1.000000</td>\n",
       "      <td>0.147690</td>\n",
       "      <td>0.062829</td>\n",
       "    </tr>\n",
       "    <tr>\n",
       "      <td>days_since_recharge_8</td>\n",
       "      <td>NaN</td>\n",
       "      <td>NaN</td>\n",
       "      <td>NaN</td>\n",
       "      <td>NaN</td>\n",
       "      <td>0.018859</td>\n",
       "      <td>-0.061927</td>\n",
       "      <td>-0.086346</td>\n",
       "      <td>-0.009344</td>\n",
       "      <td>-0.033838</td>\n",
       "      <td>-0.053130</td>\n",
       "      <td>...</td>\n",
       "      <td>-0.019842</td>\n",
       "      <td>-0.016792</td>\n",
       "      <td>0.030428</td>\n",
       "      <td>-0.035076</td>\n",
       "      <td>-0.124758</td>\n",
       "      <td>-0.003386</td>\n",
       "      <td>0.056297</td>\n",
       "      <td>0.147690</td>\n",
       "      <td>1.000000</td>\n",
       "      <td>0.132574</td>\n",
       "    </tr>\n",
       "    <tr>\n",
       "      <td>churn_flag</td>\n",
       "      <td>NaN</td>\n",
       "      <td>NaN</td>\n",
       "      <td>NaN</td>\n",
       "      <td>NaN</td>\n",
       "      <td>0.058438</td>\n",
       "      <td>-0.032188</td>\n",
       "      <td>-0.194784</td>\n",
       "      <td>0.067255</td>\n",
       "      <td>-0.000631</td>\n",
       "      <td>-0.107801</td>\n",
       "      <td>...</td>\n",
       "      <td>-0.046223</td>\n",
       "      <td>-0.031280</td>\n",
       "      <td>0.057924</td>\n",
       "      <td>-0.038639</td>\n",
       "      <td>-0.194206</td>\n",
       "      <td>0.009734</td>\n",
       "      <td>0.035712</td>\n",
       "      <td>0.062829</td>\n",
       "      <td>0.132574</td>\n",
       "      <td>1.000000</td>\n",
       "    </tr>\n",
       "  </tbody>\n",
       "</table>\n",
       "<p>169 rows × 169 columns</p>\n",
       "</div>"
      ],
      "text/plain": [
       "                       circle_id  loc_og_t2o_mou  std_og_t2o_mou  \\\n",
       "circle_id                    NaN             NaN             NaN   \n",
       "loc_og_t2o_mou               NaN             NaN             NaN   \n",
       "std_og_t2o_mou               NaN             NaN             NaN   \n",
       "loc_ic_t2o_mou               NaN             NaN             NaN   \n",
       "arpu_6                       NaN             NaN             NaN   \n",
       "...                          ...             ...             ...   \n",
       "avg_amt_data_6_7             NaN             NaN             NaN   \n",
       "days_since_recharge_6        NaN             NaN             NaN   \n",
       "days_since_recharge_7        NaN             NaN             NaN   \n",
       "days_since_recharge_8        NaN             NaN             NaN   \n",
       "churn_flag                   NaN             NaN             NaN   \n",
       "\n",
       "                       loc_ic_t2o_mou    arpu_6    arpu_7    arpu_8  \\\n",
       "circle_id                         NaN       NaN       NaN       NaN   \n",
       "loc_og_t2o_mou                    NaN       NaN       NaN       NaN   \n",
       "std_og_t2o_mou                    NaN       NaN       NaN       NaN   \n",
       "loc_ic_t2o_mou                    NaN       NaN       NaN       NaN   \n",
       "arpu_6                            NaN  1.000000  0.631603  0.571027   \n",
       "...                               ...       ...       ...       ...   \n",
       "avg_amt_data_6_7                  NaN  0.869008  0.890972  0.737276   \n",
       "days_since_recharge_6             NaN -0.040223  0.007753  0.014882   \n",
       "days_since_recharge_7             NaN  0.000132 -0.026051 -0.027658   \n",
       "days_since_recharge_8             NaN  0.018859 -0.061927 -0.086346   \n",
       "churn_flag                        NaN  0.058438 -0.032188 -0.194784   \n",
       "\n",
       "                       onnet_mou_6  onnet_mou_7  onnet_mou_8  ...  vbc_3g_7  \\\n",
       "circle_id                      NaN          NaN          NaN  ...       NaN   \n",
       "loc_og_t2o_mou                 NaN          NaN          NaN  ...       NaN   \n",
       "std_og_t2o_mou                 NaN          NaN          NaN  ...       NaN   \n",
       "loc_ic_t2o_mou                 NaN          NaN          NaN  ...       NaN   \n",
       "arpu_6                    0.291466     0.142720     0.116785  ...  0.123493   \n",
       "...                            ...          ...          ...  ...       ...   \n",
       "avg_amt_data_6_7          0.229281     0.227797     0.189846  ...  0.152801   \n",
       "days_since_recharge_6    -0.021534     0.009368     0.007667  ... -0.010855   \n",
       "days_since_recharge_7     0.013301    -0.019921    -0.013377  ... -0.014986   \n",
       "days_since_recharge_8    -0.009344    -0.033838    -0.053130  ... -0.019842   \n",
       "churn_flag                0.067255    -0.000631    -0.107801  ... -0.046223   \n",
       "\n",
       "                       vbc_3g_6  amt_data_6  amt_data_7  amt_data_8  \\\n",
       "circle_id                   NaN         NaN         NaN         NaN   \n",
       "loc_og_t2o_mou              NaN         NaN         NaN         NaN   \n",
       "std_og_t2o_mou              NaN         NaN         NaN         NaN   \n",
       "loc_ic_t2o_mou              NaN         NaN         NaN         NaN   \n",
       "arpu_6                 0.172676    0.941311    0.608024    0.565347   \n",
       "...                         ...         ...         ...         ...   \n",
       "avg_amt_data_6_7       0.144810    0.882371    0.892326    0.714702   \n",
       "days_since_recharge_6 -0.013781   -0.059689    0.043088   -0.003962   \n",
       "days_since_recharge_7 -0.008861    0.053100   -0.066131   -0.030695   \n",
       "days_since_recharge_8 -0.016792    0.030428   -0.035076   -0.124758   \n",
       "churn_flag            -0.031280    0.057924   -0.038639   -0.194206   \n",
       "\n",
       "                       avg_amt_data_6_7  days_since_recharge_6  \\\n",
       "circle_id                           NaN                    NaN   \n",
       "loc_og_t2o_mou                      NaN                    NaN   \n",
       "std_og_t2o_mou                      NaN                    NaN   \n",
       "loc_ic_t2o_mou                      NaN                    NaN   \n",
       "arpu_6                         0.869008              -0.040223   \n",
       "...                                 ...                    ...   \n",
       "avg_amt_data_6_7               1.000000              -0.008149   \n",
       "days_since_recharge_6         -0.008149               1.000000   \n",
       "days_since_recharge_7         -0.008738              -0.002028   \n",
       "days_since_recharge_8         -0.003386               0.056297   \n",
       "churn_flag                     0.009734               0.035712   \n",
       "\n",
       "                       days_since_recharge_7  days_since_recharge_8  \\\n",
       "circle_id                                NaN                    NaN   \n",
       "loc_og_t2o_mou                           NaN                    NaN   \n",
       "std_og_t2o_mou                           NaN                    NaN   \n",
       "loc_ic_t2o_mou                           NaN                    NaN   \n",
       "arpu_6                              0.000132               0.018859   \n",
       "...                                      ...                    ...   \n",
       "avg_amt_data_6_7                   -0.008738              -0.003386   \n",
       "days_since_recharge_6              -0.002028               0.056297   \n",
       "days_since_recharge_7               1.000000               0.147690   \n",
       "days_since_recharge_8               0.147690               1.000000   \n",
       "churn_flag                          0.062829               0.132574   \n",
       "\n",
       "                       churn_flag  \n",
       "circle_id                     NaN  \n",
       "loc_og_t2o_mou                NaN  \n",
       "std_og_t2o_mou                NaN  \n",
       "loc_ic_t2o_mou                NaN  \n",
       "arpu_6                   0.058438  \n",
       "...                           ...  \n",
       "avg_amt_data_6_7         0.009734  \n",
       "days_since_recharge_6    0.035712  \n",
       "days_since_recharge_7    0.062829  \n",
       "days_since_recharge_8    0.132574  \n",
       "churn_flag               1.000000  \n",
       "\n",
       "[169 rows x 169 columns]"
      ]
     },
     "execution_count": 1362,
     "metadata": {},
     "output_type": "execute_result"
    }
   ],
   "source": [
    "correlation = data_numeric.corr()\n",
    "correlation"
   ]
  },
  {
   "cell_type": "code",
   "execution_count": 1363,
   "metadata": {
    "scrolled": true
   },
   "outputs": [
    {
     "name": "stdout",
     "output_type": "stream",
     "text": [
      "churn_flag               1.000000\n",
      "days_since_recharge_8    0.132574\n",
      "std_og_mou_6             0.128642\n",
      "std_og_t2m_mou_6         0.097622\n",
      "roam_og_mou_7            0.092735\n",
      "std_og_t2t_mou_6         0.092617\n",
      "Name: churn_flag, dtype: float64 \n",
      "\n"
     ]
    }
   ],
   "source": [
    "#Top 5 correlation\n",
    "print (correlation['churn_flag'].sort_values(ascending=False)[:6], '\\n')"
   ]
  },
  {
   "cell_type": "code",
   "execution_count": 1364,
   "metadata": {},
   "outputs": [],
   "source": [
    "#Analysing categorical variables\n",
    "#data_nonnum= data_filtered.select_dtypes(exclude=['float64', 'int64'])\n",
    "#data_nonnum.describe()"
   ]
  },
  {
   "cell_type": "code",
   "execution_count": 1365,
   "metadata": {},
   "outputs": [],
   "source": [
    "# create box plot for  6th, 7th and 8th month\n",
    "def plot_box_chart(attribute):\n",
    "    plt.figure(figsize=(20,16))\n",
    "    df = data_filtered\n",
    "    plt.subplot(2,3,1)\n",
    "    sns.boxplot(data=df, y=attribute+\"_6\",x=\"churn_flag\",hue=\"churn_flag\",\n",
    "                showfliers=False,palette=(\"plasma\"))\n",
    "    plt.subplot(2,3,2)\n",
    "    sns.boxplot(data=df, y=attribute+\"_7\",x=\"churn_flag\",hue=\"churn_flag\",\n",
    "                showfliers=False,palette=(\"plasma\"))\n",
    "    plt.subplot(2,3,3)\n",
    "    sns.boxplot(data=df, y=attribute+\"_8\",x=\"churn_flag\",hue=\"churn_flag\",\n",
    "                showfliers=False,palette=(\"plasma\"))\n",
    "    plt.show()"
   ]
  },
  {
   "cell_type": "code",
   "execution_count": 1366,
   "metadata": {},
   "outputs": [
    {
     "data": {
      "text/plain": [
       "['total_rech_amt_6',\n",
       " 'total_rech_amt_7',\n",
       " 'total_rech_amt_8',\n",
       " 'max_rech_amt_6',\n",
       " 'max_rech_amt_7',\n",
       " 'max_rech_amt_8',\n",
       " 'av_rech_amt_data_6',\n",
       " 'av_rech_amt_data_7',\n",
       " 'av_rech_amt_data_8']"
      ]
     },
     "execution_count": 1366,
     "metadata": {},
     "output_type": "execute_result"
    }
   ],
   "source": [
    "recharge_amnt_columns =  data_filtered.columns[data_filtered.columns.str.contains('rech_amt')]\n",
    "recharge_amnt_columns.tolist()\n"
   ]
  },
  {
   "cell_type": "code",
   "execution_count": 1367,
   "metadata": {},
   "outputs": [
    {
     "data": {
      "image/png": "[encoded data removed]",
      "text/plain": [
       "<Figure size 1440x1152 with 3 Axes>"
      ]
     },
     "metadata": {
      "needs_background": "light"
     },
     "output_type": "display_data"
    }
   ],
   "source": [
    "# Ploting for total recharge amount:\n",
    "plot_box_chart('total_rech_amt')\n",
    "#can see a drop in rechargeable amount down in 8th month for churning customers"
   ]
  },
  {
   "cell_type": "code",
   "execution_count": 1368,
   "metadata": {},
   "outputs": [
    {
     "data": {
      "image/png": "[encoded data removed]",
      "text/plain": [
       "<Figure size 1440x1152 with 3 Axes>"
      ]
     },
     "metadata": {
      "needs_background": "light"
     },
     "output_type": "display_data"
    }
   ],
   "source": [
    "# Ploting for total recharge amount for data:\n",
    "plot_box_chart('amt_data')\n",
    "#recharge amount drops in 8th month for churning customers"
   ]
  },
  {
   "cell_type": "code",
   "execution_count": 1369,
   "metadata": {},
   "outputs": [
    {
     "data": {
      "image/png": "[encoded data removed]",
      "text/plain": [
       "<Figure size 1440x1152 with 3 Axes>"
      ]
     },
     "metadata": {
      "needs_background": "light"
     },
     "output_type": "display_data"
    }
   ],
   "source": [
    "# Ploting for total recharge amount for data:\n",
    "plot_box_chart('max_rech_amt')\n",
    "#Max recharge amount drops in 8th month for churning customers"
   ]
  },
  {
   "cell_type": "code",
   "execution_count": 1370,
   "metadata": {},
   "outputs": [
    {
     "data": {
      "image/png": "[encoded data removed]",
      "text/plain": [
       "<Figure size 1440x1152 with 3 Axes>"
      ]
     },
     "metadata": {
      "needs_background": "light"
     },
     "output_type": "display_data"
    }
   ],
   "source": [
    "# Ploting for Total recharge for Number:\n",
    "plot_box_chart('total_rech_num')\n",
    "#total recharge number drops in 8th month for churning customers"
   ]
  },
  {
   "cell_type": "code",
   "execution_count": 1371,
   "metadata": {},
   "outputs": [
    {
     "data": {
      "image/png": "[encoded data removed]",
      "text/plain": [
       "<Figure size 1440x1152 with 3 Axes>"
      ]
     },
     "metadata": {
      "needs_background": "light"
     },
     "output_type": "display_data"
    }
   ],
   "source": [
    "# Ploting for maximum recharge for data:\n",
    "plot_box_chart('max_rech_data')\n",
    "#recharge data is almost going to nill in 8th month for churning customers"
   ]
  },
  {
   "cell_type": "code",
   "execution_count": 1372,
   "metadata": {},
   "outputs": [
    {
     "data": {
      "image/png": "[encoded data removed]",
      "text/plain": [
       "<Figure size 1440x1152 with 3 Axes>"
      ]
     },
     "metadata": {
      "needs_background": "light"
     },
     "output_type": "display_data"
    }
   ],
   "source": [
    "# Ploting for last day recharge amount:\n",
    "plot_box_chart('last_day_rch_amt')"
   ]
  },
  {
   "cell_type": "code",
   "execution_count": 1373,
   "metadata": {},
   "outputs": [
    {
     "data": {
      "image/png": "[encoded data removed]",
      "text/plain": [
       "<Figure size 1440x1152 with 3 Axes>"
      ]
     },
     "metadata": {
      "needs_background": "light"
     },
     "output_type": "display_data"
    }
   ],
   "source": [
    "# Ploting for volume of 2G and 3G usage columns:\n",
    "plot_box_chart('vol_2g_mb')"
   ]
  },
  {
   "cell_type": "code",
   "execution_count": 1374,
   "metadata": {},
   "outputs": [
    {
     "data": {
      "image/png": "[encoded data removed]",
      "text/plain": [
       "<Figure size 1440x1152 with 3 Axes>"
      ]
     },
     "metadata": {
      "needs_background": "light"
     },
     "output_type": "display_data"
    }
   ],
   "source": [
    "plot_box_chart('vol_3g_mb')"
   ]
  },
  {
   "cell_type": "code",
   "execution_count": 1375,
   "metadata": {},
   "outputs": [],
   "source": [
    "mou_og_cols6 = data_filtered.columns[data_filtered.columns.str.contains('.*_og_.*mou_6',regex=True)]"
   ]
  },
  {
   "cell_type": "code",
   "execution_count": 1376,
   "metadata": {},
   "outputs": [],
   "source": [
    "def heatmap(x,y,dataframe):\n",
    "    plt.figure(figsize=(x,y))\n",
    "    sns.heatmap(dataframe.corr(),cmap=\"OrRd\",annot=True)\n",
    "    plt.show()"
   ]
  },
  {
   "cell_type": "code",
   "execution_count": 1377,
   "metadata": {},
   "outputs": [
    {
     "data": {
      "image/png": "[encoded data removed]",
      "text/plain": [
       "<Figure size 720x504 with 2 Axes>"
      ]
     },
     "metadata": {
      "needs_background": "light"
     },
     "output_type": "display_data"
    }
   ],
   "source": [
    "heatmap(10, 7,data_filtered.filter(mou_og_cols6))"
   ]
  },
  {
   "cell_type": "code",
   "execution_count": 1378,
   "metadata": {},
   "outputs": [
    {
     "name": "stdout",
     "output_type": "stream",
     "text": [
      "337.86 == 337.84999999999997\n",
      "274.21 == 274.20000000000005\n",
      "63.64 == 63.64\n"
     ]
    }
   ],
   "source": [
    "print(data_filtered.loc[8,'total_og_mou_6'],\"==\",data_filtered.loc[8,['loc_og_mou_6','std_og_mou_6','spl_og_mou_6','isd_og_mou_6','og_others_6']].sum())\n",
    "print(data_filtered.loc[8,'std_og_mou_6'],\"==\",data_filtered.loc[8,['std_og_t2m_mou_6','std_og_t2t_mou_6','std_og_t2f_mou_6','std_og_loc_mou_6']].sum())\n",
    "print(data_filtered.loc[8,'loc_og_mou_6'],\"==\",data_filtered.loc[8,['loc_og_t2m_mou_6','loc_og_t2t_mou_6','loc_og_t2f_mou_6','loc_og_2tc_mou_6']].sum())"
   ]
  },
  {
   "cell_type": "code",
   "execution_count": 1379,
   "metadata": {},
   "outputs": [
    {
     "name": "stdout",
     "output_type": "stream",
     "text": [
      "Columns dropped - \n",
      "['loc_og_mou_6', 'loc_og_mou_7', 'loc_og_mou_8', 'std_og_mou_6', 'std_og_mou_7', 'std_og_mou_8', 'total_og_mou_6', 'total_og_mou_7', 'total_og_mou_8']\n"
     ]
    }
   ],
   "source": [
    "list_total_og_cols = data_filtered.columns[data_filtered.columns.str.contains('total_og_mou|std_og_mou|loc_og_mou',regex=True)]\n",
    "data_filtered.drop(list_total_og_cols,axis=1,inplace=True)\n",
    "print(\"Columns dropped - \")\n",
    "print(list_total_og_cols.tolist())"
   ]
  },
  {
   "cell_type": "code",
   "execution_count": 1380,
   "metadata": {},
   "outputs": [],
   "source": [
    "mou_ic_cols6 = data_filtered.columns[data_filtered.columns.str.contains('.*_ic_.*mou_6',regex=True)]"
   ]
  },
  {
   "cell_type": "code",
   "execution_count": 1381,
   "metadata": {},
   "outputs": [
    {
     "data": {
      "image/png": "[encoded data removed]",
      "text/plain": [
       "<Figure size 720x504 with 2 Axes>"
      ]
     },
     "metadata": {
      "needs_background": "light"
     },
     "output_type": "display_data"
    }
   ],
   "source": [
    "heatmap(10,7,data_filtered.filter(mou_ic_cols6))"
   ]
  },
  {
   "cell_type": "code",
   "execution_count": 1382,
   "metadata": {},
   "outputs": [
    {
     "name": "stdout",
     "output_type": "stream",
     "text": [
      "392.69 == 392.68999999999994\n",
      "350.78 == 350.76\n",
      "41.91 == 41.9\n"
     ]
    }
   ],
   "source": [
    "print(data_filtered.loc[21,'total_ic_mou_6'],\"==\",data_filtered.loc[21,['loc_ic_mou_6','roam_ic_mou_6','isd_ic_mou_6','spl_ic_mou_6','std_ic_mou_6']].sum())\n",
    "print(data_filtered.loc[21,'loc_ic_mou_6'],\"==\",data_filtered.loc[21,['loc_ic_t2t_mou_6','loc_ic_t2m_mou_6','loc_ic_t2f_mou_6','loc_ic_t2c_mou_6']].sum())\n",
    "print(data_filtered.loc[21,'std_ic_mou_6'],\"==\",data_filtered.loc[21,['std_ic_t2t_mou_6','std_ic_t2m_mou_6','std_ic_t2f_mou_6','std_ic_t2c_mou_6']].sum())"
   ]
  },
  {
   "cell_type": "code",
   "execution_count": 1383,
   "metadata": {},
   "outputs": [
    {
     "name": "stdout",
     "output_type": "stream",
     "text": [
      "Columns dropped - \n"
     ]
    },
    {
     "data": {
      "text/plain": [
       "['loc_ic_mou_6',\n",
       " 'loc_ic_mou_7',\n",
       " 'loc_ic_mou_8',\n",
       " 'std_ic_mou_6',\n",
       " 'std_ic_mou_7',\n",
       " 'std_ic_mou_8',\n",
       " 'total_ic_mou_6',\n",
       " 'total_ic_mou_7',\n",
       " 'total_ic_mou_8']"
      ]
     },
     "execution_count": 1383,
     "metadata": {},
     "output_type": "execute_result"
    }
   ],
   "source": [
    "list_total_ic_cols = data_filtered.columns[data_filtered.columns.str.contains('total_ic_mou|std_ic_mou|loc_ic_mou',regex=True)]\n",
    "data_filtered.drop(list_total_ic_cols,axis=1,inplace=True)\n",
    "print(\"Columns dropped - \")\n",
    "list_total_ic_cols.tolist()"
   ]
  },
  {
   "cell_type": "code",
   "execution_count": 1384,
   "metadata": {},
   "outputs": [],
   "source": [
    "data_filtered.drop('avg_amt_data_6_7',axis=1,inplace=True)"
   ]
  },
  {
   "cell_type": "code",
   "execution_count": 1385,
   "metadata": {},
   "outputs": [
    {
     "name": "stdout",
     "output_type": "stream",
     "text": [
      "arpu\n",
      "onnet_mou\n",
      "offnet_mou\n",
      "roam_ic_mou\n",
      "roam_og_mou\n",
      "loc_og_t2t_mou\n",
      "loc_og_t2m_mou\n",
      "loc_og_t2f_mou\n",
      "loc_og_t2c_mou\n",
      "std_og_t2t_mou\n",
      "std_og_t2m_mou\n",
      "std_og_t2f_mou\n",
      "std_og_t2c_mou\n",
      "isd_og_mou\n",
      "spl_og_mou\n",
      "og_others\n",
      "loc_ic_t2t_mou\n",
      "loc_ic_t2m_mou\n",
      "loc_ic_t2f_mou\n",
      "std_ic_t2t_mou\n",
      "std_ic_t2m_mou\n",
      "std_ic_t2f_mou\n",
      "std_ic_t2o_mou\n",
      "spl_ic_mou\n",
      "isd_ic_mou\n",
      "ic_others\n",
      "total_rech_num\n",
      "total_rech_amt\n",
      "max_rech_amt\n",
      "last_day_rch_amt\n",
      "total_rech_data\n",
      "max_rech_data\n",
      "count_rech_2g\n",
      "count_rech_3g\n",
      "av_rech_amt_data\n",
      "vol_2g_mb\n",
      "vol_3g_mb\n",
      "arpu_3g\n",
      "arpu_2g\n",
      "night_pck_user\n",
      "monthly_2g\n",
      "sachet_2g\n",
      "monthly_3g\n",
      "sachet_3g\n",
      "fb_user\n",
      "vbc_3g\n",
      "amt_data\n",
      "days_since_recharge\n"
     ]
    }
   ],
   "source": [
    "col_list = data_filtered.filter(regex='_6|_7').columns.str[:-2]\n",
    "for idx, col in enumerate(col_list.unique()):\n",
    "    print(col)\n",
    "    avg_col_name = \"avg_\"+col+\"_av67\"\n",
    "    col_6 = col+\"_6\"\n",
    "    col_7 = col+\"_7\"\n",
    "    data_filtered[avg_col_name] = (data_filtered[col_6]  + data_filtered[col_7])/ 2"
   ]
  },
  {
   "cell_type": "code",
   "execution_count": 1386,
   "metadata": {},
   "outputs": [
    {
     "name": "stdout",
     "output_type": "stream",
     "text": [
      "(30019, 102)\n"
     ]
    }
   ],
   "source": [
    "col_list_to_drop = data_filtered.filter(regex='_6|_7')\n",
    "data_filtered.drop(col_list_to_drop,axis=1,inplace=True)\n",
    "print (data_filtered.shape)"
   ]
  },
  {
   "cell_type": "code",
   "execution_count": 1387,
   "metadata": {},
   "outputs": [
    {
     "name": "stdout",
     "output_type": "stream",
     "text": [
      "Shape of Train dataset (21013, 101) (21013,)\n",
      "Shape of Test dataset (9006, 101) (9006,)\n"
     ]
    }
   ],
   "source": [
    "#SPLITTING DATA SET\n",
    "# Putting feature variable to X\n",
    "from sklearn.model_selection import train_test_split\n",
    "\n",
    "X = data_filtered.drop(['churn_flag'],axis=1)\n",
    "\n",
    "# Putting response variable to y\n",
    "y = data_filtered['churn_flag']\n",
    "X_train, X_test, y_train, y_test = train_test_split(X, y,train_size=0.7,test_size=0.3, random_state=100)\n",
    "print (\"Shape of Train dataset\",X_train.shape, y_train.shape)\n",
    "print (\"Shape of Test dataset\",X_test.shape, y_test.shape)\n"
   ]
  },
  {
   "cell_type": "code",
   "execution_count": 1388,
   "metadata": {},
   "outputs": [
    {
     "name": "stdout",
     "output_type": "stream",
     "text": [
      "Before OverSampling, counts of label '1': 2120\n",
      "Before OverSampling, counts of label '0': 18893 \n",
      "\n",
      "After OverSampling, the shape of train_X: (37786, 101)\n",
      "After OverSampling, the shape of train_y: (37786,) \n",
      "\n",
      "After OverSampling, counts of label '1': 18893\n",
      "After OverSampling, counts of label '0': 18893\n"
     ]
    }
   ],
   "source": [
    "#TREATING CLASS IMBALANCE\n",
    "print(\"Before OverSampling, counts of label '1': {}\".format(sum(y_train == 1))) \n",
    "print(\"Before OverSampling, counts of label '0': {} \\n\".format(sum(y_train == 0)))\n",
    "sm =  SMOTE(random_state = 27)\n",
    "X_train, y_train = sm.fit_sample(X_train, y_train.ravel()) \n",
    "  \n",
    "print('After OverSampling, the shape of train_X: {}'.format(X_train.shape)) \n",
    "print('After OverSampling, the shape of train_y: {} \\n'.format(y_train.shape)) \n",
    "\n",
    "print(\"After OverSampling, counts of label '1': {}\".format(sum(y_train == 1))) \n",
    "print(\"After OverSampling, counts of label '0': {}\".format(sum(y_train == 0))) \n"
   ]
  },
  {
   "cell_type": "code",
   "execution_count": 1389,
   "metadata": {},
   "outputs": [],
   "source": [
    "scaler = StandardScaler()\n",
    "scaler.fit(X_train) \n",
    "\n",
    "train_after_scaling = scaler.transform(X_train)\n",
    "test_after_scaling = scaler.transform(X_test)"
   ]
  },
  {
   "cell_type": "code",
   "execution_count": 1390,
   "metadata": {},
   "outputs": [
    {
     "name": "stdout",
     "output_type": "stream",
     "text": [
      "tuned hpyerparameters :(best parameters)  {'C': 1000.0, 'penalty': 'l2'}\n",
      "accuracy : 0.8683121919621838\n"
     ]
    }
   ],
   "source": [
    "logreg = LogisticRegression(solver = 'lbfgs')\n",
    "gridSearchForLR(logreg,train_after_scaling,y_train)\n",
    "#grid={\"C\":np.logspace(-3,3,7), \"penalty\":[\"l1\",\"l2\"]}# l1 lasso l2 ridge\n",
    "#logreg_cv=GridSearchCV(logreg,grid,cv=10)\n",
    "#logreg_cv.fit(train_after_scaling, y_train)\n",
    "\n",
    "#print(\"tuned hpyerparameters :(best parameters) \",logreg_cv.best_params_)\n",
    "#print(\"accuracy :\",logreg_cv.best_score_)\n"
   ]
  },
  {
   "cell_type": "code",
   "execution_count": 1391,
   "metadata": {},
   "outputs": [
    {
     "data": {
      "text/plain": [
       "LogisticRegression(C=1000)"
      ]
     },
     "execution_count": 1391,
     "metadata": {},
     "output_type": "execute_result"
    }
   ],
   "source": [
    "logreg_afterTuning=LogisticRegression(C=1000,penalty=\"l2\")\n",
    "logreg_afterTuning.fit(train_after_scaling, y_train)"
   ]
  },
  {
   "cell_type": "code",
   "execution_count": 1392,
   "metadata": {},
   "outputs": [],
   "source": [
    "y_pred = logreg_afterTuning.predict(test_after_scaling)"
   ]
  },
  {
   "cell_type": "code",
   "execution_count": 1393,
   "metadata": {},
   "outputs": [
    {
     "data": {
      "text/plain": [
       "array([0, 0, 0, ..., 0, 0, 0])"
      ]
     },
     "execution_count": 1393,
     "metadata": {},
     "output_type": "execute_result"
    }
   ],
   "source": [
    "y_pred"
   ]
  },
  {
   "cell_type": "code",
   "execution_count": 1394,
   "metadata": {},
   "outputs": [
    {
     "data": {
      "text/plain": [
       "9006"
      ]
     },
     "execution_count": 1394,
     "metadata": {},
     "output_type": "execute_result"
    }
   ],
   "source": [
    "y_pred.size"
   ]
  },
  {
   "cell_type": "code",
   "execution_count": 1395,
   "metadata": {},
   "outputs": [
    {
     "data": {
      "text/plain": [
       "22519    0\n",
       "13786    0\n",
       "10796    0\n",
       "28647    0\n",
       "591      0\n",
       "        ..\n",
       "16521    1\n",
       "27496    0\n",
       "17815    0\n",
       "6607     0\n",
       "20077    0\n",
       "Name: churn_flag, Length: 9006, dtype: int32"
      ]
     },
     "execution_count": 1395,
     "metadata": {},
     "output_type": "execute_result"
    }
   ],
   "source": [
    "y_test"
   ]
  },
  {
   "cell_type": "code",
   "execution_count": 1396,
   "metadata": {},
   "outputs": [
    {
     "name": "stdout",
     "output_type": "stream",
     "text": [
      "0.14534754608039085\n",
      "-0.5756118619421331\n"
     ]
    }
   ],
   "source": [
    "printingMSEandRsquare(y_test, y_pred)"
   ]
  },
  {
   "cell_type": "code",
   "execution_count": 1397,
   "metadata": {},
   "outputs": [
    {
     "name": "stdout",
     "output_type": "stream",
     "text": [
      "[[6991 1089]\n",
      " [ 220  706]]\n"
     ]
    }
   ],
   "source": [
    "confusion_matrix_1 = confusion_matrix(y_test, y_pred)\n",
    "print(confusion_matrix_1)\n"
   ]
  },
  {
   "cell_type": "code",
   "execution_count": 1398,
   "metadata": {},
   "outputs": [
    {
     "name": "stdout",
     "output_type": "stream",
     "text": [
      "Acuracy Score 0.8546524539196092\n",
      "Sensitivity:  0.7624190064794817\n",
      "Specificity:  0.8652227722772278\n",
      "false postive rate:  0.13477722772277229\n",
      "positive predictive value:  0.3933147632311978\n",
      "Negative predictive value:  0.9694910553321314\n",
      "Misclassification Rate:  0.14534754608039085\n"
     ]
    }
   ],
   "source": [
    "y_pred_default = y_pred\n",
    "printingConfusionMetricDetails(confusion_matrix_1)"
   ]
  },
  {
   "cell_type": "code",
   "execution_count": 1399,
   "metadata": {},
   "outputs": [],
   "source": [
    "#Based on stats above lets take a look at imp features for both Logestic and RF\n",
    "#importance = logreg_afterTuning.coef_[0]\n",
    "#impFeaturesforModels(importance)"
   ]
  },
  {
   "cell_type": "code",
   "execution_count": 1400,
   "metadata": {},
   "outputs": [],
   "source": [
    "x = train_after_scaling"
   ]
  },
  {
   "cell_type": "code",
   "execution_count": 1401,
   "metadata": {},
   "outputs": [],
   "source": [
    "##PCA FOR LR"
   ]
  },
  {
   "cell_type": "code",
   "execution_count": 1402,
   "metadata": {},
   "outputs": [],
   "source": [
    "from sklearn.decomposition import PCA"
   ]
  },
  {
   "cell_type": "code",
   "execution_count": 1403,
   "metadata": {},
   "outputs": [],
   "source": [
    "pca = PCA(random_state=42)"
   ]
  },
  {
   "cell_type": "code",
   "execution_count": 1404,
   "metadata": {},
   "outputs": [
    {
     "data": {
      "text/plain": [
       "PCA(random_state=42)"
      ]
     },
     "execution_count": 1404,
     "metadata": {},
     "output_type": "execute_result"
    }
   ],
   "source": [
    "pca.fit(x)"
   ]
  },
  {
   "cell_type": "code",
   "execution_count": 1405,
   "metadata": {},
   "outputs": [
    {
     "data": {
      "text/plain": [
       "array([[-1.59096989e-19, -2.22044605e-16, -1.11022302e-16, ...,\n",
       "         1.48073321e-01,  9.39905384e-02, -1.33301617e-02],\n",
       "       [ 1.52471030e-19, -0.00000000e+00, -1.11022302e-16, ...,\n",
       "        -3.61834601e-02,  2.58967737e-01, -2.13689738e-03],\n",
       "       [-1.18707100e-19, -8.32667268e-17,  2.36789754e-16, ...,\n",
       "        -6.67534544e-02,  4.88335363e-03, -2.88783092e-02],\n",
       "       ...,\n",
       "       [ 0.00000000e+00,  6.71266957e-01, -6.32859876e-02, ...,\n",
       "         1.38777878e-16,  2.62326245e-03, -1.38777878e-17],\n",
       "       [ 9.99999957e-01,  8.63997937e-05,  4.24702482e-05, ...,\n",
       "         1.94817578e-20,  5.81946784e-06,  2.20228566e-19],\n",
       "       [-0.00000000e+00, -2.87680277e-01,  1.42639190e-02, ...,\n",
       "         2.77555756e-17, -1.02559352e-01, -0.00000000e+00]])"
      ]
     },
     "execution_count": 1405,
     "metadata": {},
     "output_type": "execute_result"
    }
   ],
   "source": [
    "pca.components_"
   ]
  },
  {
   "cell_type": "code",
   "execution_count": 1406,
   "metadata": {},
   "outputs": [
    {
     "data": {
      "text/plain": [
       "array([1.53144961e-01, 8.01914170e-02, 6.24312109e-02, 4.88506666e-02,\n",
       "       3.57087057e-02, 3.27728087e-02, 2.97612487e-02, 2.87129544e-02,\n",
       "       2.59354056e-02, 2.45610044e-02, 2.20714891e-02, 2.14776848e-02,\n",
       "       2.02639011e-02, 1.90812180e-02, 1.80370333e-02, 1.77919674e-02,\n",
       "       1.73451162e-02, 1.61139911e-02, 1.50842592e-02, 1.35666070e-02,\n",
       "       1.32816087e-02, 1.31110084e-02, 1.24457936e-02, 1.22087361e-02,\n",
       "       1.20707307e-02, 1.18768989e-02, 1.14065642e-02, 1.09950620e-02,\n",
       "       1.04232142e-02, 9.80167919e-03, 9.29514290e-03, 8.95333731e-03,\n",
       "       8.85433784e-03, 8.25697557e-03, 8.18399180e-03, 7.75987950e-03,\n",
       "       7.54319331e-03, 7.47082209e-03, 7.28505378e-03, 6.73803567e-03,\n",
       "       6.64444613e-03, 6.42198340e-03, 5.99447204e-03, 5.14809349e-03,\n",
       "       4.74604342e-03, 4.44448538e-03, 4.30053351e-03, 3.95821129e-03,\n",
       "       3.85246487e-03, 3.60812972e-03, 3.47565808e-03, 3.36659235e-03,\n",
       "       3.11200239e-03, 2.96084828e-03, 2.88561889e-03, 2.79795742e-03,\n",
       "       2.53553684e-03, 2.44803302e-03, 2.32186349e-03, 2.25334541e-03,\n",
       "       2.14361879e-03, 2.12133202e-03, 2.03505105e-03, 1.90648225e-03,\n",
       "       1.87489126e-03, 1.67498181e-03, 1.53183199e-03, 1.41508369e-03,\n",
       "       1.08508754e-03, 1.04652340e-03, 7.34906137e-04, 7.03864072e-04,\n",
       "       5.76090234e-04, 4.72319013e-04, 4.24103885e-04, 4.16752263e-04,\n",
       "       3.97280365e-04, 3.55389312e-04, 2.48284235e-04, 2.37746591e-04,\n",
       "       1.73873798e-04, 1.02487992e-04, 9.42218446e-05, 4.99466115e-05,\n",
       "       3.31233934e-05, 2.01816418e-06, 6.72329021e-07, 9.80818777e-10,\n",
       "       3.02026368e-32, 1.26764834e-32, 4.71035298e-33, 1.49104100e-33,\n",
       "       1.10102868e-33, 6.40103368e-34, 6.40103368e-34, 6.40103368e-34,\n",
       "       6.40103368e-34, 6.40103368e-34, 6.40103368e-34, 6.39981215e-34,\n",
       "       1.66904869e-34])"
      ]
     },
     "execution_count": 1406,
     "metadata": {},
     "output_type": "execute_result"
    }
   ],
   "source": [
    "pca.explained_variance_ratio_"
   ]
  },
  {
   "cell_type": "code",
   "execution_count": 1407,
   "metadata": {},
   "outputs": [
    {
     "data": {
      "text/plain": [
       "[<matplotlib.lines.Line2D at 0x2718dff10c8>]"
      ]
     },
     "execution_count": 1407,
     "metadata": {},
     "output_type": "execute_result"
    },
    {
     "data": {
      "image/png": "[encoded data removed]",
      "text/plain": [
       "<Figure size 432x288 with 1 Axes>"
      ]
     },
     "metadata": {
      "needs_background": "light"
     },
     "output_type": "display_data"
    }
   ],
   "source": [
    "#60 components explain close to 90 percent of variace\n",
    "import matplotlib.pyplot as plt\n",
    "var_cumu = np.cumsum(pca.explained_variance_ratio_)\n",
    "plt.plot(range(1,len(var_cumu)+1), var_cumu)"
   ]
  },
  {
   "cell_type": "code",
   "execution_count": 1408,
   "metadata": {},
   "outputs": [
    {
     "data": {
      "text/plain": [
       "(37786, 60)"
      ]
     },
     "execution_count": 1408,
     "metadata": {},
     "output_type": "execute_result"
    }
   ],
   "source": [
    "#pc2 = PCA(n_components=75, random_state=42)\n",
    "from sklearn.decomposition import IncrementalPCA\n",
    "\n",
    "pcaFinal = IncrementalPCA(n_components=60)\n",
    "train_pca = pcaFinal.fit_transform(train_after_scaling)\n",
    "train_pca.shape"
   ]
  },
  {
   "cell_type": "code",
   "execution_count": 1409,
   "metadata": {},
   "outputs": [
    {
     "data": {
      "text/plain": [
       "(9006, 60)"
      ]
     },
     "execution_count": 1409,
     "metadata": {},
     "output_type": "execute_result"
    }
   ],
   "source": [
    "#Applying selected components to the test data\n",
    "test_pca = pcaFinal.fit_transform(test_after_scaling)\n",
    "test_pca.shape \n"
   ]
  },
  {
   "cell_type": "code",
   "execution_count": 1410,
   "metadata": {},
   "outputs": [
    {
     "data": {
      "text/plain": [
       "array([[-1.80528856e+00,  9.06014777e-01, -5.49090018e-01, ...,\n",
       "         1.87650261e-01, -1.40563992e-01, -1.60414705e-01],\n",
       "       [ 3.24320307e+00, -4.09518198e+00,  8.30731571e+00, ...,\n",
       "        -2.43101382e-01,  3.17392954e-02, -2.28053433e-01],\n",
       "       [-1.19633431e+00, -1.55628539e+00, -2.19323497e-01, ...,\n",
       "        -5.13333016e-01, -8.78842054e-02,  1.67122703e-01],\n",
       "       ...,\n",
       "       [-2.67916177e+00, -2.57447056e-02, -5.05132956e-01, ...,\n",
       "         1.01861288e-01, -3.24694486e-02,  1.14302933e-01],\n",
       "       [-1.27311108e+00, -1.29553369e-01, -4.59620459e-01, ...,\n",
       "         1.94598572e-01, -1.21296545e-01,  5.90306175e-03],\n",
       "       [-8.81743451e-01, -1.06073650e+00,  1.50780650e+00, ...,\n",
       "        -1.53605210e-01,  3.48696905e-01, -1.99737305e-01]])"
      ]
     },
     "execution_count": 1410,
     "metadata": {},
     "output_type": "execute_result"
    }
   ],
   "source": [
    "train_pca"
   ]
  },
  {
   "cell_type": "code",
   "execution_count": 1411,
   "metadata": {},
   "outputs": [
    {
     "data": {
      "text/plain": [
       "(37786,)"
      ]
     },
     "execution_count": 1411,
     "metadata": {},
     "output_type": "execute_result"
    }
   ],
   "source": [
    "y_train.shape"
   ]
  },
  {
   "cell_type": "code",
   "execution_count": 1412,
   "metadata": {},
   "outputs": [
    {
     "name": "stdout",
     "output_type": "stream",
     "text": [
      "tuned hpyerparameters :(best parameters)  {'C': 10.0, 'penalty': 'l2'}\n",
      "accuracy : 0.8329276499604751\n"
     ]
    }
   ],
   "source": [
    "logRegwithPCA = LogisticRegression(solver = 'lbfgs')\n",
    "gridSearchForLR(logRegwithPCA,train_pca,y_train)\n",
    "#logRegwithPCA.fit(train_pca, y_train)"
   ]
  },
  {
   "cell_type": "code",
   "execution_count": 1413,
   "metadata": {},
   "outputs": [
    {
     "data": {
      "text/plain": [
       "LogisticRegression(C=10)"
      ]
     },
     "execution_count": 1413,
     "metadata": {},
     "output_type": "execute_result"
    }
   ],
   "source": [
    "logRegwithPCA_afterTuning=LogisticRegression(C=10,penalty=\"l2\")\n",
    "logRegwithPCA_afterTuning.fit(train_pca, y_train)"
   ]
  },
  {
   "cell_type": "code",
   "execution_count": 1414,
   "metadata": {},
   "outputs": [],
   "source": [
    "y_pred = logRegwithPCA_afterTuning.predict(test_pca)\n"
   ]
  },
  {
   "cell_type": "code",
   "execution_count": 1415,
   "metadata": {},
   "outputs": [
    {
     "data": {
      "text/plain": [
       "array([0, 1, 1, ..., 1, 1, 0])"
      ]
     },
     "execution_count": 1415,
     "metadata": {},
     "output_type": "execute_result"
    }
   ],
   "source": [
    "y_pred"
   ]
  },
  {
   "cell_type": "code",
   "execution_count": 1416,
   "metadata": {},
   "outputs": [
    {
     "data": {
      "text/plain": [
       "9006"
      ]
     },
     "execution_count": 1416,
     "metadata": {},
     "output_type": "execute_result"
    }
   ],
   "source": [
    "y_pred.size"
   ]
  },
  {
   "cell_type": "code",
   "execution_count": 1417,
   "metadata": {},
   "outputs": [
    {
     "data": {
      "text/plain": [
       "22519    0\n",
       "13786    0\n",
       "10796    0\n",
       "28647    0\n",
       "591      0\n",
       "        ..\n",
       "16521    1\n",
       "27496    0\n",
       "17815    0\n",
       "6607     0\n",
       "20077    0\n",
       "Name: churn_flag, Length: 9006, dtype: int32"
      ]
     },
     "execution_count": 1417,
     "metadata": {},
     "output_type": "execute_result"
    }
   ],
   "source": [
    "y_test"
   ]
  },
  {
   "cell_type": "code",
   "execution_count": 1418,
   "metadata": {},
   "outputs": [
    {
     "name": "stdout",
     "output_type": "stream",
     "text": [
      "0.4978902953586498\n",
      "-4.397283108440432\n"
     ]
    }
   ],
   "source": [
    "printingMSEandRsquare(y_test, y_pred)"
   ]
  },
  {
   "cell_type": "code",
   "execution_count": 1419,
   "metadata": {},
   "outputs": [
    {
     "name": "stdout",
     "output_type": "stream",
     "text": [
      "[[3928 4152]\n",
      " [ 332  594]]\n"
     ]
    }
   ],
   "source": [
    "confusion_matrix2 = confusion_matrix(y_test, y_pred)\n",
    "print(confusion_matrix2)\n",
    "y_pred_default = y_pred"
   ]
  },
  {
   "cell_type": "code",
   "execution_count": 1420,
   "metadata": {},
   "outputs": [
    {
     "name": "stdout",
     "output_type": "stream",
     "text": [
      "Acuracy Score 0.5021097046413502\n",
      "Sensitivity:  0.6414686825053996\n",
      "Specificity:  0.4861386138613861\n",
      "false postive rate:  0.5138613861386139\n",
      "positive predictive value:  0.12515802781289506\n",
      "Negative predictive value:  0.9220657276995305\n",
      "Misclassification Rate:  0.4978902953586498\n"
     ]
    }
   ],
   "source": [
    "printingConfusionMetricDetails(confusion_matrix2)"
   ]
  },
  {
   "cell_type": "code",
   "execution_count": 1421,
   "metadata": {},
   "outputs": [],
   "source": [
    "#lets take a look at imp features for both Logestic and RF\n",
    "#importance = logRegwithPCA_afterTuning.coef_[0]\n",
    "#impFeaturesforModels(importance)"
   ]
  },
  {
   "cell_type": "code",
   "execution_count": 1422,
   "metadata": {},
   "outputs": [],
   "source": [
    "# Decision tree after Logistic regression"
   ]
  },
  {
   "cell_type": "code",
   "execution_count": 1423,
   "metadata": {},
   "outputs": [
    {
     "data": {
      "text/plain": [
       "DecisionTreeClassifier(class_weight='balanced', max_depth=5)"
      ]
     },
     "execution_count": 1423,
     "metadata": {},
     "output_type": "execute_result"
    }
   ],
   "source": [
    "\n",
    "# Importing decision tree classifier from sklearn library\n",
    "\n",
    "# Fitting the decision tree with default hyperparameters, apart from\n",
    "# max_depth which is 5 so that we can plot and read the tree.\n",
    "dt_default = DecisionTreeClassifier(max_depth=5, class_weight='balanced')\n",
    "dt_default.fit(train_pca,y_train)"
   ]
  },
  {
   "cell_type": "code",
   "execution_count": 1424,
   "metadata": {},
   "outputs": [
    {
     "name": "stdout",
     "output_type": "stream",
     "text": [
      "              precision    recall  f1-score   support\n",
      "\n",
      "           0       0.93      0.51      0.66      8080\n",
      "           1       0.14      0.68      0.23       926\n",
      "\n",
      "    accuracy                           0.53      9006\n",
      "   macro avg       0.54      0.60      0.44      9006\n",
      "weighted avg       0.85      0.53      0.62      9006\n",
      "\n",
      "[[4131 3949]\n",
      " [ 295  631]]\n",
      "Acuracy Score 0.528758605374195\n"
     ]
    }
   ],
   "source": [
    "# Let's check the evaluation metrics of our default model\n",
    "\n",
    "# Importing classification report and confusion matrix from sklearn metrics\n",
    "from sklearn.metrics import classification_report, confusion_matrix, accuracy_score\n",
    "\n",
    "# Making predictions\n",
    "y_pred_default = dt_default.predict(test_pca)\n",
    "\n",
    "# # Printing classification report\n",
    "# print(classification_report(y_test, y_pred_default))\n",
    "\n",
    "# from sklearn.metrics import classification_report,confusion_matrix, accuracy_score\n",
    "print(classification_report(y_test,y_pred_default))\n",
    "print(confusion_matrix(y_test,y_pred_default))\n",
    "print('Acuracy Score', accuracy_score(y_test,y_pred_default))"
   ]
  },
  {
   "cell_type": "code",
   "execution_count": 1425,
   "metadata": {},
   "outputs": [
    {
     "name": "stdout",
     "output_type": "stream",
     "text": [
      "Acuracy Score 0.528758605374195\n",
      "Sensitivity:  0.6814254859611231\n",
      "Specificity:  0.5112623762376237\n",
      "false postive rate:  0.4887376237623762\n",
      "positive predictive value:  0.13777292576419214\n",
      "Negative predictive value:  0.9333483958427474\n",
      "Misclassification Rate:  0.471241394625805\n"
     ]
    }
   ],
   "source": [
    "confusion_tree = confusion_matrix(y_test,y_pred_default)\n",
    "printingConfusionMetricDetails(confusion_tree)"
   ]
  },
  {
   "cell_type": "code",
   "execution_count": 1426,
   "metadata": {},
   "outputs": [],
   "source": [
    "########## lets tune hyper parameters\n",
    "# GridSearchCV to find optimal max_depth\n",
    "\n",
    "# specify number of folds for k-fold CV\n",
    "n_folds = 5\n",
    "\n",
    "# parameters to build the model on\n",
    "parameters = {'max_depth': range(1, 40)}\n"
   ]
  },
  {
   "cell_type": "code",
   "execution_count": 1427,
   "metadata": {},
   "outputs": [],
   "source": [
    "# instantiate the model\n",
    "dtree = DecisionTreeClassifier(criterion = \"gini\", class_weight='balanced', random_state = 100)\n"
   ]
  },
  {
   "cell_type": "code",
   "execution_count": 1428,
   "metadata": {},
   "outputs": [],
   "source": [
    "# fit tree on training data\n",
    "tree = GridSearchCV(dtree, parameters, \n",
    "                    cv=n_folds, \n",
    "                   scoring=\"accuracy\", return_train_score=True,  n_jobs = -1)\n"
   ]
  },
  {
   "cell_type": "code",
   "execution_count": 1429,
   "metadata": {},
   "outputs": [
    {
     "data": {
      "text/plain": [
       "GridSearchCV(cv=5,\n",
       "             estimator=DecisionTreeClassifier(class_weight='balanced',\n",
       "                                              random_state=100),\n",
       "             n_jobs=-1, param_grid={'max_depth': range(1, 40)},\n",
       "             return_train_score=True, scoring='accuracy')"
      ]
     },
     "execution_count": 1429,
     "metadata": {},
     "output_type": "execute_result"
    }
   ],
   "source": [
    "tree.fit(train_pca,y_train)"
   ]
  },
  {
   "cell_type": "code",
   "execution_count": 1430,
   "metadata": {},
   "outputs": [
    {
     "data": {
      "text/plain": [
       "(37786,)"
      ]
     },
     "execution_count": 1430,
     "metadata": {},
     "output_type": "execute_result"
    }
   ],
   "source": [
    "y_train.shape"
   ]
  },
  {
   "cell_type": "code",
   "execution_count": 1431,
   "metadata": {},
   "outputs": [
    {
     "data": {
      "text/html": [
       "<div>\n",
       "<style scoped>\n",
       "    .dataframe tbody tr th:only-of-type {\n",
       "        vertical-align: middle;\n",
       "    }\n",
       "\n",
       "    .dataframe tbody tr th {\n",
       "        vertical-align: top;\n",
       "    }\n",
       "\n",
       "    .dataframe thead th {\n",
       "        text-align: right;\n",
       "    }\n",
       "</style>\n",
       "<table border=\"1\" class=\"dataframe\">\n",
       "  <thead>\n",
       "    <tr style=\"text-align: right;\">\n",
       "      <th></th>\n",
       "      <th>mean_fit_time</th>\n",
       "      <th>std_fit_time</th>\n",
       "      <th>mean_score_time</th>\n",
       "      <th>std_score_time</th>\n",
       "      <th>param_max_depth</th>\n",
       "      <th>params</th>\n",
       "      <th>split0_test_score</th>\n",
       "      <th>split1_test_score</th>\n",
       "      <th>split2_test_score</th>\n",
       "      <th>split3_test_score</th>\n",
       "      <th>...</th>\n",
       "      <th>mean_test_score</th>\n",
       "      <th>std_test_score</th>\n",
       "      <th>rank_test_score</th>\n",
       "      <th>split0_train_score</th>\n",
       "      <th>split1_train_score</th>\n",
       "      <th>split2_train_score</th>\n",
       "      <th>split3_train_score</th>\n",
       "      <th>split4_train_score</th>\n",
       "      <th>mean_train_score</th>\n",
       "      <th>std_train_score</th>\n",
       "    </tr>\n",
       "  </thead>\n",
       "  <tbody>\n",
       "    <tr>\n",
       "      <td>0</td>\n",
       "      <td>0.623044</td>\n",
       "      <td>0.028659</td>\n",
       "      <td>0.005598</td>\n",
       "      <td>0.001959</td>\n",
       "      <td>1</td>\n",
       "      <td>{'max_depth': 1}</td>\n",
       "      <td>0.669092</td>\n",
       "      <td>0.681090</td>\n",
       "      <td>0.676988</td>\n",
       "      <td>0.671298</td>\n",
       "      <td>...</td>\n",
       "      <td>0.675753</td>\n",
       "      <td>0.004793</td>\n",
       "      <td>39</td>\n",
       "      <td>0.678378</td>\n",
       "      <td>0.675312</td>\n",
       "      <td>0.676337</td>\n",
       "      <td>0.676999</td>\n",
       "      <td>0.674716</td>\n",
       "      <td>0.676348</td>\n",
       "      <td>0.001287</td>\n",
       "    </tr>\n",
       "    <tr>\n",
       "      <td>1</td>\n",
       "      <td>1.080528</td>\n",
       "      <td>0.030706</td>\n",
       "      <td>0.003999</td>\n",
       "      <td>0.000003</td>\n",
       "      <td>2</td>\n",
       "      <td>{'max_depth': 2}</td>\n",
       "      <td>0.713416</td>\n",
       "      <td>0.718274</td>\n",
       "      <td>0.714702</td>\n",
       "      <td>0.671298</td>\n",
       "      <td>...</td>\n",
       "      <td>0.707590</td>\n",
       "      <td>0.018310</td>\n",
       "      <td>38</td>\n",
       "      <td>0.718572</td>\n",
       "      <td>0.717291</td>\n",
       "      <td>0.717953</td>\n",
       "      <td>0.676999</td>\n",
       "      <td>0.716696</td>\n",
       "      <td>0.709502</td>\n",
       "      <td>0.016264</td>\n",
       "    </tr>\n",
       "    <tr>\n",
       "      <td>2</td>\n",
       "      <td>1.815541</td>\n",
       "      <td>0.118170</td>\n",
       "      <td>0.008796</td>\n",
       "      <td>0.003920</td>\n",
       "      <td>3</td>\n",
       "      <td>{'max_depth': 3}</td>\n",
       "      <td>0.754962</td>\n",
       "      <td>0.764589</td>\n",
       "      <td>0.763134</td>\n",
       "      <td>0.743814</td>\n",
       "      <td>...</td>\n",
       "      <td>0.758561</td>\n",
       "      <td>0.008339</td>\n",
       "      <td>37</td>\n",
       "      <td>0.764391</td>\n",
       "      <td>0.762645</td>\n",
       "      <td>0.764001</td>\n",
       "      <td>0.748718</td>\n",
       "      <td>0.763770</td>\n",
       "      <td>0.760705</td>\n",
       "      <td>0.006022</td>\n",
       "    </tr>\n",
       "    <tr>\n",
       "      <td>3</td>\n",
       "      <td>2.318795</td>\n",
       "      <td>0.095213</td>\n",
       "      <td>0.006014</td>\n",
       "      <td>0.002553</td>\n",
       "      <td>4</td>\n",
       "      <td>{'max_depth': 4}</td>\n",
       "      <td>0.770839</td>\n",
       "      <td>0.781792</td>\n",
       "      <td>0.773984</td>\n",
       "      <td>0.742623</td>\n",
       "      <td>...</td>\n",
       "      <td>0.770047</td>\n",
       "      <td>0.014325</td>\n",
       "      <td>36</td>\n",
       "      <td>0.784901</td>\n",
       "      <td>0.777432</td>\n",
       "      <td>0.781170</td>\n",
       "      <td>0.753416</td>\n",
       "      <td>0.776837</td>\n",
       "      <td>0.774751</td>\n",
       "      <td>0.011054</td>\n",
       "    </tr>\n",
       "    <tr>\n",
       "      <td>4</td>\n",
       "      <td>2.908168</td>\n",
       "      <td>0.123417</td>\n",
       "      <td>0.004800</td>\n",
       "      <td>0.001600</td>\n",
       "      <td>5</td>\n",
       "      <td>{'max_depth': 5}</td>\n",
       "      <td>0.788568</td>\n",
       "      <td>0.791319</td>\n",
       "      <td>0.791716</td>\n",
       "      <td>0.778484</td>\n",
       "      <td>...</td>\n",
       "      <td>0.789234</td>\n",
       "      <td>0.005890</td>\n",
       "      <td>35</td>\n",
       "      <td>0.802435</td>\n",
       "      <td>0.796751</td>\n",
       "      <td>0.799596</td>\n",
       "      <td>0.793212</td>\n",
       "      <td>0.794667</td>\n",
       "      <td>0.797332</td>\n",
       "      <td>0.003334</td>\n",
       "    </tr>\n",
       "  </tbody>\n",
       "</table>\n",
       "<p>5 rows × 21 columns</p>\n",
       "</div>"
      ],
      "text/plain": [
       "   mean_fit_time  std_fit_time  mean_score_time  std_score_time  \\\n",
       "0       0.623044      0.028659         0.005598        0.001959   \n",
       "1       1.080528      0.030706         0.003999        0.000003   \n",
       "2       1.815541      0.118170         0.008796        0.003920   \n",
       "3       2.318795      0.095213         0.006014        0.002553   \n",
       "4       2.908168      0.123417         0.004800        0.001600   \n",
       "\n",
       "  param_max_depth            params  split0_test_score  split1_test_score  \\\n",
       "0               1  {'max_depth': 1}           0.669092           0.681090   \n",
       "1               2  {'max_depth': 2}           0.713416           0.718274   \n",
       "2               3  {'max_depth': 3}           0.754962           0.764589   \n",
       "3               4  {'max_depth': 4}           0.770839           0.781792   \n",
       "4               5  {'max_depth': 5}           0.788568           0.791319   \n",
       "\n",
       "   split2_test_score  split3_test_score  ...  mean_test_score  std_test_score  \\\n",
       "0           0.676988           0.671298  ...         0.675753        0.004793   \n",
       "1           0.714702           0.671298  ...         0.707590        0.018310   \n",
       "2           0.763134           0.743814  ...         0.758561        0.008339   \n",
       "3           0.773984           0.742623  ...         0.770047        0.014325   \n",
       "4           0.791716           0.778484  ...         0.789234        0.005890   \n",
       "\n",
       "   rank_test_score  split0_train_score  split1_train_score  \\\n",
       "0               39            0.678378            0.675312   \n",
       "1               38            0.718572            0.717291   \n",
       "2               37            0.764391            0.762645   \n",
       "3               36            0.784901            0.777432   \n",
       "4               35            0.802435            0.796751   \n",
       "\n",
       "   split2_train_score  split3_train_score  split4_train_score  \\\n",
       "0            0.676337            0.676999            0.674716   \n",
       "1            0.717953            0.676999            0.716696   \n",
       "2            0.764001            0.748718            0.763770   \n",
       "3            0.781170            0.753416            0.776837   \n",
       "4            0.799596            0.793212            0.794667   \n",
       "\n",
       "   mean_train_score  std_train_score  \n",
       "0          0.676348         0.001287  \n",
       "1          0.709502         0.016264  \n",
       "2          0.760705         0.006022  \n",
       "3          0.774751         0.011054  \n",
       "4          0.797332         0.003334  \n",
       "\n",
       "[5 rows x 21 columns]"
      ]
     },
     "execution_count": 1431,
     "metadata": {},
     "output_type": "execute_result"
    }
   ],
   "source": [
    "# scores of GridSearch CV\n",
    "scores = tree.cv_results_\n",
    "pd.DataFrame(scores).head()"
   ]
  },
  {
   "cell_type": "code",
   "execution_count": 1432,
   "metadata": {},
   "outputs": [
    {
     "data": {
      "image/png": "[encoded data removed]",
      "text/plain": [
       "<Figure size 432x288 with 1 Axes>"
      ]
     },
     "metadata": {
      "needs_background": "light"
     },
     "output_type": "display_data"
    }
   ],
   "source": [
    "# plotting accuracies with max_depth\n",
    "plt.figure()\n",
    "plt.plot(scores[\"param_max_depth\"], \n",
    "         scores[\"mean_train_score\"], \n",
    "         label=\"training accuracy\")\n",
    "plt.plot(scores[\"param_max_depth\"], \n",
    "         scores[\"mean_test_score\"], \n",
    "         label=\"test accuracy\")\n",
    "plt.xlabel(\"max_depth\")\n",
    "plt.ylabel(\"Accuracy\")\n",
    "plt.legend()\n",
    "plt.show()\n",
    "\n",
    "# seems 15 or 20 Max depth"
   ]
  },
  {
   "cell_type": "code",
   "execution_count": 1433,
   "metadata": {
    "scrolled": true
   },
   "outputs": [
    {
     "data": {
      "text/plain": [
       "GridSearchCV(cv=5,\n",
       "             estimator=DecisionTreeClassifier(class_weight='balanced',\n",
       "                                              random_state=100),\n",
       "             n_jobs=-1, param_grid={'min_samples_leaf': range(5, 200, 20)},\n",
       "             return_train_score=True, scoring='accuracy')"
      ]
     },
     "execution_count": 1433,
     "metadata": {},
     "output_type": "execute_result"
    }
   ],
   "source": [
    "## Lets tune min sample leaf\n",
    "# parameters to build the model on\n",
    "parameters = {'min_samples_leaf': range(5, 200, 20)}\n",
    "\n",
    "# instantiate the model\n",
    "dtree = DecisionTreeClassifier(criterion = \"gini\",class_weight='balanced',random_state = 100)\n",
    "\n",
    "# fit tree on training data\n",
    "tree = GridSearchCV(dtree, parameters, \n",
    "                    cv=n_folds, \n",
    "                   scoring=\"accuracy\", return_train_score=True , n_jobs = -1)\n",
    "tree.fit(train_pca,y_train)"
   ]
  },
  {
   "cell_type": "code",
   "execution_count": 1434,
   "metadata": {},
   "outputs": [
    {
     "data": {
      "text/html": [
       "<div>\n",
       "<style scoped>\n",
       "    .dataframe tbody tr th:only-of-type {\n",
       "        vertical-align: middle;\n",
       "    }\n",
       "\n",
       "    .dataframe tbody tr th {\n",
       "        vertical-align: top;\n",
       "    }\n",
       "\n",
       "    .dataframe thead th {\n",
       "        text-align: right;\n",
       "    }\n",
       "</style>\n",
       "<table border=\"1\" class=\"dataframe\">\n",
       "  <thead>\n",
       "    <tr style=\"text-align: right;\">\n",
       "      <th></th>\n",
       "      <th>mean_fit_time</th>\n",
       "      <th>std_fit_time</th>\n",
       "      <th>mean_score_time</th>\n",
       "      <th>std_score_time</th>\n",
       "      <th>param_min_samples_leaf</th>\n",
       "      <th>params</th>\n",
       "      <th>split0_test_score</th>\n",
       "      <th>split1_test_score</th>\n",
       "      <th>split2_test_score</th>\n",
       "      <th>split3_test_score</th>\n",
       "      <th>...</th>\n",
       "      <th>mean_test_score</th>\n",
       "      <th>std_test_score</th>\n",
       "      <th>rank_test_score</th>\n",
       "      <th>split0_train_score</th>\n",
       "      <th>split1_train_score</th>\n",
       "      <th>split2_train_score</th>\n",
       "      <th>split3_train_score</th>\n",
       "      <th>split4_train_score</th>\n",
       "      <th>mean_train_score</th>\n",
       "      <th>std_train_score</th>\n",
       "    </tr>\n",
       "  </thead>\n",
       "  <tbody>\n",
       "    <tr>\n",
       "      <td>0</td>\n",
       "      <td>6.311773</td>\n",
       "      <td>0.158494</td>\n",
       "      <td>0.008395</td>\n",
       "      <td>0.002798</td>\n",
       "      <td>5</td>\n",
       "      <td>{'min_samples_leaf': 5}</td>\n",
       "      <td>0.845991</td>\n",
       "      <td>0.868334</td>\n",
       "      <td>0.862512</td>\n",
       "      <td>0.850337</td>\n",
       "      <td>...</td>\n",
       "      <td>0.857170</td>\n",
       "      <td>0.008088</td>\n",
       "      <td>1</td>\n",
       "      <td>0.955836</td>\n",
       "      <td>0.954812</td>\n",
       "      <td>0.956433</td>\n",
       "      <td>0.956267</td>\n",
       "      <td>0.956929</td>\n",
       "      <td>0.956055</td>\n",
       "      <td>0.000713</td>\n",
       "    </tr>\n",
       "    <tr>\n",
       "      <td>1</td>\n",
       "      <td>5.897812</td>\n",
       "      <td>0.946718</td>\n",
       "      <td>0.007396</td>\n",
       "      <td>0.000800</td>\n",
       "      <td>25</td>\n",
       "      <td>{'min_samples_leaf': 25}</td>\n",
       "      <td>0.829849</td>\n",
       "      <td>0.840413</td>\n",
       "      <td>0.840942</td>\n",
       "      <td>0.838163</td>\n",
       "      <td>...</td>\n",
       "      <td>0.838247</td>\n",
       "      <td>0.004373</td>\n",
       "      <td>2</td>\n",
       "      <td>0.885900</td>\n",
       "      <td>0.884945</td>\n",
       "      <td>0.885077</td>\n",
       "      <td>0.885441</td>\n",
       "      <td>0.888915</td>\n",
       "      <td>0.886056</td>\n",
       "      <td>0.001467</td>\n",
       "    </tr>\n",
       "    <tr>\n",
       "      <td>2</td>\n",
       "      <td>7.009492</td>\n",
       "      <td>0.538203</td>\n",
       "      <td>0.008795</td>\n",
       "      <td>0.002399</td>\n",
       "      <td>45</td>\n",
       "      <td>{'min_samples_leaf': 45}</td>\n",
       "      <td>0.822307</td>\n",
       "      <td>0.831282</td>\n",
       "      <td>0.834590</td>\n",
       "      <td>0.832076</td>\n",
       "      <td>...</td>\n",
       "      <td>0.830996</td>\n",
       "      <td>0.004551</td>\n",
       "      <td>3</td>\n",
       "      <td>0.865191</td>\n",
       "      <td>0.863045</td>\n",
       "      <td>0.864633</td>\n",
       "      <td>0.864997</td>\n",
       "      <td>0.862913</td>\n",
       "      <td>0.864156</td>\n",
       "      <td>0.000978</td>\n",
       "    </tr>\n",
       "    <tr>\n",
       "      <td>3</td>\n",
       "      <td>6.706239</td>\n",
       "      <td>0.333759</td>\n",
       "      <td>0.030183</td>\n",
       "      <td>0.020378</td>\n",
       "      <td>65</td>\n",
       "      <td>{'min_samples_leaf': 65}</td>\n",
       "      <td>0.819132</td>\n",
       "      <td>0.825592</td>\n",
       "      <td>0.826121</td>\n",
       "      <td>0.825592</td>\n",
       "      <td>...</td>\n",
       "      <td>0.825226</td>\n",
       "      <td>0.003411</td>\n",
       "      <td>4</td>\n",
       "      <td>0.854076</td>\n",
       "      <td>0.849747</td>\n",
       "      <td>0.852294</td>\n",
       "      <td>0.852559</td>\n",
       "      <td>0.849912</td>\n",
       "      <td>0.851718</td>\n",
       "      <td>0.001658</td>\n",
       "    </tr>\n",
       "    <tr>\n",
       "      <td>4</td>\n",
       "      <td>6.709166</td>\n",
       "      <td>0.668928</td>\n",
       "      <td>0.011994</td>\n",
       "      <td>0.006030</td>\n",
       "      <td>85</td>\n",
       "      <td>{'min_samples_leaf': 85}</td>\n",
       "      <td>0.806827</td>\n",
       "      <td>0.821490</td>\n",
       "      <td>0.825460</td>\n",
       "      <td>0.821622</td>\n",
       "      <td>...</td>\n",
       "      <td>0.820251</td>\n",
       "      <td>0.006959</td>\n",
       "      <td>5</td>\n",
       "      <td>0.848187</td>\n",
       "      <td>0.841245</td>\n",
       "      <td>0.841377</td>\n",
       "      <td>0.841080</td>\n",
       "      <td>0.841411</td>\n",
       "      <td>0.842660</td>\n",
       "      <td>0.002766</td>\n",
       "    </tr>\n",
       "  </tbody>\n",
       "</table>\n",
       "<p>5 rows × 21 columns</p>\n",
       "</div>"
      ],
      "text/plain": [
       "   mean_fit_time  std_fit_time  mean_score_time  std_score_time  \\\n",
       "0       6.311773      0.158494         0.008395        0.002798   \n",
       "1       5.897812      0.946718         0.007396        0.000800   \n",
       "2       7.009492      0.538203         0.008795        0.002399   \n",
       "3       6.706239      0.333759         0.030183        0.020378   \n",
       "4       6.709166      0.668928         0.011994        0.006030   \n",
       "\n",
       "  param_min_samples_leaf                    params  split0_test_score  \\\n",
       "0                      5   {'min_samples_leaf': 5}           0.845991   \n",
       "1                     25  {'min_samples_leaf': 25}           0.829849   \n",
       "2                     45  {'min_samples_leaf': 45}           0.822307   \n",
       "3                     65  {'min_samples_leaf': 65}           0.819132   \n",
       "4                     85  {'min_samples_leaf': 85}           0.806827   \n",
       "\n",
       "   split1_test_score  split2_test_score  split3_test_score  ...  \\\n",
       "0           0.868334           0.862512           0.850337  ...   \n",
       "1           0.840413           0.840942           0.838163  ...   \n",
       "2           0.831282           0.834590           0.832076  ...   \n",
       "3           0.825592           0.826121           0.825592  ...   \n",
       "4           0.821490           0.825460           0.821622  ...   \n",
       "\n",
       "   mean_test_score  std_test_score  rank_test_score  split0_train_score  \\\n",
       "0         0.857170        0.008088                1            0.955836   \n",
       "1         0.838247        0.004373                2            0.885900   \n",
       "2         0.830996        0.004551                3            0.865191   \n",
       "3         0.825226        0.003411                4            0.854076   \n",
       "4         0.820251        0.006959                5            0.848187   \n",
       "\n",
       "   split1_train_score  split2_train_score  split3_train_score  \\\n",
       "0            0.954812            0.956433            0.956267   \n",
       "1            0.884945            0.885077            0.885441   \n",
       "2            0.863045            0.864633            0.864997   \n",
       "3            0.849747            0.852294            0.852559   \n",
       "4            0.841245            0.841377            0.841080   \n",
       "\n",
       "   split4_train_score  mean_train_score  std_train_score  \n",
       "0            0.956929          0.956055         0.000713  \n",
       "1            0.888915          0.886056         0.001467  \n",
       "2            0.862913          0.864156         0.000978  \n",
       "3            0.849912          0.851718         0.001658  \n",
       "4            0.841411          0.842660         0.002766  \n",
       "\n",
       "[5 rows x 21 columns]"
      ]
     },
     "execution_count": 1434,
     "metadata": {},
     "output_type": "execute_result"
    }
   ],
   "source": [
    "# scores of GridSearch CV\n",
    "scores = tree.cv_results_\n",
    "pd.DataFrame(scores).head()"
   ]
  },
  {
   "cell_type": "code",
   "execution_count": 1435,
   "metadata": {},
   "outputs": [
    {
     "data": {
      "image/png": "[encoded data removed]",
      "text/plain": [
       "<Figure size 432x288 with 1 Axes>"
      ]
     },
     "metadata": {
      "needs_background": "light"
     },
     "output_type": "display_data"
    }
   ],
   "source": [
    "# plotting accuracies with min_samples_leaf\n",
    "plt.figure()\n",
    "plt.plot(scores[\"param_min_samples_leaf\"], \n",
    "         scores[\"mean_train_score\"], \n",
    "         label=\"training accuracy\")\n",
    "plt.plot(scores[\"param_min_samples_leaf\"], \n",
    "         scores[\"mean_test_score\"], \n",
    "         label=\"test accuracy\")\n",
    "plt.xlabel(\"min_samples_leaf\")\n",
    "plt.ylabel(\"Accuracy\")\n",
    "plt.legend()\n",
    "plt.show()\n",
    "\n",
    "#seems 5 to 75"
   ]
  },
  {
   "cell_type": "code",
   "execution_count": 1436,
   "metadata": {},
   "outputs": [
    {
     "data": {
      "text/plain": [
       "GridSearchCV(cv=5,\n",
       "             estimator=DecisionTreeClassifier(class_weight='balanced',\n",
       "                                              random_state=100),\n",
       "             n_jobs=-1, param_grid={'min_samples_split': range(5, 200, 20)},\n",
       "             return_train_score=True, scoring='accuracy')"
      ]
     },
     "execution_count": 1436,
     "metadata": {},
     "output_type": "execute_result"
    }
   ],
   "source": [
    "## Tuning min sample split\n",
    "# parameters to build the model on\n",
    "parameters = {'min_samples_split': range(5, 200, 20)}\n",
    "\n",
    "# instantiate the model\n",
    "dtree = DecisionTreeClassifier(criterion = \"gini\",class_weight='balanced', random_state = 100)\n",
    "\n",
    "# fit tree on training data\n",
    "tree = GridSearchCV(dtree, parameters, \n",
    "                    cv=n_folds, \n",
    "                   scoring=\"accuracy\", return_train_score=True,  n_jobs = -1)\n",
    "tree.fit(train_pca,y_train)"
   ]
  },
  {
   "cell_type": "code",
   "execution_count": 1437,
   "metadata": {},
   "outputs": [
    {
     "data": {
      "text/html": [
       "<div>\n",
       "<style scoped>\n",
       "    .dataframe tbody tr th:only-of-type {\n",
       "        vertical-align: middle;\n",
       "    }\n",
       "\n",
       "    .dataframe tbody tr th {\n",
       "        vertical-align: top;\n",
       "    }\n",
       "\n",
       "    .dataframe thead th {\n",
       "        text-align: right;\n",
       "    }\n",
       "</style>\n",
       "<table border=\"1\" class=\"dataframe\">\n",
       "  <thead>\n",
       "    <tr style=\"text-align: right;\">\n",
       "      <th></th>\n",
       "      <th>mean_fit_time</th>\n",
       "      <th>std_fit_time</th>\n",
       "      <th>mean_score_time</th>\n",
       "      <th>std_score_time</th>\n",
       "      <th>param_min_samples_split</th>\n",
       "      <th>params</th>\n",
       "      <th>split0_test_score</th>\n",
       "      <th>split1_test_score</th>\n",
       "      <th>split2_test_score</th>\n",
       "      <th>split3_test_score</th>\n",
       "      <th>...</th>\n",
       "      <th>mean_test_score</th>\n",
       "      <th>std_test_score</th>\n",
       "      <th>rank_test_score</th>\n",
       "      <th>split0_train_score</th>\n",
       "      <th>split1_train_score</th>\n",
       "      <th>split2_train_score</th>\n",
       "      <th>split3_train_score</th>\n",
       "      <th>split4_train_score</th>\n",
       "      <th>mean_train_score</th>\n",
       "      <th>std_train_score</th>\n",
       "    </tr>\n",
       "  </thead>\n",
       "  <tbody>\n",
       "    <tr>\n",
       "      <td>0</td>\n",
       "      <td>11.970632</td>\n",
       "      <td>0.453528</td>\n",
       "      <td>0.008397</td>\n",
       "      <td>0.000489</td>\n",
       "      <td>5</td>\n",
       "      <td>{'min_samples_split': 5}</td>\n",
       "      <td>0.858296</td>\n",
       "      <td>0.870187</td>\n",
       "      <td>0.867275</td>\n",
       "      <td>0.851396</td>\n",
       "      <td>...</td>\n",
       "      <td>0.861960</td>\n",
       "      <td>0.006655</td>\n",
       "      <td>1</td>\n",
       "      <td>0.992887</td>\n",
       "      <td>0.992325</td>\n",
       "      <td>0.993285</td>\n",
       "      <td>0.992788</td>\n",
       "      <td>0.992491</td>\n",
       "      <td>0.992755</td>\n",
       "      <td>0.000333</td>\n",
       "    </tr>\n",
       "    <tr>\n",
       "      <td>1</td>\n",
       "      <td>12.610495</td>\n",
       "      <td>0.419410</td>\n",
       "      <td>0.012794</td>\n",
       "      <td>0.004913</td>\n",
       "      <td>25</td>\n",
       "      <td>{'min_samples_split': 25}</td>\n",
       "      <td>0.846388</td>\n",
       "      <td>0.862247</td>\n",
       "      <td>0.858012</td>\n",
       "      <td>0.840678</td>\n",
       "      <td>...</td>\n",
       "      <td>0.852353</td>\n",
       "      <td>0.007825</td>\n",
       "      <td>2</td>\n",
       "      <td>0.950212</td>\n",
       "      <td>0.950412</td>\n",
       "      <td>0.950379</td>\n",
       "      <td>0.949552</td>\n",
       "      <td>0.953455</td>\n",
       "      <td>0.950802</td>\n",
       "      <td>0.001363</td>\n",
       "    </tr>\n",
       "    <tr>\n",
       "      <td>2</td>\n",
       "      <td>12.281874</td>\n",
       "      <td>0.291409</td>\n",
       "      <td>0.016709</td>\n",
       "      <td>0.014559</td>\n",
       "      <td>45</td>\n",
       "      <td>{'min_samples_split': 45}</td>\n",
       "      <td>0.834215</td>\n",
       "      <td>0.854837</td>\n",
       "      <td>0.851528</td>\n",
       "      <td>0.838428</td>\n",
       "      <td>...</td>\n",
       "      <td>0.845869</td>\n",
       "      <td>0.008045</td>\n",
       "      <td>3</td>\n",
       "      <td>0.926856</td>\n",
       "      <td>0.926660</td>\n",
       "      <td>0.927751</td>\n",
       "      <td>0.924410</td>\n",
       "      <td>0.929439</td>\n",
       "      <td>0.927023</td>\n",
       "      <td>0.001634</td>\n",
       "    </tr>\n",
       "    <tr>\n",
       "      <td>3</td>\n",
       "      <td>14.144639</td>\n",
       "      <td>1.364097</td>\n",
       "      <td>0.026424</td>\n",
       "      <td>0.014404</td>\n",
       "      <td>65</td>\n",
       "      <td>{'min_samples_split': 65}</td>\n",
       "      <td>0.829452</td>\n",
       "      <td>0.847162</td>\n",
       "      <td>0.848617</td>\n",
       "      <td>0.834326</td>\n",
       "      <td>...</td>\n",
       "      <td>0.840708</td>\n",
       "      <td>0.007515</td>\n",
       "      <td>4</td>\n",
       "      <td>0.914748</td>\n",
       "      <td>0.910020</td>\n",
       "      <td>0.912005</td>\n",
       "      <td>0.904793</td>\n",
       "      <td>0.912964</td>\n",
       "      <td>0.910906</td>\n",
       "      <td>0.003416</td>\n",
       "    </tr>\n",
       "    <tr>\n",
       "      <td>4</td>\n",
       "      <td>14.310688</td>\n",
       "      <td>2.569539</td>\n",
       "      <td>0.024187</td>\n",
       "      <td>0.020996</td>\n",
       "      <td>85</td>\n",
       "      <td>{'min_samples_split': 85}</td>\n",
       "      <td>0.825351</td>\n",
       "      <td>0.845044</td>\n",
       "      <td>0.844780</td>\n",
       "      <td>0.829694</td>\n",
       "      <td>...</td>\n",
       "      <td>0.836157</td>\n",
       "      <td>0.007899</td>\n",
       "      <td>5</td>\n",
       "      <td>0.901780</td>\n",
       "      <td>0.900526</td>\n",
       "      <td>0.900063</td>\n",
       "      <td>0.891726</td>\n",
       "      <td>0.899070</td>\n",
       "      <td>0.898633</td>\n",
       "      <td>0.003562</td>\n",
       "    </tr>\n",
       "  </tbody>\n",
       "</table>\n",
       "<p>5 rows × 21 columns</p>\n",
       "</div>"
      ],
      "text/plain": [
       "   mean_fit_time  std_fit_time  mean_score_time  std_score_time  \\\n",
       "0      11.970632      0.453528         0.008397        0.000489   \n",
       "1      12.610495      0.419410         0.012794        0.004913   \n",
       "2      12.281874      0.291409         0.016709        0.014559   \n",
       "3      14.144639      1.364097         0.026424        0.014404   \n",
       "4      14.310688      2.569539         0.024187        0.020996   \n",
       "\n",
       "  param_min_samples_split                     params  split0_test_score  \\\n",
       "0                       5   {'min_samples_split': 5}           0.858296   \n",
       "1                      25  {'min_samples_split': 25}           0.846388   \n",
       "2                      45  {'min_samples_split': 45}           0.834215   \n",
       "3                      65  {'min_samples_split': 65}           0.829452   \n",
       "4                      85  {'min_samples_split': 85}           0.825351   \n",
       "\n",
       "   split1_test_score  split2_test_score  split3_test_score  ...  \\\n",
       "0           0.870187           0.867275           0.851396  ...   \n",
       "1           0.862247           0.858012           0.840678  ...   \n",
       "2           0.854837           0.851528           0.838428  ...   \n",
       "3           0.847162           0.848617           0.834326  ...   \n",
       "4           0.845044           0.844780           0.829694  ...   \n",
       "\n",
       "   mean_test_score  std_test_score  rank_test_score  split0_train_score  \\\n",
       "0         0.861960        0.006655                1            0.992887   \n",
       "1         0.852353        0.007825                2            0.950212   \n",
       "2         0.845869        0.008045                3            0.926856   \n",
       "3         0.840708        0.007515                4            0.914748   \n",
       "4         0.836157        0.007899                5            0.901780   \n",
       "\n",
       "   split1_train_score  split2_train_score  split3_train_score  \\\n",
       "0            0.992325            0.993285            0.992788   \n",
       "1            0.950412            0.950379            0.949552   \n",
       "2            0.926660            0.927751            0.924410   \n",
       "3            0.910020            0.912005            0.904793   \n",
       "4            0.900526            0.900063            0.891726   \n",
       "\n",
       "   split4_train_score  mean_train_score  std_train_score  \n",
       "0            0.992491          0.992755         0.000333  \n",
       "1            0.953455          0.950802         0.001363  \n",
       "2            0.929439          0.927023         0.001634  \n",
       "3            0.912964          0.910906         0.003416  \n",
       "4            0.899070          0.898633         0.003562  \n",
       "\n",
       "[5 rows x 21 columns]"
      ]
     },
     "execution_count": 1437,
     "metadata": {},
     "output_type": "execute_result"
    }
   ],
   "source": [
    "# scores of GridSearch CV\n",
    "scores = tree.cv_results_\n",
    "pd.DataFrame(scores).head()"
   ]
  },
  {
   "cell_type": "code",
   "execution_count": 1438,
   "metadata": {},
   "outputs": [
    {
     "data": {
      "image/png": "[encoded data removed]",
      "text/plain": [
       "<Figure size 432x288 with 1 Axes>"
      ]
     },
     "metadata": {
      "needs_background": "light"
     },
     "output_type": "display_data"
    }
   ],
   "source": [
    "# plotting accuracies with min_samples_split\n",
    "plt.figure()\n",
    "plt.plot(scores[\"param_min_samples_split\"], \n",
    "         scores[\"mean_train_score\"], \n",
    "         label=\"training accuracy\")\n",
    "plt.plot(scores[\"param_min_samples_split\"], \n",
    "         scores[\"mean_test_score\"], \n",
    "         label=\"test accuracy\")\n",
    "plt.xlabel(\"min_samples_split\")\n",
    "plt.ylabel(\"Accuracy\")\n",
    "plt.legend()\n",
    "plt.show()\n",
    "\n",
    "#seems 25"
   ]
  },
  {
   "cell_type": "code",
   "execution_count": 1439,
   "metadata": {},
   "outputs": [
    {
     "name": "stdout",
     "output_type": "stream",
     "text": [
      "Fitting 5 folds for each of 64 candidates, totalling 320 fits\n"
     ]
    },
    {
     "name": "stderr",
     "output_type": "stream",
     "text": [
      "[Parallel(n_jobs=-1)]: Using backend LokyBackend with 4 concurrent workers.\n",
      "[Parallel(n_jobs=-1)]: Done  42 tasks      | elapsed:  1.9min\n",
      "[Parallel(n_jobs=-1)]: Done 192 tasks      | elapsed:  7.8min\n",
      "[Parallel(n_jobs=-1)]: Done 320 out of 320 | elapsed: 10.9min finished\n"
     ]
    },
    {
     "data": {
      "text/plain": [
       "GridSearchCV(cv=5, estimator=DecisionTreeClassifier(class_weight='balanced'),\n",
       "             n_jobs=-1,\n",
       "             param_grid={'criterion': ['entropy', 'gini'],\n",
       "                         'max_depth': range(10, 20, 5),\n",
       "                         'min_samples_leaf': range(5, 75, 20),\n",
       "                         'min_samples_split': range(5, 75, 20)},\n",
       "             refit='recall_score', verbose=1)"
      ]
     },
     "execution_count": 1439,
     "metadata": {},
     "output_type": "execute_result"
    }
   ],
   "source": [
    "# Create the parameter grid \n",
    "param_grid = {\n",
    "    'max_depth': range(10, 20, 5),\n",
    "    'min_samples_leaf': range(5, 75, 20),\n",
    "    'min_samples_split': range(5, 75, 20),\n",
    "    'criterion': [\"entropy\", \"gini\"]\n",
    "}\n",
    "\n",
    "n_folds = 5\n",
    "\n",
    "# Instantiate the grid search model\n",
    "dtree = DecisionTreeClassifier(class_weight='balanced')\n",
    "grid_search = GridSearchCV(estimator = dtree, param_grid = param_grid, refit='recall_score',\n",
    "                          cv = n_folds, verbose = 1, n_jobs = -1)\n",
    "\n",
    "# Fit the grid search to the data\n",
    "grid_search.fit(train_pca,y_train)"
   ]
  },
  {
   "cell_type": "code",
   "execution_count": 1440,
   "metadata": {},
   "outputs": [
    {
     "data": {
      "text/html": [
       "<div>\n",
       "<style scoped>\n",
       "    .dataframe tbody tr th:only-of-type {\n",
       "        vertical-align: middle;\n",
       "    }\n",
       "\n",
       "    .dataframe tbody tr th {\n",
       "        vertical-align: top;\n",
       "    }\n",
       "\n",
       "    .dataframe thead th {\n",
       "        text-align: right;\n",
       "    }\n",
       "</style>\n",
       "<table border=\"1\" class=\"dataframe\">\n",
       "  <thead>\n",
       "    <tr style=\"text-align: right;\">\n",
       "      <th></th>\n",
       "      <th>mean_fit_time</th>\n",
       "      <th>std_fit_time</th>\n",
       "      <th>mean_score_time</th>\n",
       "      <th>std_score_time</th>\n",
       "      <th>param_criterion</th>\n",
       "      <th>param_max_depth</th>\n",
       "      <th>param_min_samples_leaf</th>\n",
       "      <th>param_min_samples_split</th>\n",
       "      <th>params</th>\n",
       "      <th>split0_test_score</th>\n",
       "      <th>split1_test_score</th>\n",
       "      <th>split2_test_score</th>\n",
       "      <th>split3_test_score</th>\n",
       "      <th>split4_test_score</th>\n",
       "      <th>mean_test_score</th>\n",
       "      <th>std_test_score</th>\n",
       "      <th>rank_test_score</th>\n",
       "    </tr>\n",
       "  </thead>\n",
       "  <tbody>\n",
       "    <tr>\n",
       "      <td>0</td>\n",
       "      <td>13.467409</td>\n",
       "      <td>0.358111</td>\n",
       "      <td>0.017990</td>\n",
       "      <td>0.008457</td>\n",
       "      <td>entropy</td>\n",
       "      <td>10</td>\n",
       "      <td>5</td>\n",
       "      <td>5</td>\n",
       "      <td>{'criterion': 'entropy', 'max_depth': 10, 'min...</td>\n",
       "      <td>0.824292</td>\n",
       "      <td>0.836178</td>\n",
       "      <td>0.830091</td>\n",
       "      <td>0.827577</td>\n",
       "      <td>0.842265</td>\n",
       "      <td>0.832081</td>\n",
       "      <td>0.006410</td>\n",
       "      <td>20</td>\n",
       "    </tr>\n",
       "    <tr>\n",
       "      <td>1</td>\n",
       "      <td>13.499375</td>\n",
       "      <td>0.868322</td>\n",
       "      <td>0.008595</td>\n",
       "      <td>0.003771</td>\n",
       "      <td>entropy</td>\n",
       "      <td>10</td>\n",
       "      <td>5</td>\n",
       "      <td>25</td>\n",
       "      <td>{'criterion': 'entropy', 'max_depth': 10, 'min...</td>\n",
       "      <td>0.823101</td>\n",
       "      <td>0.835252</td>\n",
       "      <td>0.829033</td>\n",
       "      <td>0.825063</td>\n",
       "      <td>0.839884</td>\n",
       "      <td>0.830467</td>\n",
       "      <td>0.006278</td>\n",
       "      <td>30</td>\n",
       "    </tr>\n",
       "    <tr>\n",
       "      <td>2</td>\n",
       "      <td>11.955112</td>\n",
       "      <td>2.062718</td>\n",
       "      <td>0.008795</td>\n",
       "      <td>0.002925</td>\n",
       "      <td>entropy</td>\n",
       "      <td>10</td>\n",
       "      <td>5</td>\n",
       "      <td>45</td>\n",
       "      <td>{'criterion': 'entropy', 'max_depth': 10, 'min...</td>\n",
       "      <td>0.822704</td>\n",
       "      <td>0.834590</td>\n",
       "      <td>0.828636</td>\n",
       "      <td>0.824269</td>\n",
       "      <td>0.837369</td>\n",
       "      <td>0.829514</td>\n",
       "      <td>0.005694</td>\n",
       "      <td>34</td>\n",
       "    </tr>\n",
       "    <tr>\n",
       "      <td>3</td>\n",
       "      <td>9.448200</td>\n",
       "      <td>0.307426</td>\n",
       "      <td>0.006996</td>\n",
       "      <td>0.000893</td>\n",
       "      <td>entropy</td>\n",
       "      <td>10</td>\n",
       "      <td>5</td>\n",
       "      <td>65</td>\n",
       "      <td>{'criterion': 'entropy', 'max_depth': 10, 'min...</td>\n",
       "      <td>0.821381</td>\n",
       "      <td>0.832606</td>\n",
       "      <td>0.828106</td>\n",
       "      <td>0.824137</td>\n",
       "      <td>0.836840</td>\n",
       "      <td>0.828614</td>\n",
       "      <td>0.005590</td>\n",
       "      <td>35</td>\n",
       "    </tr>\n",
       "    <tr>\n",
       "      <td>4</td>\n",
       "      <td>9.367073</td>\n",
       "      <td>0.246790</td>\n",
       "      <td>0.008795</td>\n",
       "      <td>0.003247</td>\n",
       "      <td>entropy</td>\n",
       "      <td>10</td>\n",
       "      <td>25</td>\n",
       "      <td>5</td>\n",
       "      <td>{'criterion': 'entropy', 'max_depth': 10, 'min...</td>\n",
       "      <td>0.817280</td>\n",
       "      <td>0.831150</td>\n",
       "      <td>0.827709</td>\n",
       "      <td>0.823343</td>\n",
       "      <td>0.837369</td>\n",
       "      <td>0.827370</td>\n",
       "      <td>0.006818</td>\n",
       "      <td>39</td>\n",
       "    </tr>\n",
       "  </tbody>\n",
       "</table>\n",
       "</div>"
      ],
      "text/plain": [
       "   mean_fit_time  std_fit_time  mean_score_time  std_score_time  \\\n",
       "0      13.467409      0.358111         0.017990        0.008457   \n",
       "1      13.499375      0.868322         0.008595        0.003771   \n",
       "2      11.955112      2.062718         0.008795        0.002925   \n",
       "3       9.448200      0.307426         0.006996        0.000893   \n",
       "4       9.367073      0.246790         0.008795        0.003247   \n",
       "\n",
       "  param_criterion param_max_depth param_min_samples_leaf  \\\n",
       "0         entropy              10                      5   \n",
       "1         entropy              10                      5   \n",
       "2         entropy              10                      5   \n",
       "3         entropy              10                      5   \n",
       "4         entropy              10                     25   \n",
       "\n",
       "  param_min_samples_split                                             params  \\\n",
       "0                       5  {'criterion': 'entropy', 'max_depth': 10, 'min...   \n",
       "1                      25  {'criterion': 'entropy', 'max_depth': 10, 'min...   \n",
       "2                      45  {'criterion': 'entropy', 'max_depth': 10, 'min...   \n",
       "3                      65  {'criterion': 'entropy', 'max_depth': 10, 'min...   \n",
       "4                       5  {'criterion': 'entropy', 'max_depth': 10, 'min...   \n",
       "\n",
       "   split0_test_score  split1_test_score  split2_test_score  split3_test_score  \\\n",
       "0           0.824292           0.836178           0.830091           0.827577   \n",
       "1           0.823101           0.835252           0.829033           0.825063   \n",
       "2           0.822704           0.834590           0.828636           0.824269   \n",
       "3           0.821381           0.832606           0.828106           0.824137   \n",
       "4           0.817280           0.831150           0.827709           0.823343   \n",
       "\n",
       "   split4_test_score  mean_test_score  std_test_score  rank_test_score  \n",
       "0           0.842265         0.832081        0.006410               20  \n",
       "1           0.839884         0.830467        0.006278               30  \n",
       "2           0.837369         0.829514        0.005694               34  \n",
       "3           0.836840         0.828614        0.005590               35  \n",
       "4           0.837369         0.827370        0.006818               39  "
      ]
     },
     "execution_count": 1440,
     "metadata": {},
     "output_type": "execute_result"
    }
   ],
   "source": [
    "# cv results\n",
    "cv_results = pd.DataFrame(grid_search.cv_results_)\n",
    "cv_results.head()"
   ]
  },
  {
   "cell_type": "code",
   "execution_count": 1441,
   "metadata": {},
   "outputs": [
    {
     "name": "stdout",
     "output_type": "stream",
     "text": [
      "best accuracy 0.8575929857314802\n",
      "DecisionTreeClassifier(class_weight='balanced', criterion='entropy',\n",
      "                       max_depth=15, min_samples_leaf=5, min_samples_split=5)\n"
     ]
    }
   ],
   "source": [
    "# printing the optimal accuracy score and hyperparameters\n",
    "print(\"best accuracy\", grid_search.best_score_)\n",
    "print(grid_search.best_estimator_)"
   ]
  },
  {
   "cell_type": "code",
   "execution_count": 1442,
   "metadata": {},
   "outputs": [
    {
     "data": {
      "text/plain": [
       "DecisionTreeClassifier(class_weight='balanced', max_depth=15,\n",
       "                       min_samples_leaf=5, min_samples_split=5,\n",
       "                       random_state=100)"
      ]
     },
     "execution_count": 1442,
     "metadata": {},
     "output_type": "execute_result"
    }
   ],
   "source": [
    "# model with optimal hyperparameters\n",
    "clf_gini = DecisionTreeClassifier(criterion = \"gini\",class_weight='balanced',\n",
    "                                  random_state = 100,\n",
    "                                  max_depth=15, \n",
    "                                  min_samples_leaf=5,\n",
    "                                  min_samples_split=5)\n",
    "clf_gini.fit(train_pca,y_train)"
   ]
  },
  {
   "cell_type": "code",
   "execution_count": 1443,
   "metadata": {},
   "outputs": [
    {
     "data": {
      "text/plain": [
       "array([[5268, 2812],\n",
       "       [ 638,  288]], dtype=int64)"
      ]
     },
     "execution_count": 1443,
     "metadata": {},
     "output_type": "execute_result"
    }
   ],
   "source": [
    "y_pred_default = clf_gini.predict(test_pca)\n",
    "confusion_tree_hyper=confusion_matrix(y_test,y_pred_default)\n",
    "confusion_tree_hyper"
   ]
  },
  {
   "cell_type": "code",
   "execution_count": 1444,
   "metadata": {},
   "outputs": [
    {
     "name": "stdout",
     "output_type": "stream",
     "text": [
      "Acuracy Score 0.6169220519653564\n",
      "Sensitivity:  0.31101511879049676\n",
      "Specificity:  0.651980198019802\n",
      "false postive rate:  0.348019801980198\n",
      "positive predictive value:  0.09290322580645162\n",
      "Negative predictive value:  0.8919742634608873\n",
      "Misclassification Rate:  0.38307794803464357\n"
     ]
    }
   ],
   "source": [
    "printingConfusionMetricDetails(confusion_tree_hyper)"
   ]
  },
  {
   "cell_type": "code",
   "execution_count": 1445,
   "metadata": {},
   "outputs": [],
   "source": [
    "# Random Forest"
   ]
  },
  {
   "cell_type": "code",
   "execution_count": 1446,
   "metadata": {},
   "outputs": [],
   "source": [
    "# Running the random forest with default parameters.\n",
    "rfc = RandomForestClassifier(class_weight='balanced')\n",
    "\n",
    "# fit\n",
    "rfc.fit(train_pca,y_train)\n",
    "\n",
    "# Making predictions\n",
    "y_pred_default = rfc.predict(test_pca)"
   ]
  },
  {
   "cell_type": "code",
   "execution_count": 1447,
   "metadata": {},
   "outputs": [
    {
     "data": {
      "text/plain": [
       "array([[7495,  585],\n",
       "       [ 869,   57]], dtype=int64)"
      ]
     },
     "execution_count": 1447,
     "metadata": {},
     "output_type": "execute_result"
    }
   ],
   "source": [
    "confusion_rf=confusion_matrix(y_test,y_pred_default)\n",
    "confusion_rf"
   ]
  },
  {
   "cell_type": "code",
   "execution_count": 1448,
   "metadata": {},
   "outputs": [
    {
     "name": "stdout",
     "output_type": "stream",
     "text": [
      "Acuracy Score 0.8385520763935155\n",
      "Sensitivity:  0.31101511879049676\n",
      "Specificity:  0.651980198019802\n",
      "false postive rate:  0.348019801980198\n",
      "positive predictive value:  0.09290322580645162\n",
      "Negative predictive value:  0.8919742634608873\n",
      "Misclassification Rate:  0.38307794803464357\n"
     ]
    }
   ],
   "source": [
    "printingConfusionMetricDetails(confusion_tree_hyper)"
   ]
  },
  {
   "cell_type": "code",
   "execution_count": 1449,
   "metadata": {},
   "outputs": [
    {
     "data": {
      "text/plain": [
       "GridSearchCV(cv=5, estimator=RandomForestClassifier(class_weight='balanced'),\n",
       "             n_jobs=-1, param_grid={'max_depth': range(2, 20, 5)},\n",
       "             return_train_score=True, scoring='accuracy')"
      ]
     },
     "execution_count": 1449,
     "metadata": {},
     "output_type": "execute_result"
    }
   ],
   "source": [
    "#Lets do some hyper parameter tuning  for RF\n",
    "\n",
    "# GridSearchCV to find optimal n_estimators\n",
    "\n",
    "# specify number of folds for k-fold CV\n",
    "n_folds = 5\n",
    "# parameters to build the model on\n",
    "parameters = {'max_depth': range(2, 20, 5)}\n",
    "\n",
    "# instantiate the model\n",
    "rf_with_pca = RandomForestClassifier(class_weight='balanced')\n",
    "\n",
    "\n",
    "# fit tree on training data\n",
    "rf_with_pca = GridSearchCV(rf_with_pca, parameters, \n",
    "                    cv=n_folds, \n",
    "                   scoring=\"accuracy\", n_jobs=-1, return_train_score=True)\n",
    "rf_with_pca.fit(train_pca, y_train)"
   ]
  },
  {
   "cell_type": "code",
   "execution_count": 1450,
   "metadata": {},
   "outputs": [
    {
     "data": {
      "text/html": [
       "<div>\n",
       "<style scoped>\n",
       "    .dataframe tbody tr th:only-of-type {\n",
       "        vertical-align: middle;\n",
       "    }\n",
       "\n",
       "    .dataframe tbody tr th {\n",
       "        vertical-align: top;\n",
       "    }\n",
       "\n",
       "    .dataframe thead th {\n",
       "        text-align: right;\n",
       "    }\n",
       "</style>\n",
       "<table border=\"1\" class=\"dataframe\">\n",
       "  <thead>\n",
       "    <tr style=\"text-align: right;\">\n",
       "      <th></th>\n",
       "      <th>mean_fit_time</th>\n",
       "      <th>std_fit_time</th>\n",
       "      <th>mean_score_time</th>\n",
       "      <th>std_score_time</th>\n",
       "      <th>param_max_depth</th>\n",
       "      <th>params</th>\n",
       "      <th>split0_test_score</th>\n",
       "      <th>split1_test_score</th>\n",
       "      <th>split2_test_score</th>\n",
       "      <th>split3_test_score</th>\n",
       "      <th>...</th>\n",
       "      <th>mean_test_score</th>\n",
       "      <th>std_test_score</th>\n",
       "      <th>rank_test_score</th>\n",
       "      <th>split0_train_score</th>\n",
       "      <th>split1_train_score</th>\n",
       "      <th>split2_train_score</th>\n",
       "      <th>split3_train_score</th>\n",
       "      <th>split4_train_score</th>\n",
       "      <th>mean_train_score</th>\n",
       "      <th>std_train_score</th>\n",
       "    </tr>\n",
       "  </thead>\n",
       "  <tbody>\n",
       "    <tr>\n",
       "      <td>0</td>\n",
       "      <td>15.382697</td>\n",
       "      <td>1.248283</td>\n",
       "      <td>0.463248</td>\n",
       "      <td>0.165981</td>\n",
       "      <td>2</td>\n",
       "      <td>{'max_depth': 2}</td>\n",
       "      <td>0.777322</td>\n",
       "      <td>0.789599</td>\n",
       "      <td>0.785365</td>\n",
       "      <td>0.789467</td>\n",
       "      <td>...</td>\n",
       "      <td>0.786323</td>\n",
       "      <td>0.004798</td>\n",
       "      <td>4</td>\n",
       "      <td>0.793304</td>\n",
       "      <td>0.783916</td>\n",
       "      <td>0.789705</td>\n",
       "      <td>0.791293</td>\n",
       "      <td>0.785074</td>\n",
       "      <td>0.788659</td>\n",
       "      <td>0.003604</td>\n",
       "    </tr>\n",
       "    <tr>\n",
       "      <td>1</td>\n",
       "      <td>36.281290</td>\n",
       "      <td>1.024229</td>\n",
       "      <td>0.236665</td>\n",
       "      <td>0.066468</td>\n",
       "      <td>7</td>\n",
       "      <td>{'max_depth': 7}</td>\n",
       "      <td>0.840169</td>\n",
       "      <td>0.849940</td>\n",
       "      <td>0.851661</td>\n",
       "      <td>0.847162</td>\n",
       "      <td>...</td>\n",
       "      <td>0.848013</td>\n",
       "      <td>0.004219</td>\n",
       "      <td>3</td>\n",
       "      <td>0.865191</td>\n",
       "      <td>0.863906</td>\n",
       "      <td>0.863509</td>\n",
       "      <td>0.861921</td>\n",
       "      <td>0.860531</td>\n",
       "      <td>0.863011</td>\n",
       "      <td>0.001621</td>\n",
       "    </tr>\n",
       "    <tr>\n",
       "      <td>2</td>\n",
       "      <td>62.496216</td>\n",
       "      <td>3.835948</td>\n",
       "      <td>0.423811</td>\n",
       "      <td>0.213432</td>\n",
       "      <td>12</td>\n",
       "      <td>{'max_depth': 12}</td>\n",
       "      <td>0.907383</td>\n",
       "      <td>0.911737</td>\n",
       "      <td>0.913193</td>\n",
       "      <td>0.909620</td>\n",
       "      <td>...</td>\n",
       "      <td>0.911131</td>\n",
       "      <td>0.002352</td>\n",
       "      <td>2</td>\n",
       "      <td>0.959607</td>\n",
       "      <td>0.958649</td>\n",
       "      <td>0.959873</td>\n",
       "      <td>0.958715</td>\n",
       "      <td>0.958616</td>\n",
       "      <td>0.959092</td>\n",
       "      <td>0.000537</td>\n",
       "    </tr>\n",
       "    <tr>\n",
       "      <td>3</td>\n",
       "      <td>62.364285</td>\n",
       "      <td>7.288529</td>\n",
       "      <td>0.329462</td>\n",
       "      <td>0.095831</td>\n",
       "      <td>17</td>\n",
       "      <td>{'max_depth': 17}</td>\n",
       "      <td>0.933448</td>\n",
       "      <td>0.931984</td>\n",
       "      <td>0.934365</td>\n",
       "      <td>0.935556</td>\n",
       "      <td>...</td>\n",
       "      <td>0.934658</td>\n",
       "      <td>0.002013</td>\n",
       "      <td>1</td>\n",
       "      <td>0.986999</td>\n",
       "      <td>0.987264</td>\n",
       "      <td>0.987098</td>\n",
       "      <td>0.988025</td>\n",
       "      <td>0.987595</td>\n",
       "      <td>0.987396</td>\n",
       "      <td>0.000374</td>\n",
       "    </tr>\n",
       "  </tbody>\n",
       "</table>\n",
       "<p>4 rows × 21 columns</p>\n",
       "</div>"
      ],
      "text/plain": [
       "   mean_fit_time  std_fit_time  mean_score_time  std_score_time  \\\n",
       "0      15.382697      1.248283         0.463248        0.165981   \n",
       "1      36.281290      1.024229         0.236665        0.066468   \n",
       "2      62.496216      3.835948         0.423811        0.213432   \n",
       "3      62.364285      7.288529         0.329462        0.095831   \n",
       "\n",
       "  param_max_depth             params  split0_test_score  split1_test_score  \\\n",
       "0               2   {'max_depth': 2}           0.777322           0.789599   \n",
       "1               7   {'max_depth': 7}           0.840169           0.849940   \n",
       "2              12  {'max_depth': 12}           0.907383           0.911737   \n",
       "3              17  {'max_depth': 17}           0.933448           0.931984   \n",
       "\n",
       "   split2_test_score  split3_test_score  ...  mean_test_score  std_test_score  \\\n",
       "0           0.785365           0.789467  ...         0.786323        0.004798   \n",
       "1           0.851661           0.847162  ...         0.848013        0.004219   \n",
       "2           0.913193           0.909620  ...         0.911131        0.002352   \n",
       "3           0.934365           0.935556  ...         0.934658        0.002013   \n",
       "\n",
       "   rank_test_score  split0_train_score  split1_train_score  \\\n",
       "0                4            0.793304            0.783916   \n",
       "1                3            0.865191            0.863906   \n",
       "2                2            0.959607            0.958649   \n",
       "3                1            0.986999            0.987264   \n",
       "\n",
       "   split2_train_score  split3_train_score  split4_train_score  \\\n",
       "0            0.789705            0.791293            0.785074   \n",
       "1            0.863509            0.861921            0.860531   \n",
       "2            0.959873            0.958715            0.958616   \n",
       "3            0.987098            0.988025            0.987595   \n",
       "\n",
       "   mean_train_score  std_train_score  \n",
       "0          0.788659         0.003604  \n",
       "1          0.863011         0.001621  \n",
       "2          0.959092         0.000537  \n",
       "3          0.987396         0.000374  \n",
       "\n",
       "[4 rows x 21 columns]"
      ]
     },
     "execution_count": 1450,
     "metadata": {},
     "output_type": "execute_result"
    }
   ],
   "source": [
    "# scores of GridSearch CV\n",
    "scores = rf_with_pca.cv_results_\n",
    "pd.DataFrame(scores).head()"
   ]
  },
  {
   "cell_type": "code",
   "execution_count": 1451,
   "metadata": {
    "scrolled": true
   },
   "outputs": [
    {
     "data": {
      "image/png": "[encoded data removed]",
      "text/plain": [
       "<Figure size 432x288 with 1 Axes>"
      ]
     },
     "metadata": {
      "needs_background": "light"
     },
     "output_type": "display_data"
    }
   ],
   "source": [
    "# plotting accuracies with max_depth\n",
    "plt.figure()\n",
    "plt.plot(scores[\"param_max_depth\"], \n",
    "         scores[\"mean_train_score\"], \n",
    "         label=\"training accuracy\")\n",
    "plt.plot(scores[\"param_max_depth\"], \n",
    "         scores[\"mean_test_score\"], \n",
    "         label=\"test accuracy\")\n",
    "plt.xlabel(\"max_depth\")\n",
    "plt.ylabel(\"Accuracy\")\n",
    "plt.legend()\n",
    "plt.show()\n",
    "\n",
    "#seems 11 to 13"
   ]
  },
  {
   "cell_type": "code",
   "execution_count": 1452,
   "metadata": {},
   "outputs": [
    {
     "name": "stdout",
     "output_type": "stream",
     "text": [
      "Fitting 5 folds for each of 4 candidates, totalling 20 fits\n"
     ]
    },
    {
     "name": "stderr",
     "output_type": "stream",
     "text": [
      "[Parallel(n_jobs=-1)]: Using backend LokyBackend with 4 concurrent workers.\n",
      "[Parallel(n_jobs=-1)]: Done  20 out of  20 | elapsed: 25.2min finished\n"
     ]
    },
    {
     "data": {
      "text/plain": [
       "GridSearchCV(cv=5,\n",
       "             estimator=RandomForestClassifier(class_weight='balanced',\n",
       "                                              max_depth=10),\n",
       "             n_jobs=-1, param_grid={'n_estimators': range(100, 1500, 400)},\n",
       "             return_train_score=True, scoring='accuracy', verbose=1)"
      ]
     },
     "execution_count": 1452,
     "metadata": {},
     "output_type": "execute_result"
    }
   ],
   "source": [
    "# Tuning n_estimators\n",
    "# GridSearchCV to find optimal n_estimators\n",
    "\n",
    "# specify number of folds for k-fold CV\n",
    "n_folds = 5\n",
    "\n",
    "# parameters to build the model on\n",
    "parameters = {'n_estimators': range(100, 1500, 400)}\n",
    "\n",
    "# instantiate the model (note we are specifying a max_depth)\n",
    "rf = RandomForestClassifier(max_depth=10, class_weight='balanced')\n",
    "\n",
    "\n",
    "# fit tree on training data\n",
    "rf = GridSearchCV(rf, parameters, \n",
    "                    cv=n_folds, \n",
    "                   scoring=\"accuracy\", n_jobs=-1, verbose = 1, return_train_score=True)\n",
    "rf.fit(train_pca, y_train)"
   ]
  },
  {
   "cell_type": "code",
   "execution_count": 1453,
   "metadata": {},
   "outputs": [
    {
     "data": {
      "text/html": [
       "<div>\n",
       "<style scoped>\n",
       "    .dataframe tbody tr th:only-of-type {\n",
       "        vertical-align: middle;\n",
       "    }\n",
       "\n",
       "    .dataframe tbody tr th {\n",
       "        vertical-align: top;\n",
       "    }\n",
       "\n",
       "    .dataframe thead th {\n",
       "        text-align: right;\n",
       "    }\n",
       "</style>\n",
       "<table border=\"1\" class=\"dataframe\">\n",
       "  <thead>\n",
       "    <tr style=\"text-align: right;\">\n",
       "      <th></th>\n",
       "      <th>mean_fit_time</th>\n",
       "      <th>std_fit_time</th>\n",
       "      <th>mean_score_time</th>\n",
       "      <th>std_score_time</th>\n",
       "      <th>param_n_estimators</th>\n",
       "      <th>params</th>\n",
       "      <th>split0_test_score</th>\n",
       "      <th>split1_test_score</th>\n",
       "      <th>split2_test_score</th>\n",
       "      <th>split3_test_score</th>\n",
       "      <th>...</th>\n",
       "      <th>mean_test_score</th>\n",
       "      <th>std_test_score</th>\n",
       "      <th>rank_test_score</th>\n",
       "      <th>split0_train_score</th>\n",
       "      <th>split1_train_score</th>\n",
       "      <th>split2_train_score</th>\n",
       "      <th>split3_train_score</th>\n",
       "      <th>split4_train_score</th>\n",
       "      <th>mean_train_score</th>\n",
       "      <th>std_train_score</th>\n",
       "    </tr>\n",
       "  </thead>\n",
       "  <tbody>\n",
       "    <tr>\n",
       "      <td>0</td>\n",
       "      <td>40.980079</td>\n",
       "      <td>5.171923</td>\n",
       "      <td>0.214077</td>\n",
       "      <td>0.016942</td>\n",
       "      <td>100</td>\n",
       "      <td>{'n_estimators': 100}</td>\n",
       "      <td>0.881979</td>\n",
       "      <td>0.886198</td>\n",
       "      <td>0.888448</td>\n",
       "      <td>0.889374</td>\n",
       "      <td>...</td>\n",
       "      <td>0.887181</td>\n",
       "      <td>0.002893</td>\n",
       "      <td>4</td>\n",
       "      <td>0.926492</td>\n",
       "      <td>0.922293</td>\n",
       "      <td>0.923848</td>\n",
       "      <td>0.925899</td>\n",
       "      <td>0.922095</td>\n",
       "      <td>0.924125</td>\n",
       "      <td>0.001806</td>\n",
       "    </tr>\n",
       "    <tr>\n",
       "      <td>1</td>\n",
       "      <td>154.568027</td>\n",
       "      <td>1.369631</td>\n",
       "      <td>1.036692</td>\n",
       "      <td>0.046794</td>\n",
       "      <td>500</td>\n",
       "      <td>{'n_estimators': 500}</td>\n",
       "      <td>0.881715</td>\n",
       "      <td>0.887918</td>\n",
       "      <td>0.891756</td>\n",
       "      <td>0.887125</td>\n",
       "      <td>...</td>\n",
       "      <td>0.888054</td>\n",
       "      <td>0.003701</td>\n",
       "      <td>3</td>\n",
       "      <td>0.926360</td>\n",
       "      <td>0.924840</td>\n",
       "      <td>0.924973</td>\n",
       "      <td>0.926031</td>\n",
       "      <td>0.924675</td>\n",
       "      <td>0.925376</td>\n",
       "      <td>0.000684</td>\n",
       "    </tr>\n",
       "    <tr>\n",
       "      <td>2</td>\n",
       "      <td>332.717257</td>\n",
       "      <td>50.362966</td>\n",
       "      <td>2.423858</td>\n",
       "      <td>0.207599</td>\n",
       "      <td>900</td>\n",
       "      <td>{'n_estimators': 900}</td>\n",
       "      <td>0.882112</td>\n",
       "      <td>0.888448</td>\n",
       "      <td>0.890433</td>\n",
       "      <td>0.887786</td>\n",
       "      <td>...</td>\n",
       "      <td>0.888345</td>\n",
       "      <td>0.003598</td>\n",
       "      <td>1</td>\n",
       "      <td>0.927054</td>\n",
       "      <td>0.924344</td>\n",
       "      <td>0.924940</td>\n",
       "      <td>0.925932</td>\n",
       "      <td>0.925006</td>\n",
       "      <td>0.925455</td>\n",
       "      <td>0.000947</td>\n",
       "    </tr>\n",
       "    <tr>\n",
       "      <td>3</td>\n",
       "      <td>527.406619</td>\n",
       "      <td>68.487125</td>\n",
       "      <td>2.349472</td>\n",
       "      <td>0.603464</td>\n",
       "      <td>1300</td>\n",
       "      <td>{'n_estimators': 1300}</td>\n",
       "      <td>0.882641</td>\n",
       "      <td>0.887522</td>\n",
       "      <td>0.890036</td>\n",
       "      <td>0.888051</td>\n",
       "      <td>...</td>\n",
       "      <td>0.888186</td>\n",
       "      <td>0.003312</td>\n",
       "      <td>2</td>\n",
       "      <td>0.926591</td>\n",
       "      <td>0.924245</td>\n",
       "      <td>0.925237</td>\n",
       "      <td>0.926461</td>\n",
       "      <td>0.925006</td>\n",
       "      <td>0.925508</td>\n",
       "      <td>0.000895</td>\n",
       "    </tr>\n",
       "  </tbody>\n",
       "</table>\n",
       "<p>4 rows × 21 columns</p>\n",
       "</div>"
      ],
      "text/plain": [
       "   mean_fit_time  std_fit_time  mean_score_time  std_score_time  \\\n",
       "0      40.980079      5.171923         0.214077        0.016942   \n",
       "1     154.568027      1.369631         1.036692        0.046794   \n",
       "2     332.717257     50.362966         2.423858        0.207599   \n",
       "3     527.406619     68.487125         2.349472        0.603464   \n",
       "\n",
       "  param_n_estimators                  params  split0_test_score  \\\n",
       "0                100   {'n_estimators': 100}           0.881979   \n",
       "1                500   {'n_estimators': 500}           0.881715   \n",
       "2                900   {'n_estimators': 900}           0.882112   \n",
       "3               1300  {'n_estimators': 1300}           0.882641   \n",
       "\n",
       "   split1_test_score  split2_test_score  split3_test_score  ...  \\\n",
       "0           0.886198           0.888448           0.889374  ...   \n",
       "1           0.887918           0.891756           0.887125  ...   \n",
       "2           0.888448           0.890433           0.887786  ...   \n",
       "3           0.887522           0.890036           0.888051  ...   \n",
       "\n",
       "   mean_test_score  std_test_score  rank_test_score  split0_train_score  \\\n",
       "0         0.887181        0.002893                4            0.926492   \n",
       "1         0.888054        0.003701                3            0.926360   \n",
       "2         0.888345        0.003598                1            0.927054   \n",
       "3         0.888186        0.003312                2            0.926591   \n",
       "\n",
       "   split1_train_score  split2_train_score  split3_train_score  \\\n",
       "0            0.922293            0.923848            0.925899   \n",
       "1            0.924840            0.924973            0.926031   \n",
       "2            0.924344            0.924940            0.925932   \n",
       "3            0.924245            0.925237            0.926461   \n",
       "\n",
       "   split4_train_score  mean_train_score  std_train_score  \n",
       "0            0.922095          0.924125         0.001806  \n",
       "1            0.924675          0.925376         0.000684  \n",
       "2            0.925006          0.925455         0.000947  \n",
       "3            0.925006          0.925508         0.000895  \n",
       "\n",
       "[4 rows x 21 columns]"
      ]
     },
     "execution_count": 1453,
     "metadata": {},
     "output_type": "execute_result"
    }
   ],
   "source": [
    "# scores of GridSearch CV\n",
    "scores = rf.cv_results_\n",
    "pd.DataFrame(scores).head()"
   ]
  },
  {
   "cell_type": "code",
   "execution_count": 1454,
   "metadata": {},
   "outputs": [
    {
     "data": {
      "image/png": "[encoded data removed]",
      "text/plain": [
       "<Figure size 432x288 with 1 Axes>"
      ]
     },
     "metadata": {
      "needs_background": "light"
     },
     "output_type": "display_data"
    }
   ],
   "source": [
    "# plotting accuracies with n_estimators\n",
    "plt.figure()\n",
    "plt.plot(scores[\"param_n_estimators\"], \n",
    "         scores[\"mean_train_score\"], \n",
    "         label=\"training accuracy\")\n",
    "plt.plot(scores[\"param_n_estimators\"], \n",
    "         scores[\"mean_test_score\"], \n",
    "         label=\"test accuracy\")\n",
    "plt.xlabel(\"n_estimators\")\n",
    "plt.ylabel(\"Accuracy\")\n",
    "plt.legend()\n",
    "plt.show()"
   ]
  },
  {
   "cell_type": "code",
   "execution_count": 1455,
   "metadata": {},
   "outputs": [
    {
     "name": "stdout",
     "output_type": "stream",
     "text": [
      "Fitting 5 folds for each of 5 candidates, totalling 25 fits\n"
     ]
    },
    {
     "name": "stderr",
     "output_type": "stream",
     "text": [
      "[Parallel(n_jobs=-1)]: Using backend LokyBackend with 4 concurrent workers.\n",
      "[Parallel(n_jobs=-1)]: Done  25 out of  25 | elapsed:  6.8min finished\n"
     ]
    },
    {
     "data": {
      "text/plain": [
       "GridSearchCV(cv=5,\n",
       "             estimator=RandomForestClassifier(class_weight='balanced',\n",
       "                                              max_depth=10),\n",
       "             n_jobs=-1, param_grid={'max_features': [4, 8, 14, 20, 24]},\n",
       "             return_train_score=True, scoring='accuracy', verbose=1)"
      ]
     },
     "execution_count": 1455,
     "metadata": {},
     "output_type": "execute_result"
    }
   ],
   "source": [
    "# GridSearchCV to find optimal max_features\n",
    "# specify number of folds for k-fold CV\n",
    "n_folds = 5\n",
    "\n",
    "# parameters to build the model on\n",
    "parameters = {'max_features': [4, 8, 14, 20, 24]}\n",
    "\n",
    "# instantiate the model\n",
    "rf = RandomForestClassifier(max_depth=10,class_weight='balanced')\n",
    "\n",
    "\n",
    "# fit tree on training data\n",
    "rf = GridSearchCV(rf, parameters, \n",
    "                    cv=n_folds, \n",
    "                   scoring=\"accuracy\", n_jobs=-1, return_train_score=True, verbose = 1)\n",
    "rf.fit(train_pca, y_train)"
   ]
  },
  {
   "cell_type": "code",
   "execution_count": 1456,
   "metadata": {},
   "outputs": [
    {
     "data": {
      "text/html": [
       "<div>\n",
       "<style scoped>\n",
       "    .dataframe tbody tr th:only-of-type {\n",
       "        vertical-align: middle;\n",
       "    }\n",
       "\n",
       "    .dataframe tbody tr th {\n",
       "        vertical-align: top;\n",
       "    }\n",
       "\n",
       "    .dataframe thead th {\n",
       "        text-align: right;\n",
       "    }\n",
       "</style>\n",
       "<table border=\"1\" class=\"dataframe\">\n",
       "  <thead>\n",
       "    <tr style=\"text-align: right;\">\n",
       "      <th></th>\n",
       "      <th>mean_fit_time</th>\n",
       "      <th>std_fit_time</th>\n",
       "      <th>mean_score_time</th>\n",
       "      <th>std_score_time</th>\n",
       "      <th>param_max_features</th>\n",
       "      <th>params</th>\n",
       "      <th>split0_test_score</th>\n",
       "      <th>split1_test_score</th>\n",
       "      <th>split2_test_score</th>\n",
       "      <th>split3_test_score</th>\n",
       "      <th>...</th>\n",
       "      <th>mean_test_score</th>\n",
       "      <th>std_test_score</th>\n",
       "      <th>rank_test_score</th>\n",
       "      <th>split0_train_score</th>\n",
       "      <th>split1_train_score</th>\n",
       "      <th>split2_train_score</th>\n",
       "      <th>split3_train_score</th>\n",
       "      <th>split4_train_score</th>\n",
       "      <th>mean_train_score</th>\n",
       "      <th>std_train_score</th>\n",
       "    </tr>\n",
       "  </thead>\n",
       "  <tbody>\n",
       "    <tr>\n",
       "      <td>0</td>\n",
       "      <td>21.782649</td>\n",
       "      <td>0.670829</td>\n",
       "      <td>0.207949</td>\n",
       "      <td>0.022050</td>\n",
       "      <td>4</td>\n",
       "      <td>{'max_features': 4}</td>\n",
       "      <td>0.875364</td>\n",
       "      <td>0.879582</td>\n",
       "      <td>0.884478</td>\n",
       "      <td>0.879185</td>\n",
       "      <td>...</td>\n",
       "      <td>0.881200</td>\n",
       "      <td>0.004238</td>\n",
       "      <td>5</td>\n",
       "      <td>0.918652</td>\n",
       "      <td>0.915082</td>\n",
       "      <td>0.917066</td>\n",
       "      <td>0.916703</td>\n",
       "      <td>0.917232</td>\n",
       "      <td>0.916947</td>\n",
       "      <td>0.001144</td>\n",
       "    </tr>\n",
       "    <tr>\n",
       "      <td>1</td>\n",
       "      <td>37.552428</td>\n",
       "      <td>2.089641</td>\n",
       "      <td>0.199951</td>\n",
       "      <td>0.009796</td>\n",
       "      <td>8</td>\n",
       "      <td>{'max_features': 8}</td>\n",
       "      <td>0.883038</td>\n",
       "      <td>0.886992</td>\n",
       "      <td>0.887918</td>\n",
       "      <td>0.886066</td>\n",
       "      <td>...</td>\n",
       "      <td>0.887683</td>\n",
       "      <td>0.003738</td>\n",
       "      <td>4</td>\n",
       "      <td>0.928378</td>\n",
       "      <td>0.924576</td>\n",
       "      <td>0.924146</td>\n",
       "      <td>0.925502</td>\n",
       "      <td>0.927057</td>\n",
       "      <td>0.925932</td>\n",
       "      <td>0.001579</td>\n",
       "    </tr>\n",
       "    <tr>\n",
       "      <td>2</td>\n",
       "      <td>59.811253</td>\n",
       "      <td>0.485196</td>\n",
       "      <td>0.206348</td>\n",
       "      <td>0.031139</td>\n",
       "      <td>14</td>\n",
       "      <td>{'max_features': 14}</td>\n",
       "      <td>0.887536</td>\n",
       "      <td>0.894403</td>\n",
       "      <td>0.895726</td>\n",
       "      <td>0.894270</td>\n",
       "      <td>...</td>\n",
       "      <td>0.894220</td>\n",
       "      <td>0.003780</td>\n",
       "      <td>3</td>\n",
       "      <td>0.931487</td>\n",
       "      <td>0.929637</td>\n",
       "      <td>0.930960</td>\n",
       "      <td>0.932681</td>\n",
       "      <td>0.930464</td>\n",
       "      <td>0.931046</td>\n",
       "      <td>0.001020</td>\n",
       "    </tr>\n",
       "    <tr>\n",
       "      <td>3</td>\n",
       "      <td>84.149067</td>\n",
       "      <td>0.385258</td>\n",
       "      <td>0.193553</td>\n",
       "      <td>0.014219</td>\n",
       "      <td>20</td>\n",
       "      <td>{'max_features': 20}</td>\n",
       "      <td>0.890976</td>\n",
       "      <td>0.892947</td>\n",
       "      <td>0.897314</td>\n",
       "      <td>0.891888</td>\n",
       "      <td>...</td>\n",
       "      <td>0.894352</td>\n",
       "      <td>0.003052</td>\n",
       "      <td>2</td>\n",
       "      <td>0.934928</td>\n",
       "      <td>0.931820</td>\n",
       "      <td>0.935129</td>\n",
       "      <td>0.935790</td>\n",
       "      <td>0.931622</td>\n",
       "      <td>0.933858</td>\n",
       "      <td>0.001769</td>\n",
       "    </tr>\n",
       "    <tr>\n",
       "      <td>4</td>\n",
       "      <td>96.427461</td>\n",
       "      <td>8.260326</td>\n",
       "      <td>0.160873</td>\n",
       "      <td>0.026805</td>\n",
       "      <td>24</td>\n",
       "      <td>{'max_features': 24}</td>\n",
       "      <td>0.895343</td>\n",
       "      <td>0.894535</td>\n",
       "      <td>0.898372</td>\n",
       "      <td>0.893873</td>\n",
       "      <td>...</td>\n",
       "      <td>0.896337</td>\n",
       "      <td>0.002230</td>\n",
       "      <td>1</td>\n",
       "      <td>0.938732</td>\n",
       "      <td>0.933772</td>\n",
       "      <td>0.935790</td>\n",
       "      <td>0.935956</td>\n",
       "      <td>0.934467</td>\n",
       "      <td>0.935743</td>\n",
       "      <td>0.001703</td>\n",
       "    </tr>\n",
       "  </tbody>\n",
       "</table>\n",
       "<p>5 rows × 21 columns</p>\n",
       "</div>"
      ],
      "text/plain": [
       "   mean_fit_time  std_fit_time  mean_score_time  std_score_time  \\\n",
       "0      21.782649      0.670829         0.207949        0.022050   \n",
       "1      37.552428      2.089641         0.199951        0.009796   \n",
       "2      59.811253      0.485196         0.206348        0.031139   \n",
       "3      84.149067      0.385258         0.193553        0.014219   \n",
       "4      96.427461      8.260326         0.160873        0.026805   \n",
       "\n",
       "  param_max_features                params  split0_test_score  \\\n",
       "0                  4   {'max_features': 4}           0.875364   \n",
       "1                  8   {'max_features': 8}           0.883038   \n",
       "2                 14  {'max_features': 14}           0.887536   \n",
       "3                 20  {'max_features': 20}           0.890976   \n",
       "4                 24  {'max_features': 24}           0.895343   \n",
       "\n",
       "   split1_test_score  split2_test_score  split3_test_score  ...  \\\n",
       "0           0.879582           0.884478           0.879185  ...   \n",
       "1           0.886992           0.887918           0.886066  ...   \n",
       "2           0.894403           0.895726           0.894270  ...   \n",
       "3           0.892947           0.897314           0.891888  ...   \n",
       "4           0.894535           0.898372           0.893873  ...   \n",
       "\n",
       "   mean_test_score  std_test_score  rank_test_score  split0_train_score  \\\n",
       "0         0.881200        0.004238                5            0.918652   \n",
       "1         0.887683        0.003738                4            0.928378   \n",
       "2         0.894220        0.003780                3            0.931487   \n",
       "3         0.894352        0.003052                2            0.934928   \n",
       "4         0.896337        0.002230                1            0.938732   \n",
       "\n",
       "   split1_train_score  split2_train_score  split3_train_score  \\\n",
       "0            0.915082            0.917066            0.916703   \n",
       "1            0.924576            0.924146            0.925502   \n",
       "2            0.929637            0.930960            0.932681   \n",
       "3            0.931820            0.935129            0.935790   \n",
       "4            0.933772            0.935790            0.935956   \n",
       "\n",
       "   split4_train_score  mean_train_score  std_train_score  \n",
       "0            0.917232          0.916947         0.001144  \n",
       "1            0.927057          0.925932         0.001579  \n",
       "2            0.930464          0.931046         0.001020  \n",
       "3            0.931622          0.933858         0.001769  \n",
       "4            0.934467          0.935743         0.001703  \n",
       "\n",
       "[5 rows x 21 columns]"
      ]
     },
     "execution_count": 1456,
     "metadata": {},
     "output_type": "execute_result"
    }
   ],
   "source": [
    "# scores of GridSearch CV\n",
    "scores = rf.cv_results_\n",
    "pd.DataFrame(scores).head()"
   ]
  },
  {
   "cell_type": "code",
   "execution_count": 1457,
   "metadata": {},
   "outputs": [
    {
     "data": {
      "image/png": "[encoded data removed]",
      "text/plain": [
       "<Figure size 432x288 with 1 Axes>"
      ]
     },
     "metadata": {
      "needs_background": "light"
     },
     "output_type": "display_data"
    }
   ],
   "source": [
    "# plotting accuracies with max_features\n",
    "plt.figure()\n",
    "plt.plot(scores[\"param_max_features\"], \n",
    "         scores[\"mean_train_score\"], \n",
    "         label=\"training accuracy\")\n",
    "plt.plot(scores[\"param_max_features\"], \n",
    "         scores[\"mean_test_score\"], \n",
    "         label=\"test accuracy\")\n",
    "plt.xlabel(\"max_features\")\n",
    "plt.ylabel(\"Accuracy\")\n",
    "plt.legend()\n",
    "plt.show()\n",
    "\n",
    "# 8 to 12"
   ]
  },
  {
   "cell_type": "code",
   "execution_count": 1458,
   "metadata": {},
   "outputs": [
    {
     "name": "stdout",
     "output_type": "stream",
     "text": [
      "Fitting 5 folds for each of 6 candidates, totalling 30 fits\n"
     ]
    },
    {
     "name": "stderr",
     "output_type": "stream",
     "text": [
      "[Parallel(n_jobs=-1)]: Using backend LokyBackend with 4 concurrent workers.\n",
      "[Parallel(n_jobs=-1)]: Done  30 out of  30 | elapsed:  4.0min finished\n"
     ]
    },
    {
     "data": {
      "text/plain": [
       "GridSearchCV(cv=5, estimator=RandomForestClassifier(class_weight='balanced'),\n",
       "             n_jobs=-1, param_grid={'min_samples_leaf': range(100, 400, 50)},\n",
       "             return_train_score=True, scoring='accuracy', verbose=1)"
      ]
     },
     "execution_count": 1458,
     "metadata": {},
     "output_type": "execute_result"
    }
   ],
   "source": [
    "# GridSearchCV to find optimal min_samples_leaf\n",
    "\n",
    "# specify number of folds for k-fold CV\n",
    "n_folds = 5\n",
    "\n",
    "# parameters to build the model on\n",
    "parameters = {'min_samples_leaf': range(100, 400, 50)}\n",
    "\n",
    "# instantiate the model\n",
    "rf = RandomForestClassifier(class_weight='balanced')\n",
    "\n",
    "\n",
    "# fit tree on training data\n",
    "rf = GridSearchCV(rf, parameters, \n",
    "                    cv=n_folds, \n",
    "                   scoring=\"accuracy\", n_jobs=-1, return_train_score=True, verbose = 1)\n",
    "rf.fit(train_pca, y_train)"
   ]
  },
  {
   "cell_type": "code",
   "execution_count": 1459,
   "metadata": {},
   "outputs": [
    {
     "data": {
      "text/html": [
       "<div>\n",
       "<style scoped>\n",
       "    .dataframe tbody tr th:only-of-type {\n",
       "        vertical-align: middle;\n",
       "    }\n",
       "\n",
       "    .dataframe tbody tr th {\n",
       "        vertical-align: top;\n",
       "    }\n",
       "\n",
       "    .dataframe thead th {\n",
       "        text-align: right;\n",
       "    }\n",
       "</style>\n",
       "<table border=\"1\" class=\"dataframe\">\n",
       "  <thead>\n",
       "    <tr style=\"text-align: right;\">\n",
       "      <th></th>\n",
       "      <th>mean_fit_time</th>\n",
       "      <th>std_fit_time</th>\n",
       "      <th>mean_score_time</th>\n",
       "      <th>std_score_time</th>\n",
       "      <th>param_min_samples_leaf</th>\n",
       "      <th>params</th>\n",
       "      <th>split0_test_score</th>\n",
       "      <th>split1_test_score</th>\n",
       "      <th>split2_test_score</th>\n",
       "      <th>split3_test_score</th>\n",
       "      <th>...</th>\n",
       "      <th>mean_test_score</th>\n",
       "      <th>std_test_score</th>\n",
       "      <th>rank_test_score</th>\n",
       "      <th>split0_train_score</th>\n",
       "      <th>split1_train_score</th>\n",
       "      <th>split2_train_score</th>\n",
       "      <th>split3_train_score</th>\n",
       "      <th>split4_train_score</th>\n",
       "      <th>mean_train_score</th>\n",
       "      <th>std_train_score</th>\n",
       "    </tr>\n",
       "  </thead>\n",
       "  <tbody>\n",
       "    <tr>\n",
       "      <td>0</td>\n",
       "      <td>36.550281</td>\n",
       "      <td>3.300672</td>\n",
       "      <td>0.352708</td>\n",
       "      <td>0.091591</td>\n",
       "      <td>100</td>\n",
       "      <td>{'min_samples_leaf': 100}</td>\n",
       "      <td>0.832231</td>\n",
       "      <td>0.849543</td>\n",
       "      <td>0.850867</td>\n",
       "      <td>0.844780</td>\n",
       "      <td>...</td>\n",
       "      <td>0.846266</td>\n",
       "      <td>0.007610</td>\n",
       "      <td>1</td>\n",
       "      <td>0.862280</td>\n",
       "      <td>0.858811</td>\n",
       "      <td>0.858877</td>\n",
       "      <td>0.860267</td>\n",
       "      <td>0.859340</td>\n",
       "      <td>0.859915</td>\n",
       "      <td>0.001292</td>\n",
       "    </tr>\n",
       "    <tr>\n",
       "      <td>1</td>\n",
       "      <td>34.711392</td>\n",
       "      <td>7.193279</td>\n",
       "      <td>0.172758</td>\n",
       "      <td>0.007754</td>\n",
       "      <td>150</td>\n",
       "      <td>{'min_samples_leaf': 150}</td>\n",
       "      <td>0.825615</td>\n",
       "      <td>0.842398</td>\n",
       "      <td>0.843986</td>\n",
       "      <td>0.836972</td>\n",
       "      <td>...</td>\n",
       "      <td>0.838618</td>\n",
       "      <td>0.007002</td>\n",
       "      <td>2</td>\n",
       "      <td>0.850536</td>\n",
       "      <td>0.848192</td>\n",
       "      <td>0.848027</td>\n",
       "      <td>0.848457</td>\n",
       "      <td>0.847100</td>\n",
       "      <td>0.848462</td>\n",
       "      <td>0.001133</td>\n",
       "    </tr>\n",
       "    <tr>\n",
       "      <td>2</td>\n",
       "      <td>24.819144</td>\n",
       "      <td>0.338200</td>\n",
       "      <td>0.194933</td>\n",
       "      <td>0.014859</td>\n",
       "      <td>200</td>\n",
       "      <td>{'min_samples_leaf': 200}</td>\n",
       "      <td>0.819794</td>\n",
       "      <td>0.840810</td>\n",
       "      <td>0.836708</td>\n",
       "      <td>0.831679</td>\n",
       "      <td>...</td>\n",
       "      <td>0.833404</td>\n",
       "      <td>0.007421</td>\n",
       "      <td>3</td>\n",
       "      <td>0.843556</td>\n",
       "      <td>0.841411</td>\n",
       "      <td>0.840021</td>\n",
       "      <td>0.841907</td>\n",
       "      <td>0.840517</td>\n",
       "      <td>0.841482</td>\n",
       "      <td>0.001229</td>\n",
       "    </tr>\n",
       "    <tr>\n",
       "      <td>3</td>\n",
       "      <td>34.581918</td>\n",
       "      <td>5.324445</td>\n",
       "      <td>0.197549</td>\n",
       "      <td>0.040195</td>\n",
       "      <td>250</td>\n",
       "      <td>{'min_samples_leaf': 250}</td>\n",
       "      <td>0.818603</td>\n",
       "      <td>0.836311</td>\n",
       "      <td>0.828768</td>\n",
       "      <td>0.830621</td>\n",
       "      <td>...</td>\n",
       "      <td>0.829858</td>\n",
       "      <td>0.006267</td>\n",
       "      <td>4</td>\n",
       "      <td>0.837005</td>\n",
       "      <td>0.836018</td>\n",
       "      <td>0.836184</td>\n",
       "      <td>0.838665</td>\n",
       "      <td>0.836283</td>\n",
       "      <td>0.836831</td>\n",
       "      <td>0.000977</td>\n",
       "    </tr>\n",
       "    <tr>\n",
       "      <td>4</td>\n",
       "      <td>23.913973</td>\n",
       "      <td>1.052941</td>\n",
       "      <td>0.188754</td>\n",
       "      <td>0.021668</td>\n",
       "      <td>300</td>\n",
       "      <td>{'min_samples_leaf': 300}</td>\n",
       "      <td>0.817015</td>\n",
       "      <td>0.834590</td>\n",
       "      <td>0.828106</td>\n",
       "      <td>0.822946</td>\n",
       "      <td>...</td>\n",
       "      <td>0.827158</td>\n",
       "      <td>0.006519</td>\n",
       "      <td>5</td>\n",
       "      <td>0.836807</td>\n",
       "      <td>0.832413</td>\n",
       "      <td>0.832016</td>\n",
       "      <td>0.832909</td>\n",
       "      <td>0.832909</td>\n",
       "      <td>0.833411</td>\n",
       "      <td>0.001731</td>\n",
       "    </tr>\n",
       "  </tbody>\n",
       "</table>\n",
       "<p>5 rows × 21 columns</p>\n",
       "</div>"
      ],
      "text/plain": [
       "   mean_fit_time  std_fit_time  mean_score_time  std_score_time  \\\n",
       "0      36.550281      3.300672         0.352708        0.091591   \n",
       "1      34.711392      7.193279         0.172758        0.007754   \n",
       "2      24.819144      0.338200         0.194933        0.014859   \n",
       "3      34.581918      5.324445         0.197549        0.040195   \n",
       "4      23.913973      1.052941         0.188754        0.021668   \n",
       "\n",
       "  param_min_samples_leaf                     params  split0_test_score  \\\n",
       "0                    100  {'min_samples_leaf': 100}           0.832231   \n",
       "1                    150  {'min_samples_leaf': 150}           0.825615   \n",
       "2                    200  {'min_samples_leaf': 200}           0.819794   \n",
       "3                    250  {'min_samples_leaf': 250}           0.818603   \n",
       "4                    300  {'min_samples_leaf': 300}           0.817015   \n",
       "\n",
       "   split1_test_score  split2_test_score  split3_test_score  ...  \\\n",
       "0           0.849543           0.850867           0.844780  ...   \n",
       "1           0.842398           0.843986           0.836972  ...   \n",
       "2           0.840810           0.836708           0.831679  ...   \n",
       "3           0.836311           0.828768           0.830621  ...   \n",
       "4           0.834590           0.828106           0.822946  ...   \n",
       "\n",
       "   mean_test_score  std_test_score  rank_test_score  split0_train_score  \\\n",
       "0         0.846266        0.007610                1            0.862280   \n",
       "1         0.838618        0.007002                2            0.850536   \n",
       "2         0.833404        0.007421                3            0.843556   \n",
       "3         0.829858        0.006267                4            0.837005   \n",
       "4         0.827158        0.006519                5            0.836807   \n",
       "\n",
       "   split1_train_score  split2_train_score  split3_train_score  \\\n",
       "0            0.858811            0.858877            0.860267   \n",
       "1            0.848192            0.848027            0.848457   \n",
       "2            0.841411            0.840021            0.841907   \n",
       "3            0.836018            0.836184            0.838665   \n",
       "4            0.832413            0.832016            0.832909   \n",
       "\n",
       "   split4_train_score  mean_train_score  std_train_score  \n",
       "0            0.859340          0.859915         0.001292  \n",
       "1            0.847100          0.848462         0.001133  \n",
       "2            0.840517          0.841482         0.001229  \n",
       "3            0.836283          0.836831         0.000977  \n",
       "4            0.832909          0.833411         0.001731  \n",
       "\n",
       "[5 rows x 21 columns]"
      ]
     },
     "execution_count": 1459,
     "metadata": {},
     "output_type": "execute_result"
    }
   ],
   "source": [
    "# scores of GridSearch CV\n",
    "scores = rf.cv_results_\n",
    "pd.DataFrame(scores).head()"
   ]
  },
  {
   "cell_type": "code",
   "execution_count": 1460,
   "metadata": {},
   "outputs": [
    {
     "data": {
      "image/png": "[encoded data removed]",
      "text/plain": [
       "<Figure size 432x288 with 1 Axes>"
      ]
     },
     "metadata": {
      "needs_background": "light"
     },
     "output_type": "display_data"
    }
   ],
   "source": [
    "# plotting accuracies with min_samples_leaf\n",
    "plt.figure()\n",
    "plt.plot(scores[\"param_min_samples_leaf\"], \n",
    "         scores[\"mean_train_score\"], \n",
    "         label=\"training accuracy\")\n",
    "plt.plot(scores[\"param_min_samples_leaf\"], \n",
    "         scores[\"mean_test_score\"], \n",
    "         label=\"test accuracy\")\n",
    "plt.xlabel(\"min_samples_leaf\")\n",
    "plt.ylabel(\"Accuracy\")\n",
    "plt.legend()\n",
    "plt.show()\n",
    "\n",
    "#seems 100 to 150"
   ]
  },
  {
   "cell_type": "code",
   "execution_count": 1461,
   "metadata": {
    "scrolled": true
   },
   "outputs": [
    {
     "name": "stdout",
     "output_type": "stream",
     "text": [
      "Fitting 5 folds for each of 6 candidates, totalling 30 fits\n"
     ]
    },
    {
     "name": "stderr",
     "output_type": "stream",
     "text": [
      "[Parallel(n_jobs=-1)]: Using backend LokyBackend with 4 concurrent workers.\n",
      "[Parallel(n_jobs=-1)]: Done  30 out of  30 | elapsed:  6.3min finished\n"
     ]
    },
    {
     "data": {
      "text/plain": [
       "GridSearchCV(cv=5, estimator=RandomForestClassifier(class_weight='balanced'),\n",
       "             n_jobs=-1, param_grid={'min_samples_split': range(200, 500, 50)},\n",
       "             return_train_score=True, scoring='accuracy', verbose=1)"
      ]
     },
     "execution_count": 1461,
     "metadata": {},
     "output_type": "execute_result"
    }
   ],
   "source": [
    "# GridSearchCV to find optimal min_samples_split\n",
    "\n",
    "# specify number of folds for k-fold CV\n",
    "n_folds = 5\n",
    "\n",
    "# parameters to build the model on\n",
    "parameters = {'min_samples_split': range(200, 500, 50)}\n",
    "\n",
    "# instantiate the model\n",
    "rf = RandomForestClassifier(class_weight='balanced')\n",
    "\n",
    "\n",
    "# fit tree on training data\n",
    "rf = GridSearchCV(rf, parameters, \n",
    "                    cv=n_folds, \n",
    "                   scoring=\"accuracy\", return_train_score=True, n_jobs=-1, verbose = 1)\n",
    "rf.fit(train_pca, y_train)"
   ]
  },
  {
   "cell_type": "code",
   "execution_count": 1462,
   "metadata": {},
   "outputs": [
    {
     "data": {
      "text/html": [
       "<div>\n",
       "<style scoped>\n",
       "    .dataframe tbody tr th:only-of-type {\n",
       "        vertical-align: middle;\n",
       "    }\n",
       "\n",
       "    .dataframe tbody tr th {\n",
       "        vertical-align: top;\n",
       "    }\n",
       "\n",
       "    .dataframe thead th {\n",
       "        text-align: right;\n",
       "    }\n",
       "</style>\n",
       "<table border=\"1\" class=\"dataframe\">\n",
       "  <thead>\n",
       "    <tr style=\"text-align: right;\">\n",
       "      <th></th>\n",
       "      <th>mean_fit_time</th>\n",
       "      <th>std_fit_time</th>\n",
       "      <th>mean_score_time</th>\n",
       "      <th>std_score_time</th>\n",
       "      <th>param_min_samples_split</th>\n",
       "      <th>params</th>\n",
       "      <th>split0_test_score</th>\n",
       "      <th>split1_test_score</th>\n",
       "      <th>split2_test_score</th>\n",
       "      <th>split3_test_score</th>\n",
       "      <th>...</th>\n",
       "      <th>mean_test_score</th>\n",
       "      <th>std_test_score</th>\n",
       "      <th>rank_test_score</th>\n",
       "      <th>split0_train_score</th>\n",
       "      <th>split1_train_score</th>\n",
       "      <th>split2_train_score</th>\n",
       "      <th>split3_train_score</th>\n",
       "      <th>split4_train_score</th>\n",
       "      <th>mean_train_score</th>\n",
       "      <th>std_train_score</th>\n",
       "    </tr>\n",
       "  </thead>\n",
       "  <tbody>\n",
       "    <tr>\n",
       "      <td>0</td>\n",
       "      <td>46.249416</td>\n",
       "      <td>1.387646</td>\n",
       "      <td>0.406264</td>\n",
       "      <td>0.043163</td>\n",
       "      <td>200</td>\n",
       "      <td>{'min_samples_split': 200}</td>\n",
       "      <td>0.848505</td>\n",
       "      <td>0.867408</td>\n",
       "      <td>0.862644</td>\n",
       "      <td>0.860394</td>\n",
       "      <td>...</td>\n",
       "      <td>0.861007</td>\n",
       "      <td>0.006725</td>\n",
       "      <td>1</td>\n",
       "      <td>0.887091</td>\n",
       "      <td>0.883820</td>\n",
       "      <td>0.884052</td>\n",
       "      <td>0.884250</td>\n",
       "      <td>0.884846</td>\n",
       "      <td>0.884812</td>\n",
       "      <td>0.001189</td>\n",
       "    </tr>\n",
       "    <tr>\n",
       "      <td>1</td>\n",
       "      <td>47.336413</td>\n",
       "      <td>6.857733</td>\n",
       "      <td>0.369242</td>\n",
       "      <td>0.194149</td>\n",
       "      <td>250</td>\n",
       "      <td>{'min_samples_split': 250}</td>\n",
       "      <td>0.839905</td>\n",
       "      <td>0.861188</td>\n",
       "      <td>0.858277</td>\n",
       "      <td>0.856821</td>\n",
       "      <td>...</td>\n",
       "      <td>0.855053</td>\n",
       "      <td>0.007704</td>\n",
       "      <td>2</td>\n",
       "      <td>0.877829</td>\n",
       "      <td>0.873565</td>\n",
       "      <td>0.874127</td>\n",
       "      <td>0.875583</td>\n",
       "      <td>0.874127</td>\n",
       "      <td>0.875046</td>\n",
       "      <td>0.001543</td>\n",
       "    </tr>\n",
       "    <tr>\n",
       "      <td>2</td>\n",
       "      <td>50.355042</td>\n",
       "      <td>2.624277</td>\n",
       "      <td>0.329381</td>\n",
       "      <td>0.069693</td>\n",
       "      <td>300</td>\n",
       "      <td>{'min_samples_split': 300}</td>\n",
       "      <td>0.837788</td>\n",
       "      <td>0.857880</td>\n",
       "      <td>0.852852</td>\n",
       "      <td>0.850734</td>\n",
       "      <td>...</td>\n",
       "      <td>0.851718</td>\n",
       "      <td>0.007646</td>\n",
       "      <td>3</td>\n",
       "      <td>0.872602</td>\n",
       "      <td>0.866850</td>\n",
       "      <td>0.867114</td>\n",
       "      <td>0.869430</td>\n",
       "      <td>0.867611</td>\n",
       "      <td>0.868721</td>\n",
       "      <td>0.002139</td>\n",
       "    </tr>\n",
       "    <tr>\n",
       "      <td>3</td>\n",
       "      <td>53.481543</td>\n",
       "      <td>3.173881</td>\n",
       "      <td>0.264241</td>\n",
       "      <td>0.022319</td>\n",
       "      <td>350</td>\n",
       "      <td>{'min_samples_split': 350}</td>\n",
       "      <td>0.833157</td>\n",
       "      <td>0.850337</td>\n",
       "      <td>0.850337</td>\n",
       "      <td>0.845706</td>\n",
       "      <td>...</td>\n",
       "      <td>0.846769</td>\n",
       "      <td>0.007331</td>\n",
       "      <td>4</td>\n",
       "      <td>0.865919</td>\n",
       "      <td>0.861722</td>\n",
       "      <td>0.861722</td>\n",
       "      <td>0.863839</td>\n",
       "      <td>0.862053</td>\n",
       "      <td>0.863051</td>\n",
       "      <td>0.001636</td>\n",
       "    </tr>\n",
       "    <tr>\n",
       "      <td>4</td>\n",
       "      <td>43.913416</td>\n",
       "      <td>0.347049</td>\n",
       "      <td>0.264864</td>\n",
       "      <td>0.014577</td>\n",
       "      <td>400</td>\n",
       "      <td>{'min_samples_split': 400}</td>\n",
       "      <td>0.833422</td>\n",
       "      <td>0.849676</td>\n",
       "      <td>0.847294</td>\n",
       "      <td>0.846103</td>\n",
       "      <td>...</td>\n",
       "      <td>0.845102</td>\n",
       "      <td>0.005974</td>\n",
       "      <td>5</td>\n",
       "      <td>0.861651</td>\n",
       "      <td>0.855867</td>\n",
       "      <td>0.857951</td>\n",
       "      <td>0.859043</td>\n",
       "      <td>0.857289</td>\n",
       "      <td>0.858360</td>\n",
       "      <td>0.001941</td>\n",
       "    </tr>\n",
       "  </tbody>\n",
       "</table>\n",
       "<p>5 rows × 21 columns</p>\n",
       "</div>"
      ],
      "text/plain": [
       "   mean_fit_time  std_fit_time  mean_score_time  std_score_time  \\\n",
       "0      46.249416      1.387646         0.406264        0.043163   \n",
       "1      47.336413      6.857733         0.369242        0.194149   \n",
       "2      50.355042      2.624277         0.329381        0.069693   \n",
       "3      53.481543      3.173881         0.264241        0.022319   \n",
       "4      43.913416      0.347049         0.264864        0.014577   \n",
       "\n",
       "  param_min_samples_split                      params  split0_test_score  \\\n",
       "0                     200  {'min_samples_split': 200}           0.848505   \n",
       "1                     250  {'min_samples_split': 250}           0.839905   \n",
       "2                     300  {'min_samples_split': 300}           0.837788   \n",
       "3                     350  {'min_samples_split': 350}           0.833157   \n",
       "4                     400  {'min_samples_split': 400}           0.833422   \n",
       "\n",
       "   split1_test_score  split2_test_score  split3_test_score  ...  \\\n",
       "0           0.867408           0.862644           0.860394  ...   \n",
       "1           0.861188           0.858277           0.856821  ...   \n",
       "2           0.857880           0.852852           0.850734  ...   \n",
       "3           0.850337           0.850337           0.845706  ...   \n",
       "4           0.849676           0.847294           0.846103  ...   \n",
       "\n",
       "   mean_test_score  std_test_score  rank_test_score  split0_train_score  \\\n",
       "0         0.861007        0.006725                1            0.887091   \n",
       "1         0.855053        0.007704                2            0.877829   \n",
       "2         0.851718        0.007646                3            0.872602   \n",
       "3         0.846769        0.007331                4            0.865919   \n",
       "4         0.845102        0.005974                5            0.861651   \n",
       "\n",
       "   split1_train_score  split2_train_score  split3_train_score  \\\n",
       "0            0.883820            0.884052            0.884250   \n",
       "1            0.873565            0.874127            0.875583   \n",
       "2            0.866850            0.867114            0.869430   \n",
       "3            0.861722            0.861722            0.863839   \n",
       "4            0.855867            0.857951            0.859043   \n",
       "\n",
       "   split4_train_score  mean_train_score  std_train_score  \n",
       "0            0.884846          0.884812         0.001189  \n",
       "1            0.874127          0.875046         0.001543  \n",
       "2            0.867611          0.868721         0.002139  \n",
       "3            0.862053          0.863051         0.001636  \n",
       "4            0.857289          0.858360         0.001941  \n",
       "\n",
       "[5 rows x 21 columns]"
      ]
     },
     "execution_count": 1462,
     "metadata": {},
     "output_type": "execute_result"
    }
   ],
   "source": [
    "# scores of GridSearch CV\n",
    "scores = rf.cv_results_\n",
    "pd.DataFrame(scores).head()"
   ]
  },
  {
   "cell_type": "code",
   "execution_count": 1463,
   "metadata": {},
   "outputs": [
    {
     "data": {
      "image/png": "[encoded data removed]",
      "text/plain": [
       "<Figure size 432x288 with 1 Axes>"
      ]
     },
     "metadata": {
      "needs_background": "light"
     },
     "output_type": "display_data"
    }
   ],
   "source": [
    "# plotting accuracies with min_samples_split\n",
    "plt.figure()\n",
    "plt.plot(scores[\"param_min_samples_split\"], \n",
    "         scores[\"mean_train_score\"], \n",
    "         label=\"training accuracy\")\n",
    "plt.plot(scores[\"param_min_samples_split\"], \n",
    "         scores[\"mean_test_score\"], \n",
    "         label=\"test accuracy\")\n",
    "plt.xlabel(\"min_samples_split\")\n",
    "plt.ylabel(\"Accuracy\")\n",
    "plt.legend()\n",
    "plt.show()\n",
    "\n",
    "# 200 to 300"
   ]
  },
  {
   "cell_type": "code",
   "execution_count": 1464,
   "metadata": {},
   "outputs": [],
   "source": [
    "# Create the parameter grid based on the results of random search \n",
    "param_grid = {\n",
    "    'max_depth': [11,14],\n",
    "    'min_samples_leaf': range(100, 150, 50),\n",
    "    'min_samples_split': range(200, 400, 100),\n",
    "    'n_estimators': range(200, 600, 100), \n",
    "    'max_features': [8, 10, 12]\n",
    "}\n",
    "# Create a based model\n",
    "rf = RandomForestClassifier(class_weight='balanced')\n",
    "\n",
    "# Instantiate the grid search model\n",
    "grid_search = GridSearchCV(estimator = rf, param_grid = param_grid,refit='recall_score' ,\n",
    "                          cv = 5, n_jobs=-1, verbose = 1)"
   ]
  },
  {
   "cell_type": "code",
   "execution_count": null,
   "metadata": {},
   "outputs": [
    {
     "name": "stdout",
     "output_type": "stream",
     "text": [
      "Fitting 5 folds for each of 48 candidates, totalling 240 fits\n"
     ]
    },
    {
     "name": "stderr",
     "output_type": "stream",
     "text": [
      "[Parallel(n_jobs=-1)]: Using backend LokyBackend with 4 concurrent workers.\n",
      "[Parallel(n_jobs=-1)]: Done  42 tasks      | elapsed: 25.1min\n"
     ]
    }
   ],
   "source": [
    "# Fit the grid search to the data\n",
    "grid_search.fit(train_pca, y_train)"
   ]
  },
  {
   "cell_type": "code",
   "execution_count": null,
   "metadata": {},
   "outputs": [],
   "source": [
    "# printing the optimal accuracy score and hyperparameters\n",
    "print('Accuracy got is',grid_search.best_score_,'using',grid_search.best_params_)"
   ]
  },
  {
   "cell_type": "code",
   "execution_count": null,
   "metadata": {},
   "outputs": [],
   "source": [
    "# Model with Best Hyper Parameters\n",
    "rfc_with_HyperParams = RandomForestClassifier(bootstrap=True, class_weight='balanced',\n",
    "                             max_depth=10,\n",
    "                             min_samples_leaf=100, \n",
    "                             min_samples_split=200,\n",
    "                             max_features=12,\n",
    "                             n_estimators=200)"
   ]
  },
  {
   "cell_type": "code",
   "execution_count": null,
   "metadata": {},
   "outputs": [],
   "source": [
    "rfc_with_HyperParams.fit(train_pca,y_train)"
   ]
  },
  {
   "cell_type": "code",
   "execution_count": null,
   "metadata": {},
   "outputs": [],
   "source": [
    "# predict\n",
    "y_pred_default = rfc_with_HyperParams.predict(test_pca)"
   ]
  },
  {
   "cell_type": "code",
   "execution_count": null,
   "metadata": {},
   "outputs": [],
   "source": [
    "# Confusion Matrix\n",
    "confusion_rf_hyper=confusion_matrix(y_test,y_pred_default)\n",
    "confusion_rf_hyper"
   ]
  },
  {
   "cell_type": "code",
   "execution_count": null,
   "metadata": {},
   "outputs": [],
   "source": [
    "printingConfusionMetricDetails(confusion_tree_hyper)"
   ]
  },
  {
   "cell_type": "code",
   "execution_count": null,
   "metadata": {},
   "outputs": [],
   "source": [
    "\n",
    "#first logistic reg - accu - 86, Se - 76 , Spec - 86\n",
    "# PCA - Logisc - acc-52, Sen - 66, Sepc - 50\n",
    "# DT - first - Acc - 52, Sen -69 , Spec - 61\n",
    "# DT - tuning - Acc - 62, Sen - 44, Spec - 63\n",
    "# RF - - first - Acc  84, Sen - 44, Sepc - 64\n",
    "# RF - post tuning - Acc - 63 Sen - 44, Sepc - 64\n",
    "# \n",
    "# RF seems to have hte highest Accuracy post PCA"
   ]
  },
  {
   "cell_type": "code",
   "execution_count": null,
   "metadata": {},
   "outputs": [],
   "source": [
    "##FEATURE SELECTION\n",
    "#Based on stats above lets take a look at imp features for both Logestic and RF"
   ]
  },
  {
   "cell_type": "code",
   "execution_count": null,
   "metadata": {},
   "outputs": [],
   "source": [
    "#Printing importance table for Logistic Regression\n",
    "importance = logRegwithPCA_afterTuning.coef_[0]\n",
    "impFeaturesforModels(importance)"
   ]
  },
  {
   "cell_type": "code",
   "execution_count": null,
   "metadata": {},
   "outputs": [],
   "source": [
    "#Printing importance table for Random Forest\n",
    "importance = rfc_with_HyperParams.feature_importances_\n",
    "impFeaturesforModels(importance)\n",
    "# let us use RF on full data set to get the important parameters"
   ]
  }
 ],
 "metadata": {
  "kernelspec": {
   "display_name": "Python 3",
   "language": "python",
   "name": "python3"
  },
  "language_info": {
   "codemirror_mode": {
    "name": "ipython",
    "version": 3
   },
   "file_extension": ".py",
   "mimetype": "text/x-python",
   "name": "python",
   "nbconvert_exporter": "python",
   "pygments_lexer": "ipython3",
   "version": "3.7.4"
  }
 },
 "nbformat": 4,
 "nbformat_minor": 2
}
